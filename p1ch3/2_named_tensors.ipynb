{
 "cells": [
  {
   "cell_type": "code",
   "execution_count": 1,
   "id": "912548aa-5da5-4754-a949-a5542b083e36",
   "metadata": {},
   "outputs": [],
   "source": [
    "import torch"
   ]
  },
  {
   "cell_type": "code",
   "execution_count": 2,
   "id": "8bfb66bb-d8d9-4eb2-a191-77a986be7fad",
   "metadata": {},
   "outputs": [],
   "source": [
    "img_t = torch.randn(3, 5, 5)  # 각각이 [채널 크기, 행 크기, 열 크기]가 됨\n",
    "weights = torch.tensor([0.2126, 0.7152, 0.0722])"
   ]
  },
  {
   "cell_type": "code",
   "execution_count": 3,
   "id": "374071ba-8506-4fa6-b8db-30612d034fbb",
   "metadata": {},
   "outputs": [],
   "source": [
    "batch_t = torch.randn(2, 3, 5, 5)  # [배치 크기, 채널 크기, 행 크기, 열 크기]"
   ]
  },
  {
   "cell_type": "code",
   "execution_count": 4,
   "id": "6b4962bb-e6a5-4a35-92a1-2cce86a56d20",
   "metadata": {},
   "outputs": [
    {
     "data": {
      "text/plain": [
       "(torch.Size([5, 5]), torch.Size([2, 5, 5]))"
      ]
     },
     "execution_count": 4,
     "metadata": {},
     "output_type": "execute_result"
    }
   ],
   "source": [
    "img_gray_naive = img_t.mean(-3)\n",
    "batch_gray_naive = batch_t.mean(-3)\n",
    "img_gray_naive.shape, batch_gray_naive.shape"
   ]
  },
  {
   "cell_type": "code",
   "execution_count": 5,
   "id": "58fab520-63e8-4b0d-9db5-4de78cf36494",
   "metadata": {},
   "outputs": [
    {
     "data": {
      "text/plain": [
       "tensor([[[0.2126]],\n",
       "\n",
       "        [[0.7152]],\n",
       "\n",
       "        [[0.0722]]])"
      ]
     },
     "execution_count": 5,
     "metadata": {},
     "output_type": "execute_result"
    }
   ],
   "source": [
    "unsqueezed_weights = weights.unsqueeze(-1).unsqueeze_(-1)\n",
    "unsqueezed_weights"
   ]
  },
  {
   "cell_type": "code",
   "execution_count": 6,
   "id": "1d641b32-7484-49d4-8554-6a17cbbd1494",
   "metadata": {},
   "outputs": [
    {
     "data": {
      "text/plain": [
       "tensor([[[-0.4777, -0.0053,  0.2987, -0.1467, -0.0563],\n",
       "         [-0.2558,  0.3977, -0.1337,  0.3117, -0.3055],\n",
       "         [-0.1456, -0.1414,  0.1915, -0.0980,  0.2722],\n",
       "         [ 0.4058,  0.1802,  0.1105, -0.2892,  0.1825],\n",
       "         [-0.0748, -0.0187,  0.2169, -0.4363,  0.2415]],\n",
       "\n",
       "        [[ 1.3768, -0.3500,  0.9587,  0.1935,  0.7923],\n",
       "         [ 0.3221,  0.4180, -0.8975, -0.6412,  0.7276],\n",
       "         [-1.0772, -0.4126, -0.6187,  0.4764,  0.1886],\n",
       "         [-0.5368, -0.0202,  0.7337,  0.4892, -0.1925],\n",
       "         [ 0.1043, -0.9717, -0.7034,  1.5143,  0.0940]],\n",
       "\n",
       "        [[ 0.1417,  0.1844, -0.0336, -0.0111, -0.0206],\n",
       "         [ 0.0211, -0.0446, -0.0026, -0.0989,  0.0738],\n",
       "         [ 0.0228, -0.0820, -0.0275,  0.0408,  0.1643],\n",
       "         [ 0.0478,  0.0685, -0.0908,  0.0390, -0.0590],\n",
       "         [-0.0878,  0.1259,  0.0423, -0.0570, -0.1197]]])"
      ]
     },
     "execution_count": 6,
     "metadata": {},
     "output_type": "execute_result"
    }
   ],
   "source": [
    "img_weights = (img_t * unsqueezed_weights)\n",
    "img_weights"
   ]
  },
  {
   "cell_type": "code",
   "execution_count": 7,
   "id": "eb1042bb-f214-4610-82f0-c6ad8ba60ae0",
   "metadata": {},
   "outputs": [
    {
     "data": {
      "text/plain": [
       "tensor([[[[ 2.5874e-01,  3.3589e-02,  4.0759e-01,  1.2574e-01, -5.9185e-02],\n",
       "          [ 2.0193e-01,  8.0029e-02,  6.7207e-02,  2.4565e-01, -3.3030e-01],\n",
       "          [ 2.2824e-02,  3.0540e-01, -1.0624e-01,  1.5841e-01,  2.8283e-01],\n",
       "          [-6.2396e-01,  2.4894e-01,  1.0784e-01, -8.9533e-03,  2.6718e-01],\n",
       "          [-1.5205e-01,  1.8688e-01,  1.9825e-01,  5.5791e-01, -1.1744e-02]],\n",
       "\n",
       "         [[ 1.0081e+00, -3.7362e-01, -4.1687e-02, -3.6867e-01, -8.2405e-01],\n",
       "          [-3.9177e-01, -1.6389e-01, -4.7427e-01, -8.9751e-01,  4.3490e-01],\n",
       "          [ 9.1952e-01, -2.8920e-01, -2.1512e-01, -6.6707e-01,  9.8013e-01],\n",
       "          [ 1.5178e+00,  1.1270e+00,  2.5120e-02,  6.4129e-01,  7.6013e-01],\n",
       "          [-5.3107e-01, -7.6090e-01,  3.1582e-02, -9.6553e-01, -2.0039e-01]],\n",
       "\n",
       "         [[-1.3698e-02,  1.2300e-01, -1.0740e-01,  3.1620e-02, -1.1203e-01],\n",
       "          [-3.6357e-02,  3.5404e-02,  7.2948e-03,  2.4733e-02, -1.8443e-02],\n",
       "          [ 7.2278e-02, -7.9601e-04,  8.2939e-02, -1.3440e-01, -9.4540e-02],\n",
       "          [ 3.7113e-02,  5.5598e-02, -1.5488e-02, -3.1590e-02, -5.9586e-02],\n",
       "          [ 1.3892e-02,  8.4785e-02, -3.4022e-02, -2.5747e-02,  2.6650e-02]]],\n",
       "\n",
       "\n",
       "        [[[-2.5477e-01, -2.7135e-01, -5.8534e-02, -3.4932e-02, -3.4554e-02],\n",
       "          [-5.2614e-02,  1.4191e-01, -1.9004e-01,  1.7672e-01,  1.9611e-02],\n",
       "          [-1.9259e-02, -1.5354e-01,  8.2177e-02,  1.0854e-01,  4.1636e-01],\n",
       "          [-1.2337e-01,  3.8139e-01,  3.8979e-03,  4.8718e-02, -1.5475e-02],\n",
       "          [ 4.9639e-02, -1.8669e-02,  1.8018e-01, -2.7638e-01, -6.4253e-02]],\n",
       "\n",
       "         [[-3.9288e-01,  1.5969e+00, -5.2985e-01, -4.8850e-01,  1.2128e+00],\n",
       "          [-1.1551e-01, -1.0323e-01, -6.6873e-02, -5.3273e-01,  1.0633e-01],\n",
       "          [-2.6580e-01, -3.6236e-01, -7.4133e-01,  1.1753e+00,  2.0440e-03],\n",
       "          [-6.0965e-01,  5.2009e-01,  3.8785e-01,  1.0708e+00,  5.6291e-01],\n",
       "          [-6.4262e-01,  1.0978e+00, -7.9204e-01, -1.3307e+00, -1.2511e+00]],\n",
       "\n",
       "         [[ 7.2092e-02,  1.3836e-02, -7.0765e-02,  1.6335e-02,  6.3897e-02],\n",
       "          [ 9.3533e-02, -2.3659e-02, -5.4566e-02, -8.2430e-02,  4.5099e-03],\n",
       "          [ 4.5724e-02,  2.4101e-02, -7.1426e-02,  1.4489e-02, -1.2664e-01],\n",
       "          [-5.9059e-02, -1.4353e-02,  9.1765e-02,  9.6365e-02, -1.0872e-01],\n",
       "          [-9.1935e-02, -5.2970e-02, -7.0690e-03,  1.2231e-02,  8.0238e-03]]]])"
      ]
     },
     "execution_count": 7,
     "metadata": {},
     "output_type": "execute_result"
    }
   ],
   "source": [
    "batch_weights = (batch_t * unsqueezed_weights)\n",
    "batch_weights"
   ]
  },
  {
   "cell_type": "code",
   "execution_count": 8,
   "id": "ba37b38f-10dc-49c0-bc8e-1ee1d3573b31",
   "metadata": {},
   "outputs": [
    {
     "data": {
      "text/plain": [
       "(torch.Size([2, 3, 5, 5]), torch.Size([2, 3, 5, 5]), torch.Size([3, 1, 1]))"
      ]
     },
     "execution_count": 8,
     "metadata": {},
     "output_type": "execute_result"
    }
   ],
   "source": [
    "img_gray_weighted = img_weights.sum(-3)\n",
    "batch_gray_weighted = batch_weights.sum(-3)\n",
    "batch_weights.shape, batch_t.shape, unsqueezed_weights.shape"
   ]
  },
  {
   "cell_type": "code",
   "execution_count": 9,
   "id": "6c3d80d0-ea8c-44b5-acac-9c9904851c89",
   "metadata": {},
   "outputs": [
    {
     "data": {
      "text/plain": [
       "(tensor([[ 1.0408, -0.1709,  1.2238,  0.0357,  0.7155],\n",
       "         [ 0.0874,  0.7711, -1.0338, -0.4283,  0.4959],\n",
       "         [-1.2000, -0.6361, -0.4547,  0.4192,  0.6251],\n",
       "         [-0.0832,  0.2284,  0.7533,  0.2390, -0.0690],\n",
       "         [-0.0584, -0.8646, -0.4442,  1.0210,  0.2158]]),\n",
       " torch.Size([5, 5]))"
      ]
     },
     "execution_count": 9,
     "metadata": {},
     "output_type": "execute_result"
    }
   ],
   "source": [
    "img_gray_weighted_fancy = torch.einsum('...chw, c -> ...hw', img_t, weights)\n",
    "img_gray_weighted_fancy, img_gray_weighted_fancy.shape"
   ]
  },
  {
   "cell_type": "code",
   "execution_count": 10,
   "id": "779f96a6-3049-4816-935a-237425a98ef5",
   "metadata": {},
   "outputs": [
    {
     "data": {
      "text/plain": [
       "(tensor([[[ 1.2532, -0.2170,  0.2585, -0.2113, -0.9953],\n",
       "          [-0.2262, -0.0485, -0.3998, -0.6271,  0.0862],\n",
       "          [ 1.0146,  0.0154, -0.2384, -0.6431,  1.1684],\n",
       "          [ 0.9309,  1.4315,  0.1175,  0.6007,  0.9677],\n",
       "          [-0.6692, -0.4892,  0.1958, -0.4334, -0.1855]],\n",
       " \n",
       "         [[-0.5756,  1.3394, -0.6592, -0.5071,  1.2421],\n",
       "          [-0.0746,  0.0150, -0.3115, -0.4384,  0.1305],\n",
       "          [-0.2393, -0.4918, -0.7306,  1.2983,  0.2918],\n",
       "          [-0.7921,  0.8871,  0.4835,  1.2159,  0.4387],\n",
       "          [-0.6849,  1.0262, -0.6189, -1.5949, -1.3073]]]),\n",
       " torch.Size([2, 5, 5]))"
      ]
     },
     "execution_count": 10,
     "metadata": {},
     "output_type": "execute_result"
    }
   ],
   "source": [
    "batch_gray_weighted_fancy = torch.einsum('...chw, c -> ...hw', batch_t, weights)\n",
    "batch_gray_weighted_fancy, batch_gray_weighted_fancy.shape"
   ]
  },
  {
   "cell_type": "code",
   "execution_count": 11,
   "id": "ffb503f8-e59a-41a8-9bce-9ab332b9d0d9",
   "metadata": {},
   "outputs": [
    {
     "name": "stderr",
     "output_type": "stream",
     "text": [
      "/tmp/ipykernel_19943/2371314847.py:1: UserWarning: Named tensors and all their associated APIs are an experimental feature and subject to change. Please do not use them for anything important until they are released as stable. (Triggered internally at  ../c10/core/TensorImpl.h:1408.)\n",
      "  weights_named = torch.tensor([0.2126, 0.7152, 0.0722], names=['channels'])\n"
     ]
    },
    {
     "data": {
      "text/plain": [
       "tensor([0.2126, 0.7152, 0.0722], names=('channels',))"
      ]
     },
     "execution_count": 11,
     "metadata": {},
     "output_type": "execute_result"
    }
   ],
   "source": [
    "weights_named = torch.tensor([0.2126, 0.7152, 0.0722], names=['channels'])\n",
    "weights_named"
   ]
  },
  {
   "cell_type": "code",
   "execution_count": 12,
   "id": "77e4b8ef-f3c4-452b-a69f-24b6cc0ba238",
   "metadata": {},
   "outputs": [
    {
     "data": {
      "text/plain": [
       "tensor([[[-2.2470, -0.0248,  1.4050, -0.6900, -0.2646],\n",
       "         [-1.2033,  1.8708, -0.6288,  1.4661, -1.4370],\n",
       "         [-0.6849, -0.6649,  0.9008, -0.4611,  1.2805],\n",
       "         [ 1.9086,  0.8474,  0.5196, -1.3601,  0.8586],\n",
       "         [-0.3521, -0.0881,  1.0202, -2.0521,  1.1357]],\n",
       "\n",
       "        [[ 1.9251, -0.4894,  1.3405,  0.2705,  1.1078],\n",
       "         [ 0.4504,  0.5844, -1.2549, -0.8965,  1.0173],\n",
       "         [-1.5061, -0.5770, -0.8651,  0.6661,  0.2637],\n",
       "         [-0.7505, -0.0283,  1.0258,  0.6841, -0.2692],\n",
       "         [ 0.1458, -1.3586, -0.9836,  2.1174,  0.1314]],\n",
       "\n",
       "        [[ 1.9627,  2.5544, -0.4651, -0.1535, -0.2850],\n",
       "         [ 0.2925, -0.6175, -0.0359, -1.3692,  1.0226],\n",
       "         [ 0.3153, -1.1364, -0.3803,  0.5656,  2.2756],\n",
       "         [ 0.6616,  0.9489, -1.2581,  0.5395, -0.8171],\n",
       "         [-1.2158,  1.7434,  0.5861, -0.7901, -1.6575]]],\n",
       "       names=('channels', 'rows', 'columns'))"
      ]
     },
     "execution_count": 12,
     "metadata": {},
     "output_type": "execute_result"
    }
   ],
   "source": [
    "img_named = img_t.refine_names(..., 'channels', 'rows', 'columns')\n",
    "img_named"
   ]
  },
  {
   "cell_type": "code",
   "execution_count": 13,
   "id": "b2088355-eb98-4816-80b9-58e4df1f62f7",
   "metadata": {},
   "outputs": [
    {
     "data": {
      "text/plain": [
       "tensor([[[[ 1.2170e+00,  1.5799e-01,  1.9172e+00,  5.9143e-01, -2.7839e-01],\n",
       "          [ 9.4983e-01,  3.7643e-01,  3.1612e-01,  1.1555e+00, -1.5536e+00],\n",
       "          [ 1.0736e-01,  1.4365e+00, -4.9971e-01,  7.4512e-01,  1.3303e+00],\n",
       "          [-2.9349e+00,  1.1710e+00,  5.0722e-01, -4.2113e-02,  1.2567e+00],\n",
       "          [-7.1518e-01,  8.7902e-01,  9.3249e-01,  2.6242e+00, -5.5242e-02]],\n",
       "\n",
       "         [[ 1.4096e+00, -5.2240e-01, -5.8287e-02, -5.1547e-01, -1.1522e+00],\n",
       "          [-5.4777e-01, -2.2915e-01, -6.6313e-01, -1.2549e+00,  6.0809e-01],\n",
       "          [ 1.2857e+00, -4.0436e-01, -3.0078e-01, -9.3271e-01,  1.3704e+00],\n",
       "          [ 2.1221e+00,  1.5758e+00,  3.5123e-02,  8.9666e-01,  1.0628e+00],\n",
       "          [-7.4255e-01, -1.0639e+00,  4.4158e-02, -1.3500e+00, -2.8019e-01]],\n",
       "\n",
       "         [[-1.8972e-01,  1.7036e+00, -1.4876e+00,  4.3795e-01, -1.5516e+00],\n",
       "          [-5.0356e-01,  4.9037e-01,  1.0104e-01,  3.4256e-01, -2.5545e-01],\n",
       "          [ 1.0011e+00, -1.1025e-02,  1.1487e+00, -1.8615e+00, -1.3094e+00],\n",
       "          [ 5.1403e-01,  7.7005e-01, -2.1452e-01, -4.3753e-01, -8.2529e-01],\n",
       "          [ 1.9241e-01,  1.1743e+00, -4.7122e-01, -3.5660e-01,  3.6912e-01]]],\n",
       "\n",
       "\n",
       "        [[[-1.1983e+00, -1.2763e+00, -2.7532e-01, -1.6431e-01, -1.6253e-01],\n",
       "          [-2.4748e-01,  6.6749e-01, -8.9389e-01,  8.3121e-01,  9.2243e-02],\n",
       "          [-9.0590e-02, -7.2222e-01,  3.8653e-01,  5.1056e-01,  1.9584e+00],\n",
       "          [-5.8031e-01,  1.7940e+00,  1.8334e-02,  2.2915e-01, -7.2787e-02],\n",
       "          [ 2.3349e-01, -8.7811e-02,  8.4752e-01, -1.3000e+00, -3.0222e-01]],\n",
       "\n",
       "         [[-5.4933e-01,  2.2328e+00, -7.4084e-01, -6.8302e-01,  1.6957e+00],\n",
       "          [-1.6150e-01, -1.4433e-01, -9.3503e-02, -7.4487e-01,  1.4867e-01],\n",
       "          [-3.7165e-01, -5.0666e-01, -1.0365e+00,  1.6433e+00,  2.8579e-03],\n",
       "          [-8.5242e-01,  7.2720e-01,  5.4229e-01,  1.4972e+00,  7.8706e-01],\n",
       "          [-8.9852e-01,  1.5350e+00, -1.1074e+00, -1.8606e+00, -1.7493e+00]],\n",
       "\n",
       "         [[ 9.9850e-01,  1.9163e-01, -9.8012e-01,  2.2625e-01,  8.8501e-01],\n",
       "          [ 1.2955e+00, -3.2768e-01, -7.5576e-01, -1.1417e+00,  6.2463e-02],\n",
       "          [ 6.3330e-01,  3.3381e-01, -9.8928e-01,  2.0068e-01, -1.7541e+00],\n",
       "          [-8.1799e-01, -1.9880e-01,  1.2710e+00,  1.3347e+00, -1.5058e+00],\n",
       "          [-1.2733e+00, -7.3366e-01, -9.7909e-02,  1.6940e-01,  1.1113e-01]]]],\n",
       "       names=(None, 'channels', 'rows', 'columns'))"
      ]
     },
     "execution_count": 13,
     "metadata": {},
     "output_type": "execute_result"
    }
   ],
   "source": [
    "batch_named = batch_t.refine_names(..., 'channels', 'rows', 'columns')\n",
    "batch_named"
   ]
  },
  {
   "cell_type": "code",
   "execution_count": 14,
   "id": "7c1e40df-c927-4858-9642-3b5453e73a4b",
   "metadata": {},
   "outputs": [
    {
     "name": "stdout",
     "output_type": "stream",
     "text": [
      "img named: torch.Size([3, 5, 5]) ('channels', 'rows', 'columns')\n"
     ]
    }
   ],
   "source": [
    "print('img named:', img_named.shape, img_named.names)"
   ]
  },
  {
   "cell_type": "code",
   "execution_count": 15,
   "id": "3cb66525-76bf-429b-9ece-54dbab5d1936",
   "metadata": {},
   "outputs": [
    {
     "name": "stdout",
     "output_type": "stream",
     "text": [
      "batch named: torch.Size([2, 3, 5, 5]) (None, 'channels', 'rows', 'columns')\n"
     ]
    }
   ],
   "source": [
    "print('batch named:', batch_named.shape, batch_named.names)"
   ]
  },
  {
   "cell_type": "code",
   "execution_count": 16,
   "id": "f0b49b13-1b10-4f5d-8a4e-f52ff48fbb64",
   "metadata": {},
   "outputs": [
    {
     "data": {
      "text/plain": [
       "(torch.Size([3, 1, 1]), ('channels', 'rows', 'columns'))"
      ]
     },
     "execution_count": 16,
     "metadata": {},
     "output_type": "execute_result"
    }
   ],
   "source": [
    "weights_aligned = weights_named.align_as(img_named)\n",
    "weights_aligned.shape, weights_aligned.names"
   ]
  },
  {
   "cell_type": "code",
   "execution_count": 17,
   "id": "fd378623-971c-46b3-9b71-cd4027a00649",
   "metadata": {},
   "outputs": [
    {
     "data": {
      "text/plain": [
       "(torch.Size([5, 5]), ('rows', 'columns'))"
      ]
     },
     "execution_count": 17,
     "metadata": {},
     "output_type": "execute_result"
    }
   ],
   "source": [
    "gray_named = (img_named * weights_aligned).sum('channels')\n",
    "gray_named.shape, gray_named.names"
   ]
  },
  {
   "cell_type": "code",
   "execution_count": 18,
   "id": "180e5ee1-bdbf-4467-b8c4-bfbea049b04d",
   "metadata": {},
   "outputs": [
    {
     "data": {
      "text/plain": [
       "tensor([0.2126, 0.7152, 0.0722])"
      ]
     },
     "execution_count": 18,
     "metadata": {},
     "output_type": "execute_result"
    }
   ],
   "source": [
    "weights"
   ]
  },
  {
   "cell_type": "code",
   "execution_count": 19,
   "id": "f043f341-0e38-4d46-8fb1-a544f68c6ace",
   "metadata": {},
   "outputs": [
    {
     "data": {
      "text/plain": [
       "tensor([0.2126, 0.7152, 0.0722], names=('channels',))"
      ]
     },
     "execution_count": 19,
     "metadata": {},
     "output_type": "execute_result"
    }
   ],
   "source": [
    "weights_named"
   ]
  },
  {
   "cell_type": "code",
   "execution_count": 20,
   "id": "dea48f81-e42e-4526-812a-774f5dfc1a38",
   "metadata": {},
   "outputs": [
    {
     "data": {
      "text/plain": [
       "tensor([[[0.2126]],\n",
       "\n",
       "        [[0.7152]],\n",
       "\n",
       "        [[0.0722]]], names=('channels', 'rows', 'columns'))"
      ]
     },
     "execution_count": 20,
     "metadata": {},
     "output_type": "execute_result"
    }
   ],
   "source": [
    "weights_aligned"
   ]
  },
  {
   "cell_type": "code",
   "execution_count": 21,
   "id": "94d68229-0d76-49fd-ba4e-35f5a7a8f0ab",
   "metadata": {},
   "outputs": [
    {
     "ename": "RuntimeError",
     "evalue": "Error when attempting to broadcast dims ['channels', 'rows', 'columns'] and dims ['channels']: dim 'columns' and dim 'channels' are at the same position from the right but do not match.",
     "output_type": "error",
     "traceback": [
      "\u001b[0;31m---------------------------------------------------------------------------\u001b[0m",
      "\u001b[0;31mRuntimeError\u001b[0m                              Traceback (most recent call last)",
      "Cell \u001b[0;32mIn[21], line 1\u001b[0m\n\u001b[0;32m----> 1\u001b[0m gray_named \u001b[38;5;241m=\u001b[39m (\u001b[43mimg_named\u001b[49m\u001b[43m[\u001b[49m\u001b[38;5;241;43m.\u001b[39;49m\u001b[38;5;241;43m.\u001b[39;49m\u001b[38;5;241;43m.\u001b[39;49m\u001b[43m,\u001b[49m\u001b[43m \u001b[49m\u001b[43m:\u001b[49m\u001b[38;5;241;43m3\u001b[39;49m\u001b[43m]\u001b[49m\u001b[43m \u001b[49m\u001b[38;5;241;43m*\u001b[39;49m\u001b[43m \u001b[49m\u001b[43mweights_named\u001b[49m)\u001b[38;5;241m.\u001b[39msum(\u001b[38;5;124m'\u001b[39m\u001b[38;5;124mchannels\u001b[39m\u001b[38;5;124m'\u001b[39m)\n",
      "\u001b[0;31mRuntimeError\u001b[0m: Error when attempting to broadcast dims ['channels', 'rows', 'columns'] and dims ['channels']: dim 'columns' and dim 'channels' are at the same position from the right but do not match."
     ]
    }
   ],
   "source": [
    "gray_named = (img_named[..., :3] * weights_named).sum('channels')"
   ]
  },
  {
   "cell_type": "code",
   "execution_count": 22,
   "id": "8b6f7472-0204-4842-8b05-46a5f337554e",
   "metadata": {},
   "outputs": [
    {
     "data": {
      "text/plain": [
       "tensor([[[-2.2470, -0.0248,  1.4050],\n",
       "         [-1.2033,  1.8708, -0.6288],\n",
       "         [-0.6849, -0.6649,  0.9008],\n",
       "         [ 1.9086,  0.8474,  0.5196],\n",
       "         [-0.3521, -0.0881,  1.0202]],\n",
       "\n",
       "        [[ 1.9251, -0.4894,  1.3405],\n",
       "         [ 0.4504,  0.5844, -1.2549],\n",
       "         [-1.5061, -0.5770, -0.8651],\n",
       "         [-0.7505, -0.0283,  1.0258],\n",
       "         [ 0.1458, -1.3586, -0.9836]],\n",
       "\n",
       "        [[ 1.9627,  2.5544, -0.4651],\n",
       "         [ 0.2925, -0.6175, -0.0359],\n",
       "         [ 0.3153, -1.1364, -0.3803],\n",
       "         [ 0.6616,  0.9489, -1.2581],\n",
       "         [-1.2158,  1.7434,  0.5861]]], names=('channels', 'rows', 'columns'))"
      ]
     },
     "execution_count": 22,
     "metadata": {},
     "output_type": "execute_result"
    }
   ],
   "source": [
    "img_named[..., :3]"
   ]
  },
  {
   "cell_type": "code",
   "execution_count": 23,
   "id": "23862711-2c36-4356-8384-a74176894c85",
   "metadata": {},
   "outputs": [
    {
     "data": {
      "text/plain": [
       "(torch.Size([5, 5]), (None, None))"
      ]
     },
     "execution_count": 23,
     "metadata": {},
     "output_type": "execute_result"
    }
   ],
   "source": [
    "gray_plain = gray_named.rename(None)\n",
    "gray_plain.shape, gray_plain.names"
   ]
  },
  {
   "cell_type": "code",
   "execution_count": 24,
   "id": "9430e560-8757-467b-a53c-bff3441973b2",
   "metadata": {},
   "outputs": [
    {
     "data": {
      "text/plain": [
       "tensor([[1., 1.],\n",
       "        [1., 1.],\n",
       "        [1., 1.],\n",
       "        [1., 1.],\n",
       "        [1., 1.],\n",
       "        [1., 1.],\n",
       "        [1., 1.],\n",
       "        [1., 1.],\n",
       "        [1., 1.],\n",
       "        [1., 1.]], dtype=torch.float64)"
      ]
     },
     "execution_count": 24,
     "metadata": {},
     "output_type": "execute_result"
    }
   ],
   "source": [
    "double_points = torch.ones(10, 2, dtype=torch.double)\n",
    "double_points"
   ]
  },
  {
   "cell_type": "code",
   "execution_count": 26,
   "id": "a90e695b-4c17-4411-b80c-8ea4c7c69f58",
   "metadata": {},
   "outputs": [
    {
     "data": {
      "text/plain": [
       "tensor([[1, 2],\n",
       "        [3, 4]], dtype=torch.int16)"
      ]
     },
     "execution_count": 26,
     "metadata": {},
     "output_type": "execute_result"
    }
   ],
   "source": [
    "short_points = torch.tensor([[1, 2], [3, 4]], dtype=torch.short)\n",
    "short_points"
   ]
  },
  {
   "cell_type": "code",
   "execution_count": 27,
   "id": "8af8e861-d406-473f-ae7a-f1137163e64d",
   "metadata": {},
   "outputs": [
    {
     "data": {
      "text/plain": [
       "torch.int16"
      ]
     },
     "execution_count": 27,
     "metadata": {},
     "output_type": "execute_result"
    }
   ],
   "source": [
    "short_points.dtype"
   ]
  },
  {
   "cell_type": "code",
   "execution_count": 28,
   "id": "71aa405e-c333-4e8b-a732-53d859551ed5",
   "metadata": {},
   "outputs": [
    {
     "data": {
      "text/plain": [
       "tensor([[0., 0.],\n",
       "        [0., 0.],\n",
       "        [0., 0.],\n",
       "        [0., 0.],\n",
       "        [0., 0.],\n",
       "        [0., 0.],\n",
       "        [0., 0.],\n",
       "        [0., 0.],\n",
       "        [0., 0.],\n",
       "        [0., 0.]], dtype=torch.float64)"
      ]
     },
     "execution_count": 28,
     "metadata": {},
     "output_type": "execute_result"
    }
   ],
   "source": [
    "double_points = torch.zeros(10, 2).double()\n",
    "double_points"
   ]
  },
  {
   "cell_type": "code",
   "execution_count": 30,
   "id": "9df8ab2b-f760-40d6-825c-4e87ef5393f3",
   "metadata": {},
   "outputs": [
    {
     "data": {
      "text/plain": [
       "tensor([[1, 1],\n",
       "        [1, 1],\n",
       "        [1, 1],\n",
       "        [1, 1],\n",
       "        [1, 1],\n",
       "        [1, 1],\n",
       "        [1, 1],\n",
       "        [1, 1],\n",
       "        [1, 1],\n",
       "        [1, 1]], dtype=torch.int16)"
      ]
     },
     "execution_count": 30,
     "metadata": {},
     "output_type": "execute_result"
    }
   ],
   "source": [
    "short_points = torch.ones(10, 2).short()\n",
    "short_points"
   ]
  },
  {
   "cell_type": "code",
   "execution_count": 31,
   "id": "49fb60e8-7301-4471-b82b-0760b1bbbc61",
   "metadata": {},
   "outputs": [
    {
     "data": {
      "text/plain": [
       "tensor([[0., 0.],\n",
       "        [0., 0.],\n",
       "        [0., 0.],\n",
       "        [0., 0.],\n",
       "        [0., 0.],\n",
       "        [0., 0.],\n",
       "        [0., 0.],\n",
       "        [0., 0.],\n",
       "        [0., 0.],\n",
       "        [0., 0.]], dtype=torch.float64)"
      ]
     },
     "execution_count": 31,
     "metadata": {},
     "output_type": "execute_result"
    }
   ],
   "source": [
    "double_points = torch.zeros(10, 2).to(torch.double)\n",
    "double_points"
   ]
  },
  {
   "cell_type": "code",
   "execution_count": 32,
   "id": "35c0bd53-eeb1-45ea-bbc9-b28e3bab1908",
   "metadata": {},
   "outputs": [
    {
     "data": {
      "text/plain": [
       "tensor([[1, 1],\n",
       "        [1, 1],\n",
       "        [1, 1],\n",
       "        [1, 1],\n",
       "        [1, 1],\n",
       "        [1, 1],\n",
       "        [1, 1],\n",
       "        [1, 1],\n",
       "        [1, 1],\n",
       "        [1, 1]], dtype=torch.int16)"
      ]
     },
     "execution_count": 32,
     "metadata": {},
     "output_type": "execute_result"
    }
   ],
   "source": [
    "short_points = torch.ones(10, 2).to(torch.short)\n",
    "short_points"
   ]
  },
  {
   "cell_type": "code",
   "execution_count": 33,
   "id": "3552d270-3ffc-4168-944c-e895e00e5e2e",
   "metadata": {},
   "outputs": [
    {
     "data": {
      "text/plain": [
       "tensor([0.9614, 0.7327, 0.8007, 0.2193, 0.4169], dtype=torch.float64)"
      ]
     },
     "execution_count": 33,
     "metadata": {},
     "output_type": "execute_result"
    }
   ],
   "source": [
    "points_64 = torch.rand(5, dtype=torch.double)\n",
    "points_64"
   ]
  },
  {
   "cell_type": "code",
   "execution_count": 35,
   "id": "bdf82506-c2a0-4f4a-be00-b5cd73b5d7e6",
   "metadata": {},
   "outputs": [
    {
     "data": {
      "text/plain": [
       "tensor([0, 0, 0, 0, 0], dtype=torch.int16)"
      ]
     },
     "execution_count": 35,
     "metadata": {},
     "output_type": "execute_result"
    }
   ],
   "source": [
    "points_short = points_64.to(torch.short)\n",
    "points_short"
   ]
  },
  {
   "cell_type": "code",
   "execution_count": 36,
   "id": "b290e2e9-9cab-4f55-9a18-56617a0b9758",
   "metadata": {},
   "outputs": [
    {
     "data": {
      "text/plain": [
       "tensor([0., 0., 0., 0., 0.], dtype=torch.float64)"
      ]
     },
     "execution_count": 36,
     "metadata": {},
     "output_type": "execute_result"
    }
   ],
   "source": [
    "points_64 * points_short"
   ]
  },
  {
   "cell_type": "code",
   "execution_count": 37,
   "id": "b77b6aa5-385e-4054-8162-fa1eb7e2f0fa",
   "metadata": {},
   "outputs": [
    {
     "data": {
      "text/plain": [
       "(tensor([[1., 1.],\n",
       "         [1., 1.],\n",
       "         [1., 1.]]),\n",
       " tensor([[1., 1., 1.],\n",
       "         [1., 1., 1.]]))"
      ]
     },
     "execution_count": 37,
     "metadata": {},
     "output_type": "execute_result"
    }
   ],
   "source": [
    "a = torch.ones(3, 2)\n",
    "a_t = torch.transpose(a, 0, 1)\n",
    "a, a_t"
   ]
  },
  {
   "cell_type": "code",
   "execution_count": 38,
   "id": "32748619-4c87-4e6e-83a2-0ee13f8a406e",
   "metadata": {},
   "outputs": [
    {
     "data": {
      "text/plain": [
       "(torch.Size([3, 2]), torch.Size([2, 3]))"
      ]
     },
     "execution_count": 38,
     "metadata": {},
     "output_type": "execute_result"
    }
   ],
   "source": [
    "a.shape, a_t.shape"
   ]
  },
  {
   "cell_type": "code",
   "execution_count": 39,
   "id": "fc1ab166-be06-468d-ac92-45df9add53a0",
   "metadata": {},
   "outputs": [
    {
     "data": {
      "text/plain": [
       "(torch.Size([3, 2]), torch.Size([2, 3]))"
      ]
     },
     "execution_count": 39,
     "metadata": {},
     "output_type": "execute_result"
    }
   ],
   "source": [
    "a = torch.ones(3, 2)\n",
    "a_t = a.transpose(0, 1)\n",
    "\n",
    "a.shape, a_t.shape"
   ]
  },
  {
   "cell_type": "markdown",
   "id": "9c602c52-1920-40d4-b6aa-d8dd7d5845c8",
   "metadata": {},
   "source": [
    "### 3.7.1 저장 공간 인덱싱"
   ]
  },
  {
   "cell_type": "code",
   "execution_count": 41,
   "id": "13e7d673-1cb9-419e-af16-c9415d88b52e",
   "metadata": {},
   "outputs": [
    {
     "data": {
      "text/plain": [
       " 4.0\n",
       " 1.0\n",
       " 5.0\n",
       " 3.0\n",
       " 2.0\n",
       " 1.0\n",
       "[torch.FloatStorage of size 6]"
      ]
     },
     "execution_count": 41,
     "metadata": {},
     "output_type": "execute_result"
    }
   ],
   "source": [
    "points = torch.tensor([[4.0, 1.0], [5.0, 3.0], [2.0, 1.0]])\n",
    "points.storage()"
   ]
  },
  {
   "cell_type": "code",
   "execution_count": 42,
   "id": "45a1316e-e6b8-4cda-9c8d-a313cccc5798",
   "metadata": {},
   "outputs": [
    {
     "data": {
      "text/plain": [
       "4.0"
      ]
     },
     "execution_count": 42,
     "metadata": {},
     "output_type": "execute_result"
    }
   ],
   "source": [
    "points_storage = points.storage()\n",
    "points_storage[0]"
   ]
  },
  {
   "cell_type": "code",
   "execution_count": 43,
   "id": "52c62190-6ee5-41b1-918c-d31f6f9f2ddd",
   "metadata": {},
   "outputs": [
    {
     "data": {
      "text/plain": [
       "1.0"
      ]
     },
     "execution_count": 43,
     "metadata": {},
     "output_type": "execute_result"
    }
   ],
   "source": [
    "points.storage()[1]"
   ]
  },
  {
   "cell_type": "markdown",
   "id": "545a11f6-e93d-439b-a3a2-832424cd6518",
   "metadata": {},
   "source": [
    "차원에 무관하게 실제 저장 공간 레이아웃은 1차원"
   ]
  },
  {
   "cell_type": "code",
   "execution_count": 44,
   "id": "cc6467dc-274c-4796-8565-cd832f8c04df",
   "metadata": {},
   "outputs": [
    {
     "data": {
      "text/plain": [
       "tensor([[2., 1.],\n",
       "        [5., 3.],\n",
       "        [2., 1.]])"
      ]
     },
     "execution_count": 44,
     "metadata": {},
     "output_type": "execute_result"
    }
   ],
   "source": [
    "points = torch.tensor([[4.0, 1.0], [5.0, 3.0], [2.0, 1.0]])\n",
    "points_storage = points.storage()\n",
    "points_storage[0] = 2.0\n",
    "points"
   ]
  },
  {
   "cell_type": "markdown",
   "id": "1b4ead1c-cc17-496e-932c-59a5ecabc4dd",
   "metadata": {},
   "source": [
    "### 3.7.2 저장된 값을 수정하기: 텐서 내부 연산"
   ]
  },
  {
   "cell_type": "code",
   "execution_count": 45,
   "id": "c21dae1b-36f2-4761-b1fb-47186eb18430",
   "metadata": {},
   "outputs": [
    {
     "data": {
      "text/plain": [
       "tensor([[1., 1.],\n",
       "        [1., 1.],\n",
       "        [1., 1.]])"
      ]
     },
     "execution_count": 45,
     "metadata": {},
     "output_type": "execute_result"
    }
   ],
   "source": [
    "a = torch.ones(3, 2)\n",
    "a"
   ]
  },
  {
   "cell_type": "code",
   "execution_count": 46,
   "id": "193e5c6e-daa2-4b3f-a87a-2664b26c38b4",
   "metadata": {},
   "outputs": [
    {
     "data": {
      "text/plain": [
       "tensor([[0., 0.],\n",
       "        [0., 0.],\n",
       "        [0., 0.]])"
      ]
     },
     "execution_count": 46,
     "metadata": {},
     "output_type": "execute_result"
    }
   ],
   "source": [
    "a.zero_()\n",
    "a"
   ]
  },
  {
   "cell_type": "markdown",
   "id": "b39a3352-c9c7-404e-a9bd-89dad35ef55c",
   "metadata": {},
   "source": [
    "## 3.8 텐서 메타데이터: 사이즈, 오프셋, 스트라이드"
   ]
  },
  {
   "cell_type": "markdown",
   "id": "4c1d6b82-d530-417d-b85f-2ea99ce7805a",
   "metadata": {},
   "source": [
    "### 3.8.1 다른 텐서의 저장 공간에 대한 뷰 만들기"
   ]
  },
  {
   "cell_type": "code",
   "execution_count": 47,
   "id": "63e86b5a-9828-46a1-ae8d-084f48d5a297",
   "metadata": {},
   "outputs": [
    {
     "data": {
      "text/plain": [
       "2"
      ]
     },
     "execution_count": 47,
     "metadata": {},
     "output_type": "execute_result"
    }
   ],
   "source": [
    "points = torch.tensor([[4.0, 1.0], [5.0, 3.0], [2.0, 1.0]])\n",
    "second_point = points[1]\n",
    "second_point.storage_offset()"
   ]
  },
  {
   "cell_type": "code",
   "execution_count": 48,
   "id": "fc975606-74c3-4fa1-8a80-b602141916e5",
   "metadata": {},
   "outputs": [
    {
     "data": {
      "text/plain": [
       "torch.Size([2])"
      ]
     },
     "execution_count": 48,
     "metadata": {},
     "output_type": "execute_result"
    }
   ],
   "source": [
    "second_point.size()"
   ]
  },
  {
   "cell_type": "code",
   "execution_count": 49,
   "id": "6d2740a6-fef1-4d6c-9ae7-7ba5008d81ca",
   "metadata": {},
   "outputs": [
    {
     "data": {
      "text/plain": [
       "tensor([5., 3.])"
      ]
     },
     "execution_count": 49,
     "metadata": {},
     "output_type": "execute_result"
    }
   ],
   "source": [
    "second_point"
   ]
  },
  {
   "cell_type": "code",
   "execution_count": 50,
   "id": "52afbb00-6ff5-4f2e-9275-5a4b443d225c",
   "metadata": {},
   "outputs": [
    {
     "data": {
      "text/plain": [
       "torch.Size([2])"
      ]
     },
     "execution_count": 50,
     "metadata": {},
     "output_type": "execute_result"
    }
   ],
   "source": [
    "second_point.shape"
   ]
  },
  {
   "cell_type": "code",
   "execution_count": 51,
   "id": "639a2998-8ac3-4907-b85b-0cbacd19c280",
   "metadata": {},
   "outputs": [
    {
     "data": {
      "text/plain": [
       "(2, 1)"
      ]
     },
     "execution_count": 51,
     "metadata": {},
     "output_type": "execute_result"
    }
   ],
   "source": [
    "points.stride()"
   ]
  },
  {
   "cell_type": "code",
   "execution_count": 52,
   "id": "cc78b9f7-8948-4fa8-9716-f134f6268f07",
   "metadata": {},
   "outputs": [
    {
     "data": {
      "text/plain": [
       "0"
      ]
     },
     "execution_count": 52,
     "metadata": {},
     "output_type": "execute_result"
    }
   ],
   "source": [
    "points[0].storage_offset()"
   ]
  },
  {
   "cell_type": "code",
   "execution_count": 53,
   "id": "295df1c8-c3f0-437a-a543-404386bae260",
   "metadata": {},
   "outputs": [
    {
     "data": {
      "text/plain": [
       "torch.Size([2])"
      ]
     },
     "execution_count": 53,
     "metadata": {},
     "output_type": "execute_result"
    }
   ],
   "source": [
    "second_point = points[1]\n",
    "second_point.size()"
   ]
  },
  {
   "cell_type": "code",
   "execution_count": 54,
   "id": "4bcc7bcf-3dd4-41e3-806e-53d1a9696d72",
   "metadata": {},
   "outputs": [
    {
     "data": {
      "text/plain": [
       "2"
      ]
     },
     "execution_count": 54,
     "metadata": {},
     "output_type": "execute_result"
    }
   ],
   "source": [
    "second_point.storage_offset()"
   ]
  },
  {
   "cell_type": "code",
   "execution_count": 55,
   "id": "8d3cbd3a-530a-4b56-8466-f9d56bb71b06",
   "metadata": {},
   "outputs": [
    {
     "data": {
      "text/plain": [
       "(1,)"
      ]
     },
     "execution_count": 55,
     "metadata": {},
     "output_type": "execute_result"
    }
   ],
   "source": [
    "second_point.stride()"
   ]
  },
  {
   "cell_type": "code",
   "execution_count": 56,
   "id": "e34a9fee-4c0b-4f0d-8b48-4f7a2aaeed9c",
   "metadata": {},
   "outputs": [
    {
     "data": {
      "text/plain": [
       "tensor([[ 4.,  1.],\n",
       "        [10.,  3.],\n",
       "        [ 2.,  1.]])"
      ]
     },
     "execution_count": 56,
     "metadata": {},
     "output_type": "execute_result"
    }
   ],
   "source": [
    "points = torch.tensor([[4.0, 1.0], [5.0, 3.0], [2.0, 1.0]])\n",
    "second_point = points[1]\n",
    "second_point[0] = 10.0\n",
    "points"
   ]
  },
  {
   "cell_type": "code",
   "execution_count": 58,
   "id": "1bb1815e-7b4c-4a01-944a-9f4622d65559",
   "metadata": {},
   "outputs": [
    {
     "data": {
      "text/plain": [
       "tensor([[4., 1.],\n",
       "        [5., 3.],\n",
       "        [2., 1.]])"
      ]
     },
     "execution_count": 58,
     "metadata": {},
     "output_type": "execute_result"
    }
   ],
   "source": [
    "points = torch.tensor([[4.0, 1.0], [5.0, 3.0], [2.0, 1.0]])\n",
    "second_point = points[1].clone()\n",
    "second_point[0] = 10.0\n",
    "points"
   ]
  },
  {
   "cell_type": "markdown",
   "id": "6cd07e1f-f2b8-4912-ac19-3e46232f4a3a",
   "metadata": {},
   "source": [
    "### 3.8.2 복사 없이 텐서 전치하기"
   ]
  },
  {
   "cell_type": "code",
   "execution_count": 59,
   "id": "a4c5f240-e353-48c4-b768-4434d97b807a",
   "metadata": {},
   "outputs": [
    {
     "data": {
      "text/plain": [
       "tensor([[4., 1.],\n",
       "        [5., 3.],\n",
       "        [2., 1.]])"
      ]
     },
     "execution_count": 59,
     "metadata": {},
     "output_type": "execute_result"
    }
   ],
   "source": [
    "points = torch.tensor([[4.0, 1.0], [5.0, 3.0], [2.0, 1.0]])\n",
    "points"
   ]
  },
  {
   "cell_type": "code",
   "execution_count": 60,
   "id": "a5e5a19d-052e-4314-9df5-119bc33a44de",
   "metadata": {},
   "outputs": [
    {
     "data": {
      "text/plain": [
       "tensor([[4., 5., 2.],\n",
       "        [1., 3., 1.]])"
      ]
     },
     "execution_count": 60,
     "metadata": {},
     "output_type": "execute_result"
    }
   ],
   "source": [
    "points_t = points.t()\n",
    "points_t"
   ]
  },
  {
   "cell_type": "code",
   "execution_count": 61,
   "id": "c91bb47f-70f1-454b-b0af-88b5ed273173",
   "metadata": {},
   "outputs": [
    {
     "data": {
      "text/plain": [
       " 4.0\n",
       " 1.0\n",
       " 5.0\n",
       " 3.0\n",
       " 2.0\n",
       " 1.0\n",
       "[torch.FloatStorage of size 6]"
      ]
     },
     "execution_count": 61,
     "metadata": {},
     "output_type": "execute_result"
    }
   ],
   "source": [
    "points.storage()"
   ]
  },
  {
   "cell_type": "code",
   "execution_count": 62,
   "id": "45790033-6303-4ecd-ad05-17c1c4857290",
   "metadata": {},
   "outputs": [
    {
     "data": {
      "text/plain": [
       " 4.0\n",
       " 1.0\n",
       " 5.0\n",
       " 3.0\n",
       " 2.0\n",
       " 1.0\n",
       "[torch.FloatStorage of size 6]"
      ]
     },
     "execution_count": 62,
     "metadata": {},
     "output_type": "execute_result"
    }
   ],
   "source": [
    "points_t.storage()"
   ]
  },
  {
   "cell_type": "code",
   "execution_count": 65,
   "id": "9dcc61a1-3151-4742-8bd9-7a8b79f14aa9",
   "metadata": {},
   "outputs": [
    {
     "data": {
      "text/plain": [
       "True"
      ]
     },
     "execution_count": 65,
     "metadata": {},
     "output_type": "execute_result"
    }
   ],
   "source": [
    "id(points.storage()) == id(points_t.storage())"
   ]
  },
  {
   "cell_type": "code",
   "execution_count": 63,
   "id": "e61183bd-89b4-4cd4-9f65-41b26eff1c38",
   "metadata": {},
   "outputs": [
    {
     "data": {
      "text/plain": [
       "(2, 1)"
      ]
     },
     "execution_count": 63,
     "metadata": {},
     "output_type": "execute_result"
    }
   ],
   "source": [
    "points.stride()"
   ]
  },
  {
   "cell_type": "code",
   "execution_count": 64,
   "id": "5e966c25-7f06-4dee-96b1-174ff0aeea8d",
   "metadata": {},
   "outputs": [
    {
     "data": {
      "text/plain": [
       "(1, 2)"
      ]
     },
     "execution_count": 64,
     "metadata": {},
     "output_type": "execute_result"
    }
   ],
   "source": [
    "points_t.stride()"
   ]
  },
  {
   "cell_type": "markdown",
   "id": "eabeaf44-c1da-4442-b8b1-3bf95cf3d1d5",
   "metadata": {},
   "source": [
    "### 3.8.3 더 높은 차원에서의 전치 연산"
   ]
  },
  {
   "cell_type": "code",
   "execution_count": 66,
   "id": "df39542a-de3b-4ed9-b572-217c034130c2",
   "metadata": {},
   "outputs": [
    {
     "data": {
      "text/plain": [
       "tensor([[[1., 1., 1., 1., 1.],\n",
       "         [1., 1., 1., 1., 1.],\n",
       "         [1., 1., 1., 1., 1.],\n",
       "         [1., 1., 1., 1., 1.]],\n",
       "\n",
       "        [[1., 1., 1., 1., 1.],\n",
       "         [1., 1., 1., 1., 1.],\n",
       "         [1., 1., 1., 1., 1.],\n",
       "         [1., 1., 1., 1., 1.]],\n",
       "\n",
       "        [[1., 1., 1., 1., 1.],\n",
       "         [1., 1., 1., 1., 1.],\n",
       "         [1., 1., 1., 1., 1.],\n",
       "         [1., 1., 1., 1., 1.]]])"
      ]
     },
     "execution_count": 66,
     "metadata": {},
     "output_type": "execute_result"
    }
   ],
   "source": [
    "some_t = torch.ones(3, 4, 5)\n",
    "some_t"
   ]
  },
  {
   "cell_type": "code",
   "execution_count": 67,
   "id": "7996293c-6e89-4d0c-aef8-d9a148ebb20f",
   "metadata": {},
   "outputs": [
    {
     "data": {
      "text/plain": [
       "tensor([[[1., 1., 1.],\n",
       "         [1., 1., 1.],\n",
       "         [1., 1., 1.],\n",
       "         [1., 1., 1.]],\n",
       "\n",
       "        [[1., 1., 1.],\n",
       "         [1., 1., 1.],\n",
       "         [1., 1., 1.],\n",
       "         [1., 1., 1.]],\n",
       "\n",
       "        [[1., 1., 1.],\n",
       "         [1., 1., 1.],\n",
       "         [1., 1., 1.],\n",
       "         [1., 1., 1.]],\n",
       "\n",
       "        [[1., 1., 1.],\n",
       "         [1., 1., 1.],\n",
       "         [1., 1., 1.],\n",
       "         [1., 1., 1.]],\n",
       "\n",
       "        [[1., 1., 1.],\n",
       "         [1., 1., 1.],\n",
       "         [1., 1., 1.],\n",
       "         [1., 1., 1.]]])"
      ]
     },
     "execution_count": 67,
     "metadata": {},
     "output_type": "execute_result"
    }
   ],
   "source": [
    "transpose_t = some_t.transpose(0, 2)\n",
    "transpose_t"
   ]
  },
  {
   "cell_type": "code",
   "execution_count": 68,
   "id": "ef120d3c-1e17-4d0d-83e3-a0086c442341",
   "metadata": {},
   "outputs": [
    {
     "data": {
      "text/plain": [
       "torch.Size([3, 4, 5])"
      ]
     },
     "execution_count": 68,
     "metadata": {},
     "output_type": "execute_result"
    }
   ],
   "source": [
    "some_t.shape"
   ]
  },
  {
   "cell_type": "code",
   "execution_count": 69,
   "id": "70f90840-fa48-46b3-b523-9f635c4638ca",
   "metadata": {},
   "outputs": [
    {
     "data": {
      "text/plain": [
       "torch.Size([5, 4, 3])"
      ]
     },
     "execution_count": 69,
     "metadata": {},
     "output_type": "execute_result"
    }
   ],
   "source": [
    "transpose_t.shape"
   ]
  },
  {
   "cell_type": "code",
   "execution_count": 70,
   "id": "6ae058f1-834b-469c-ae32-fbd52e5004ee",
   "metadata": {},
   "outputs": [
    {
     "data": {
      "text/plain": [
       "(20, 5, 1)"
      ]
     },
     "execution_count": 70,
     "metadata": {},
     "output_type": "execute_result"
    }
   ],
   "source": [
    "some_t.stride()"
   ]
  },
  {
   "cell_type": "code",
   "execution_count": 71,
   "id": "9e629c40-4137-41e9-baa8-9517881859f4",
   "metadata": {},
   "outputs": [
    {
     "data": {
      "text/plain": [
       "(1, 5, 20)"
      ]
     },
     "execution_count": 71,
     "metadata": {},
     "output_type": "execute_result"
    }
   ],
   "source": [
    "transpose_t.stride()"
   ]
  },
  {
   "cell_type": "markdown",
   "id": "40e6d8ad-c510-4bd6-9ea7-6d5e96a57ff2",
   "metadata": {},
   "source": [
    "### 3.8.4 인접한 텐서"
   ]
  },
  {
   "cell_type": "code",
   "execution_count": 72,
   "id": "500c30bd-894d-4425-966a-def6e3394b6f",
   "metadata": {},
   "outputs": [
    {
     "data": {
      "text/plain": [
       "True"
      ]
     },
     "execution_count": 72,
     "metadata": {},
     "output_type": "execute_result"
    }
   ],
   "source": [
    "points.is_contiguous()"
   ]
  },
  {
   "cell_type": "code",
   "execution_count": 73,
   "id": "9cf1dc04-2d4c-493d-b58b-a52b36f70fb5",
   "metadata": {},
   "outputs": [
    {
     "data": {
      "text/plain": [
       "tensor([[4., 1.],\n",
       "        [5., 3.],\n",
       "        [2., 1.]])"
      ]
     },
     "execution_count": 73,
     "metadata": {},
     "output_type": "execute_result"
    }
   ],
   "source": [
    "points"
   ]
  },
  {
   "cell_type": "code",
   "execution_count": 74,
   "id": "b21157cd-dc29-4f79-a598-b806f22a2c67",
   "metadata": {},
   "outputs": [
    {
     "data": {
      "text/plain": [
       "False"
      ]
     },
     "execution_count": 74,
     "metadata": {},
     "output_type": "execute_result"
    }
   ],
   "source": [
    "points_t.is_contiguous()"
   ]
  },
  {
   "cell_type": "code",
   "execution_count": 75,
   "id": "b018fd19-8b6d-4072-a189-e9d4ec3e9a05",
   "metadata": {},
   "outputs": [
    {
     "data": {
      "text/plain": [
       "tensor([[4., 5., 2.],\n",
       "        [1., 3., 1.]])"
      ]
     },
     "execution_count": 75,
     "metadata": {},
     "output_type": "execute_result"
    }
   ],
   "source": [
    "points_t"
   ]
  },
  {
   "cell_type": "code",
   "execution_count": 76,
   "id": "7de5f4da-f9d9-433e-ae32-1b49e37103e8",
   "metadata": {},
   "outputs": [
    {
     "data": {
      "text/plain": [
       "tensor([[4., 1.],\n",
       "        [5., 3.],\n",
       "        [2., 1.]])"
      ]
     },
     "execution_count": 76,
     "metadata": {},
     "output_type": "execute_result"
    }
   ],
   "source": [
    "points = torch.tensor([[4.0, 1.0], [5.0, 3.0], [2.0, 1.0]])\n",
    "points"
   ]
  },
  {
   "cell_type": "code",
   "execution_count": 77,
   "id": "a90e1508-2f92-40ae-a2f2-dbfbdd9ecb9b",
   "metadata": {},
   "outputs": [
    {
     "data": {
      "text/plain": [
       "tensor([[4., 5., 2.],\n",
       "        [1., 3., 1.]])"
      ]
     },
     "execution_count": 77,
     "metadata": {},
     "output_type": "execute_result"
    }
   ],
   "source": [
    "pionts_t = points.t()\n",
    "points_t"
   ]
  },
  {
   "cell_type": "code",
   "execution_count": 78,
   "id": "41ad7fe4-241c-4ee6-a90f-bbdaaa6f5cef",
   "metadata": {},
   "outputs": [
    {
     "data": {
      "text/plain": [
       " 4.0\n",
       " 1.0\n",
       " 5.0\n",
       " 3.0\n",
       " 2.0\n",
       " 1.0\n",
       "[torch.FloatStorage of size 6]"
      ]
     },
     "execution_count": 78,
     "metadata": {},
     "output_type": "execute_result"
    }
   ],
   "source": [
    "points_t.storage()"
   ]
  },
  {
   "cell_type": "code",
   "execution_count": 79,
   "id": "764eba0f-fd2f-427a-87bc-e25637724d03",
   "metadata": {},
   "outputs": [
    {
     "data": {
      "text/plain": [
       "(1, 2)"
      ]
     },
     "execution_count": 79,
     "metadata": {},
     "output_type": "execute_result"
    }
   ],
   "source": [
    "points_t.stride()"
   ]
  },
  {
   "cell_type": "code",
   "execution_count": 80,
   "id": "c1355082-6492-4807-acf0-0225361bcf76",
   "metadata": {},
   "outputs": [
    {
     "data": {
      "text/plain": [
       "tensor([[4., 5., 2.],\n",
       "        [1., 3., 1.]])"
      ]
     },
     "execution_count": 80,
     "metadata": {},
     "output_type": "execute_result"
    }
   ],
   "source": [
    "points_t_cont = points_t.contiguous()\n",
    "points_t_cont"
   ]
  },
  {
   "cell_type": "code",
   "execution_count": 81,
   "id": "7cfade76-6c00-4dff-8759-69f48b097c8f",
   "metadata": {},
   "outputs": [
    {
     "data": {
      "text/plain": [
       "(3, 1)"
      ]
     },
     "execution_count": 81,
     "metadata": {},
     "output_type": "execute_result"
    }
   ],
   "source": [
    "points_t_cont.stride()"
   ]
  },
  {
   "cell_type": "code",
   "execution_count": 83,
   "id": "570b54c1-3bc1-4519-8781-1c5a47b34d47",
   "metadata": {},
   "outputs": [
    {
     "data": {
      "text/plain": [
       " 4.0\n",
       " 5.0\n",
       " 2.0\n",
       " 1.0\n",
       " 3.0\n",
       " 1.0\n",
       "[torch.FloatStorage of size 6]"
      ]
     },
     "execution_count": 83,
     "metadata": {},
     "output_type": "execute_result"
    }
   ],
   "source": [
    "points_t_cont.storage()"
   ]
  },
  {
   "cell_type": "markdown",
   "id": "7e70ce54-6615-408b-8483-d189ccbb1fea",
   "metadata": {},
   "source": [
    "## 3.9 텐서를 GPU로 옮기기"
   ]
  },
  {
   "cell_type": "markdown",
   "id": "7c79d6b9-6e80-493c-806e-1cb69c4b3bad",
   "metadata": {},
   "source": [
    "### 3.9.1 텐서 디바이스 속성 관리"
   ]
  },
  {
   "cell_type": "code",
   "execution_count": 86,
   "id": "851bbdbb-2fcf-4960-8d5b-d69b57338e28",
   "metadata": {},
   "outputs": [
    {
     "data": {
      "text/plain": [
       "tensor([[4., 1.],\n",
       "        [5., 3.],\n",
       "        [2., 1.]], device='cuda:0')"
      ]
     },
     "execution_count": 86,
     "metadata": {},
     "output_type": "execute_result"
    }
   ],
   "source": [
    "points_gpu = torch.tensor([[4.0, 1.0], [5.0, 3.0], [2.0, 1.0]], device='cuda')\n",
    "points_gpu"
   ]
  },
  {
   "cell_type": "code",
   "execution_count": 87,
   "id": "081cfe75-a15d-4819-9b08-12ad1a19f853",
   "metadata": {},
   "outputs": [
    {
     "data": {
      "text/plain": [
       "tensor([[4., 1.],\n",
       "        [5., 3.],\n",
       "        [2., 1.]], device='cuda:0')"
      ]
     },
     "execution_count": 87,
     "metadata": {},
     "output_type": "execute_result"
    }
   ],
   "source": [
    "points_gpu = points.to(device='cuda')\n",
    "points_gpu"
   ]
  },
  {
   "cell_type": "code",
   "execution_count": 88,
   "id": "1298ee9b-f7be-4472-94b4-c51f792cd4d4",
   "metadata": {},
   "outputs": [
    {
     "data": {
      "text/plain": [
       "tensor([[4., 1.],\n",
       "        [5., 3.],\n",
       "        [2., 1.]], device='cuda:0')"
      ]
     },
     "execution_count": 88,
     "metadata": {},
     "output_type": "execute_result"
    }
   ],
   "source": [
    "points_gpu = points.to(device='cuda:0')\n",
    "points_gpu"
   ]
  },
  {
   "cell_type": "code",
   "execution_count": 89,
   "id": "36498cc8-9913-4b23-83aa-1245827b7657",
   "metadata": {},
   "outputs": [
    {
     "data": {
      "text/plain": [
       "tensor([[ 8.,  2.],\n",
       "        [10.,  6.],\n",
       "        [ 4.,  2.]])"
      ]
     },
     "execution_count": 89,
     "metadata": {},
     "output_type": "execute_result"
    }
   ],
   "source": [
    "points = 2 * points\n",
    "points"
   ]
  },
  {
   "cell_type": "code",
   "execution_count": 90,
   "id": "162d1128-cc29-4fa7-8625-91664eaef489",
   "metadata": {},
   "outputs": [
    {
     "data": {
      "text/plain": [
       "tensor([[16.,  4.],\n",
       "        [20., 12.],\n",
       "        [ 8.,  4.]], device='cuda:0')"
      ]
     },
     "execution_count": 90,
     "metadata": {},
     "output_type": "execute_result"
    }
   ],
   "source": [
    "points_gpu = 2 * points.to(device='cuda')\n",
    "points_gpu"
   ]
  },
  {
   "cell_type": "code",
   "execution_count": 91,
   "id": "7c6671f0-9331-43e6-a93a-6e8aecc22bef",
   "metadata": {},
   "outputs": [
    {
     "data": {
      "text/plain": [
       "tensor([[20.,  8.],\n",
       "        [24., 16.],\n",
       "        [12.,  8.]], device='cuda:0')"
      ]
     },
     "execution_count": 91,
     "metadata": {},
     "output_type": "execute_result"
    }
   ],
   "source": [
    "points_gpu  = points_gpu + 4\n",
    "points_gpu"
   ]
  },
  {
   "cell_type": "code",
   "execution_count": 92,
   "id": "aa41fe93-3731-4232-95a2-bed5c743b1b9",
   "metadata": {},
   "outputs": [
    {
     "data": {
      "text/plain": [
       "tensor([[20.,  8.],\n",
       "        [24., 16.],\n",
       "        [12.,  8.]])"
      ]
     },
     "execution_count": 92,
     "metadata": {},
     "output_type": "execute_result"
    }
   ],
   "source": [
    "points_cpu = points_gpu.to(device='cpu')\n",
    "points_cpu"
   ]
  },
  {
   "cell_type": "code",
   "execution_count": 93,
   "id": "6fb4bec2-31ea-4698-bf4c-a32289719133",
   "metadata": {},
   "outputs": [
    {
     "data": {
      "text/plain": [
       "tensor([[ 8.,  2.],\n",
       "        [10.,  6.],\n",
       "        [ 4.,  2.]], device='cuda:0')"
      ]
     },
     "execution_count": 93,
     "metadata": {},
     "output_type": "execute_result"
    }
   ],
   "source": [
    "points_gpu = points.cuda()\n",
    "points_gpu"
   ]
  },
  {
   "cell_type": "code",
   "execution_count": 94,
   "id": "2b50c098-3290-4c06-b4df-ca1774ccca86",
   "metadata": {},
   "outputs": [
    {
     "data": {
      "text/plain": [
       "tensor([[ 8.,  2.],\n",
       "        [10.,  6.],\n",
       "        [ 4.,  2.]], device='cuda:1')"
      ]
     },
     "execution_count": 94,
     "metadata": {},
     "output_type": "execute_result"
    }
   ],
   "source": [
    "points_gpu = points.cuda(1)\n",
    "points_gpu"
   ]
  },
  {
   "cell_type": "code",
   "execution_count": 96,
   "id": "62a3c374-f669-4057-a796-6f58d0a07c0d",
   "metadata": {},
   "outputs": [
    {
     "data": {
      "text/plain": [
       "tensor([[ 8.,  2.],\n",
       "        [10.,  6.],\n",
       "        [ 4.,  2.]])"
      ]
     },
     "execution_count": 96,
     "metadata": {},
     "output_type": "execute_result"
    }
   ],
   "source": [
    "points_cpu = points_gpu.cpu()\n",
    "points_cpu"
   ]
  },
  {
   "cell_type": "markdown",
   "id": "e7d8b1f0-6f71-444f-b78c-0aea4ddb71ef",
   "metadata": {},
   "source": [
    "## 3.10 넘파이 호환"
   ]
  },
  {
   "cell_type": "code",
   "execution_count": 97,
   "id": "9ca69965-dcc7-432e-8058-7ce41509a7b7",
   "metadata": {},
   "outputs": [
    {
     "data": {
      "text/plain": [
       "tensor([[1., 1., 1., 1.],\n",
       "        [1., 1., 1., 1.],\n",
       "        [1., 1., 1., 1.]])"
      ]
     },
     "execution_count": 97,
     "metadata": {},
     "output_type": "execute_result"
    }
   ],
   "source": [
    "points = torch.ones(3, 4)\n",
    "points"
   ]
  },
  {
   "cell_type": "code",
   "execution_count": 98,
   "id": "3c4d2c0d-803a-4107-a261-74830b2e9026",
   "metadata": {},
   "outputs": [
    {
     "data": {
      "text/plain": [
       "array([[1., 1., 1., 1.],\n",
       "       [1., 1., 1., 1.],\n",
       "       [1., 1., 1., 1.]], dtype=float32)"
      ]
     },
     "execution_count": 98,
     "metadata": {},
     "output_type": "execute_result"
    }
   ],
   "source": [
    "points_np = points.numpy()\n",
    "points_np"
   ]
  },
  {
   "cell_type": "code",
   "execution_count": 99,
   "id": "17fe69c4-df39-4e95-a507-b90187781782",
   "metadata": {},
   "outputs": [
    {
     "data": {
      "text/plain": [
       "tensor([[1., 1., 1., 1.],\n",
       "        [1., 1., 1., 1.],\n",
       "        [1., 1., 1., 1.]])"
      ]
     },
     "execution_count": 99,
     "metadata": {},
     "output_type": "execute_result"
    }
   ],
   "source": [
    "points = torch.from_numpy(points_np)\n",
    "points"
   ]
  },
  {
   "cell_type": "markdown",
   "id": "bc33f496-ace8-460e-b576-6ac856075829",
   "metadata": {},
   "source": [
    "## 3.11 일반화된 텐서도 텐서다"
   ]
  },
  {
   "cell_type": "markdown",
   "id": "f3bee5ce-db43-4472-a243-a00d50c3bd82",
   "metadata": {},
   "source": [
    "## 3.12 텐서 직렬화"
   ]
  },
  {
   "cell_type": "code",
   "execution_count": 100,
   "id": "d915af18-1a43-4eea-bc7a-d1f721691ef1",
   "metadata": {},
   "outputs": [],
   "source": [
    "torch.save(points, './ourpoints.t')"
   ]
  },
  {
   "cell_type": "code",
   "execution_count": 101,
   "id": "a1d7c234-52df-4950-8436-0be450dfbecb",
   "metadata": {},
   "outputs": [],
   "source": [
    "with open('./ourpoints.t', 'wb') as f:\n",
    "    torch.save(points, f)"
   ]
  },
  {
   "cell_type": "code",
   "execution_count": 102,
   "id": "bd271103-25d2-41a7-9de3-29bab8212052",
   "metadata": {},
   "outputs": [
    {
     "data": {
      "text/plain": [
       "tensor([[1., 1., 1., 1.],\n",
       "        [1., 1., 1., 1.],\n",
       "        [1., 1., 1., 1.]])"
      ]
     },
     "execution_count": 102,
     "metadata": {},
     "output_type": "execute_result"
    }
   ],
   "source": [
    "points = torch.load('./ourpoints.t')\n",
    "points"
   ]
  },
  {
   "cell_type": "code",
   "execution_count": 103,
   "id": "63ece25b-7922-4ea7-b0d7-12325593c48d",
   "metadata": {},
   "outputs": [
    {
     "data": {
      "text/plain": [
       "tensor([[1., 1., 1., 1.],\n",
       "        [1., 1., 1., 1.],\n",
       "        [1., 1., 1., 1.]])"
      ]
     },
     "execution_count": 103,
     "metadata": {},
     "output_type": "execute_result"
    }
   ],
   "source": [
    "with open('./ourpoints.t', 'rb') as f:\n",
    "    points = torch.load(f)\n",
    "points"
   ]
  },
  {
   "cell_type": "markdown",
   "id": "0c535261-150f-4f19-bd88-41988859be09",
   "metadata": {},
   "source": [
    "### 3.12.1 h5py 로 HDF5 병렬화하기"
   ]
  },
  {
   "cell_type": "code",
   "execution_count": 105,
   "id": "d54960bf-e809-4f4b-9866-c111fa7d0100",
   "metadata": {},
   "outputs": [],
   "source": [
    "import h5py"
   ]
  },
  {
   "cell_type": "code",
   "execution_count": 106,
   "id": "670e28f3-5b1b-4a13-9316-c8421d5a182d",
   "metadata": {},
   "outputs": [],
   "source": [
    "f = h5py.File('./ourpoints.hdf5', 'w')\n",
    "dset = f.create_dataset('coords', data=points.numpy())\n",
    "f.close()"
   ]
  },
  {
   "cell_type": "code",
   "execution_count": 107,
   "id": "15866ab2-eeaa-4199-92bb-120c1ecfc68e",
   "metadata": {},
   "outputs": [
    {
     "data": {
      "text/plain": [
       "array([[1., 1., 1., 1.],\n",
       "       [1., 1., 1., 1.],\n",
       "       [1., 1., 1., 1.]], dtype=float32)"
      ]
     },
     "execution_count": 107,
     "metadata": {},
     "output_type": "execute_result"
    }
   ],
   "source": [
    "points.numpy()"
   ]
  },
  {
   "cell_type": "code",
   "execution_count": 108,
   "id": "278b8dfb-c57c-4943-91a1-c909fb5057ef",
   "metadata": {},
   "outputs": [
    {
     "data": {
      "text/plain": [
       "(<HDF5 dataset \"coords\": shape (3, 4), type \"<f4\">,\n",
       " array([[1., 1., 1., 1.],\n",
       "        [1., 1., 1., 1.]], dtype=float32))"
      ]
     },
     "execution_count": 108,
     "metadata": {},
     "output_type": "execute_result"
    }
   ],
   "source": [
    "f = h5py.File('./ourpoints.hdf5', 'r')\n",
    "dset = f['coords']\n",
    "last_points = dset[-2:]\n",
    "dset, last_points"
   ]
  },
  {
   "cell_type": "code",
   "execution_count": 109,
   "id": "2bb79911-8384-4a7e-9ecf-27d87570640b",
   "metadata": {},
   "outputs": [],
   "source": [
    "last_points = torch.from_numpy(dset[-2:])\n",
    "f.close()"
   ]
  },
  {
   "cell_type": "code",
   "execution_count": 110,
   "id": "72894f7c-6fd7-4fb3-878d-58983e122c1e",
   "metadata": {},
   "outputs": [
    {
     "data": {
      "text/plain": [
       "tensor([[1., 1., 1., 1.],\n",
       "        [1., 1., 1., 1.]])"
      ]
     },
     "execution_count": 110,
     "metadata": {},
     "output_type": "execute_result"
    }
   ],
   "source": [
    "last_points"
   ]
  },
  {
   "cell_type": "code",
   "execution_count": 111,
   "id": "b4d445e6-3bcb-48f5-a7cf-35396a4375c6",
   "metadata": {},
   "outputs": [
    {
     "data": {
      "text/plain": [
       "<Closed HDF5 dataset>"
      ]
     },
     "execution_count": 111,
     "metadata": {},
     "output_type": "execute_result"
    }
   ],
   "source": [
    "dset"
   ]
  },
  {
   "cell_type": "markdown",
   "id": "952d790c-b882-483e-a9d8-a30b2e606a65",
   "metadata": {},
   "source": [
    "### 3.14 연습 문제"
   ]
  },
  {
   "cell_type": "markdown",
   "id": "b69e51de-dd82-43c1-8acf-21820a95cbf3",
   "metadata": {},
   "source": [
    "### 1. list(range(9)) 로 부터 텐서를 만들어보라. 사이즈, 오프셋, 스트라이드는 얼마일지 계산해보라."
   ]
  },
  {
   "cell_type": "code",
   "execution_count": 112,
   "id": "d3663382-449e-4478-b9b1-72504f801ea3",
   "metadata": {},
   "outputs": [
    {
     "data": {
      "text/plain": [
       "[0, 1, 2, 3, 4, 5, 6, 7, 8]"
      ]
     },
     "execution_count": 112,
     "metadata": {},
     "output_type": "execute_result"
    }
   ],
   "source": [
    "array = list(range(9))\n",
    "array"
   ]
  },
  {
   "cell_type": "code",
   "execution_count": 114,
   "id": "e68cea3e-29ac-479a-8ec6-345311f03bae",
   "metadata": {},
   "outputs": [],
   "source": [
    "a = torch.tensor(array)"
   ]
  },
  {
   "cell_type": "code",
   "execution_count": 117,
   "id": "eba86861-59fa-44af-8f69-0ffb6f10239a",
   "metadata": {},
   "outputs": [
    {
     "data": {
      "text/plain": [
       "torch.Size([9])"
      ]
     },
     "execution_count": 117,
     "metadata": {},
     "output_type": "execute_result"
    }
   ],
   "source": [
    "a.size()  # [9]"
   ]
  },
  {
   "cell_type": "code",
   "execution_count": 115,
   "id": "8b7e8ba3-ad20-4c4f-a08b-57905afb4d82",
   "metadata": {},
   "outputs": [
    {
     "data": {
      "text/plain": [
       "0"
      ]
     },
     "execution_count": 115,
     "metadata": {},
     "output_type": "execute_result"
    }
   ],
   "source": [
    "a.storage_offset()  # 0"
   ]
  },
  {
   "cell_type": "code",
   "execution_count": 116,
   "id": "5d448706-056e-4885-8945-a4c5a58ef372",
   "metadata": {},
   "outputs": [
    {
     "data": {
      "text/plain": [
       "(1,)"
      ]
     },
     "execution_count": 116,
     "metadata": {},
     "output_type": "execute_result"
    }
   ],
   "source": [
    "a.stride()  # (1,)"
   ]
  },
  {
   "cell_type": "markdown",
   "id": "09835831-30eb-4afe-b990-b6d9b87f1a54",
   "metadata": {},
   "source": [
    "#### **a.** b = a.view(3, 3) 으로 텐서를 만들어라. view 의 역할은 무엇인가? a 와 b 가 같은 공간을 가리키고 있는지 확인해보라"
   ]
  },
  {
   "cell_type": "code",
   "execution_count": 118,
   "id": "cb1d61d0-3395-464c-ad25-3cbccf8cc8c0",
   "metadata": {},
   "outputs": [
    {
     "data": {
      "text/plain": [
       "tensor([[0, 1, 2],\n",
       "        [3, 4, 5],\n",
       "        [6, 7, 8]])"
      ]
     },
     "execution_count": 118,
     "metadata": {},
     "output_type": "execute_result"
    }
   ],
   "source": [
    "b = a.view(3, 3)\n",
    "b"
   ]
  },
  {
   "cell_type": "code",
   "execution_count": 119,
   "id": "f7789635-7790-4c37-aa00-7313009d2a66",
   "metadata": {},
   "outputs": [
    {
     "data": {
      "text/plain": [
       "torch.Size([3, 3])"
      ]
     },
     "execution_count": 119,
     "metadata": {},
     "output_type": "execute_result"
    }
   ],
   "source": [
    "b.size()  # [3, 3]"
   ]
  },
  {
   "cell_type": "code",
   "execution_count": 120,
   "id": "465ae2e1-0a80-4c1e-bf2f-c96a0c9162fb",
   "metadata": {},
   "outputs": [
    {
     "data": {
      "text/plain": [
       "(3, 1)"
      ]
     },
     "execution_count": 120,
     "metadata": {},
     "output_type": "execute_result"
    }
   ],
   "source": [
    "b.stride()  # (3, 1)"
   ]
  },
  {
   "cell_type": "code",
   "execution_count": 121,
   "id": "c635d9be-4623-4ad6-8439-25d090020c9b",
   "metadata": {},
   "outputs": [
    {
     "data": {
      "text/plain": [
       "0"
      ]
     },
     "execution_count": 121,
     "metadata": {},
     "output_type": "execute_result"
    }
   ],
   "source": [
    "b.storage_offset() # 0"
   ]
  },
  {
   "cell_type": "code",
   "execution_count": 122,
   "id": "71d7c993-8e23-4a49-bf76-d85441eab300",
   "metadata": {},
   "outputs": [
    {
     "data": {
      "text/plain": [
       "True"
      ]
     },
     "execution_count": 122,
     "metadata": {},
     "output_type": "execute_result"
    }
   ],
   "source": [
    "id(a.storage()) == id(b.storage())  # True"
   ]
  },
  {
   "cell_type": "markdown",
   "id": "8dbebfcf-8489-4a80-a508-8a638b1ebbfa",
   "metadata": {},
   "source": [
    "#### **b.** c = b[1:, 1:] 로 텐서를 만들고 사이즈, 오프셋, 스트라이드는 얼마일지 계산해보라."
   ]
  },
  {
   "cell_type": "code",
   "execution_count": 123,
   "id": "ceac91f9-4dff-4efb-9919-5af037732b3b",
   "metadata": {},
   "outputs": [
    {
     "data": {
      "text/plain": [
       "tensor([[4, 5],\n",
       "        [7, 8]])"
      ]
     },
     "execution_count": 123,
     "metadata": {},
     "output_type": "execute_result"
    }
   ],
   "source": [
    "c = b[1:, 1:]\n",
    "c"
   ]
  },
  {
   "cell_type": "code",
   "execution_count": 125,
   "id": "85728a85-08ef-44a8-848e-3f23a5758e56",
   "metadata": {},
   "outputs": [
    {
     "data": {
      "text/plain": [
       "torch.Size([2, 2])"
      ]
     },
     "execution_count": 125,
     "metadata": {},
     "output_type": "execute_result"
    }
   ],
   "source": [
    "c.size()  # [2, 2]"
   ]
  },
  {
   "cell_type": "code",
   "execution_count": 126,
   "id": "8beb5ff3-51ce-46c2-9191-53d306327a0b",
   "metadata": {},
   "outputs": [
    {
     "data": {
      "text/plain": [
       "4"
      ]
     },
     "execution_count": 126,
     "metadata": {},
     "output_type": "execute_result"
    }
   ],
   "source": [
    "c.storage_offset()  # 1 틀림 -> 4"
   ]
  },
  {
   "cell_type": "code",
   "execution_count": 127,
   "id": "9b86c77c-163f-4087-83c2-bda704bb1eea",
   "metadata": {},
   "outputs": [
    {
     "data": {
      "text/plain": [
       "(3, 1)"
      ]
     },
     "execution_count": 127,
     "metadata": {},
     "output_type": "execute_result"
    }
   ],
   "source": [
    "c.stride()  # (2, 1) 틀림 -> (3, 1)"
   ]
  },
  {
   "cell_type": "markdown",
   "id": "3007417f-1793-4ea7-99fa-5aac1f82d30b",
   "metadata": {},
   "source": [
    "### 2. 코사인이나 제곱근 같은 수학 연산을 하나 골라라. 동일한 역할을 하는 함수를 torch 라이브러리에서 찾을 수 있을까?"
   ]
  },
  {
   "cell_type": "code",
   "execution_count": 129,
   "id": "fa9da887-851a-4ee1-8496-ec09f8f45590",
   "metadata": {},
   "outputs": [
    {
     "data": {
      "text/plain": [
       "tensor(0.5403)"
      ]
     },
     "execution_count": 129,
     "metadata": {},
     "output_type": "execute_result"
    }
   ],
   "source": [
    "# 코사인\n",
    "\n",
    "torch.cos(torch.tensor(1))"
   ]
  },
  {
   "cell_type": "markdown",
   "id": "86293b6a-74b9-434e-a85b-7e2714569fa2",
   "metadata": {},
   "source": [
    "#### **a.** 텐서 a 에 대해 해당 함수를 요소 단위로 실행해보라. 왜 오류가 발생할까?"
   ]
  },
  {
   "cell_type": "code",
   "execution_count": 135,
   "id": "583a4cf7-cfae-4721-b1fc-c1cd518822ee",
   "metadata": {},
   "outputs": [],
   "source": [
    "a = list(range(9))"
   ]
  },
  {
   "cell_type": "code",
   "execution_count": 137,
   "id": "2689c9cd-eba0-416f-b931-70fe3f9a8b3a",
   "metadata": {},
   "outputs": [
    {
     "ename": "TypeError",
     "evalue": "cos(): argument 'input' (position 1) must be Tensor, not int",
     "output_type": "error",
     "traceback": [
      "\u001b[0;31m---------------------------------------------------------------------------\u001b[0m",
      "\u001b[0;31mTypeError\u001b[0m                                 Traceback (most recent call last)",
      "Cell \u001b[0;32mIn[137], line 1\u001b[0m\n\u001b[0;32m----> 1\u001b[0m \u001b[43mtorch\u001b[49m\u001b[38;5;241;43m.\u001b[39;49m\u001b[43mcos\u001b[49m\u001b[43m(\u001b[49m\u001b[43ma\u001b[49m\u001b[43m[\u001b[49m\u001b[38;5;241;43m0\u001b[39;49m\u001b[43m]\u001b[49m\u001b[43m)\u001b[49m\n",
      "\u001b[0;31mTypeError\u001b[0m: cos(): argument 'input' (position 1) must be Tensor, not int"
     ]
    }
   ],
   "source": [
    "torch.cos(a[0])"
   ]
  },
  {
   "cell_type": "code",
   "execution_count": 138,
   "id": "cba2aca8-a19a-4609-8c35-74028e3c237f",
   "metadata": {},
   "outputs": [
    {
     "data": {
      "text/plain": [
       "tensor(1.)"
      ]
     },
     "execution_count": 138,
     "metadata": {},
     "output_type": "execute_result"
    }
   ],
   "source": [
    "torch.cos(torch.tensor(a[0]))"
   ]
  },
  {
   "cell_type": "code",
   "execution_count": null,
   "id": "ad4c3909-2765-4064-9f54-274d413ff589",
   "metadata": {},
   "outputs": [],
   "source": []
  }
 ],
 "metadata": {
  "kernelspec": {
   "display_name": "python3.8",
   "language": "python",
   "name": "python3.8"
  },
  "language_info": {
   "codemirror_mode": {
    "name": "ipython",
    "version": 3
   },
   "file_extension": ".py",
   "mimetype": "text/x-python",
   "name": "python",
   "nbconvert_exporter": "python",
   "pygments_lexer": "ipython3",
   "version": "3.8.16"
  }
 },
 "nbformat": 4,
 "nbformat_minor": 5
}
