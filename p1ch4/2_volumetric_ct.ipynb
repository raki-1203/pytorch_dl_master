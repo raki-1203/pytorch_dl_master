{
 "cells": [
  {
   "cell_type": "markdown",
   "id": "777832fa-015d-407a-b9e6-93b71768c4e5",
   "metadata": {},
   "source": [
    "## 4.2 3차원 이미지: 용적 데이터"
   ]
  },
  {
   "cell_type": "markdown",
   "id": "bdbc5ee1-8a63-4ea9-8597-33338b989a56",
   "metadata": {},
   "source": [
    "### 4.2.1 특수 포맷 로딩"
   ]
  },
  {
   "cell_type": "code",
   "execution_count": 1,
   "id": "e6436099-a82d-4ab9-8388-58da1d392265",
   "metadata": {},
   "outputs": [],
   "source": [
    "import imageio"
   ]
  },
  {
   "cell_type": "code",
   "execution_count": 2,
   "id": "768006c6-cd10-41f3-8d4f-07f00a0820cf",
   "metadata": {},
   "outputs": [],
   "source": [
    "import os"
   ]
  },
  {
   "cell_type": "code",
   "execution_count": 8,
   "id": "e1bb8766-e284-4e9c-a35b-6845154b8152",
   "metadata": {},
   "outputs": [
    {
     "data": {
      "text/plain": [
       "'/data/heerak/workspace/pytorch_dl_master/data/p1ch4/volumetric-dicom/2-LUNG 3.0  B70f-04083'"
      ]
     },
     "execution_count": 8,
     "metadata": {},
     "output_type": "execute_result"
    }
   ],
   "source": [
    "dir_path = os.path.join(os.path.dirname(os.getcwd()), 'data/p1ch4/volumetric-dicom/2-LUNG 3.0  B70f-04083')\n",
    "dir_path"
   ]
  },
  {
   "cell_type": "code",
   "execution_count": 9,
   "id": "69897610-59f7-4c53-8f1e-b3887604901b",
   "metadata": {},
   "outputs": [
    {
     "name": "stdout",
     "output_type": "stream",
     "text": [
      "Reading DICOM (examining files): 1/99 files (1.0%99/99 files (100.0%)\n",
      "  Found 1 correct series.\n",
      "Reading DICOM (loading data): 99/99  (100.0%)\n"
     ]
    },
    {
     "data": {
      "text/plain": [
       "(99, 512, 512)"
      ]
     },
     "execution_count": 9,
     "metadata": {},
     "output_type": "execute_result"
    }
   ],
   "source": [
    "vol_arr = imageio.volread(dir_path, 'DICOM')\n",
    "vol_arr.shape"
   ]
  },
  {
   "cell_type": "code",
   "execution_count": 10,
   "id": "343773fa-5a0d-41c1-ab61-93ce54d7266e",
   "metadata": {},
   "outputs": [],
   "source": [
    "import torch"
   ]
  },
  {
   "cell_type": "code",
   "execution_count": 12,
   "id": "c6926d59-59ef-4e18-b2fc-1fec0d791464",
   "metadata": {},
   "outputs": [
    {
     "data": {
      "text/plain": [
       "torch.Size([1, 99, 512, 512])"
      ]
     },
     "execution_count": 12,
     "metadata": {},
     "output_type": "execute_result"
    }
   ],
   "source": [
    "# 채널 정보가 사라져서 추가\n",
    "vol = torch.from_numpy(vol_arr).float()\n",
    "vol = torch.unsqueeze(vol, 0)\n",
    "\n",
    "vol.shape"
   ]
  },
  {
   "cell_type": "code",
   "execution_count": null,
   "id": "517c13f5-a9b7-4131-800d-8421d84c0f07",
   "metadata": {},
   "outputs": [],
   "source": []
  },
  {
   "cell_type": "code",
   "execution_count": null,
   "id": "b1f34726-5e2b-48e5-958d-d41c31a4de88",
   "metadata": {},
   "outputs": [],
   "source": []
  }
 ],
 "metadata": {
  "kernelspec": {
   "display_name": "python3.8",
   "language": "python",
   "name": "python3.8"
  },
  "language_info": {
   "codemirror_mode": {
    "name": "ipython",
    "version": 3
   },
   "file_extension": ".py",
   "mimetype": "text/x-python",
   "name": "python",
   "nbconvert_exporter": "python",
   "pygments_lexer": "ipython3",
   "version": "3.8.16"
  }
 },
 "nbformat": 4,
 "nbformat_minor": 5
}
