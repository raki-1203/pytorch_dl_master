{
 "cells": [
  {
   "cell_type": "markdown",
   "id": "d45b112d-cb66-4415-b35b-694818cf6e1a",
   "metadata": {},
   "source": [
    "# Video"
   ]
  },
  {
   "cell_type": "code",
   "execution_count": 1,
   "id": "a042948c-d18c-4e5c-90fa-9bf91c61efe5",
   "metadata": {},
   "outputs": [],
   "source": [
    "import numpy as np\n",
    "import torch\n",
    "\n",
    "torch.set_printoptions(edgeitems=2, threshold=50)"
   ]
  },
  {
   "cell_type": "markdown",
   "id": "71ca632b-1bfe-4302-87d3-db805dbfeec0",
   "metadata": {},
   "source": [
    "When it comes to the shape of tensors, video data can be seen as equivalent to volumetric data, with `depth` replaced by the `time` dimension. The result is again a 5D tensor with shape `N x C x T x H x W`.\n",
    "\n",
    "Ther are several formats for video, especially geared towards compression by expliting redundancies in space and time. Luckly for us, `iamgeio` reads video data as well. Suppose we'd like to retain 100 consecutive frames in our 512 x 512 RBG video for classifying an action using a convolutional neural netowrk. We first create a reader instance for the video, that will allow us to get information about the video and iterate over the frames in time. Let's see what the meta data for the video looks like:"
   ]
  },
  {
   "cell_type": "code",
   "execution_count": 2,
   "id": "896ad9c2-e6c3-445b-ab39-9411fe302eba",
   "metadata": {},
   "outputs": [],
   "source": [
    "import imageio"
   ]
  },
  {
   "cell_type": "code",
   "execution_count": 3,
   "id": "2d3f6d68-39e9-4924-8384-64525b5ed1ce",
   "metadata": {},
   "outputs": [
    {
     "data": {
      "text/plain": [
       "{'plugin': 'ffmpeg',\n",
       " 'nframes': inf,\n",
       " 'ffmpeg_version': '4.1-static https://johnvansickle.com/ffmpeg/ built with gcc 6.3.0 (Debian 6.3.0-18+deb9u1) 20170516',\n",
       " 'codec': 'h264',\n",
       " 'pix_fmt': 'yuv444p',\n",
       " 'fps': 20.0,\n",
       " 'source_size': (1280, 720),\n",
       " 'size': (1280, 720),\n",
       " 'duration': 14.0}"
      ]
     },
     "execution_count": 3,
     "metadata": {},
     "output_type": "execute_result"
    }
   ],
   "source": [
    "reader = imageio.get_reader('../data/p1ch4/video-cockatoo/cockatoo.mp4')\n",
    "meta = reader.get_meta_data()\n",
    "meta"
   ]
  },
  {
   "cell_type": "markdown",
   "id": "f98eae40-d9fc-499f-bcbd-f2d05629b67d",
   "metadata": {},
   "source": [
    "We now have all the information to size the tensor that will store the video frames:"
   ]
  },
  {
   "cell_type": "code",
   "execution_count": 5,
   "id": "d26636b8-5ee8-44a5-b6b9-bd612ffffd73",
   "metadata": {},
   "outputs": [
    {
     "data": {
      "text/plain": [
       "torch.Size([3, 280, 1280, 720])"
      ]
     },
     "execution_count": 5,
     "metadata": {},
     "output_type": "execute_result"
    }
   ],
   "source": [
    "n_channels = 3\n",
    "# n_frames = meta['nframes']\n",
    "n_frames = 280\n",
    "video = torch.empty(n_channels, n_frames, *meta['size'])\n",
    "\n",
    "video.shape"
   ]
  },
  {
   "cell_type": "markdown",
   "id": "1a7067ae-b4d6-4cb2-b763-874d4694a857",
   "metadata": {},
   "source": [
    "Now we just iterate over the reader and set the values for all three channels into in the proper `i`-th time slice. This might take a few seconds to finish!"
   ]
  },
  {
   "cell_type": "code",
   "execution_count": 6,
   "id": "ffb67958-bdf6-4e83-a774-bfa04581f2f9",
   "metadata": {},
   "outputs": [],
   "source": [
    "for i, frame_arr in enumerate(reader):\n",
    "    frame = torch.from_numpy(frame_arr).float()\n",
    "    video[:, i] = torch.transpose(frame, 0, 2)"
   ]
  },
  {
   "cell_type": "code",
   "execution_count": 10,
   "id": "de7f1665-72f8-408d-991e-c0adecd81ea7",
   "metadata": {},
   "outputs": [
    {
     "name": "stdout",
     "output_type": "stream",
     "text": [
      "(720, 1280, 3)\n"
     ]
    }
   ],
   "source": [
    "print(next(iter(reader)).shape)"
   ]
  },
  {
   "cell_type": "markdown",
   "id": "603d99f6-46d0-46c6-80ce-b4600dbcc6e2",
   "metadata": {},
   "source": [
    "In the above, we iterate over individual frames and set each frame in the `C x T x H x W` video tensor, after transposing the channel. We can then obtain a batch by stacking multiple 4D tensors or pre-allocating a 5D tensor with a known batch size and filling it iteratively, clip by clip, assuming clips are trimmed to a fixed number of frames.\n",
    "\n",
    "Equating video data to volumetric data is not the only way to represent video for training purposes. This is a valid strategy if we deal with video bursts of fixed length. An alternative strategy is to resort to network architectures capable of processing long sequences and expliting short and long-term relationships in time, just like for text or audio. // We'll see this kind of architectures when we take on recurrent networks.\n",
    "\n",
    "This next approach accounts for time along the batch dimension. Hence, we'll build our dataset as a 4D tensor, stacking frame by frame in the batch:"
   ]
  },
  {
   "cell_type": "code",
   "execution_count": 12,
   "id": "3e6322b6-3224-4854-bfb7-a38b1c984ce8",
   "metadata": {},
   "outputs": [
    {
     "data": {
      "text/plain": [
       "torch.Size([280, 3, 1280, 720])"
      ]
     },
     "execution_count": 12,
     "metadata": {},
     "output_type": "execute_result"
    }
   ],
   "source": [
    "time_video = torch.empty(n_frames, n_channels, *meta['size'])\n",
    "\n",
    "for i, frame in enumerate(reader):\n",
    "    frame = torch.from_numpy(frame).float()\n",
    "    time_video[i] = torch.transpose(frame, 0, 2)\n",
    "    \n",
    "time_video.shape"
   ]
  },
  {
   "cell_type": "code",
   "execution_count": null,
   "id": "46fb0a2a-a75f-4392-b40b-3dc7f0ca71d9",
   "metadata": {},
   "outputs": [],
   "source": []
  }
 ],
 "metadata": {
  "kernelspec": {
   "display_name": "python3.8",
   "language": "python",
   "name": "python3.8"
  },
  "language_info": {
   "codemirror_mode": {
    "name": "ipython",
    "version": 3
   },
   "file_extension": ".py",
   "mimetype": "text/x-python",
   "name": "python",
   "nbconvert_exporter": "python",
   "pygments_lexer": "ipython3",
   "version": "3.8.16"
  }
 },
 "nbformat": 4,
 "nbformat_minor": 5
}
