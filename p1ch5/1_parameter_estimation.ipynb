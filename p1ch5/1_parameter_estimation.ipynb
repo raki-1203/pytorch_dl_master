{
 "cells": [
  {
   "cell_type": "markdown",
   "id": "e030deb8-ed33-4593-8c68-84289b1d2e52",
   "metadata": {},
   "source": [
    "### 5.2.2 데이터 수집"
   ]
  },
  {
   "cell_type": "code",
   "execution_count": 1,
   "id": "925f2c48-a1fe-4db9-a829-a82c0c547529",
   "metadata": {},
   "outputs": [],
   "source": [
    "import torch"
   ]
  },
  {
   "cell_type": "code",
   "execution_count": 2,
   "id": "d32135af-b8ad-46eb-89ef-8364afacf07f",
   "metadata": {},
   "outputs": [],
   "source": [
    "t_c = [0.5, 14.0, 15.0, 28.0, 11.0, 8.0, 3.0, -4.0, 6.0, 13.0, 21.0]\n",
    "t_u = [35.7, 55.9, 58.2, 81.9, 56.3, 48.9, 33.9, 21.8, 48.4, 60.4, 68.4]\n",
    "t_c = torch.tensor(t_c)\n",
    "t_u = torch.tensor(t_u)"
   ]
  },
  {
   "cell_type": "markdown",
   "id": "a357cbdf-49b0-4fe2-8c0e-792689e4ab05",
   "metadata": {},
   "source": [
    "### 5.2.3 데이터 시각화"
   ]
  },
  {
   "cell_type": "code",
   "execution_count": 4,
   "id": "197add48-3659-42a7-a8a6-a547e969d254",
   "metadata": {},
   "outputs": [],
   "source": [
    "import matplotlib.pyplot as plt"
   ]
  },
  {
   "cell_type": "code",
   "execution_count": 7,
   "id": "cb1820a3-a22c-4683-aa29-cc54e7ce8034",
   "metadata": {},
   "outputs": [
    {
     "data": {
      "text/plain": [
       "<matplotlib.collections.PathCollection at 0x7ff7c14b30d0>"
      ]
     },
     "execution_count": 7,
     "metadata": {},
     "output_type": "execute_result"
    },
    {
     "data": {
      "image/png": "[encoded data removed]",
      "text/plain": [
       "<Figure size 640x480 with 1 Axes>"
      ]
     },
     "metadata": {},
     "output_type": "display_data"
    }
   ],
   "source": [
    "plt.scatter(t_u, t_c)"
   ]
  },
  {
   "cell_type": "markdown",
   "id": "d8257ea2-5416-48db-8cbb-97df37a48c51",
   "metadata": {},
   "source": [
    "### 5.2.4 먼저 선형 모델을 골라 시도해보기"
   ]
  },
  {
   "cell_type": "markdown",
   "id": "22d78b89-ad0b-4644-83b9-33319b01d4d2",
   "metadata": {},
   "source": [
    "t_c = w * t_u + b"
   ]
  },
  {
   "cell_type": "markdown",
   "id": "1e1a75b4-c0e9-4502-bf86-3240af498258",
   "metadata": {},
   "source": [
    "### 5.3 손시릉ㄹ 줄이기 위한 방안"
   ]
  },
  {
   "cell_type": "markdown",
   "id": "50e40579-93b8-4484-aa1a-9aaebb03c210",
   "metadata": {},
   "source": [
    "### 5.3.1 파이토치로 문제 풀어보기"
   ]
  },
  {
   "cell_type": "code",
   "execution_count": 8,
   "id": "51f7ee02-c8aa-467d-9b48-9e31a2c4cff4",
   "metadata": {},
   "outputs": [],
   "source": [
    "def model(t_u, w, b):\n",
    "    return w * t_u + b"
   ]
  },
  {
   "cell_type": "code",
   "execution_count": 9,
   "id": "45daa775-87c4-40fb-9a47-a5a377eb0757",
   "metadata": {},
   "outputs": [],
   "source": [
    "def loss_fn(t_p, t_c):\n",
    "    squared_diffs = (t_p - t_c)**2\n",
    "    return squared_diffs.mean()"
   ]
  },
  {
   "cell_type": "code",
   "execution_count": 10,
   "id": "cff60a84-5a40-4c4e-b773-eca3540b44be",
   "metadata": {},
   "outputs": [
    {
     "data": {
      "text/plain": [
       "tensor([35.7000, 55.9000, 58.2000, 81.9000, 56.3000, 48.9000, 33.9000, 21.8000,\n",
       "        48.4000, 60.4000, 68.4000])"
      ]
     },
     "execution_count": 10,
     "metadata": {},
     "output_type": "execute_result"
    }
   ],
   "source": [
    "w = torch.ones(())\n",
    "b = torch.zeros(())\n",
    "\n",
    "t_p = model(t_u, w, b)\n",
    "t_p"
   ]
  },
  {
   "cell_type": "code",
   "execution_count": 11,
   "id": "efa8f6b9-c66c-4061-a769-3d5b9963981e",
   "metadata": {},
   "outputs": [
    {
     "data": {
      "text/plain": [
       "tensor(1763.8848)"
      ]
     },
     "execution_count": 11,
     "metadata": {},
     "output_type": "execute_result"
    }
   ],
   "source": [
    "loss = loss_fn(t_p, t_c)\n",
    "loss"
   ]
  },
  {
   "cell_type": "markdown",
   "id": "f7cf54ae-f76e-4816-ae5b-3a6264da1ea9",
   "metadata": {},
   "source": [
    "#### 브로드캐스팅"
   ]
  },
  {
   "cell_type": "code",
   "execution_count": 16,
   "id": "ce904b96-ecad-4575-9bc5-04fbbec3328e",
   "metadata": {},
   "outputs": [
    {
     "name": "stdout",
     "output_type": "stream",
     "text": [
      "shapes: x: torch.Size([]), y: torch.Size([3, 1])\n",
      "        z: torch.Size([1, 3]), a: torch.Size([2, 1, 1])\n",
      "x * y: torch.Size([3, 1])\n",
      "y * z: torch.Size([3, 3])\n",
      "y * z * a: torch.Size([2, 3, 3])\n"
     ]
    }
   ],
   "source": [
    "x = torch.ones(())\n",
    "y = torch.ones(3, 1)\n",
    "z = torch.ones(1, 3)\n",
    "a = torch.ones(2, 1, 1)\n",
    "\n",
    "print(f'shapes: x: {x.shape}, y: {y.shape}')\n",
    "print(f'        z: {z.shape}, a: {a.shape}')\n",
    "\n",
    "print('x * y:', (x * y).shape)\n",
    "print('y * z:', (y * z).shape)\n",
    "print('y * z * a:', (y * z * a).shape)"
   ]
  },
  {
   "cell_type": "markdown",
   "id": "27d8054e-7069-41a3-8c58-7e6743479bb5",
   "metadata": {},
   "source": [
    "## 5.4 경사를 따라 내려가기"
   ]
  },
  {
   "cell_type": "markdown",
   "id": "723f4b65-ed7b-4660-b60a-194fc64700b5",
   "metadata": {},
   "source": [
    "### 5.4.1 손실 줄이기"
   ]
  },
  {
   "cell_type": "code",
   "execution_count": 20,
   "id": "248c5fa2-c0e0-4c86-9477-989d2083308d",
   "metadata": {},
   "outputs": [
    {
     "data": {
      "text/plain": [
       "tensor(4517.2974)"
      ]
     },
     "execution_count": 20,
     "metadata": {},
     "output_type": "execute_result"
    }
   ],
   "source": [
    "delta = 0.1\n",
    "\n",
    "loss_rate_of_change_w = (loss_fn(model(t_u, w + delta, b), t_c) - loss_fn(model(t_u, w - delta, b), t_c)) / (2.0 * delta)\n",
    "loss_rate_of_change_w"
   ]
  },
  {
   "cell_type": "code",
   "execution_count": 21,
   "id": "d9aeba69-874a-4cae-ac99-1bdc5cdd3090",
   "metadata": {},
   "outputs": [
    {
     "data": {
      "text/plain": [
       "tensor(-44.1730)"
      ]
     },
     "execution_count": 21,
     "metadata": {},
     "output_type": "execute_result"
    }
   ],
   "source": [
    "learning_rate = 1e-2\n",
    "\n",
    "w = w - learning_rate * loss_rate_of_change_w\n",
    "w"
   ]
  },
  {
   "cell_type": "code",
   "execution_count": 24,
   "id": "f45aab4d-f95b-4dd2-8b4a-6cd8df1613ff",
   "metadata": {},
   "outputs": [
    {
     "data": {
      "text/plain": [
       "tensor(231975.1875)"
      ]
     },
     "execution_count": 24,
     "metadata": {},
     "output_type": "execute_result"
    }
   ],
   "source": [
    "loss_rate_of_change_b = (loss_fn(model(t_u, w, b + delta), t_c) - (loss_fn(model(t_u, w, b - delta), t_c)) / (2.0 * delta))\n",
    "\n",
    "b = b - learning_rate * loss_rate_of_change_b\n",
    "b"
   ]
  },
  {
   "cell_type": "markdown",
   "id": "4970b2b5-9d55-41a0-8dc4-5dc30c27682d",
   "metadata": {},
   "source": [
    "### 5.4.2 분석"
   ]
  },
  {
   "cell_type": "markdown",
   "id": "362c0835-b8eb-40b5-9699-f889336bad84",
   "metadata": {},
   "source": [
    "#### 미분 계산하기\n",
    "\n",
    "`d loss_fn / d w = (d loss_fn / d t_p) * (d t_p / d w)`"
   ]
  },
  {
   "cell_type": "code",
   "execution_count": 25,
   "id": "492816d1-8887-4068-ae49-1b93a17e548c",
   "metadata": {},
   "outputs": [],
   "source": [
    "def loss_fn(t_p, t_c):\n",
    "    squared_diffs = (t_p - t_c)**2\n",
    "    return squared_diffs.mean()"
   ]
  },
  {
   "cell_type": "markdown",
   "id": "281b441c-3d05-40f1-92d7-c1f01b984683",
   "metadata": {},
   "source": [
    "`d x^2 / d x = 2 x`"
   ]
  },
  {
   "cell_type": "code",
   "execution_count": 26,
   "id": "ae1890ab-23c9-4f1c-9af4-7335481559bc",
   "metadata": {},
   "outputs": [],
   "source": [
    "def dloss_fn(t_p, t_c):\n",
    "    dsq_diffs = 2 * (t_p - t_c) / t_p.size(0)  # 평균의 도함수로 나눔\n",
    "    return dsq_diffs"
   ]
  },
  {
   "cell_type": "markdown",
   "id": "a1caabd2-52f1-452e-b2de-17342db66a46",
   "metadata": {},
   "source": [
    "#### 모델에 미분 적용하기"
   ]
  },
  {
   "cell_type": "code",
   "execution_count": 27,
   "id": "26534fa9-6e22-404c-a589-ea649dc7a8c0",
   "metadata": {},
   "outputs": [],
   "source": [
    "def model(t_u, w, b):\n",
    "    return w * t_u + b"
   ]
  },
  {
   "cell_type": "code",
   "execution_count": 28,
   "id": "0b1e5f7d-3b2c-4e26-a0e8-09a381666aef",
   "metadata": {},
   "outputs": [],
   "source": [
    "def dmodel_dw(t_u, w, b):\n",
    "    return t_u"
   ]
  },
  {
   "cell_type": "code",
   "execution_count": 30,
   "id": "5edf03e2-9de9-4d29-9c75-f883560119db",
   "metadata": {},
   "outputs": [],
   "source": [
    "def dmodel_db(t_u, w, b):\n",
    "    return 1.0"
   ]
  },
  {
   "cell_type": "markdown",
   "id": "eb276876-08f8-46ec-81e1-7b37ed7573a6",
   "metadata": {},
   "source": [
    "#### 경사 함수 정의하기"
   ]
  },
  {
   "cell_type": "code",
   "execution_count": 31,
   "id": "f733dddd-cc43-49e7-9fc9-708252887faa",
   "metadata": {},
   "outputs": [],
   "source": [
    "def grad_fn(t_u, t_c, t_p, w, b):\n",
    "    dloss_dtp = dloss_fn(t_p, t_c)\n",
    "    dloss_dw = dloss_dtp * dmodel_dw(t_u, w, b)\n",
    "    dloss_db = dloss_dtp * dmodel_db(t_u, w, b)\n",
    "    return torch.stack([dloss_dw.sum(), dloss_db.sum()])"
   ]
  },
  {
   "cell_type": "markdown",
   "id": "a727168b-371a-4d9d-ab3e-08bec9f69022",
   "metadata": {},
   "source": [
    "### 5.4.3 모델 적합을 위한 반복"
   ]
  },
  {
   "cell_type": "markdown",
   "id": "e05b9e33-4f64-43e0-ba4f-4e572522cd76",
   "metadata": {},
   "source": [
    "#### 훈련 루프"
   ]
  },
  {
   "cell_type": "code",
   "execution_count": 76,
   "id": "514dd9f9-d0b6-4766-b42a-8592d024adfb",
   "metadata": {},
   "outputs": [],
   "source": [
    "def training_loop(n_epochs, learning_rate, params, t_u, t_c, print_params=True):\n",
    "    for epoch in range(1, n_epochs + 1):\n",
    "        w, b = params\n",
    "\n",
    "        t_p = model(t_u, w, b)\n",
    "        loss = loss_fn(t_p, t_c)\n",
    "        grad = grad_fn(t_u, t_c, t_p, w, b)\n",
    "\n",
    "        params = params - learning_rate * grad\n",
    "\n",
    "        if epoch in {1, 2, 3, 10, 11, 99, 100, 4000, 5000}:\n",
    "            print('Epoch %d, Loss %f' % (epoch, float(loss)))\n",
    "            if print_params:\n",
    "                print('    Params:', params)\n",
    "                print('    Grad:  ', grad)\n",
    "        if epoch in {4, 12, 101}:\n",
    "            print('...')\n",
    "            \n",
    "        if not torch.isfinite(loss).all():\n",
    "            break\n",
    "    \n",
    "    return params"
   ]
  },
  {
   "cell_type": "code",
   "execution_count": 77,
   "id": "64890aac-57cf-4644-a4de-ed908f27573e",
   "metadata": {},
   "outputs": [
    {
     "name": "stdout",
     "output_type": "stream",
     "text": [
      "Epoch 1, Loss 1763.884766\n",
      "    Params: tensor([-44.1730,  -0.8260])\n",
      "    Grad:   tensor([4517.2964,   82.6000])\n",
      "Epoch 2, Loss 5802484.500000\n",
      "    Params: tensor([2568.4011,   45.1637])\n",
      "    Grad:   tensor([-261257.4062,   -4598.9702])\n",
      "Epoch 3, Loss 19408029696.000000\n",
      "    Params: tensor([-148527.7344,   -2616.3931])\n",
      "    Grad:   tensor([15109614.0000,   266155.6875])\n",
      "...\n",
      "Epoch 10, Loss 90901105189019073810297959556841472.000000\n",
      "    Params: tensor([3.2144e+17, 5.6621e+15])\n",
      "    Grad:   tensor([-3.2700e+19, -5.7600e+17])\n",
      "Epoch 11, Loss inf\n",
      "    Params: tensor([-1.8590e+19, -3.2746e+17])\n",
      "    Grad:   tensor([1.8912e+21, 3.3313e+19])\n"
     ]
    },
    {
     "data": {
      "text/plain": [
       "tensor([-1.8590e+19, -3.2746e+17])"
      ]
     },
     "execution_count": 77,
     "metadata": {},
     "output_type": "execute_result"
    }
   ],
   "source": [
    "training_loop(\n",
    "    n_epochs=100,\n",
    "    learning_rate=1e-2,\n",
    "    params=torch.tensor([1.0, 0.0]),\n",
    "    t_u=t_u,\n",
    "    t_c=t_c,\n",
    ")"
   ]
  },
  {
   "cell_type": "markdown",
   "id": "a7a74d11-283e-4861-b604-badd8957d54a",
   "metadata": {},
   "source": [
    "#### 과도한 훈련"
   ]
  },
  {
   "cell_type": "code",
   "execution_count": 78,
   "id": "154bf9c5-0675-4d27-966a-07962a942700",
   "metadata": {},
   "outputs": [
    {
     "name": "stdout",
     "output_type": "stream",
     "text": [
      "Epoch 1, Loss 1763.884766\n",
      "    Params: tensor([ 0.5483, -0.0083])\n",
      "    Grad:   tensor([4517.2964,   82.6000])\n",
      "Epoch 2, Loss 323.090515\n",
      "    Params: tensor([ 0.3623, -0.0118])\n",
      "    Grad:   tensor([1859.5493,   35.7843])\n",
      "Epoch 3, Loss 78.929634\n",
      "    Params: tensor([ 0.2858, -0.0135])\n",
      "    Grad:   tensor([765.4666,  16.5122])\n",
      "...\n",
      "Epoch 10, Loss 29.105247\n",
      "    Params: tensor([ 0.2324, -0.0166])\n",
      "    Grad:   tensor([1.4803, 3.0544])\n",
      "Epoch 11, Loss 29.104168\n",
      "    Params: tensor([ 0.2323, -0.0169])\n",
      "    Grad:   tensor([0.5781, 3.0384])\n",
      "...\n",
      "Epoch 99, Loss 29.023582\n",
      "    Params: tensor([ 0.2327, -0.0435])\n",
      "    Grad:   tensor([-0.0533,  3.0226])\n",
      "Epoch 100, Loss 29.022667\n",
      "    Params: tensor([ 0.2327, -0.0438])\n",
      "    Grad:   tensor([-0.0532,  3.0226])\n"
     ]
    },
    {
     "data": {
      "text/plain": [
       "tensor([ 0.2327, -0.0438])"
      ]
     },
     "execution_count": 78,
     "metadata": {},
     "output_type": "execute_result"
    }
   ],
   "source": [
    "training_loop(\n",
    "    n_epochs=100,\n",
    "    learning_rate=1e-4,\n",
    "    params=torch.tensor([1.0, 0.0]),\n",
    "    t_u=t_u,\n",
    "    t_c=t_c,\n",
    ")"
   ]
  },
  {
   "cell_type": "markdown",
   "id": "233d9a28-eab5-4c7e-b2f0-56699350573f",
   "metadata": {},
   "source": [
    "### 5.4.4 입력 정규화"
   ]
  },
  {
   "cell_type": "code",
   "execution_count": 79,
   "id": "2cd26cb0-3542-42b0-ad53-13c9a98522ad",
   "metadata": {},
   "outputs": [],
   "source": [
    "t_un = 0.1 * t_u"
   ]
  },
  {
   "cell_type": "code",
   "execution_count": 80,
   "id": "26f4b2c7-a3ec-4bbf-a0c0-41a2236ee85f",
   "metadata": {},
   "outputs": [
    {
     "name": "stdout",
     "output_type": "stream",
     "text": [
      "Epoch 1, Loss 80.364342\n",
      "    Params: tensor([1.7761, 0.1064])\n",
      "    Grad:   tensor([-77.6140, -10.6400])\n",
      "Epoch 2, Loss 37.574913\n",
      "    Params: tensor([2.0848, 0.1303])\n",
      "    Grad:   tensor([-30.8623,  -2.3864])\n",
      "Epoch 3, Loss 30.871077\n",
      "    Params: tensor([2.2094, 0.1217])\n",
      "    Grad:   tensor([-12.4631,   0.8587])\n",
      "...\n",
      "Epoch 10, Loss 29.030489\n",
      "    Params: tensor([ 2.3232, -0.0710])\n",
      "    Grad:   tensor([-0.5355,  2.9295])\n",
      "Epoch 11, Loss 28.941877\n",
      "    Params: tensor([ 2.3284, -0.1003])\n",
      "    Grad:   tensor([-0.5240,  2.9264])\n",
      "...\n",
      "Epoch 99, Loss 22.214186\n",
      "    Params: tensor([ 2.7508, -2.4910])\n",
      "    Grad:   tensor([-0.4453,  2.5208])\n",
      "Epoch 100, Loss 22.148710\n",
      "    Params: tensor([ 2.7553, -2.5162])\n",
      "    Grad:   tensor([-0.4446,  2.5165])\n"
     ]
    },
    {
     "data": {
      "text/plain": [
       "tensor([ 2.7553, -2.5162])"
      ]
     },
     "execution_count": 80,
     "metadata": {},
     "output_type": "execute_result"
    }
   ],
   "source": [
    "training_loop(\n",
    "    n_epochs=100,\n",
    "    learning_rate=1e-2,\n",
    "    params=torch.tensor([1.0, 0.0]),\n",
    "    t_u=t_un,\n",
    "    t_c=t_c,\n",
    ")"
   ]
  },
  {
   "cell_type": "code",
   "execution_count": 82,
   "id": "cab1c9d6-6915-4f2b-8704-0374b353de1b",
   "metadata": {},
   "outputs": [
    {
     "name": "stdout",
     "output_type": "stream",
     "text": [
      "Epoch 1, Loss 80.364342\n",
      "Epoch 2, Loss 37.574913\n",
      "Epoch 3, Loss 30.871077\n",
      "...\n",
      "Epoch 10, Loss 29.030489\n",
      "Epoch 11, Loss 28.941877\n",
      "...\n",
      "Epoch 99, Loss 22.214186\n",
      "Epoch 100, Loss 22.148710\n",
      "...\n",
      "Epoch 4000, Loss 2.927680\n",
      "Epoch 5000, Loss 2.927648\n"
     ]
    },
    {
     "data": {
      "text/plain": [
       "tensor([  5.3671, -17.3012])"
      ]
     },
     "execution_count": 82,
     "metadata": {},
     "output_type": "execute_result"
    }
   ],
   "source": [
    "params = training_loop(\n",
    "    n_epochs=5000,\n",
    "    learning_rate=1e-2,\n",
    "    params=torch.tensor([1.0, 0.0]),\n",
    "    t_u=t_un,\n",
    "    t_c=t_c,\n",
    "    print_params=False,\n",
    ")\n",
    "\n",
    "params"
   ]
  },
  {
   "cell_type": "markdown",
   "id": "e1d7f633-d56d-4f80-8bf8-c786a3643a67",
   "metadata": {},
   "source": [
    "### 5.4.5 (다시 해보는) 시각화"
   ]
  },
  {
   "cell_type": "code",
   "execution_count": 90,
   "id": "805a7508-e700-42fd-bc02-06e64c847bdc",
   "metadata": {},
   "outputs": [
    {
     "data": {
      "image/png": "[encoded data removed]",
      "text/plain": [
       "<Figure size 500x500 with 1 Axes>"
      ]
     },
     "metadata": {},
     "output_type": "display_data"
    }
   ],
   "source": [
    "t_p = model(t_un, *params)\n",
    "\n",
    "fig = plt.figure(figsize=(5, 5))\n",
    "plt.xlabel('Temperature (°Fahrenheit)')\n",
    "plt.ylabel('Temperature (°Celsius)')\n",
    "plt.plot(t_u.numpy(), t_p.detach().numpy())\n",
    "plt.plot(t_u.numpy(), t_c.numpy(), 'o')\n",
    "\n",
    "plt.show()"
   ]
  },
  {
   "cell_type": "code",
   "execution_count": null,
   "id": "8842f253-1aa1-49ad-982f-e3e26ecb9769",
   "metadata": {},
   "outputs": [],
   "source": []
  }
 ],
 "metadata": {
  "kernelspec": {
   "display_name": "python3.8",
   "language": "python",
   "name": "python3.8"
  },
  "language_info": {
   "codemirror_mode": {
    "name": "ipython",
    "version": 3
   },
   "file_extension": ".py",
   "mimetype": "text/x-python",
   "name": "python",
   "nbconvert_exporter": "python",
   "pygments_lexer": "ipython3",
   "version": "3.8.16"
  }
 },
 "nbformat": 4,
 "nbformat_minor": 5
}
