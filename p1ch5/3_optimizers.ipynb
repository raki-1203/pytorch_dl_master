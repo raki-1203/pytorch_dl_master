{
 "cells": [
  {
   "cell_type": "markdown",
   "id": "ccf9acea-c67e-4355-b5bd-05e8e81f6715",
   "metadata": {},
   "source": [
    "### 5.5.2 골라쓰는 옵티마이저"
   ]
  },
  {
   "cell_type": "code",
   "execution_count": 1,
   "id": "cbd71951-0a32-4bc2-aa0a-6b9a3e51d873",
   "metadata": {},
   "outputs": [],
   "source": [
    "import torch.optim as optim"
   ]
  },
  {
   "cell_type": "code",
   "execution_count": 2,
   "id": "58d08c44-9a10-4796-a73e-ff1a5165c9bf",
   "metadata": {},
   "outputs": [
    {
     "data": {
      "text/plain": [
       "['ASGD',\n",
       " 'Adadelta',\n",
       " 'Adagrad',\n",
       " 'Adam',\n",
       " 'AdamW',\n",
       " 'Adamax',\n",
       " 'LBFGS',\n",
       " 'NAdam',\n",
       " 'Optimizer',\n",
       " 'RAdam',\n",
       " 'RMSprop',\n",
       " 'Rprop',\n",
       " 'SGD',\n",
       " 'SparseAdam',\n",
       " '__builtins__',\n",
       " '__cached__',\n",
       " '__doc__',\n",
       " '__file__',\n",
       " '__loader__',\n",
       " '__name__',\n",
       " '__package__',\n",
       " '__path__',\n",
       " '__spec__',\n",
       " '_functional',\n",
       " '_multi_tensor',\n",
       " 'lr_scheduler',\n",
       " 'swa_utils']"
      ]
     },
     "execution_count": 2,
     "metadata": {},
     "output_type": "execute_result"
    }
   ],
   "source": [
    "dir(optim)"
   ]
  },
  {
   "cell_type": "markdown",
   "id": "219b9d72-11e0-43aa-911e-88f1ebc48b2a",
   "metadata": {},
   "source": [
    "#### 경사 하강 옵티마이저 사용하기"
   ]
  },
  {
   "cell_type": "code",
   "execution_count": 4,
   "id": "1214695e-dc39-47cb-9d9c-ea74944e1096",
   "metadata": {},
   "outputs": [],
   "source": [
    "import torch"
   ]
  },
  {
   "cell_type": "code",
   "execution_count": 5,
   "id": "7a7d5aca-cb77-418e-a915-56924a55e2b1",
   "metadata": {},
   "outputs": [],
   "source": [
    "params = torch.tensor([1.0, 0.0], requires_grad=True)\n",
    "learning_rate=1e-5\n",
    "optimizer = optim.SGD([params], lr=learning_rate)"
   ]
  },
  {
   "cell_type": "code",
   "execution_count": 6,
   "id": "95d90b00-15d0-4da7-8051-631cc549e51d",
   "metadata": {},
   "outputs": [],
   "source": [
    "t_c = [0.5, 14.0, 15.0, 28.0, 11.0, 8.0, 3.0, -4.0, 6.0, 13.0, 21.0]\n",
    "t_u = [35.7, 55.9, 58.2, 81.9, 56.3, 48.9, 33.9, 21.8, 48.4, 60.4, 68.4]\n",
    "t_c = torch.tensor(t_c)\n",
    "t_u = torch.tensor(t_u)"
   ]
  },
  {
   "cell_type": "code",
   "execution_count": 7,
   "id": "f288e073-691a-4b33-a4c3-e01934c14627",
   "metadata": {},
   "outputs": [],
   "source": [
    "def model(t_u, w, b):\n",
    "    return w * t_u + b"
   ]
  },
  {
   "cell_type": "code",
   "execution_count": 8,
   "id": "21f8d69f-37a4-40e9-ba36-0b06953d0628",
   "metadata": {},
   "outputs": [],
   "source": [
    "def loss_fn(t_p, t_c):\n",
    "    squared_diffs = (t_p - t_c)**2\n",
    "    return squared_diffs.mean()"
   ]
  },
  {
   "cell_type": "code",
   "execution_count": 9,
   "id": "f7914372-0882-401c-a01f-2c3085b1c163",
   "metadata": {},
   "outputs": [],
   "source": [
    "t_p = model(t_u, *params)\n",
    "loss = loss_fn(t_p, t_c)\n",
    "loss.backward()"
   ]
  },
  {
   "cell_type": "code",
   "execution_count": 10,
   "id": "0984d6c5-7665-4747-8fdf-3aa52214bbb3",
   "metadata": {},
   "outputs": [
    {
     "data": {
      "text/plain": [
       "tensor([ 9.5483e-01, -8.2600e-04], requires_grad=True)"
      ]
     },
     "execution_count": 10,
     "metadata": {},
     "output_type": "execute_result"
    }
   ],
   "source": [
    "optimizer.step()\n",
    "\n",
    "params"
   ]
  },
  {
   "cell_type": "code",
   "execution_count": 11,
   "id": "6e4f66aa-f970-4a11-9372-cd27dff59260",
   "metadata": {},
   "outputs": [],
   "source": [
    "t_un = 0.1 * t_u"
   ]
  },
  {
   "cell_type": "code",
   "execution_count": 12,
   "id": "bd884b3a-03d1-4d69-a510-7fc3bb5598cf",
   "metadata": {},
   "outputs": [
    {
     "data": {
      "text/plain": [
       "tensor([1.7761, 0.1064], requires_grad=True)"
      ]
     },
     "execution_count": 12,
     "metadata": {},
     "output_type": "execute_result"
    }
   ],
   "source": [
    "params = torch.tensor([1.0, 0.0], requires_grad=True)\n",
    "learning_rate = 1e-2\n",
    "optimizer = optim.SGD([params], lr=learning_rate)\n",
    "\n",
    "t_p = model(t_un, *params)\n",
    "loss = loss_fn(t_p, t_c)\n",
    "\n",
    "optimizer.zero_grad()\n",
    "loss.backward()\n",
    "optimizer.step()\n",
    "\n",
    "params"
   ]
  },
  {
   "cell_type": "code",
   "execution_count": 13,
   "id": "1497eb26-7b35-402f-8869-fd144dba7b55",
   "metadata": {},
   "outputs": [],
   "source": [
    "def training_loop(n_epochs, optimizer, params, t_u, t_c):\n",
    "    for epoch in range(1, n_epochs + 1):\n",
    "        t_p = model(t_u, *params)\n",
    "        loss = loss_fn(t_p, t_c)\n",
    "        \n",
    "        optimizer.zero_grad()\n",
    "        loss.backward()\n",
    "        optimizer.step()\n",
    "        \n",
    "        if epoch % 500 == 0:\n",
    "            print('Epoch %d, Loss %f' % (epoch, float(loss)))\n",
    "            \n",
    "    return params"
   ]
  },
  {
   "cell_type": "code",
   "execution_count": 14,
   "id": "b2b75730-698e-4482-9d78-f3c63bf4b825",
   "metadata": {},
   "outputs": [
    {
     "name": "stdout",
     "output_type": "stream",
     "text": [
      "Epoch 500, Loss 7.860120\n",
      "Epoch 1000, Loss 3.828538\n",
      "Epoch 1500, Loss 3.092191\n",
      "Epoch 2000, Loss 2.957698\n",
      "Epoch 2500, Loss 2.933134\n",
      "Epoch 3000, Loss 2.928648\n",
      "Epoch 3500, Loss 2.927830\n",
      "Epoch 4000, Loss 2.927679\n",
      "Epoch 4500, Loss 2.927652\n",
      "Epoch 5000, Loss 2.927647\n"
     ]
    },
    {
     "data": {
      "text/plain": [
       "tensor([  5.3671, -17.3012], requires_grad=True)"
      ]
     },
     "execution_count": 14,
     "metadata": {},
     "output_type": "execute_result"
    }
   ],
   "source": [
    "params = torch.tensor([1.0, 0.0], requires_grad=True)\n",
    "learning_rate = 1e-2\n",
    "optimizer = optim.SGD([params], lr=learning_rate)\n",
    "\n",
    "training_loop(\n",
    "    n_epochs=5000,\n",
    "    optimizer=optimizer,\n",
    "    params=params,\n",
    "    t_u=t_un,\n",
    "    t_c=t_c,\n",
    ")"
   ]
  },
  {
   "cell_type": "markdown",
   "id": "a7a606cb-351f-4589-b0e7-a16888adf300",
   "metadata": {},
   "source": [
    "#### 다른 옵티마이저 테스트하기"
   ]
  },
  {
   "cell_type": "code",
   "execution_count": 16,
   "id": "a5b81b28-86f2-4882-8da8-2ec172a43115",
   "metadata": {},
   "outputs": [
    {
     "name": "stdout",
     "output_type": "stream",
     "text": [
      "Epoch 500, Loss 7.612900\n",
      "Epoch 1000, Loss 3.086700\n",
      "Epoch 1500, Loss 2.928579\n",
      "Epoch 2000, Loss 2.927644\n"
     ]
    },
    {
     "data": {
      "text/plain": [
       "tensor([  0.5367, -17.3021], requires_grad=True)"
      ]
     },
     "execution_count": 16,
     "metadata": {},
     "output_type": "execute_result"
    }
   ],
   "source": [
    "params = torch.tensor([1.0, 0.0], requires_grad=True)\n",
    "learning_rate = 1e-1\n",
    "optimizer = optim.Adam([params], lr=learning_rate)\n",
    "\n",
    "training_loop(\n",
    "    n_epochs=2000,\n",
    "    optimizer=optimizer,\n",
    "    params=params,\n",
    "    t_u=t_u,\n",
    "    t_c=t_c,\n",
    ")"
   ]
  },
  {
   "cell_type": "markdown",
   "id": "009b811c-769c-4748-9d55-8675c2acd147",
   "metadata": {},
   "source": [
    "### 5.5.3 훈련, 검증, 과적합"
   ]
  },
  {
   "cell_type": "markdown",
   "id": "64884231-b3ee-4057-88c4-09fb148dc917",
   "metadata": {},
   "source": [
    "#### 훈련 손실 평가하기"
   ]
  },
  {
   "cell_type": "markdown",
   "id": "ecf8b6c8-0775-4595-b5a2-614561f34f51",
   "metadata": {},
   "source": [
    "#### 검증셋으로 일반화하기"
   ]
  },
  {
   "cell_type": "markdown",
   "id": "ff20a97a-70b9-43aa-9bba-f3e1f1da5ffc",
   "metadata": {},
   "source": [
    "#### 데이터셋 나누기"
   ]
  },
  {
   "cell_type": "code",
   "execution_count": 19,
   "id": "7335aa2e-6726-4294-aaf8-bc06ee5700e5",
   "metadata": {},
   "outputs": [
    {
     "data": {
      "text/plain": [
       "(tensor([ 7, 10,  2,  0,  3,  1,  6,  4,  8]), tensor([9, 5]))"
      ]
     },
     "execution_count": 19,
     "metadata": {},
     "output_type": "execute_result"
    }
   ],
   "source": [
    "n_samples = t_u.shape[0]\n",
    "n_val = int(0.2 * n_samples)\n",
    "\n",
    "shuffled_indices = torch.randperm(n_samples)\n",
    "\n",
    "train_indices = shuffled_indices[:-n_val]\n",
    "val_indices = shuffled_indices[-n_val:]\n",
    "\n",
    "train_indices, val_indices"
   ]
  },
  {
   "cell_type": "code",
   "execution_count": 20,
   "id": "372b1202-5a68-4674-b73c-118bb63d104e",
   "metadata": {},
   "outputs": [],
   "source": [
    "train_t_u = t_u[train_indices]\n",
    "train_t_c = t_c[train_indices]\n",
    "\n",
    "val_t_u = t_u[val_indices]\n",
    "val_t_c = t_c[val_indices]\n",
    "\n",
    "train_t_un = 0.1 * train_t_u\n",
    "val_t_un = 0.1 * val_t_u"
   ]
  },
  {
   "cell_type": "code",
   "execution_count": 23,
   "id": "750eef55-c127-4a19-a3c4-66e3c5a96a8e",
   "metadata": {},
   "outputs": [],
   "source": [
    "def training_loop(n_epochs, optimizer, params, train_t_u, val_t_u, train_t_c, val_t_c):\n",
    "    for epoch in range(1, n_epochs + 1):\n",
    "        train_t_p = model(train_t_u, *params)\n",
    "        train_loss = loss_fn(train_t_p, train_t_c)\n",
    "        \n",
    "        val_t_p = model(val_t_u, *params)\n",
    "        val_loss = loss_fn(val_t_p, val_t_c)\n",
    "        \n",
    "        optimizer.zero_grad()\n",
    "        train_loss.backward()\n",
    "        optimizer.step()\n",
    "        \n",
    "        if epoch <= 3 or epoch % 500 == 0:\n",
    "            print(f'Epoch {epoch}, Training loss {train_loss.item():.4f},'\n",
    "                  f'Validation loss {val_loss.item():.4f}')\n",
    "    \n",
    "    return params"
   ]
  },
  {
   "cell_type": "code",
   "execution_count": 24,
   "id": "c062c5ec-bf62-406f-840b-7e3d16e1b2a4",
   "metadata": {},
   "outputs": [
    {
     "name": "stdout",
     "output_type": "stream",
     "text": [
      "Epoch 1, Training loss 91.7660,Validation loss 29.0568\n",
      "Epoch 2, Training loss 43.7766,Validation loss 2.3025\n",
      "Epoch 3, Training loss 36.0900,Validation loss 3.5195\n",
      "Epoch 500, Training loss 7.0920,Validation loss 4.6118\n",
      "Epoch 1000, Training loss 3.4116,Validation loss 4.0901\n",
      "Epoch 1500, Training loss 2.9273,Validation loss 3.9970\n",
      "Epoch 2000, Training loss 2.8636,Validation loss 3.9759\n",
      "Epoch 2500, Training loss 2.8552,Validation loss 3.9700\n",
      "Epoch 3000, Training loss 2.8541,Validation loss 3.9680\n"
     ]
    },
    {
     "data": {
      "text/plain": [
       "tensor([  5.4240, -17.2490], requires_grad=True)"
      ]
     },
     "execution_count": 24,
     "metadata": {},
     "output_type": "execute_result"
    }
   ],
   "source": [
    "params = torch.tensor([1.0, 0.0], requires_grad=True)\n",
    "learning_rate = 1e-2\n",
    "optimizer = optim.SGD([params], lr=learning_rate)\n",
    "\n",
    "training_loop(\n",
    "    n_epochs=3000,\n",
    "    optimizer=optimizer,\n",
    "    params=params,\n",
    "    train_t_u=train_t_un,\n",
    "    val_t_u=val_t_un,\n",
    "    train_t_c=train_t_c,\n",
    "    val_t_c=val_t_c,\n",
    ")"
   ]
  },
  {
   "cell_type": "markdown",
   "id": "a4f5ac60-c43e-4c76-b490-45dd674d49a9",
   "metadata": {},
   "source": [
    "### 5.5.4 자동미분의 주의사항과 자동미분 끄기"
   ]
  },
  {
   "cell_type": "code",
   "execution_count": 25,
   "id": "02270213-15aa-41e7-83b2-87c06716cb2a",
   "metadata": {},
   "outputs": [],
   "source": [
    "def training_loop(n_epochs, optimizer, params, train_t_u, val_t_u, train_t_c, val_t_c):\n",
    "    for epoch in range(1, n_epochs + 1):\n",
    "        train_t_p = model(train_t_u, *params)\n",
    "        train_loss = loss_fn(train_t_p, train_t_c)\n",
    "        \n",
    "        with torch.no_grad():\n",
    "            val_t_p = model(val_t_u, *params)\n",
    "            val_loss = loss_fn(val_t_p, val_t_c)\n",
    "            assert val_loss.requires_grad == False\n",
    "        \n",
    "        optimizer.zero_grad()\n",
    "        train_loss.backward()\n",
    "        optimizer.step()\n",
    "        \n",
    "        if epoch <= 3 or epoch % 500 == 0:\n",
    "            print(f'Epoch {epoch}, Training loss {train_loss.item():.4f},'\n",
    "                  f'Validation loss {val_loss.item():.4f}')\n",
    "    \n",
    "    return params"
   ]
  },
  {
   "cell_type": "code",
   "execution_count": 26,
   "id": "cdd48961-e84c-4844-89cc-665ecfc5d5da",
   "metadata": {},
   "outputs": [],
   "source": [
    "def cal_forward(t_u, t_c, is_train):\n",
    "    with torch.set_grad_enabled(is_train):\n",
    "        t_p = model(t_u, *params)\n",
    "        loss = loss_fn(t_p, t_c)\n",
    "    return loss"
   ]
  },
  {
   "cell_type": "code",
   "execution_count": 27,
   "id": "9ae3ffad-5d36-4dca-a23c-d8aede19789f",
   "metadata": {},
   "outputs": [
    {
     "data": {
      "text/plain": [
       "tensor(3.0566, grad_fn=<MeanBackward0>)"
      ]
     },
     "execution_count": 27,
     "metadata": {},
     "output_type": "execute_result"
    }
   ],
   "source": [
    "cal_forward(t_un, t_c, True)"
   ]
  },
  {
   "cell_type": "code",
   "execution_count": 28,
   "id": "5b096e84-8c43-47aa-9da9-2cd8b812b818",
   "metadata": {},
   "outputs": [
    {
     "data": {
      "text/plain": [
       "tensor(3.0566)"
      ]
     },
     "execution_count": 28,
     "metadata": {},
     "output_type": "execute_result"
    }
   ],
   "source": [
    "cal_forward(t_un, t_c, False)"
   ]
  },
  {
   "cell_type": "markdown",
   "id": "a082b61b-7157-4aeb-b9ed-e4c60efaa9a5",
   "metadata": {},
   "source": [
    "## 5.7 연습 문제"
   ]
  },
  {
   "cell_type": "markdown",
   "id": "0a10b9b7-c319-4627-b4b7-c0f630406dc5",
   "metadata": {},
   "source": [
    "### 1. 모델을 w2 * t_u ** 2 + w1 * t_u + b 로 다시 정의하자."
   ]
  },
  {
   "cell_type": "code",
   "execution_count": 29,
   "id": "df2f11bb-4f76-4a5d-aac8-013e01c11df2",
   "metadata": {},
   "outputs": [],
   "source": [
    "def model(t_u, w1, w2, b):\n",
    "    return w2 * t_u**2 + w1 * t_u + b"
   ]
  },
  {
   "cell_type": "markdown",
   "id": "2d2e0a33-4d32-424f-b531-b159c7994d4a",
   "metadata": {},
   "source": [
    "#### **a.** 이 모델을 다루기 위해 훈련 루프의 어떤 부분을 변경해야 하나?"
   ]
  },
  {
   "cell_type": "code",
   "execution_count": 30,
   "id": "608a370e-70e6-4e7b-870d-4a7bbfdef820",
   "metadata": {},
   "outputs": [],
   "source": [
    "def training_loop(n_epochs, optimizer, params, train_t_u, val_t_u, train_t_c, val_t_c):\n",
    "    for epoch in range(1, n_epochs + 1):\n",
    "        train_t_p = model(train_t_u, *params)\n",
    "        train_loss = loss_fn(train_t_p, train_t_c)\n",
    "        \n",
    "        with torch.no_grad():\n",
    "            val_t_p = model(val_t_u, *params)\n",
    "            val_loss = loss_fn(val_t_p, val_t_c)\n",
    "            assert val_loss.requires_grad == False\n",
    "        \n",
    "        optimizer.zero_grad()\n",
    "        train_loss.backward()\n",
    "        optimizer.step()\n",
    "        \n",
    "        if epoch <= 3 or epoch % 500 == 0:\n",
    "            print(f'Epoch {epoch}, Training loss {train_loss.item():.4f},'\n",
    "                  f'Validation loss {val_loss.item():.4f}')\n",
    "    \n",
    "    return params"
   ]
  },
  {
   "cell_type": "markdown",
   "id": "d886c72e-dec7-49ea-bb9b-984c47b0d314",
   "metadata": {},
   "source": [
    "params 를 생성하는 부분 변경 필요"
   ]
  },
  {
   "cell_type": "markdown",
   "id": "9c07ce73-5605-4576-91b5-bc1c87072753",
   "metadata": {},
   "source": [
    "#### **b.** 모델 변경과 무관한 부분은 어디인가?"
   ]
  },
  {
   "cell_type": "markdown",
   "id": "873787ba-bb99-4982-bee2-3834855b8e7d",
   "metadata": {},
   "source": [
    "훈련 루프는 변경과 무관"
   ]
  },
  {
   "cell_type": "markdown",
   "id": "70646c67-dad8-488d-8af1-a2517e510bb3",
   "metadata": {},
   "source": [
    "#### **c.** 훈련 후 손실이 증가하는가 감소하는가?"
   ]
  },
  {
   "cell_type": "code",
   "execution_count": 31,
   "id": "7bf63e5e-f52f-46e5-80b4-6e31a9750d87",
   "metadata": {},
   "outputs": [
    {
     "name": "stdout",
     "output_type": "stream",
     "text": [
      "Epoch 1, Training loss 681.0538,Validation loss 652.1264\n",
      "Epoch 2, Training loss 361504.2188,Validation loss 289540.2500\n",
      "Epoch 3, Training loss 196336768.0000,Validation loss 158641680.0000\n",
      "Epoch 500, Training loss nan,Validation loss nan\n",
      "Epoch 1000, Training loss nan,Validation loss nan\n",
      "Epoch 1500, Training loss nan,Validation loss nan\n",
      "Epoch 2000, Training loss nan,Validation loss nan\n",
      "Epoch 2500, Training loss nan,Validation loss nan\n",
      "Epoch 3000, Training loss nan,Validation loss nan\n"
     ]
    },
    {
     "data": {
      "text/plain": [
       "tensor([nan, nan, nan], requires_grad=True)"
      ]
     },
     "execution_count": 31,
     "metadata": {},
     "output_type": "execute_result"
    }
   ],
   "source": [
    "params = torch.tensor([1.0, 1.0, 0.0], requires_grad=True)\n",
    "learning_rate = 1e-2\n",
    "optimizer = optim.SGD([params], lr=learning_rate)\n",
    "\n",
    "training_loop(\n",
    "    n_epochs=3000,\n",
    "    optimizer=optimizer,\n",
    "    params=params,\n",
    "    train_t_u=train_t_un,\n",
    "    val_t_u=val_t_un,\n",
    "    train_t_c=train_t_c,\n",
    "    val_t_c=val_t_c,\n",
    ")"
   ]
  },
  {
   "cell_type": "markdown",
   "id": "937edd25-6463-4697-a20d-a58e3a151be0",
   "metadata": {},
   "source": [
    "loss 가 발산함"
   ]
  },
  {
   "cell_type": "markdown",
   "id": "bd658f97-b6b9-4aff-add4-4199b1a51039",
   "metadata": {},
   "source": [
    "#### **d.** 실제 결과가 좋아졌나 나빠졌나?"
   ]
  },
  {
   "cell_type": "markdown",
   "id": "9f7f3710-b4fc-4280-a4c8-9d2858fddbfa",
   "metadata": {},
   "source": [
    "나빠짐"
   ]
  },
  {
   "cell_type": "code",
   "execution_count": 35,
   "id": "b8a3197a-2e23-4b0c-809e-9710e6589b6c",
   "metadata": {},
   "outputs": [],
   "source": [
    "labels = torch.tensor([1, 0, 0, 1, 0, 1, 1, 1, 0, 0], dtype=torch.int)"
   ]
  },
  {
   "cell_type": "code",
   "execution_count": 36,
   "id": "6bb38612-a6f4-46f9-becc-8e247e0e69ac",
   "metadata": {},
   "outputs": [
    {
     "data": {
      "text/plain": [
       "tensor([[1],\n",
       "        [0],\n",
       "        [0],\n",
       "        [1],\n",
       "        [0],\n",
       "        [1],\n",
       "        [1],\n",
       "        [1],\n",
       "        [0],\n",
       "        [0]], dtype=torch.int32)"
      ]
     },
     "execution_count": 36,
     "metadata": {},
     "output_type": "execute_result"
    }
   ],
   "source": [
    "labels = labels.unsqueeze(-1)\n",
    "labels"
   ]
  },
  {
   "cell_type": "code",
   "execution_count": 38,
   "id": "cea4af4e-2bc9-4878-932a-73c4eabca829",
   "metadata": {},
   "outputs": [
    {
     "data": {
      "text/plain": [
       "tensor([[ True, False, False,  True, False,  True,  True,  True, False, False],\n",
       "        [False,  True,  True, False,  True, False, False, False,  True,  True],\n",
       "        [False,  True,  True, False,  True, False, False, False,  True,  True],\n",
       "        [ True, False, False,  True, False,  True,  True,  True, False, False],\n",
       "        [False,  True,  True, False,  True, False, False, False,  True,  True],\n",
       "        [ True, False, False,  True, False,  True,  True,  True, False, False],\n",
       "        [ True, False, False,  True, False,  True,  True,  True, False, False],\n",
       "        [ True, False, False,  True, False,  True,  True,  True, False, False],\n",
       "        [False,  True,  True, False,  True, False, False, False,  True,  True],\n",
       "        [False,  True,  True, False,  True, False, False, False,  True,  True]])"
      ]
     },
     "execution_count": 38,
     "metadata": {},
     "output_type": "execute_result"
    }
   ],
   "source": [
    "mask = torch.eq(labels, labels.transpose(0, 1))\n",
    "mask"
   ]
  },
  {
   "cell_type": "code",
   "execution_count": 39,
   "id": "38741fd1-d004-497b-aedf-07cdcf1a628f",
   "metadata": {},
   "outputs": [
    {
     "data": {
      "text/plain": [
       "tensor([True, True, True, True, True, True, True, True, True, True])"
      ]
     },
     "execution_count": 39,
     "metadata": {},
     "output_type": "execute_result"
    }
   ],
   "source": [
    "torch.diag(mask)"
   ]
  },
  {
   "cell_type": "code",
   "execution_count": 40,
   "id": "8c8c0c4a-3dff-4a2b-8aa2-70826bf550b4",
   "metadata": {},
   "outputs": [
    {
     "data": {
      "text/plain": [
       "tensor([[ True, False, False, False, False, False, False, False, False, False],\n",
       "        [False,  True, False, False, False, False, False, False, False, False],\n",
       "        [False, False,  True, False, False, False, False, False, False, False],\n",
       "        [False, False, False,  True, False, False, False, False, False, False],\n",
       "        [False, False, False, False,  True, False, False, False, False, False],\n",
       "        [False, False, False, False, False,  True, False, False, False, False],\n",
       "        [False, False, False, False, False, False,  True, False, False, False],\n",
       "        [False, False, False, False, False, False, False,  True, False, False],\n",
       "        [False, False, False, False, False, False, False, False,  True, False],\n",
       "        [False, False, False, False, False, False, False, False, False,  True]])"
      ]
     },
     "execution_count": 40,
     "metadata": {},
     "output_type": "execute_result"
    }
   ],
   "source": [
    "torch.diag_embed(torch.diag(mask))"
   ]
  },
  {
   "cell_type": "code",
   "execution_count": 42,
   "id": "cead3284-cded-4234-93b3-0d0b4744bae0",
   "metadata": {},
   "outputs": [
    {
     "data": {
      "text/plain": [
       "tensor([[ True, False, False,  True, False,  True,  True,  True, False, False],\n",
       "        [False,  True,  True, False,  True, False, False, False,  True,  True],\n",
       "        [False,  True,  True, False,  True, False, False, False,  True,  True],\n",
       "        [ True, False, False,  True, False,  True,  True,  True, False, False],\n",
       "        [False,  True,  True, False,  True, False, False, False,  True,  True],\n",
       "        [ True, False, False,  True, False,  True,  True,  True, False, False],\n",
       "        [ True, False, False,  True, False,  True,  True,  True, False, False],\n",
       "        [ True, False, False,  True, False,  True,  True,  True, False, False],\n",
       "        [False,  True,  True, False,  True, False, False, False,  True,  True],\n",
       "        [False,  True,  True, False,  True, False, False, False,  True,  True]])"
      ]
     },
     "execution_count": 42,
     "metadata": {},
     "output_type": "execute_result"
    }
   ],
   "source": [
    "mask"
   ]
  },
  {
   "cell_type": "code",
   "execution_count": 41,
   "id": "cd8e60d5-8876-477f-9485-962f0a56dc33",
   "metadata": {},
   "outputs": [
    {
     "data": {
      "text/plain": [
       "tensor([[False, False, False,  True, False,  True,  True,  True, False, False],\n",
       "        [False, False,  True, False,  True, False, False, False,  True,  True],\n",
       "        [False,  True, False, False,  True, False, False, False,  True,  True],\n",
       "        [ True, False, False, False, False,  True,  True,  True, False, False],\n",
       "        [False,  True,  True, False, False, False, False, False,  True,  True],\n",
       "        [ True, False, False,  True, False, False,  True,  True, False, False],\n",
       "        [ True, False, False,  True, False,  True, False,  True, False, False],\n",
       "        [ True, False, False,  True, False,  True,  True, False, False, False],\n",
       "        [False,  True,  True, False,  True, False, False, False, False,  True],\n",
       "        [False,  True,  True, False,  True, False, False, False,  True, False]])"
      ]
     },
     "execution_count": 41,
     "metadata": {},
     "output_type": "execute_result"
    }
   ],
   "source": [
    "mask ^ torch.diag_embed(torch.diag(mask))"
   ]
  },
  {
   "cell_type": "code",
   "execution_count": 44,
   "id": "aaf49c54-0f89-42b3-afe4-a35da99d4a1c",
   "metadata": {},
   "outputs": [
    {
     "data": {
      "text/plain": [
       "([0, 1, 2, 3, 4, 5], [0, 1, 0, 1, 0, 0])"
      ]
     },
     "execution_count": 44,
     "metadata": {},
     "output_type": "execute_result"
    }
   ],
   "source": [
    "array = [(0, 0), (1, 1), (2, 0), (3, 1), (4, 0), (5, 0)]\n",
    "\n",
    "tokens, label_ids = map(list, zip(*array))\n",
    "tokens, label_ids"
   ]
  },
  {
   "cell_type": "code",
   "execution_count": null,
   "id": "e02b71ac-304f-4cb8-b6bc-96d7c0eff80b",
   "metadata": {},
   "outputs": [],
   "source": []
  }
 ],
 "metadata": {
  "kernelspec": {
   "display_name": "python3.8",
   "language": "python",
   "name": "python3.8"
  },
  "language_info": {
   "codemirror_mode": {
    "name": "ipython",
    "version": 3
   },
   "file_extension": ".py",
   "mimetype": "text/x-python",
   "name": "python",
   "nbconvert_exporter": "python",
   "pygments_lexer": "ipython3",
   "version": "3.8.16"
  }
 },
 "nbformat": 4,
 "nbformat_minor": 5
}
