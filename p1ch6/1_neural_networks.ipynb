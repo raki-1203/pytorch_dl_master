{
 "cells": [
  {
   "cell_type": "markdown",
   "id": "ac367786-b7e1-46ee-8954-84d5d4f47781",
   "metadata": {},
   "source": [
    "### 6.1.3 우리에게 필요한 건 활성 함수"
   ]
  },
  {
   "cell_type": "markdown",
   "id": "4721cf64-383d-4e8d-a63e-89393dea7ea9",
   "metadata": {},
   "source": [
    "#### 출력 범위 제한"
   ]
  },
  {
   "cell_type": "markdown",
   "id": "5a3dfbe3-60d5-4fad-b14c-87b648ad4ae2",
   "metadata": {},
   "source": [
    "#### 출력 범위 줄이기"
   ]
  },
  {
   "cell_type": "code",
   "execution_count": 1,
   "id": "fb748463-97dd-481c-9745-7adcf59435da",
   "metadata": {},
   "outputs": [],
   "source": [
    "import math"
   ]
  },
  {
   "cell_type": "code",
   "execution_count": 3,
   "id": "7461e36c-5644-42b1-8445-8128df45f6b7",
   "metadata": {},
   "outputs": [
    {
     "data": {
      "text/plain": [
       "-0.9757431300314515"
      ]
     },
     "execution_count": 3,
     "metadata": {},
     "output_type": "execute_result"
    }
   ],
   "source": [
    "math.tanh(-2.2)"
   ]
  },
  {
   "cell_type": "code",
   "execution_count": 4,
   "id": "a7a1f8f4-451d-4a35-a3be-ae0a7af4b5ba",
   "metadata": {},
   "outputs": [
    {
     "data": {
      "text/plain": [
       "0.09966799462495582"
      ]
     },
     "execution_count": 4,
     "metadata": {},
     "output_type": "execute_result"
    }
   ],
   "source": [
    "math.tanh(0.1)"
   ]
  },
  {
   "cell_type": "code",
   "execution_count": 5,
   "id": "4caf9c1a-f0c9-4781-a498-63a7fc257869",
   "metadata": {},
   "outputs": [
    {
     "data": {
      "text/plain": [
       "0.9866142981514303"
      ]
     },
     "execution_count": 5,
     "metadata": {},
     "output_type": "execute_result"
    }
   ],
   "source": [
    "math.tanh(2.5)"
   ]
  },
  {
   "cell_type": "markdown",
   "id": "9dbffe09-4bb7-4d42-b3ba-78a43bfef8b5",
   "metadata": {},
   "source": [
    "## 6.2 파이토치 nn 모듈"
   ]
  },
  {
   "cell_type": "markdown",
   "id": "2bd6aa35-1a6d-4652-b81c-955a296fe4ca",
   "metadata": {},
   "source": [
    "### 6.2.1 forward eotls __call__ 사용하기"
   ]
  },
  {
   "cell_type": "code",
   "execution_count": 7,
   "id": "520e70da-ed64-4a0e-a7da-40122aed2511",
   "metadata": {},
   "outputs": [],
   "source": [
    "import numpy as np\n",
    "import torch\n",
    "import torch.optim as optim\n",
    "\n",
    "torch.set_printoptions(edgeitems=2, linewidth=75)"
   ]
  },
  {
   "cell_type": "code",
   "execution_count": 6,
   "id": "ba7031d2-df41-4bce-95ed-1b3dfcf8d083",
   "metadata": {},
   "outputs": [],
   "source": [
    "import torch.nn as nn"
   ]
  },
  {
   "cell_type": "code",
   "execution_count": 10,
   "id": "0b67bd55-7187-439e-831f-aa51e801609a",
   "metadata": {},
   "outputs": [
    {
     "data": {
      "text/plain": [
       "(11, tensor([ 9,  5,  1,  8,  4,  6,  7,  0, 10,  3,  2]))"
      ]
     },
     "execution_count": 10,
     "metadata": {},
     "output_type": "execute_result"
    }
   ],
   "source": [
    "n_samples = t_u.shape[0]\n",
    "n_val = int(0.2 * n_samples)\n",
    "\n",
    "shuffled_indices = torch.randperm(n_samples)\n",
    "\n",
    "n_samples, shuffled_indices"
   ]
  },
  {
   "cell_type": "code",
   "execution_count": 11,
   "id": "ed248994-565c-4d7c-9f92-cdfb76f05fbc",
   "metadata": {},
   "outputs": [
    {
     "data": {
      "text/plain": [
       "(tensor([ 9,  5,  1,  8,  4,  6,  7,  0, 10]), tensor([3, 2]))"
      ]
     },
     "execution_count": 11,
     "metadata": {},
     "output_type": "execute_result"
    }
   ],
   "source": [
    "train_indices = shuffled_indices[:-n_val]\n",
    "val_indices = shuffled_indices[-n_val:]\n",
    "\n",
    "train_indices, val_indices"
   ]
  },
  {
   "cell_type": "code",
   "execution_count": 12,
   "id": "fe01b42c-2f16-4a27-b1a7-5b76a377def2",
   "metadata": {},
   "outputs": [],
   "source": [
    "t_u_train = t_u[train_indices]\n",
    "t_c_train = t_c[train_indices]\n",
    "\n",
    "t_u_val = t_u[val_indices]\n",
    "t_c_val = t_c[val_indices]\n",
    "\n",
    "t_un_train = 0.1 * t_u_train\n",
    "t_un_val = 0.1 * t_u_val"
   ]
  },
  {
   "cell_type": "code",
   "execution_count": 13,
   "id": "46875a98-ea05-4429-97c4-3d430170f9b4",
   "metadata": {},
   "outputs": [
    {
     "data": {
      "text/plain": [
       "tensor([[7.9943],\n",
       "        [5.9655]], grad_fn=<AddmmBackward0>)"
      ]
     },
     "execution_count": 13,
     "metadata": {},
     "output_type": "execute_result"
    }
   ],
   "source": [
    "linear_model = nn.Linear(1, 1)\n",
    "linear_model(t_un_val)"
   ]
  },
  {
   "cell_type": "markdown",
   "id": "be061d1f-7e1e-4592-97b8-7b70ee7ab9b1",
   "metadata": {},
   "source": [
    "### 6.2.2 다시 선형 모델로"
   ]
  },
  {
   "cell_type": "code",
   "execution_count": 14,
   "id": "06592ab1-5663-455d-b2b4-030260665667",
   "metadata": {},
   "outputs": [],
   "source": [
    "import torch.nn as nn"
   ]
  },
  {
   "cell_type": "code",
   "execution_count": 15,
   "id": "34bbc962-f29e-4c17-9955-8863835ae79a",
   "metadata": {},
   "outputs": [
    {
     "data": {
      "text/plain": [
       "tensor([[2.3475],\n",
       "        [1.4980]], grad_fn=<AddmmBackward0>)"
      ]
     },
     "execution_count": 15,
     "metadata": {},
     "output_type": "execute_result"
    }
   ],
   "source": [
    "linear_model = nn.Linear(1, 1)\n",
    "linear_model(t_un_val)"
   ]
  },
  {
   "cell_type": "code",
   "execution_count": 16,
   "id": "cd70b179-df29-4de4-9ce9-47176e20bb52",
   "metadata": {},
   "outputs": [
    {
     "data": {
      "text/plain": [
       "Parameter containing:\n",
       "tensor([[0.3584]], requires_grad=True)"
      ]
     },
     "execution_count": 16,
     "metadata": {},
     "output_type": "execute_result"
    }
   ],
   "source": [
    "linear_model.weight"
   ]
  },
  {
   "cell_type": "code",
   "execution_count": 17,
   "id": "c4b2f064-6ac7-4bec-87ca-62ae7f36e483",
   "metadata": {},
   "outputs": [
    {
     "data": {
      "text/plain": [
       "Parameter containing:\n",
       "tensor([-0.5881], requires_grad=True)"
      ]
     },
     "execution_count": 17,
     "metadata": {},
     "output_type": "execute_result"
    }
   ],
   "source": [
    "linear_model.bias"
   ]
  },
  {
   "cell_type": "code",
   "execution_count": 18,
   "id": "add6a3a9-301b-4e0a-a4fd-bdad7eae1db4",
   "metadata": {},
   "outputs": [
    {
     "data": {
      "text/plain": [
       "tensor([-0.2297], grad_fn=<AddBackward0>)"
      ]
     },
     "execution_count": 18,
     "metadata": {},
     "output_type": "execute_result"
    }
   ],
   "source": [
    "x = torch.ones(1)\n",
    "linear_model(x)"
   ]
  },
  {
   "cell_type": "markdown",
   "id": "e15d9cab-0363-427d-9880-7c94cae14adc",
   "metadata": {},
   "source": [
    "#### 배치 입력 만들기"
   ]
  },
  {
   "cell_type": "code",
   "execution_count": 19,
   "id": "260b8481-569b-4b52-8024-a1a85ee390e9",
   "metadata": {},
   "outputs": [
    {
     "data": {
      "text/plain": [
       "tensor([[-0.2297],\n",
       "        [-0.2297],\n",
       "        [-0.2297],\n",
       "        [-0.2297],\n",
       "        [-0.2297],\n",
       "        [-0.2297],\n",
       "        [-0.2297],\n",
       "        [-0.2297],\n",
       "        [-0.2297],\n",
       "        [-0.2297]], grad_fn=<AddmmBackward0>)"
      ]
     },
     "execution_count": 19,
     "metadata": {},
     "output_type": "execute_result"
    }
   ],
   "source": [
    "x = torch.ones(10, 1)\n",
    "linear_model(x)"
   ]
  },
  {
   "cell_type": "markdown",
   "id": "e4176f6e-6814-4c77-b753-8285efc0234c",
   "metadata": {},
   "source": [
    "#### 배치 최적화"
   ]
  },
  {
   "cell_type": "code",
   "execution_count": 44,
   "id": "78c945d0-68b9-485f-bda1-bde1b83c9920",
   "metadata": {},
   "outputs": [
    {
     "data": {
      "text/plain": [
       "(torch.Size([11, 1]), torch.Size([11, 1]))"
      ]
     },
     "execution_count": 44,
     "metadata": {},
     "output_type": "execute_result"
    }
   ],
   "source": [
    "t_c = [0.5,  14.0, 15.0, 28.0, 11.0,  8.0,  3.0, -4.0,  6.0, 13.0, 21.0]\n",
    "t_u = [35.7, 55.9, 58.2, 81.9, 56.3, 48.9, 33.9, 21.8, 48.4, 60.4, 68.4]\n",
    "t_c = torch.tensor(t_c).unsqueeze(1)\n",
    "t_u = torch.tensor(t_u).unsqueeze(1)\n",
    "\n",
    "t_u.shape, t_c.shape"
   ]
  },
  {
   "cell_type": "code",
   "execution_count": 55,
   "id": "ec671596-cd90-4a37-a4ff-d1026ba8f423",
   "metadata": {},
   "outputs": [
    {
     "data": {
      "text/plain": [
       "(tensor([4, 5, 9, 8, 3, 2, 6, 7, 0]), tensor([10,  1]))"
      ]
     },
     "execution_count": 55,
     "metadata": {},
     "output_type": "execute_result"
    }
   ],
   "source": [
    "n_samples = t_u.shape[0]\n",
    "n_val = int(0.2 * n_samples)\n",
    "\n",
    "shuffled_indices = torch.randperm(n_samples)\n",
    "\n",
    "train_indices = shuffled_indices[:-n_val]\n",
    "val_indices = shuffled_indices[-n_val:]\n",
    "\n",
    "train_indices, val_indices"
   ]
  },
  {
   "cell_type": "code",
   "execution_count": 56,
   "id": "dc94b1a5-aac0-4274-a8d0-e25a933ba652",
   "metadata": {},
   "outputs": [],
   "source": [
    "t_u_train = t_u[train_indices]\n",
    "t_c_train = t_c[train_indices]\n",
    "\n",
    "t_u_val = t_u[val_indices]\n",
    "t_c_val = t_c[val_indices]\n",
    "\n",
    "t_un_train = 0.1 * t_u_train\n",
    "t_un_val = 0.1 * t_u_val"
   ]
  },
  {
   "cell_type": "code",
   "execution_count": 57,
   "id": "64c92413-66a6-4b35-ac21-b034adc01cf2",
   "metadata": {},
   "outputs": [],
   "source": [
    "linear_model = nn.Linear(1, 1)\n",
    "optimizer = optim.SGD(linear_model.parameters(), lr=1e-2)"
   ]
  },
  {
   "cell_type": "code",
   "execution_count": 58,
   "id": "5e3f4b51-d2cd-4f0f-81c9-cc480e175743",
   "metadata": {},
   "outputs": [
    {
     "data": {
      "text/plain": [
       "<generator object Module.parameters at 0x7f32142907b0>"
      ]
     },
     "execution_count": 58,
     "metadata": {},
     "output_type": "execute_result"
    }
   ],
   "source": [
    "linear_model.parameters()"
   ]
  },
  {
   "cell_type": "code",
   "execution_count": 59,
   "id": "d51a7d60-0157-4ce1-9dda-825616201553",
   "metadata": {},
   "outputs": [
    {
     "data": {
      "text/plain": [
       "[Parameter containing:\n",
       " tensor([[-0.4734]], requires_grad=True),\n",
       " Parameter containing:\n",
       " tensor([-0.6073], requires_grad=True)]"
      ]
     },
     "execution_count": 59,
     "metadata": {},
     "output_type": "execute_result"
    }
   ],
   "source": [
    "list(linear_model.parameters())"
   ]
  },
  {
   "cell_type": "code",
   "execution_count": 60,
   "id": "5c0edd4d-11e9-4f71-8cb0-b33e1e39d194",
   "metadata": {},
   "outputs": [],
   "source": [
    "def training_loop(n_epochs, optimizer, model, loss_fn, t_u_train, t_u_val, t_c_train, t_c_val):\n",
    "    for epoch in range(1, n_epochs + 1):\n",
    "        t_p_train = model(t_u_train)\n",
    "        loss_train = loss_fn(t_p_train, t_c_train)\n",
    "        \n",
    "        t_p_val = model(t_u_val)\n",
    "        loss_val = loss_fn(t_p_val, t_c_val)\n",
    "        \n",
    "        optimizer.zero_grad()\n",
    "        loss_train.backward()\n",
    "        optimizer.step()\n",
    "        \n",
    "        if epoch == 1 or epoch % 1000 == 0:\n",
    "            print(f'Epoch {epoch}, Training loss {loss_train.item():.4f},'\n",
    "                  f' Validation loss {loss_val.item():.4f}')"
   ]
  },
  {
   "cell_type": "code",
   "execution_count": 61,
   "id": "55c0df28-27c8-4489-837f-5f50f6eafc0c",
   "metadata": {},
   "outputs": [
    {
     "name": "stdout",
     "output_type": "stream",
     "text": [
      "Epoch 1, Training loss 72.6930, Validation loss 141.8302\n",
      "Epoch 1000, Training loss 3.5887, Validation loss 5.5397\n",
      "Epoch 2000, Training loss 2.9540, Validation loss 4.1057\n",
      "Epoch 3000, Training loss 2.9416, Validation loss 3.9282\n"
     ]
    }
   ],
   "source": [
    "linear_model = nn.Linear(1, 1)\n",
    "optimizer = optim.SGD(linear_model.parameters(), lr=1e-2)\n",
    "\n",
    "training_loop(\n",
    "    n_epochs=3000,\n",
    "    optimizer=optimizer,\n",
    "    model=linear_model,\n",
    "    loss_fn=nn.MSELoss(),\n",
    "    t_u_train=t_un_train,\n",
    "    t_u_val=t_un_val,\n",
    "    t_c_train=t_c_train,\n",
    "    t_c_val=t_c_val,\n",
    ")"
   ]
  },
  {
   "cell_type": "code",
   "execution_count": 62,
   "id": "5a64c8ea-b5fe-408f-8721-8b1b2cc40901",
   "metadata": {},
   "outputs": [
    {
     "name": "stdout",
     "output_type": "stream",
     "text": [
      "\n",
      "Parameter containing:\n",
      "tensor([[5.2049]], requires_grad=True)\n",
      "Parameter containing:\n",
      "tensor([-16.8150], requires_grad=True)\n"
     ]
    }
   ],
   "source": [
    "print()\n",
    "print(linear_model.weight)\n",
    "print(linear_model.bias)"
   ]
  },
  {
   "cell_type": "markdown",
   "id": "8cae69fe-f208-4a0a-81c2-06816a496b16",
   "metadata": {},
   "source": [
    "## 6.3 드디어 신경망"
   ]
  },
  {
   "cell_type": "markdown",
   "id": "48e15710-7286-4775-b483-57799a27d572",
   "metadata": {},
   "source": [
    "### 6.3.1 선형 모델 대체하기"
   ]
  },
  {
   "cell_type": "code",
   "execution_count": 63,
   "id": "ea9cb838-468e-46cc-b186-56d4ed859f67",
   "metadata": {},
   "outputs": [
    {
     "data": {
      "text/plain": [
       "Sequential(\n",
       "  (0): Linear(in_features=1, out_features=13, bias=True)\n",
       "  (1): Tanh()\n",
       "  (2): Linear(in_features=13, out_features=1, bias=True)\n",
       ")"
      ]
     },
     "execution_count": 63,
     "metadata": {},
     "output_type": "execute_result"
    }
   ],
   "source": [
    "seq_model = nn.Sequential(\n",
    "    nn.Linear(1, 13),\n",
    "    nn.Tanh(),\n",
    "    nn.Linear(13, 1),\n",
    ")\n",
    "seq_model"
   ]
  },
  {
   "cell_type": "markdown",
   "id": "28d2b697-bf70-4d71-a3d4-64d1054f0f98",
   "metadata": {},
   "source": [
    "### 6.3.2 파라미터 살펴보기"
   ]
  },
  {
   "cell_type": "code",
   "execution_count": 64,
   "id": "042c144b-2bb4-440f-85f3-0a0d782a11c9",
   "metadata": {},
   "outputs": [
    {
     "data": {
      "text/plain": [
       "[torch.Size([13, 1]), torch.Size([13]), torch.Size([1, 13]), torch.Size([1])]"
      ]
     },
     "execution_count": 64,
     "metadata": {},
     "output_type": "execute_result"
    }
   ],
   "source": [
    "[param.shape for param in seq_model.parameters()]"
   ]
  },
  {
   "cell_type": "code",
   "execution_count": 65,
   "id": "198bbf27-a41a-4e6e-b4b2-e8b8ded0c290",
   "metadata": {},
   "outputs": [
    {
     "name": "stdout",
     "output_type": "stream",
     "text": [
      "0.weight torch.Size([13, 1])\n",
      "0.bias torch.Size([13])\n",
      "2.weight torch.Size([1, 13])\n",
      "2.bias torch.Size([1])\n"
     ]
    }
   ],
   "source": [
    "for name, param in seq_model.named_parameters():\n",
    "    print(name, param.shape)"
   ]
  },
  {
   "cell_type": "code",
   "execution_count": 66,
   "id": "7ba2fae6-100c-434f-a023-9779b8bb1708",
   "metadata": {},
   "outputs": [],
   "source": [
    "from collections import OrderedDict"
   ]
  },
  {
   "cell_type": "code",
   "execution_count": 67,
   "id": "b0cdb1a7-2f74-40a1-9e69-672e7f270f1c",
   "metadata": {},
   "outputs": [
    {
     "data": {
      "text/plain": [
       "Sequential(\n",
       "  (hidden_linear): Linear(in_features=1, out_features=8, bias=True)\n",
       "  (hidden_activation): Tanh()\n",
       "  (output_linear): Linear(in_features=8, out_features=1, bias=True)\n",
       ")"
      ]
     },
     "execution_count": 67,
     "metadata": {},
     "output_type": "execute_result"
    }
   ],
   "source": [
    "seq_model = nn.Sequential(\n",
    "    OrderedDict([\n",
    "        ('hidden_linear', nn.Linear(1, 8)),\n",
    "        ('hidden_activation', nn.Tanh()),\n",
    "        ('output_linear', nn.Linear(8, 1)),\n",
    "    ])\n",
    ")\n",
    "\n",
    "seq_model"
   ]
  },
  {
   "cell_type": "code",
   "execution_count": 68,
   "id": "d555510f-66f3-40c6-8888-14b32a6944a1",
   "metadata": {},
   "outputs": [
    {
     "name": "stdout",
     "output_type": "stream",
     "text": [
      "hidden_linear.weight torch.Size([8, 1])\n",
      "hidden_linear.bias torch.Size([8])\n",
      "output_linear.weight torch.Size([1, 8])\n",
      "output_linear.bias torch.Size([1])\n"
     ]
    }
   ],
   "source": [
    "for name, param in seq_model.named_parameters():\n",
    "    print(name, param.shape)"
   ]
  },
  {
   "cell_type": "code",
   "execution_count": 69,
   "id": "9ef03ff1-9e27-40ee-9f2a-01e0b0be2bd0",
   "metadata": {},
   "outputs": [
    {
     "data": {
      "text/plain": [
       "Parameter containing:\n",
       "tensor([-0.0767], requires_grad=True)"
      ]
     },
     "execution_count": 69,
     "metadata": {},
     "output_type": "execute_result"
    }
   ],
   "source": [
    "seq_model.output_linear.bias"
   ]
  },
  {
   "cell_type": "code",
   "execution_count": 70,
   "id": "9b73c7fa-404a-457c-b9f4-e80ed56e2cc0",
   "metadata": {},
   "outputs": [
    {
     "name": "stdout",
     "output_type": "stream",
     "text": [
      "Epoch 1, Training loss 162.1822, Validation loss 325.8019\n",
      "Epoch 1000, Training loss 6.4769, Validation loss 5.9607\n",
      "Epoch 2000, Training loss 2.3249, Validation loss 3.0996\n",
      "Epoch 3000, Training loss 1.6904, Validation loss 3.3559\n",
      "Epoch 4000, Training loss 1.5646, Validation loss 3.5961\n",
      "Epoch 5000, Training loss 1.5302, Validation loss 3.7330\n",
      "output tensor([[20.4220],\n",
      "        [11.3294]], grad_fn=<AddmmBackward0>)\n",
      "answer tensor([[21.],\n",
      "        [14.]])\n",
      "hidden tensor([[-2.2494e-05],\n",
      "        [-1.6645e-02],\n",
      "        [-1.4608e-03],\n",
      "        [-8.2197e-04],\n",
      "        [-3.4854e-02],\n",
      "        [-5.4738e-04],\n",
      "        [ 1.4925e-02],\n",
      "        [-7.0640e-03]])\n"
     ]
    }
   ],
   "source": [
    "optimizer = optim.SGD(seq_model.parameters(), lr=1e-3)\n",
    "\n",
    "training_loop(\n",
    "    n_epochs=5000,\n",
    "    optimizer=optimizer,\n",
    "    model=seq_model,\n",
    "    loss_fn=nn.MSELoss(),\n",
    "    t_u_train=t_un_train,\n",
    "    t_u_val=t_un_val,\n",
    "    t_c_train=t_c_train,\n",
    "    t_c_val=t_c_val,\n",
    ")\n",
    "\n",
    "print('output', seq_model(t_un_val))\n",
    "print('answer', t_c_val)\n",
    "print('hidden', seq_model.hidden_linear.weight.grad)"
   ]
  },
  {
   "cell_type": "markdown",
   "id": "be43f412-6c17-4107-8e5c-7facccc56335",
   "metadata": {},
   "source": [
    "### 6.3.3 선형 모델과 비교하기"
   ]
  },
  {
   "cell_type": "code",
   "execution_count": 71,
   "id": "2cca951a-e5d9-4373-8077-ac9134ddad63",
   "metadata": {},
   "outputs": [],
   "source": [
    "from matplotlib import pyplot as plt"
   ]
  },
  {
   "cell_type": "code",
   "execution_count": 74,
   "id": "d31212a1-e54d-42be-a956-688c0c873844",
   "metadata": {},
   "outputs": [
    {
     "data": {
      "text/plain": [
       "[<matplotlib.lines.Line2D at 0x7f3201128700>]"
      ]
     },
     "execution_count": 74,
     "metadata": {},
     "output_type": "execute_result"
    },
    {
     "data": {
      "image/png": "[encoded data removed]",
      "text/plain": [
       "<Figure size 700x700 with 1 Axes>"
      ]
     },
     "metadata": {},
     "output_type": "display_data"
    }
   ],
   "source": [
    "t_range = torch.arange(20., 90.).unsqueeze(1)\n",
    "\n",
    "fig = plt.figure(figsize=(7, 7))\n",
    "plt.xlabel('Fahrenheit')\n",
    "plt.ylabel('Celsius')\n",
    "plt.plot(t_u.numpy(), t_c.numpy(), 'o')\n",
    "plt.plot(t_range.numpy(), seq_model(0.1 * t_range).detach().numpy(), 'c-')\n",
    "plt.plot(t_u.numpy(), seq_model(0.1 * t_u).detach().numpy(), 'kx')"
   ]
  },
  {
   "cell_type": "code",
   "execution_count": null,
   "id": "d09f68f9-51b1-4197-9ea4-094cb9f57a70",
   "metadata": {},
   "outputs": [],
   "source": []
  },
  {
   "cell_type": "code",
   "execution_count": null,
   "id": "da86e710-c0c3-4a0c-8e95-b52ee43ae6b7",
   "metadata": {},
   "outputs": [],
   "source": []
  },
  {
   "cell_type": "code",
   "execution_count": null,
   "id": "3bc3b402-f93f-4b6a-a65a-180b3a3c25d4",
   "metadata": {},
   "outputs": [],
   "source": []
  },
  {
   "cell_type": "code",
   "execution_count": null,
   "id": "6332c501-2e22-4ab5-a457-ae787223bbbe",
   "metadata": {},
   "outputs": [],
   "source": []
  },
  {
   "cell_type": "code",
   "execution_count": null,
   "id": "f2b61700-d442-49ab-a790-d341bd8338c2",
   "metadata": {},
   "outputs": [],
   "source": []
  }
 ],
 "metadata": {
  "kernelspec": {
   "display_name": "python3.8",
   "language": "python",
   "name": "python3.8"
  },
  "language_info": {
   "codemirror_mode": {
    "name": "ipython",
    "version": 3
   },
   "file_extension": ".py",
   "mimetype": "text/x-python",
   "name": "python",
   "nbconvert_exporter": "python",
   "pygments_lexer": "ipython3",
   "version": "3.8.16"
  }
 },
 "nbformat": 4,
 "nbformat_minor": 5
}
