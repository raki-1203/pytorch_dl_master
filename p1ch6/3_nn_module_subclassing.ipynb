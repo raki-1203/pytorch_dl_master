{
 "cells": [
  {
   "cell_type": "code",
   "execution_count": 1,
   "id": "e9815d79-17b9-477d-956a-292716f22b87",
   "metadata": {},
   "outputs": [],
   "source": [
    "%matplotlib inline\n",
    "import numpy as np\n",
    "\n",
    "import torch\n",
    "import torch.optim as optim\n",
    "import torch.nn as nn\n",
    "\n",
    "torch.set_printoptions(edgeitems=2, linewidth=75)"
   ]
  },
  {
   "cell_type": "code",
   "execution_count": 2,
   "id": "2bc346d9-3f73-4542-a056-8321d29b6c90",
   "metadata": {},
   "outputs": [
    {
     "data": {
      "text/plain": [
       "Sequential(\n",
       "  (0): Linear(in_features=1, out_features=11, bias=True)\n",
       "  (1): Tanh()\n",
       "  (2): Linear(in_features=11, out_features=1, bias=True)\n",
       ")"
      ]
     },
     "execution_count": 2,
     "metadata": {},
     "output_type": "execute_result"
    }
   ],
   "source": [
    "seq_model = nn.Sequential(\n",
    "    nn.Linear(1, 11),\n",
    "    nn.Tanh(),\n",
    "    nn.Linear(11, 1),\n",
    ")\n",
    "\n",
    "seq_model"
   ]
  },
  {
   "cell_type": "code",
   "execution_count": 3,
   "id": "816c26fc-8abb-49a1-bde3-d5cdcfe112d8",
   "metadata": {},
   "outputs": [],
   "source": [
    "from collections import OrderedDict"
   ]
  },
  {
   "cell_type": "code",
   "execution_count": 4,
   "id": "2d7393d8-cba3-4612-b88a-a7c48bbb723a",
   "metadata": {},
   "outputs": [
    {
     "data": {
      "text/plain": [
       "Sequential(\n",
       "  (hidden_linear): Linear(in_features=1, out_features=12, bias=True)\n",
       "  (hidden_activation): Tanh()\n",
       "  (output_linear): Linear(in_features=12, out_features=1, bias=True)\n",
       ")"
      ]
     },
     "execution_count": 4,
     "metadata": {},
     "output_type": "execute_result"
    }
   ],
   "source": [
    "namedseq_model = nn.Sequential(OrderedDict([\n",
    "    ('hidden_linear', nn.Linear(1, 12)),\n",
    "    ('hidden_activation', nn.Tanh()),\n",
    "    ('output_linear', nn.Linear(12, 1)),\n",
    "]))\n",
    "\n",
    "namedseq_model"
   ]
  },
  {
   "cell_type": "code",
   "execution_count": 5,
   "id": "4eef3fcf-ec96-47b4-8e57-ba409fc557b7",
   "metadata": {},
   "outputs": [],
   "source": [
    "class SubclassModel(nn.Module):\n",
    "    \n",
    "    def __init__(self):\n",
    "        super().__init__()\n",
    "        \n",
    "        self.hidden_linear = nn.Linear(1, 13)\n",
    "        self.hidden_activation = nn.Tanh()\n",
    "        self.output_linear = nn.Linear(13, 1)\n",
    "        \n",
    "    def forward(self, input):\n",
    "        hidden_t = self.hidden_linear(input)\n",
    "        activated_t = self.hidden_activation(hidden_t)\n",
    "        output_t = self.output_linear(activated_t)\n",
    "        \n",
    "        return output_t\n"
   ]
  },
  {
   "cell_type": "code",
   "execution_count": 6,
   "id": "e1d54a42-0608-4ac5-8d4e-4f41036db8a8",
   "metadata": {},
   "outputs": [
    {
     "data": {
      "text/plain": [
       "SubclassModel(\n",
       "  (hidden_linear): Linear(in_features=1, out_features=13, bias=True)\n",
       "  (hidden_activation): Tanh()\n",
       "  (output_linear): Linear(in_features=13, out_features=1, bias=True)\n",
       ")"
      ]
     },
     "execution_count": 6,
     "metadata": {},
     "output_type": "execute_result"
    }
   ],
   "source": [
    "subclass_model = SubclassModel()\n",
    "subclass_model"
   ]
  },
  {
   "cell_type": "code",
   "execution_count": 7,
   "id": "dbfabe15-d927-4d56-b902-7c72e18cbcb0",
   "metadata": {},
   "outputs": [
    {
     "name": "stdout",
     "output_type": "stream",
     "text": [
      "seq\n",
      "0.weight              torch.Size([11, 1]) 11\n",
      "0.bias                torch.Size([11])    11\n",
      "2.weight              torch.Size([1, 11]) 11\n",
      "2.bias                torch.Size([1])     1\n",
      "\n",
      "namedseq\n",
      "hidden_linear.weight  torch.Size([12, 1]) 12\n",
      "hidden_linear.bias    torch.Size([12])    12\n",
      "output_linear.weight  torch.Size([1, 12]) 12\n",
      "output_linear.bias    torch.Size([1])     1\n",
      "\n",
      "subclass\n",
      "hidden_linear.weight  torch.Size([13, 1]) 13\n",
      "hidden_linear.bias    torch.Size([13])    13\n",
      "output_linear.weight  torch.Size([1, 13]) 13\n",
      "output_linear.bias    torch.Size([1])     1\n",
      "\n"
     ]
    }
   ],
   "source": [
    "for type_str, model in [('seq', seq_model),\n",
    "                        ('namedseq', namedseq_model),\n",
    "                        ('subclass', subclass_model)]:\n",
    "    print(type_str)\n",
    "    for name_str, param in model.named_parameters():\n",
    "        print('{:21} {:19} {}'.format(name_str, str(param.shape), param.numel()))\n",
    "        \n",
    "    print()"
   ]
  },
  {
   "cell_type": "code",
   "execution_count": 10,
   "id": "a5a75588-fec1-4aec-b822-ddd892c0f3f9",
   "metadata": {},
   "outputs": [],
   "source": [
    "class SubclassFunctionModel(nn.Module):\n",
    "    \n",
    "    def __init__(self):\n",
    "        super().__init__()\n",
    "        \n",
    "        self.hidden_linear = nn.Linear(1, 14)\n",
    "        \n",
    "        self.output_linear = nn.Linear(14, 1)\n",
    "        \n",
    "    def forward(self, input):\n",
    "        hidden_t = self.hidden_linear(input)\n",
    "        activated_t = torch.tanh(hidden_t)\n",
    "        output_t = self.output_linear(activated_t)\n",
    "        \n",
    "        return output_t"
   ]
  },
  {
   "cell_type": "code",
   "execution_count": 11,
   "id": "112d06a5-1b75-470b-9b15-f2efc1fddaee",
   "metadata": {},
   "outputs": [
    {
     "data": {
      "text/plain": [
       "SubclassFunctionModel(\n",
       "  (hidden_linear): Linear(in_features=1, out_features=14, bias=True)\n",
       "  (output_linear): Linear(in_features=14, out_features=1, bias=True)\n",
       ")"
      ]
     },
     "execution_count": 11,
     "metadata": {},
     "output_type": "execute_result"
    }
   ],
   "source": [
    "func_model = SubclassFunctionModel()\n",
    "func_model"
   ]
  },
  {
   "cell_type": "code",
   "execution_count": null,
   "id": "5f483b31-9644-4333-b1df-f3af70910d30",
   "metadata": {},
   "outputs": [],
   "source": []
  }
 ],
 "metadata": {
  "kernelspec": {
   "display_name": "python3.8",
   "language": "python",
   "name": "python3.8"
  },
  "language_info": {
   "codemirror_mode": {
    "name": "ipython",
    "version": 3
   },
   "file_extension": ".py",
   "mimetype": "text/x-python",
   "name": "python",
   "nbconvert_exporter": "python",
   "pygments_lexer": "ipython3",
   "version": "3.8.16"
  }
 },
 "nbformat": 4,
 "nbformat_minor": 5
}
