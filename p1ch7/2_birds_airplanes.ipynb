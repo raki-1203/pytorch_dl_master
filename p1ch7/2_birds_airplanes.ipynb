{
 "cells": [
  {
   "cell_type": "markdown",
   "id": "b6343655-0cc5-47b1-9e34-5f026523b11e",
   "metadata": {},
   "source": [
    "## 7.2 새와 비행기를 구별하기"
   ]
  },
  {
   "cell_type": "markdown",
   "id": "c14f8802-f4da-4770-8cc5-606f2e75436f",
   "metadata": {},
   "source": [
    "### 7.2.1 데이터셋 구축"
   ]
  },
  {
   "cell_type": "code",
   "execution_count": 1,
   "id": "936f0a1f-2643-4259-ac89-b197a479fcdf",
   "metadata": {},
   "outputs": [
    {
     "data": {
      "text/plain": [
       "<torch._C.Generator at 0x7fbf850763b0>"
      ]
     },
     "execution_count": 1,
     "metadata": {},
     "output_type": "execute_result"
    }
   ],
   "source": [
    "%matplotlib inline\n",
    "import matplotlib.pyplot as plt\n",
    "import numpy as np\n",
    "\n",
    "import torch\n",
    "\n",
    "torch.set_printoptions(edgeitems=2, linewidth=75)\n",
    "torch.manual_seed(123)"
   ]
  },
  {
   "cell_type": "code",
   "execution_count": 2,
   "id": "8c19ea43-8ba9-44b8-ad65-6911adbcabf0",
   "metadata": {},
   "outputs": [],
   "source": [
    "class_names = ['airplane', 'automobile', 'bird', 'cat', 'deer',\n",
    "               'dog', 'frog', 'horse', 'ship', 'truck']"
   ]
  },
  {
   "cell_type": "code",
   "execution_count": 3,
   "id": "71fabae1-c278-48ef-9e7c-a1dcf2fb983b",
   "metadata": {},
   "outputs": [],
   "source": [
    "from torchvision import datasets, transforms"
   ]
  },
  {
   "cell_type": "code",
   "execution_count": 4,
   "id": "94f6d1ac-13b6-44c8-9344-d9ef1dec4208",
   "metadata": {},
   "outputs": [],
   "source": [
    "data_path = '../data-unversioned/p1ch7/'\n",
    "cifar10 = datasets.CIFAR10(\n",
    "    data_path, train=True, download=False,\n",
    "    transform=transforms.Compose([\n",
    "        transforms.ToTensor(),\n",
    "        transforms.Normalize((0.4915, 0.4823, 0.4468), \n",
    "                             (0.2470, 0.2435, 0.2616)),\n",
    "    ])\n",
    ")"
   ]
  },
  {
   "cell_type": "code",
   "execution_count": 5,
   "id": "ed9ff2d3-c5fd-45ef-8b9c-6c62aa963935",
   "metadata": {},
   "outputs": [],
   "source": [
    "cifar10_val = datasets.CIFAR10(\n",
    "    data_path, train=False, download=False,\n",
    "    transform=transforms.Compose([\n",
    "        transforms.ToTensor(),\n",
    "        transforms.Normalize((0.4915, 0.4823, 0.4468), \n",
    "                             (0.2470, 0.2435, 0.2616)),\n",
    "    ])\n",
    ")"
   ]
  },
  {
   "cell_type": "code",
   "execution_count": 7,
   "id": "b3f66739-b0e6-4f9d-ac01-3fa0524c256a",
   "metadata": {},
   "outputs": [],
   "source": [
    "label_map = {0: 0, 2: 1}\n",
    "class_names = ['airplane', 'bird']\n",
    "cifar2 = [(img, label_map[label])\n",
    "          for img, label in cifar10\n",
    "          if label in [0, 2]]\n",
    "cifar2_val = [(img, label_map[label])\n",
    "              for img, label in cifar10_val\n",
    "              if label in [0, 2]]"
   ]
  },
  {
   "cell_type": "markdown",
   "id": "52b2e500-6aa5-4cd6-89f9-8d7c7e750318",
   "metadata": {},
   "source": [
    "### 7.2.2 완전 연결 모델"
   ]
  },
  {
   "cell_type": "code",
   "execution_count": 8,
   "id": "b354cd21-8bc0-4e40-96bf-355c4c985879",
   "metadata": {},
   "outputs": [],
   "source": [
    "import torch.nn as nn"
   ]
  },
  {
   "cell_type": "code",
   "execution_count": 9,
   "id": "fd314558-35dc-47bc-a3da-7b30faa2a2f7",
   "metadata": {},
   "outputs": [],
   "source": [
    "n_out = 2\n",
    "\n",
    "model = nn.Sequential(\n",
    "    nn.Linear(3072, 512),\n",
    "    nn.Tanh(),\n",
    "    nn.Linear(512, n_out),\n",
    ")"
   ]
  },
  {
   "cell_type": "markdown",
   "id": "dfb44b41-0f45-44ec-a84e-121ce2b2d685",
   "metadata": {},
   "source": [
    "### 7.2.3 분류기의 출력"
   ]
  },
  {
   "cell_type": "markdown",
   "id": "e3f18a8f-9234-4149-b365-4ed6dcb62931",
   "metadata": {},
   "source": [
    "### 7.2.4 출력을 확률로 표현하기"
   ]
  },
  {
   "cell_type": "code",
   "execution_count": 10,
   "id": "462535a0-3ee1-46a9-9375-d89952a638d6",
   "metadata": {},
   "outputs": [],
   "source": [
    "def softmax(x):\n",
    "    return torch.exp(x) / torch.exp(x).sum()"
   ]
  },
  {
   "cell_type": "code",
   "execution_count": 11,
   "id": "e8f6ce30-61c0-41ef-b3ce-d2dfa1dc5368",
   "metadata": {},
   "outputs": [
    {
     "data": {
      "text/plain": [
       "tensor([0.0900, 0.2447, 0.6652])"
      ]
     },
     "execution_count": 11,
     "metadata": {},
     "output_type": "execute_result"
    }
   ],
   "source": [
    "x = torch.tensor([1.0, 2.0, 3.0])\n",
    "\n",
    "softmax(x)"
   ]
  },
  {
   "cell_type": "code",
   "execution_count": 12,
   "id": "e44a28a2-3eb8-4010-8f73-e1cc77b084a1",
   "metadata": {},
   "outputs": [
    {
     "data": {
      "text/plain": [
       "tensor(1.)"
      ]
     },
     "execution_count": 12,
     "metadata": {},
     "output_type": "execute_result"
    }
   ],
   "source": [
    "softmax(x).sum()"
   ]
  },
  {
   "cell_type": "code",
   "execution_count": 13,
   "id": "2ebf7aac-ce21-4256-b0db-f9283a7ea77f",
   "metadata": {},
   "outputs": [],
   "source": [
    "softmax = nn.Softmax(dim=1)"
   ]
  },
  {
   "cell_type": "code",
   "execution_count": 14,
   "id": "79edb347-10e1-403c-a783-40570285837e",
   "metadata": {},
   "outputs": [
    {
     "data": {
      "text/plain": [
       "tensor([[0.0900, 0.2447, 0.6652],\n",
       "        [0.0900, 0.2447, 0.6652]])"
      ]
     },
     "execution_count": 14,
     "metadata": {},
     "output_type": "execute_result"
    }
   ],
   "source": [
    "x = torch.tensor([[1.0, 2.0, 3.0],\n",
    "                  [1.0, 2.0, 3.0]])\n",
    "\n",
    "softmax(x)"
   ]
  },
  {
   "cell_type": "code",
   "execution_count": 15,
   "id": "e340d022-43af-407e-8729-91b7afc3656b",
   "metadata": {},
   "outputs": [],
   "source": [
    "model = nn.Sequential(\n",
    "    nn.Linear(3072, 512),\n",
    "    nn.Tanh(),\n",
    "    nn.Linear(512, 2),\n",
    "    nn.Softmax(dim=1),\n",
    ")"
   ]
  },
  {
   "cell_type": "code",
   "execution_count": 16,
   "id": "87585376-55e6-4fc7-bf59-17b19a456e53",
   "metadata": {},
   "outputs": [
    {
     "name": "stderr",
     "output_type": "stream",
     "text": [
      "Clipping input data to the valid range for imshow with RGB data ([0..1] for floats or [0..255] for integers).\n"
     ]
    },
    {
     "data": {
      "image/png": "[encoded data removed]",
      "text/plain": [
       "<Figure size 640x480 with 1 Axes>"
      ]
     },
     "metadata": {},
     "output_type": "display_data"
    }
   ],
   "source": [
    "img, _ = cifar2[0]\n",
    "\n",
    "plt.imshow(img.permute(1, 2, 0))\n",
    "plt.show()"
   ]
  },
  {
   "cell_type": "code",
   "execution_count": 17,
   "id": "fb74e24d-0388-476b-8f28-87ca63e1dd89",
   "metadata": {},
   "outputs": [],
   "source": [
    "img_batch = img.view(-1).unsqueeze(0)"
   ]
  },
  {
   "cell_type": "code",
   "execution_count": 18,
   "id": "03c44730-c16f-4274-bd13-8959ea41bba8",
   "metadata": {},
   "outputs": [
    {
     "data": {
      "text/plain": [
       "tensor([[0.4784, 0.5216]], grad_fn=<SoftmaxBackward0>)"
      ]
     },
     "execution_count": 18,
     "metadata": {},
     "output_type": "execute_result"
    }
   ],
   "source": [
    "out = model(img_batch)\n",
    "out"
   ]
  },
  {
   "cell_type": "code",
   "execution_count": 19,
   "id": "19db56e8-2f59-453e-baf1-48c18dc8bf0b",
   "metadata": {},
   "outputs": [
    {
     "data": {
      "text/plain": [
       "tensor([1])"
      ]
     },
     "execution_count": 19,
     "metadata": {},
     "output_type": "execute_result"
    }
   ],
   "source": [
    "_, index = torch.max(out, dim=1)\n",
    "\n",
    "index"
   ]
  },
  {
   "cell_type": "markdown",
   "id": "d243c252-86ea-4bc9-843a-bd98179807ee",
   "metadata": {},
   "source": [
    "### 7.2.5 분류를 위한 손실값"
   ]
  },
  {
   "cell_type": "code",
   "execution_count": 24,
   "id": "74065306-2248-467c-bf46-2f86c964dd49",
   "metadata": {},
   "outputs": [
    {
     "data": {
      "text/plain": [
       "tensor([[1., 0.],\n",
       "        [1., 0.],\n",
       "        [0., 1.],\n",
       "        [0., 1.]])"
      ]
     },
     "execution_count": 24,
     "metadata": {},
     "output_type": "execute_result"
    }
   ],
   "source": [
    "out = torch.tensor([\n",
    "    [0.6, 0.4],\n",
    "    [0.9, 0.1],\n",
    "    [0.3, 0.7],\n",
    "    [0.2, 0.8],\n",
    "])\n",
    "\n",
    "class_index = torch.tensor([0, 0, 1, 1]).unsqueeze(1)\n",
    "\n",
    "truth = torch.zeros((4, 2))\n",
    "truth.scatter_(dim=1, index=class_index, value=1.0)\n",
    "truth"
   ]
  },
  {
   "cell_type": "code",
   "execution_count": 25,
   "id": "2e0633fc-6ecc-43e7-a336-2d3de3251761",
   "metadata": {},
   "outputs": [
    {
     "data": {
      "text/plain": [
       "tensor(0.1500)"
      ]
     },
     "execution_count": 25,
     "metadata": {},
     "output_type": "execute_result"
    }
   ],
   "source": [
    "def mse(out):\n",
    "    return ((out - truth)**2).sum(dim=1).mean()\n",
    "\n",
    "mse(out)"
   ]
  },
  {
   "cell_type": "code",
   "execution_count": 27,
   "id": "015b8e6d-29dc-468f-b608-81cbc25c7410",
   "metadata": {},
   "outputs": [
    {
     "data": {
      "text/plain": [
       "tensor([[0.6000],\n",
       "        [0.9000],\n",
       "        [0.7000],\n",
       "        [0.8000]])"
      ]
     },
     "execution_count": 27,
     "metadata": {},
     "output_type": "execute_result"
    }
   ],
   "source": [
    "out.gather(dim=1, index=class_index)"
   ]
  },
  {
   "cell_type": "code",
   "execution_count": 28,
   "id": "9dce4340-7ab8-4d4a-8490-291fb6867c77",
   "metadata": {},
   "outputs": [
    {
     "data": {
      "text/plain": [
       "tensor([0.3024])"
      ]
     },
     "execution_count": 28,
     "metadata": {},
     "output_type": "execute_result"
    }
   ],
   "source": [
    "def likelihood(out):\n",
    "    prod = 1.0\n",
    "    for x in out.gather(dim=1, index=class_index):\n",
    "        prod *= x\n",
    "    return prod\n",
    "\n",
    "likelihood(out)"
   ]
  },
  {
   "cell_type": "code",
   "execution_count": 29,
   "id": "c5598e0b-4df4-4812-96cc-553e1c51bebf",
   "metadata": {},
   "outputs": [
    {
     "data": {
      "text/plain": [
       "tensor([1.1960])"
      ]
     },
     "execution_count": 29,
     "metadata": {},
     "output_type": "execute_result"
    }
   ],
   "source": [
    "def neg_log_likelihood(out):\n",
    "    return -likelihood(out).log()\n",
    "\n",
    "neg_log_likelihood(out)"
   ]
  },
  {
   "cell_type": "code",
   "execution_count": 31,
   "id": "3f7a5d34-9729-4cf3-9d12-3d0818a1cef8",
   "metadata": {},
   "outputs": [
    {
     "data": {
      "text/plain": [
       "tensor([0.0750, 0.1500, 0.2500, 0.4750])"
      ]
     },
     "execution_count": 31,
     "metadata": {},
     "output_type": "execute_result"
    }
   ],
   "source": [
    "out0 = out.clone().detach()\n",
    "out0[0] = torch.tensor([0.9, 0.1])  # more right\n",
    "\n",
    "out2 = out.clone().detach()\n",
    "out2[0] = torch.tensor([0.4, 0.6])  # slightly wrong\n",
    "\n",
    "out3 = out.clone().detach()\n",
    "out3[0] = torch.tensor([0.1, 0.9])  # very wrong\n",
    "\n",
    "mse_comparison = torch.tensor([mse(o) for o in [out0, out, out2, out3]])\n",
    "mse_comparison"
   ]
  },
  {
   "cell_type": "code",
   "execution_count": 32,
   "id": "cb1bb488-9737-41d4-adba-dd327a18eccd",
   "metadata": {},
   "outputs": [
    {
     "data": {
      "text/plain": [
       "tensor([-50.0000,   0.0000,  66.6667, 216.6667])"
      ]
     },
     "execution_count": 32,
     "metadata": {},
     "output_type": "execute_result"
    }
   ],
   "source": [
    "((mse_comparison / mse_comparison[1]) - 1) * 100"
   ]
  },
  {
   "cell_type": "code",
   "execution_count": 33,
   "id": "43d09dfb-2dbb-4ff8-a702-4490e1536d04",
   "metadata": {},
   "outputs": [
    {
     "data": {
      "text/plain": [
       "tensor([0.7905, 1.1960, 1.6015, 2.9878])"
      ]
     },
     "execution_count": 33,
     "metadata": {},
     "output_type": "execute_result"
    }
   ],
   "source": [
    "nll_comparison = torch.tensor([neg_log_likelihood(o)\n",
    "                               for o in [out0, out, out2, out3]])\n",
    "nll_comparison"
   ]
  },
  {
   "cell_type": "code",
   "execution_count": 34,
   "id": "00b383e6-3b1e-4298-b04b-381de04b4851",
   "metadata": {},
   "outputs": [
    {
     "data": {
      "text/plain": [
       "tensor([-33.9016,   0.0000,  33.9016, 149.8121])"
      ]
     },
     "execution_count": 34,
     "metadata": {},
     "output_type": "execute_result"
    }
   ],
   "source": [
    "((nll_comparison / nll_comparison[1]) - 1) * 100"
   ]
  },
  {
   "cell_type": "code",
   "execution_count": 36,
   "id": "4bd648a2-d812-4bdb-881d-8a6a7ee9ac0b",
   "metadata": {},
   "outputs": [
    {
     "data": {
      "text/plain": [
       "tensor([[0., 1.]])"
      ]
     },
     "execution_count": 36,
     "metadata": {},
     "output_type": "execute_result"
    }
   ],
   "source": [
    "softmax = nn.Softmax(dim=1)\n",
    "\n",
    "log_softmax = nn.LogSoftmax(dim=1)\n",
    "\n",
    "x = torch.tensor([[0.0 , 104.0]])\n",
    "\n",
    "softmax(x)"
   ]
  },
  {
   "cell_type": "code",
   "execution_count": 37,
   "id": "a15cbe98-8f77-4ab8-936a-81231138c24b",
   "metadata": {},
   "outputs": [
    {
     "data": {
      "text/plain": [
       "tensor([[-inf, 0.]])"
      ]
     },
     "execution_count": 37,
     "metadata": {},
     "output_type": "execute_result"
    }
   ],
   "source": [
    "torch.log(softmax(x))"
   ]
  },
  {
   "cell_type": "code",
   "execution_count": 38,
   "id": "27e2c801-2322-4f00-b22c-a363ed9f289e",
   "metadata": {},
   "outputs": [
    {
     "data": {
      "text/plain": [
       "tensor([[-104.,    0.]])"
      ]
     },
     "execution_count": 38,
     "metadata": {},
     "output_type": "execute_result"
    }
   ],
   "source": [
    "log_softmax(x)"
   ]
  },
  {
   "cell_type": "code",
   "execution_count": 39,
   "id": "23b88904-95fd-4233-859f-235077eb92ef",
   "metadata": {},
   "outputs": [
    {
     "data": {
      "text/plain": [
       "tensor([[0., 1.]])"
      ]
     },
     "execution_count": 39,
     "metadata": {},
     "output_type": "execute_result"
    }
   ],
   "source": [
    "torch.exp(log_softmax(x))"
   ]
  },
  {
   "cell_type": "code",
   "execution_count": 20,
   "id": "c88f7dc8-0006-4c52-bfff-4875f5fc748e",
   "metadata": {},
   "outputs": [],
   "source": [
    "model = nn.Sequential(\n",
    "    nn.Linear(3072, 512),\n",
    "    nn.Tanh(),\n",
    "    nn.Linear(512, 2),\n",
    "    nn.LogSoftmax(dim=1),\n",
    ")"
   ]
  },
  {
   "cell_type": "code",
   "execution_count": 21,
   "id": "c3ed2d0a-8c67-4b64-b6ed-755079e1100f",
   "metadata": {},
   "outputs": [],
   "source": [
    "loss = nn.NLLLoss()"
   ]
  },
  {
   "cell_type": "code",
   "execution_count": 22,
   "id": "7c857072-c6c5-46ae-9149-65b1714ecdc4",
   "metadata": {},
   "outputs": [
    {
     "data": {
      "text/plain": [
       "tensor(0.5077, grad_fn=<NllLossBackward0>)"
      ]
     },
     "execution_count": 22,
     "metadata": {},
     "output_type": "execute_result"
    }
   ],
   "source": [
    "img, label = cifar2[0]\n",
    "\n",
    "out = model(img.view(-1).unsqueeze(0))\n",
    "\n",
    "loss(out, torch.tensor([label]))"
   ]
  },
  {
   "cell_type": "markdown",
   "id": "8b55c26b-032a-4ec4-8c5d-dc261f759a07",
   "metadata": {},
   "source": [
    "### 7.2.6 분류기 훈련"
   ]
  },
  {
   "cell_type": "code",
   "execution_count": 40,
   "id": "04bfd9ca-e27b-4f55-989e-7a9a0c70073a",
   "metadata": {},
   "outputs": [],
   "source": [
    "import torch\n",
    "import torch.nn as nn\n",
    "import torch.optim as optim"
   ]
  },
  {
   "cell_type": "code",
   "execution_count": 41,
   "id": "9fc0d02f-9771-43ca-8bda-9e0f92310921",
   "metadata": {},
   "outputs": [
    {
     "name": "stdout",
     "output_type": "stream",
     "text": [
      "Epoch: 0, Loss: 8.307038\n",
      "Epoch: 1, Loss: 5.457431\n",
      "Epoch: 2, Loss: 3.882373\n",
      "Epoch: 3, Loss: 3.154704\n",
      "Epoch: 4, Loss: 11.443868\n",
      "Epoch: 5, Loss: 7.831904\n",
      "Epoch: 6, Loss: 0.055682\n",
      "Epoch: 7, Loss: 7.118860\n",
      "Epoch: 8, Loss: 6.412682\n",
      "Epoch: 9, Loss: 5.462630\n",
      "Epoch: 10, Loss: 6.324239\n",
      "Epoch: 11, Loss: 8.132204\n",
      "Epoch: 12, Loss: 4.478361\n",
      "Epoch: 13, Loss: 0.397974\n",
      "Epoch: 14, Loss: 3.924431\n",
      "Epoch: 15, Loss: 6.191980\n",
      "Epoch: 16, Loss: 4.834426\n",
      "Epoch: 17, Loss: 6.948432\n",
      "Epoch: 18, Loss: 0.884499\n",
      "Epoch: 19, Loss: 10.726386\n",
      "Epoch: 20, Loss: 8.787334\n",
      "Epoch: 21, Loss: 5.266410\n",
      "Epoch: 22, Loss: 7.096104\n",
      "Epoch: 23, Loss: 4.407344\n",
      "Epoch: 24, Loss: 6.470562\n",
      "Epoch: 25, Loss: 10.756291\n",
      "Epoch: 26, Loss: 16.045588\n",
      "Epoch: 27, Loss: 13.241747\n",
      "Epoch: 28, Loss: 8.135650\n",
      "Epoch: 29, Loss: 9.221145\n",
      "Epoch: 30, Loss: 11.256797\n",
      "Epoch: 31, Loss: 13.286485\n",
      "Epoch: 32, Loss: 14.590942\n",
      "Epoch: 33, Loss: 19.243477\n",
      "Epoch: 34, Loss: 7.613646\n",
      "Epoch: 35, Loss: 8.939101\n",
      "Epoch: 36, Loss: 5.921707\n",
      "Epoch: 37, Loss: 7.737715\n",
      "Epoch: 38, Loss: 10.683874\n",
      "Epoch: 39, Loss: 6.302479\n",
      "Epoch: 40, Loss: 15.454903\n",
      "Epoch: 41, Loss: 4.501896\n",
      "Epoch: 42, Loss: 0.014458\n",
      "Epoch: 43, Loss: 5.627636\n",
      "Epoch: 44, Loss: 13.283578\n",
      "Epoch: 45, Loss: 7.289899\n",
      "Epoch: 46, Loss: 17.841761\n",
      "Epoch: 47, Loss: 5.574378\n",
      "Epoch: 48, Loss: 16.024536\n",
      "Epoch: 49, Loss: 10.188716\n",
      "Epoch: 50, Loss: 8.278514\n",
      "Epoch: 51, Loss: 0.831824\n",
      "Epoch: 52, Loss: 0.090203\n",
      "Epoch: 53, Loss: 6.976837\n",
      "Epoch: 54, Loss: 5.525522\n",
      "Epoch: 55, Loss: 7.146000\n",
      "Epoch: 56, Loss: 10.842909\n",
      "Epoch: 57, Loss: 8.857367\n",
      "Epoch: 58, Loss: 11.958219\n",
      "Epoch: 59, Loss: 9.046844\n",
      "Epoch: 60, Loss: 13.173420\n",
      "Epoch: 61, Loss: 12.924408\n",
      "Epoch: 62, Loss: 7.175578\n",
      "Epoch: 63, Loss: 10.324291\n",
      "Epoch: 64, Loss: 18.187366\n",
      "Epoch: 65, Loss: 17.042473\n",
      "Epoch: 66, Loss: 15.801579\n",
      "Epoch: 67, Loss: 7.656318\n",
      "Epoch: 68, Loss: 6.750770\n",
      "Epoch: 69, Loss: 16.122250\n",
      "Epoch: 70, Loss: 15.059435\n",
      "Epoch: 71, Loss: 11.102892\n",
      "Epoch: 72, Loss: 16.944075\n",
      "Epoch: 73, Loss: 11.915767\n",
      "Epoch: 74, Loss: 7.378919\n",
      "Epoch: 75, Loss: 17.355034\n",
      "Epoch: 76, Loss: 13.972976\n",
      "Epoch: 77, Loss: 16.009201\n",
      "Epoch: 78, Loss: 15.350540\n",
      "Epoch: 79, Loss: 23.867161\n",
      "Epoch: 80, Loss: 27.666374\n",
      "Epoch: 81, Loss: 8.405586\n",
      "Epoch: 82, Loss: 4.449419\n",
      "Epoch: 83, Loss: 11.115731\n",
      "Epoch: 84, Loss: 3.102489\n",
      "Epoch: 85, Loss: 0.083001\n",
      "Epoch: 86, Loss: 5.213762\n",
      "Epoch: 87, Loss: 10.287248\n",
      "Epoch: 88, Loss: 3.234745\n",
      "Epoch: 89, Loss: 8.348825\n",
      "Epoch: 90, Loss: 0.771752\n",
      "Epoch: 91, Loss: 10.688971\n",
      "Epoch: 92, Loss: 6.329175\n",
      "Epoch: 93, Loss: 7.013631\n",
      "Epoch: 94, Loss: 0.126584\n",
      "Epoch: 95, Loss: 1.748496\n",
      "Epoch: 96, Loss: 0.000046\n",
      "Epoch: 97, Loss: 18.159552\n",
      "Epoch: 98, Loss: 16.878725\n",
      "Epoch: 99, Loss: 19.723660\n"
     ]
    }
   ],
   "source": [
    "model = nn.Sequential(\n",
    "    nn.Linear(3072, 512),\n",
    "    nn.Tanh(),\n",
    "    nn.Linear(512, 2),\n",
    "    nn.LogSoftmax(dim=1),\n",
    ")\n",
    "\n",
    "learning_rate = 1e-2\n",
    "\n",
    "optimizer = optim.SGD(model.parameters(), lr=learning_rate)\n",
    "\n",
    "loss_fn = nn.NLLLoss()\n",
    "\n",
    "n_epochs = 100\n",
    "\n",
    "for epoch in range(n_epochs):\n",
    "    for img, label in cifar2:\n",
    "        out = model(img.view(-1).unsqueeze(0))\n",
    "        loss = loss_fn(out, torch.tensor([label]))\n",
    "        \n",
    "        optimizer.zero_grad()\n",
    "        loss.backward()\n",
    "        optimizer.step()\n",
    "        \n",
    "    print('Epoch: %d, Loss: %f' % (epoch, float(loss)))"
   ]
  },
  {
   "cell_type": "code",
   "execution_count": 42,
   "id": "4cabdb3f-4788-4208-aefc-58cd54c5ac9d",
   "metadata": {},
   "outputs": [],
   "source": [
    "train_loader = torch.utils.data.DataLoader(cifar2, batch_size=64, shuffle=True)"
   ]
  },
  {
   "cell_type": "code",
   "execution_count": 44,
   "id": "a97f8b5c-5c80-4939-81e4-f675cb00798e",
   "metadata": {},
   "outputs": [
    {
     "name": "stdout",
     "output_type": "stream",
     "text": [
      "Epoch: 0, Loss: 0.397572\n",
      "Epoch: 1, Loss: 0.538591\n",
      "Epoch: 2, Loss: 0.604014\n",
      "Epoch: 3, Loss: 0.312301\n",
      "Epoch: 4, Loss: 0.222018\n",
      "Epoch: 5, Loss: 0.426519\n",
      "Epoch: 6, Loss: 0.461691\n",
      "Epoch: 7, Loss: 0.262630\n",
      "Epoch: 8, Loss: 0.332231\n",
      "Epoch: 9, Loss: 0.280448\n",
      "Epoch: 10, Loss: 0.565670\n",
      "Epoch: 11, Loss: 0.659396\n",
      "Epoch: 12, Loss: 0.324872\n",
      "Epoch: 13, Loss: 0.382447\n",
      "Epoch: 14, Loss: 0.320156\n",
      "Epoch: 15, Loss: 0.456478\n",
      "Epoch: 16, Loss: 0.282852\n",
      "Epoch: 17, Loss: 0.277185\n",
      "Epoch: 18, Loss: 0.309715\n",
      "Epoch: 19, Loss: 0.375523\n",
      "Epoch: 20, Loss: 0.280217\n",
      "Epoch: 21, Loss: 0.584804\n",
      "Epoch: 22, Loss: 0.334413\n",
      "Epoch: 23, Loss: 0.333861\n",
      "Epoch: 24, Loss: 0.473030\n",
      "Epoch: 25, Loss: 0.195316\n",
      "Epoch: 26, Loss: 0.334505\n",
      "Epoch: 27, Loss: 0.151914\n",
      "Epoch: 28, Loss: 0.205874\n",
      "Epoch: 29, Loss: 0.387692\n",
      "Epoch: 30, Loss: 0.107604\n",
      "Epoch: 31, Loss: 0.149629\n",
      "Epoch: 32, Loss: 0.139355\n",
      "Epoch: 33, Loss: 0.184131\n",
      "Epoch: 34, Loss: 0.085184\n",
      "Epoch: 35, Loss: 0.111466\n",
      "Epoch: 36, Loss: 0.260271\n",
      "Epoch: 37, Loss: 0.058575\n",
      "Epoch: 38, Loss: 0.211103\n",
      "Epoch: 39, Loss: 0.140886\n",
      "Epoch: 40, Loss: 0.082442\n",
      "Epoch: 41, Loss: 0.038757\n",
      "Epoch: 42, Loss: 0.139243\n",
      "Epoch: 43, Loss: 0.129300\n",
      "Epoch: 44, Loss: 0.219387\n",
      "Epoch: 45, Loss: 0.079474\n",
      "Epoch: 46, Loss: 0.147153\n",
      "Epoch: 47, Loss: 0.038621\n",
      "Epoch: 48, Loss: 0.078204\n",
      "Epoch: 49, Loss: 0.111860\n",
      "Epoch: 50, Loss: 0.029463\n",
      "Epoch: 51, Loss: 0.102406\n",
      "Epoch: 52, Loss: 0.157102\n",
      "Epoch: 53, Loss: 0.059313\n",
      "Epoch: 54, Loss: 0.059981\n",
      "Epoch: 55, Loss: 0.031619\n",
      "Epoch: 56, Loss: 0.094689\n",
      "Epoch: 57, Loss: 0.091875\n",
      "Epoch: 58, Loss: 0.074180\n",
      "Epoch: 59, Loss: 0.038429\n",
      "Epoch: 60, Loss: 0.081032\n",
      "Epoch: 61, Loss: 0.043699\n",
      "Epoch: 62, Loss: 0.038102\n",
      "Epoch: 63, Loss: 0.059568\n",
      "Epoch: 64, Loss: 0.145329\n",
      "Epoch: 65, Loss: 0.148000\n",
      "Epoch: 66, Loss: 0.017771\n",
      "Epoch: 67, Loss: 0.016965\n",
      "Epoch: 68, Loss: 0.083780\n",
      "Epoch: 69, Loss: 0.033071\n",
      "Epoch: 70, Loss: 0.041524\n",
      "Epoch: 71, Loss: 0.015812\n",
      "Epoch: 72, Loss: 0.024443\n",
      "Epoch: 73, Loss: 0.011175\n",
      "Epoch: 74, Loss: 0.040881\n",
      "Epoch: 75, Loss: 0.024124\n",
      "Epoch: 76, Loss: 0.025873\n",
      "Epoch: 77, Loss: 0.033796\n",
      "Epoch: 78, Loss: 0.055623\n",
      "Epoch: 79, Loss: 0.023858\n",
      "Epoch: 80, Loss: 0.013644\n",
      "Epoch: 81, Loss: 0.035127\n",
      "Epoch: 82, Loss: 0.037295\n",
      "Epoch: 83, Loss: 0.010164\n",
      "Epoch: 84, Loss: 0.016140\n",
      "Epoch: 85, Loss: 0.043471\n",
      "Epoch: 86, Loss: 0.071863\n",
      "Epoch: 87, Loss: 0.028772\n",
      "Epoch: 88, Loss: 0.013519\n",
      "Epoch: 89, Loss: 0.014976\n",
      "Epoch: 90, Loss: 0.009498\n",
      "Epoch: 91, Loss: 0.013286\n",
      "Epoch: 92, Loss: 0.058399\n",
      "Epoch: 93, Loss: 0.014791\n",
      "Epoch: 94, Loss: 0.010342\n",
      "Epoch: 95, Loss: 0.010265\n",
      "Epoch: 96, Loss: 0.017026\n",
      "Epoch: 97, Loss: 0.045209\n",
      "Epoch: 98, Loss: 0.010710\n",
      "Epoch: 99, Loss: 0.011472\n"
     ]
    }
   ],
   "source": [
    "import torch\n",
    "import torch.nn as nn\n",
    "import torch.optim as optim\n",
    "\n",
    "train_loader = torch.utils.data.DataLoader(cifar2, batch_size=64, shuffle=True)\n",
    "\n",
    "model = nn.Sequential(\n",
    "    nn.Linear(3072, 512),\n",
    "    nn.Tanh(),\n",
    "    nn.Linear(512, 2),\n",
    "    nn.LogSoftmax(dim=1),\n",
    ")\n",
    "\n",
    "learning_rate= 1e-2\n",
    "\n",
    "optimizer = optim.SGD(model.parameters(), lr=learning_rate)\n",
    "\n",
    "loss_fn = nn.NLLLoss()\n",
    "\n",
    "n_epochs = 100\n",
    "\n",
    "for epoch in range(n_epochs):\n",
    "    for imgs, labels in train_loader:\n",
    "        outputs = model(imgs.view(imgs.shape[0], -1))\n",
    "        loss = loss_fn(outputs, labels)\n",
    "        \n",
    "        optimizer.zero_grad()\n",
    "        loss.backward()\n",
    "        optimizer.step()\n",
    "        \n",
    "    print('Epoch: %d, Loss: %f' % (epoch, float(loss)))"
   ]
  },
  {
   "cell_type": "code",
   "execution_count": 45,
   "id": "36c7602c-8096-4846-b75c-e480393fdeae",
   "metadata": {},
   "outputs": [
    {
     "name": "stdout",
     "output_type": "stream",
     "text": [
      "Accuracy: 0.998100\n"
     ]
    }
   ],
   "source": [
    "train_loader = torch.utils.data.DataLoader(cifar2, batch_size=64, shuffle=False)\n",
    "\n",
    "correct = 0\n",
    "total = 0\n",
    "\n",
    "with torch.no_grad():\n",
    "    for imgs, labels in train_loader:\n",
    "        outputs = model(imgs.view(imgs.shape[0], -1))\n",
    "        _, predicted = torch.max(outputs, dim=1)\n",
    "        total += labels.shape[0]\n",
    "        correct += int((predicted == labels).sum())\n",
    "        \n",
    "print('Accuracy: %f' % (correct / total))"
   ]
  },
  {
   "cell_type": "code",
   "execution_count": 46,
   "id": "53782e89-f0b0-48ad-87ae-298cc7f3e08f",
   "metadata": {},
   "outputs": [
    {
     "name": "stdout",
     "output_type": "stream",
     "text": [
      "Accuracy: 0.824000\n"
     ]
    }
   ],
   "source": [
    "val_loader = torch.utils.data.DataLoader(cifar2_val, batch_size=64, shuffle=False)\n",
    "\n",
    "correct = 0\n",
    "total = 0\n",
    "\n",
    "with torch.no_grad():\n",
    "    for imgs, labels in val_loader:\n",
    "        outputs = model(imgs.view(imgs.shape[0], -1))\n",
    "        _, predicted = torch.max(outputs, dim=1)\n",
    "        total += labels.shape[0]\n",
    "        correct += int((predicted == labels).sum())\n",
    "        \n",
    "print('Accuracy: %f' % (correct / total))"
   ]
  },
  {
   "cell_type": "code",
   "execution_count": 47,
   "id": "4d756db8-0ccf-45f5-9625-097b269ec97b",
   "metadata": {},
   "outputs": [],
   "source": [
    "model = nn.Sequential(\n",
    "    nn.Linear(3072, 1024),\n",
    "    nn.Tanh(),\n",
    "    nn.Linear(1024, 512),\n",
    "    nn.Tanh(),\n",
    "    nn.Linear(512, 128),\n",
    "    nn.Tanh(),\n",
    "    nn.Linear(128, 2),\n",
    "    nn.LogSoftmax(dim=1),\n",
    ")"
   ]
  },
  {
   "cell_type": "code",
   "execution_count": 49,
   "id": "04462bb9-2c04-4afd-902f-80bd4e140bb0",
   "metadata": {},
   "outputs": [],
   "source": [
    "model = nn.Sequential(\n",
    "    nn.Linear(3072, 1024),\n",
    "    nn.Tanh(),\n",
    "    nn.Linear(1024, 512),\n",
    "    nn.Tanh(),\n",
    "    nn.Linear(512, 128),\n",
    "    nn.Tanh(),\n",
    "    nn.Linear(128, 2),\n",
    ")\n",
    "\n",
    "loss_fn = nn.CrossEntropyLoss()"
   ]
  },
  {
   "cell_type": "code",
   "execution_count": 51,
   "id": "8d16a78a-499b-433e-8af4-989e6b631a97",
   "metadata": {},
   "outputs": [
    {
     "name": "stdout",
     "output_type": "stream",
     "text": [
      "Epoch: 0, Loss: 0.455609\n",
      "Epoch: 1, Loss: 0.391482\n",
      "Epoch: 2, Loss: 0.283724\n",
      "Epoch: 3, Loss: 0.213154\n",
      "Epoch: 4, Loss: 0.329904\n",
      "Epoch: 5, Loss: 0.467958\n",
      "Epoch: 6, Loss: 0.557676\n",
      "Epoch: 7, Loss: 0.248211\n",
      "Epoch: 8, Loss: 0.417725\n",
      "Epoch: 9, Loss: 0.378215\n",
      "Epoch: 10, Loss: 0.277747\n",
      "Epoch: 11, Loss: 0.413051\n",
      "Epoch: 12, Loss: 0.280609\n",
      "Epoch: 13, Loss: 0.332915\n",
      "Epoch: 14, Loss: 0.380871\n",
      "Epoch: 15, Loss: 0.321482\n",
      "Epoch: 16, Loss: 0.280717\n",
      "Epoch: 17, Loss: 0.301373\n",
      "Epoch: 18, Loss: 0.184985\n",
      "Epoch: 19, Loss: 0.291908\n",
      "Epoch: 20, Loss: 0.403512\n",
      "Epoch: 21, Loss: 0.237246\n",
      "Epoch: 22, Loss: 0.200415\n",
      "Epoch: 23, Loss: 0.298543\n",
      "Epoch: 24, Loss: 0.234256\n",
      "Epoch: 25, Loss: 0.088164\n",
      "Epoch: 26, Loss: 0.354694\n",
      "Epoch: 27, Loss: 0.257752\n",
      "Epoch: 28, Loss: 0.246270\n",
      "Epoch: 29, Loss: 0.368417\n",
      "Epoch: 30, Loss: 0.143550\n",
      "Epoch: 31, Loss: 0.294702\n",
      "Epoch: 32, Loss: 0.390204\n",
      "Epoch: 33, Loss: 0.154977\n",
      "Epoch: 34, Loss: 0.189191\n",
      "Epoch: 35, Loss: 0.133256\n",
      "Epoch: 36, Loss: 0.131026\n",
      "Epoch: 37, Loss: 0.302202\n",
      "Epoch: 38, Loss: 0.430130\n",
      "Epoch: 39, Loss: 0.071477\n",
      "Epoch: 40, Loss: 0.125742\n",
      "Epoch: 41, Loss: 0.104694\n",
      "Epoch: 42, Loss: 0.083889\n",
      "Epoch: 43, Loss: 0.208669\n",
      "Epoch: 44, Loss: 0.038344\n",
      "Epoch: 45, Loss: 0.009712\n",
      "Epoch: 46, Loss: 0.019406\n",
      "Epoch: 47, Loss: 0.034972\n",
      "Epoch: 48, Loss: 0.108118\n",
      "Epoch: 49, Loss: 0.062763\n",
      "Epoch: 50, Loss: 0.012383\n",
      "Epoch: 51, Loss: 0.031641\n",
      "Epoch: 52, Loss: 0.101335\n",
      "Epoch: 53, Loss: 0.135593\n",
      "Epoch: 54, Loss: 0.155177\n",
      "Epoch: 55, Loss: 0.017377\n",
      "Epoch: 56, Loss: 0.154206\n",
      "Epoch: 57, Loss: 0.012246\n",
      "Epoch: 58, Loss: 0.206172\n",
      "Epoch: 59, Loss: 0.008734\n",
      "Epoch: 60, Loss: 0.032659\n",
      "Epoch: 61, Loss: 0.003805\n",
      "Epoch: 62, Loss: 0.173622\n",
      "Epoch: 63, Loss: 0.028292\n",
      "Epoch: 64, Loss: 0.003169\n",
      "Epoch: 65, Loss: 0.021099\n",
      "Epoch: 66, Loss: 0.004850\n",
      "Epoch: 67, Loss: 0.006893\n",
      "Epoch: 68, Loss: 0.010919\n",
      "Epoch: 69, Loss: 0.113001\n",
      "Epoch: 70, Loss: 0.010116\n",
      "Epoch: 71, Loss: 0.032514\n",
      "Epoch: 72, Loss: 0.014815\n",
      "Epoch: 73, Loss: 0.003393\n",
      "Epoch: 74, Loss: 0.002167\n",
      "Epoch: 75, Loss: 0.004816\n",
      "Epoch: 76, Loss: 0.047575\n",
      "Epoch: 77, Loss: 0.005767\n",
      "Epoch: 78, Loss: 0.000502\n",
      "Epoch: 79, Loss: 0.004258\n",
      "Epoch: 80, Loss: 0.006527\n",
      "Epoch: 81, Loss: 0.004993\n",
      "Epoch: 82, Loss: 0.003177\n",
      "Epoch: 83, Loss: 0.003229\n",
      "Epoch: 84, Loss: 0.001605\n",
      "Epoch: 85, Loss: 0.001516\n",
      "Epoch: 86, Loss: 0.008126\n",
      "Epoch: 87, Loss: 0.000673\n",
      "Epoch: 88, Loss: 0.001042\n",
      "Epoch: 89, Loss: 0.000570\n",
      "Epoch: 90, Loss: 0.004933\n",
      "Epoch: 91, Loss: 0.002185\n",
      "Epoch: 92, Loss: 0.000595\n",
      "Epoch: 93, Loss: 0.000878\n",
      "Epoch: 94, Loss: 0.000861\n",
      "Epoch: 95, Loss: 0.001193\n",
      "Epoch: 96, Loss: 0.000950\n",
      "Epoch: 97, Loss: 0.004699\n",
      "Epoch: 98, Loss: 0.002551\n",
      "Epoch: 99, Loss: 0.000648\n"
     ]
    }
   ],
   "source": [
    "import torch\n",
    "import torch.nn as nn\n",
    "import torch.optim as optim\n",
    "\n",
    "train_loader = torch.utils.data.DataLoader(cifar2, batch_size=64, shuffle=True)\n",
    "\n",
    "model = nn.Sequential(\n",
    "    nn.Linear(3072, 1024),\n",
    "    nn.Tanh(),\n",
    "    nn.Linear(1024, 512),\n",
    "    nn.Tanh(),\n",
    "    nn.Linear(512, 128),\n",
    "    nn.Tanh(),\n",
    "    nn.Linear(128, 2),\n",
    ")\n",
    "\n",
    "learning_rate = 1e-2\n",
    "\n",
    "optimizer = optim.SGD(model.parameters(), lr=learning_rate)\n",
    "\n",
    "loss_fn = nn.CrossEntropyLoss()\n",
    "\n",
    "n_epochs = 100\n",
    "\n",
    "for epoch in range(n_epochs):\n",
    "    for imgs, labels in train_loader:\n",
    "        outputs = model(imgs.view(imgs.shape[0], -1))\n",
    "        loss = loss_fn(outputs, labels)\n",
    "        \n",
    "        optimizer.zero_grad()\n",
    "        loss.backward()\n",
    "        optimizer.step()\n",
    "        \n",
    "    print('Epoch: %d, Loss: %f' % (epoch, float(loss)))"
   ]
  },
  {
   "cell_type": "code",
   "execution_count": 52,
   "id": "274a6285-5826-4552-8998-ddc083cff511",
   "metadata": {},
   "outputs": [
    {
     "name": "stdout",
     "output_type": "stream",
     "text": [
      "Accuracy: 1.000000\n"
     ]
    }
   ],
   "source": [
    "train_loader = torch.utils.data.DataLoader(cifar2, batch_size=64, shuffle=False)\n",
    "\n",
    "correct = 0\n",
    "total = 0\n",
    "\n",
    "with torch.no_grad():\n",
    "    for imgs, labels in train_loader:\n",
    "        outputs = model(imgs.view(imgs.shape[0], -1))\n",
    "        _, predicted = torch.max(outputs, dim=1)\n",
    "        total += labels.shape[0]\n",
    "        correct += int((predicted == labels).sum())\n",
    "        \n",
    "print('Accuracy: %f' % (correct / total))"
   ]
  },
  {
   "cell_type": "code",
   "execution_count": 53,
   "id": "a3f13024-9e4e-45b3-8fe4-b50e63aa565c",
   "metadata": {},
   "outputs": [
    {
     "name": "stdout",
     "output_type": "stream",
     "text": [
      "Accuracy: 0.804500\n"
     ]
    }
   ],
   "source": [
    "val_loader = torch.utils.data.DataLoader(cifar2_val, batch_size=64, shuffle=False)\n",
    "\n",
    "correct = 0\n",
    "total = 0\n",
    "\n",
    "with torch.no_grad():\n",
    "    for imgs, labels in val_loader:\n",
    "        outputs = model(imgs.view(imgs.shape[0], -1))\n",
    "        _, predicted = torch.max(outputs, dim=1)\n",
    "        total += labels.shape[0]\n",
    "        correct += int((predicted == labels).sum())\n",
    "        \n",
    "print('Accuracy: %f' % (correct / total))"
   ]
  },
  {
   "cell_type": "code",
   "execution_count": 59,
   "id": "5a21a73b-f11f-4c03-b08d-b179db62df43",
   "metadata": {},
   "outputs": [
    {
     "data": {
      "text/plain": [
       "(3737474, [3145728, 1024, 524288, 512, 65536, 128, 256, 2])"
      ]
     },
     "execution_count": 59,
     "metadata": {},
     "output_type": "execute_result"
    }
   ],
   "source": [
    "numel_list = [p.numel() for p in model.parameters()]\n",
    "sum(numel_list), numel_list"
   ]
  },
  {
   "cell_type": "code",
   "execution_count": 60,
   "id": "f697c552-f592-46e2-ab4b-af84c7b45fbb",
   "metadata": {},
   "outputs": [
    {
     "data": {
      "text/plain": [
       "(3737474, [3145728, 1024, 524288, 512, 65536, 128, 256, 2])"
      ]
     },
     "execution_count": 60,
     "metadata": {},
     "output_type": "execute_result"
    }
   ],
   "source": [
    "numel_list = [p.numel() for p in model.parameters() if p.requires_grad == True]\n",
    "sum(numel_list), numel_list"
   ]
  },
  {
   "cell_type": "code",
   "execution_count": 61,
   "id": "4b8f078b-59ed-486d-ac05-b897335bc123",
   "metadata": {},
   "outputs": [
    {
     "data": {
      "text/plain": [
       "(1574402, [1572864, 512, 1024, 2])"
      ]
     },
     "execution_count": 61,
     "metadata": {},
     "output_type": "execute_result"
    }
   ],
   "source": [
    "first_model = nn.Sequential(\n",
    "    nn.Linear(3072, 512),\n",
    "    nn.Tanh(),\n",
    "    nn.Linear(512, 2),\n",
    "    nn.LogSoftmax(dim=1),\n",
    ")\n",
    "\n",
    "first_model_numel_list = [p.numel() for p in first_model.parameters() if p.requires_grad == True]\n",
    "sum(first_model_numel_list), first_model_numel_list"
   ]
  },
  {
   "cell_type": "code",
   "execution_count": 62,
   "id": "4361dfd7-d1b5-42a1-8001-cce01a9162f8",
   "metadata": {},
   "outputs": [
    {
     "data": {
      "text/plain": [
       "1573376"
      ]
     },
     "execution_count": 62,
     "metadata": {},
     "output_type": "execute_result"
    }
   ],
   "source": [
    "sum([p.numel() for p in nn.Linear(3072, 512).parameters()])"
   ]
  },
  {
   "cell_type": "code",
   "execution_count": 63,
   "id": "20477ba0-014b-491c-85d6-fe375cc1a5d9",
   "metadata": {},
   "outputs": [
    {
     "data": {
      "text/plain": [
       "3146752"
      ]
     },
     "execution_count": 63,
     "metadata": {},
     "output_type": "execute_result"
    }
   ],
   "source": [
    "sum([p.numel() for p in nn.Linear(3072, 1024).parameters()])"
   ]
  },
  {
   "cell_type": "code",
   "execution_count": 64,
   "id": "1b0a2c86-871c-4242-8acd-2e50034bc9b5",
   "metadata": {},
   "outputs": [
    {
     "data": {
      "text/plain": [
       "(torch.Size([1024, 3072]), torch.Size([1024]))"
      ]
     },
     "execution_count": 64,
     "metadata": {},
     "output_type": "execute_result"
    }
   ],
   "source": [
    "linear = nn.Linear(3072, 1024)\n",
    "\n",
    "linear.weight.shape, linear.bias.shape"
   ]
  },
  {
   "cell_type": "markdown",
   "id": "82e6a1f4-15c9-4ad1-9edf-405b3abc38dc",
   "metadata": {},
   "source": [
    "### 7.2.7 완전 연결의 한계"
   ]
  },
  {
   "cell_type": "code",
   "execution_count": 65,
   "id": "fdf0a194-95a9-4acf-99e5-835a68ba821a",
   "metadata": {},
   "outputs": [],
   "source": [
    "conv = nn.Conv2d(3, 16, kernel_size=3)"
   ]
  },
  {
   "cell_type": "code",
   "execution_count": 66,
   "id": "5842c04a-a177-4a7f-a810-a3eb8a8a60d5",
   "metadata": {},
   "outputs": [
    {
     "data": {
      "text/plain": [
       "torch.Size([16, 3, 3, 3])"
      ]
     },
     "execution_count": 66,
     "metadata": {},
     "output_type": "execute_result"
    }
   ],
   "source": [
    "conv.weight.shape"
   ]
  },
  {
   "cell_type": "code",
   "execution_count": 67,
   "id": "74457ff3-2fb4-49d2-abf4-64dcefb0ff17",
   "metadata": {},
   "outputs": [
    {
     "data": {
      "text/plain": [
       "torch.Size([16])"
      ]
     },
     "execution_count": 67,
     "metadata": {},
     "output_type": "execute_result"
    }
   ],
   "source": [
    "conv.bias.shape"
   ]
  },
  {
   "cell_type": "code",
   "execution_count": 68,
   "id": "053103fa-6aad-44c9-80d9-1e786c7faddc",
   "metadata": {},
   "outputs": [],
   "source": [
    "img, _ = cifar2[0]\n",
    "\n",
    "output = conv(img.unsqueeze(0))"
   ]
  },
  {
   "cell_type": "code",
   "execution_count": 69,
   "id": "7857b37d-0b2e-4612-b628-814991a8d012",
   "metadata": {},
   "outputs": [
    {
     "data": {
      "text/plain": [
       "(torch.Size([1, 3, 32, 32]), torch.Size([1, 16, 30, 30]))"
      ]
     },
     "execution_count": 69,
     "metadata": {},
     "output_type": "execute_result"
    }
   ],
   "source": [
    "img.unsqueeze(0).shape, output.shape"
   ]
  },
  {
   "cell_type": "code",
   "execution_count": 70,
   "id": "21ad8a48-b562-43b9-b044-87a023086768",
   "metadata": {},
   "outputs": [
    {
     "name": "stderr",
     "output_type": "stream",
     "text": [
      "Clipping input data to the valid range for imshow with RGB data ([0..1] for floats or [0..255] for integers).\n"
     ]
    },
    {
     "data": {
      "image/png": "[encoded data removed]",
      "text/plain": [
       "<Figure size 640x480 with 1 Axes>"
      ]
     },
     "metadata": {},
     "output_type": "display_data"
    }
   ],
   "source": [
    "plt.imshow(img.permute(1, 2, 0), cmap='gray')\n",
    "plt.show()"
   ]
  },
  {
   "cell_type": "code",
   "execution_count": 72,
   "id": "145957a5-f886-4a60-ac4c-39e7044a9244",
   "metadata": {},
   "outputs": [
    {
     "data": {
      "image/png": "[encoded data removed]",
      "text/plain": [
       "<Figure size 640x480 with 1 Axes>"
      ]
     },
     "metadata": {},
     "output_type": "display_data"
    }
   ],
   "source": [
    "plt.imshow(output[0, 0].detach(), cmap='gray')\n",
    "plt.show()"
   ]
  },
  {
   "cell_type": "code",
   "execution_count": 73,
   "id": "f7dc38af-d7e7-4129-92a0-88797a466eef",
   "metadata": {},
   "outputs": [
    {
     "data": {
      "text/plain": [
       "torch.Size([1, 16, 30, 30])"
      ]
     },
     "execution_count": 73,
     "metadata": {},
     "output_type": "execute_result"
    }
   ],
   "source": [
    "output.shape"
   ]
  },
  {
   "cell_type": "code",
   "execution_count": 74,
   "id": "649190fb-4df2-4a07-96bf-be78f39aa929",
   "metadata": {},
   "outputs": [],
   "source": [
    "conv = nn. Conv2d(3, 1, kernel_size=3, padding=1)"
   ]
  },
  {
   "cell_type": "code",
   "execution_count": 75,
   "id": "5d2b3f06-f4cd-47ee-9657-fa7a7f902729",
   "metadata": {},
   "outputs": [
    {
     "data": {
      "text/plain": [
       "torch.Size([1, 1, 32, 32])"
      ]
     },
     "execution_count": 75,
     "metadata": {},
     "output_type": "execute_result"
    }
   ],
   "source": [
    "output = conv(img.unsqueeze(0))\n",
    "\n",
    "output.shape"
   ]
  },
  {
   "cell_type": "code",
   "execution_count": 77,
   "id": "c1c5c9f6-b1ea-4927-b51a-54f616e8d1ac",
   "metadata": {},
   "outputs": [],
   "source": [
    "with torch.no_grad():\n",
    "    conv.bias.zero_()"
   ]
  },
  {
   "cell_type": "code",
   "execution_count": 78,
   "id": "696f8822-f5f4-41c3-9a3e-61cdd5c377f8",
   "metadata": {},
   "outputs": [],
   "source": [
    "with torch.no_grad():\n",
    "    conv.weight.fill_(1.0 / 9.0)"
   ]
  },
  {
   "cell_type": "code",
   "execution_count": 79,
   "id": "cb28816f-0122-4b7a-a394-9e300ceb0923",
   "metadata": {},
   "outputs": [
    {
     "data": {
      "image/png": "[encoded data removed]",
      "text/plain": [
       "<Figure size 640x480 with 1 Axes>"
      ]
     },
     "metadata": {},
     "output_type": "display_data"
    }
   ],
   "source": [
    "output = conv(img.unsqueeze(0))\n",
    "\n",
    "plt.imshow(output[0, 0].detach(), cmap='gray')\n",
    "plt.show()"
   ]
  },
  {
   "cell_type": "code",
   "execution_count": 80,
   "id": "9b73466f-6934-4886-a479-970854b0dd31",
   "metadata": {},
   "outputs": [],
   "source": [
    "conv = nn.Conv2d(3, 1, kernel_size=3, padding=1)\n",
    "\n",
    "with torch.no_grad():\n",
    "    conv.weight[:] = torch.tensor([[-1.0, 0.0, 1.0],\n",
    "                                   [-1.0, 0.0, 1.0],\n",
    "                                   [-1.0, 0.0, 1.0]])\n",
    "    conv.bias.zero_()"
   ]
  },
  {
   "cell_type": "code",
   "execution_count": 81,
   "id": "40305877-a351-4b9d-9ea2-33861bdbb37f",
   "metadata": {},
   "outputs": [
    {
     "data": {
      "image/png": "[encoded data removed]",
      "text/plain": [
       "<Figure size 640x480 with 1 Axes>"
      ]
     },
     "metadata": {},
     "output_type": "display_data"
    }
   ],
   "source": [
    "output = conv(img.unsqueeze(0))\n",
    "\n",
    "plt.imshow(output[0, 0].detach(), cmap='gray')\n",
    "plt.show()"
   ]
  },
  {
   "cell_type": "code",
   "execution_count": 82,
   "id": "88b5b9cf-aff6-4a3c-ad58-1dc89f369a9b",
   "metadata": {},
   "outputs": [],
   "source": [
    "pool = nn.MaxPool2d(2)"
   ]
  },
  {
   "cell_type": "code",
   "execution_count": 83,
   "id": "10678a1b-e675-4ad0-a74a-72c6f30736fd",
   "metadata": {},
   "outputs": [
    {
     "data": {
      "text/plain": [
       "torch.Size([1, 3, 16, 16])"
      ]
     },
     "execution_count": 83,
     "metadata": {},
     "output_type": "execute_result"
    }
   ],
   "source": [
    "output = pool(img.unsqueeze(0))\n",
    "\n",
    "output.shape"
   ]
  },
  {
   "cell_type": "code",
   "execution_count": 84,
   "id": "dfa16797-a53a-4132-ab64-4c22baf066c5",
   "metadata": {},
   "outputs": [
    {
     "ename": "TypeError",
     "evalue": "ellipsis is not a Module subclass",
     "output_type": "error",
     "traceback": [
      "\u001b[0;31m---------------------------------------------------------------------------\u001b[0m",
      "\u001b[0;31mTypeError\u001b[0m                                 Traceback (most recent call last)",
      "Cell \u001b[0;32mIn[84], line 1\u001b[0m\n\u001b[0;32m----> 1\u001b[0m model \u001b[38;5;241m=\u001b[39m \u001b[43mnn\u001b[49m\u001b[38;5;241;43m.\u001b[39;49m\u001b[43mSequential\u001b[49m\u001b[43m(\u001b[49m\n\u001b[1;32m      2\u001b[0m \u001b[43m    \u001b[49m\u001b[43mnn\u001b[49m\u001b[38;5;241;43m.\u001b[39;49m\u001b[43mConv2d\u001b[49m\u001b[43m(\u001b[49m\u001b[38;5;241;43m3\u001b[39;49m\u001b[43m,\u001b[49m\u001b[43m \u001b[49m\u001b[38;5;241;43m16\u001b[39;49m\u001b[43m,\u001b[49m\u001b[43m \u001b[49m\u001b[43mkernel_size\u001b[49m\u001b[38;5;241;43m=\u001b[39;49m\u001b[38;5;241;43m3\u001b[39;49m\u001b[43m,\u001b[49m\u001b[43m \u001b[49m\u001b[43mpadding\u001b[49m\u001b[38;5;241;43m=\u001b[39;49m\u001b[38;5;241;43m1\u001b[39;49m\u001b[43m)\u001b[49m\u001b[43m,\u001b[49m\n\u001b[1;32m      3\u001b[0m \u001b[43m    \u001b[49m\u001b[43mnn\u001b[49m\u001b[38;5;241;43m.\u001b[39;49m\u001b[43mTanh\u001b[49m\u001b[43m(\u001b[49m\u001b[43m)\u001b[49m\u001b[43m,\u001b[49m\n\u001b[1;32m      4\u001b[0m \u001b[43m    \u001b[49m\u001b[43mnn\u001b[49m\u001b[38;5;241;43m.\u001b[39;49m\u001b[43mMaxPool2d\u001b[49m\u001b[43m(\u001b[49m\u001b[38;5;241;43m2\u001b[39;49m\u001b[43m)\u001b[49m\u001b[43m,\u001b[49m\n\u001b[1;32m      5\u001b[0m \u001b[43m    \u001b[49m\u001b[43mnn\u001b[49m\u001b[38;5;241;43m.\u001b[39;49m\u001b[43mConv2d\u001b[49m\u001b[43m(\u001b[49m\u001b[38;5;241;43m16\u001b[39;49m\u001b[43m,\u001b[49m\u001b[43m \u001b[49m\u001b[38;5;241;43m8\u001b[39;49m\u001b[43m,\u001b[49m\u001b[43m \u001b[49m\u001b[43mkernel_size\u001b[49m\u001b[38;5;241;43m=\u001b[39;49m\u001b[38;5;241;43m3\u001b[39;49m\u001b[43m,\u001b[49m\u001b[43m \u001b[49m\u001b[43mpadding\u001b[49m\u001b[38;5;241;43m=\u001b[39;49m\u001b[38;5;241;43m1\u001b[39;49m\u001b[43m)\u001b[49m\u001b[43m,\u001b[49m\n\u001b[1;32m      6\u001b[0m \u001b[43m    \u001b[49m\u001b[43mnn\u001b[49m\u001b[38;5;241;43m.\u001b[39;49m\u001b[43mTanh\u001b[49m\u001b[43m(\u001b[49m\u001b[43m)\u001b[49m\u001b[43m,\u001b[49m\n\u001b[1;32m      7\u001b[0m \u001b[43m    \u001b[49m\u001b[43mnn\u001b[49m\u001b[38;5;241;43m.\u001b[39;49m\u001b[43mMaxPool2d\u001b[49m\u001b[43m(\u001b[49m\u001b[38;5;241;43m2\u001b[39;49m\u001b[43m)\u001b[49m\u001b[43m,\u001b[49m\n\u001b[1;32m      8\u001b[0m \u001b[43m    \u001b[49m\u001b[38;5;241;43m.\u001b[39;49m\u001b[38;5;241;43m.\u001b[39;49m\u001b[38;5;241;43m.\u001b[39;49m\n\u001b[1;32m      9\u001b[0m \u001b[43m)\u001b[49m\n",
      "File \u001b[0;32m/data/heerak/workspace/venv3.8/lib/python3.8/site-packages/torch/nn/modules/container.py:91\u001b[0m, in \u001b[0;36mSequential.__init__\u001b[0;34m(self, *args)\u001b[0m\n\u001b[1;32m     89\u001b[0m \u001b[38;5;28;01melse\u001b[39;00m:\n\u001b[1;32m     90\u001b[0m     \u001b[38;5;28;01mfor\u001b[39;00m idx, module \u001b[38;5;129;01min\u001b[39;00m \u001b[38;5;28menumerate\u001b[39m(args):\n\u001b[0;32m---> 91\u001b[0m         \u001b[38;5;28;43mself\u001b[39;49m\u001b[38;5;241;43m.\u001b[39;49m\u001b[43madd_module\u001b[49m\u001b[43m(\u001b[49m\u001b[38;5;28;43mstr\u001b[39;49m\u001b[43m(\u001b[49m\u001b[43midx\u001b[49m\u001b[43m)\u001b[49m\u001b[43m,\u001b[49m\u001b[43m \u001b[49m\u001b[43mmodule\u001b[49m\u001b[43m)\u001b[49m\n",
      "File \u001b[0;32m/data/heerak/workspace/venv3.8/lib/python3.8/site-packages/torch/nn/modules/module.py:377\u001b[0m, in \u001b[0;36mModule.add_module\u001b[0;34m(self, name, module)\u001b[0m\n\u001b[1;32m    367\u001b[0m \u001b[38;5;124mr\u001b[39m\u001b[38;5;124;03m\"\"\"Adds a child module to the current module.\u001b[39;00m\n\u001b[1;32m    368\u001b[0m \n\u001b[1;32m    369\u001b[0m \u001b[38;5;124;03mThe module can be accessed as an attribute using the given name.\u001b[39;00m\n\u001b[0;32m   (...)\u001b[0m\n\u001b[1;32m    374\u001b[0m \u001b[38;5;124;03m    module (Module): child module to be added to the module.\u001b[39;00m\n\u001b[1;32m    375\u001b[0m \u001b[38;5;124;03m\"\"\"\u001b[39;00m\n\u001b[1;32m    376\u001b[0m \u001b[38;5;28;01mif\u001b[39;00m \u001b[38;5;129;01mnot\u001b[39;00m \u001b[38;5;28misinstance\u001b[39m(module, Module) \u001b[38;5;129;01mand\u001b[39;00m module \u001b[38;5;129;01mis\u001b[39;00m \u001b[38;5;129;01mnot\u001b[39;00m \u001b[38;5;28;01mNone\u001b[39;00m:\n\u001b[0;32m--> 377\u001b[0m     \u001b[38;5;28;01mraise\u001b[39;00m \u001b[38;5;167;01mTypeError\u001b[39;00m(\u001b[38;5;124m\"\u001b[39m\u001b[38;5;132;01m{}\u001b[39;00m\u001b[38;5;124m is not a Module subclass\u001b[39m\u001b[38;5;124m\"\u001b[39m\u001b[38;5;241m.\u001b[39mformat(\n\u001b[1;32m    378\u001b[0m         torch\u001b[38;5;241m.\u001b[39mtypename(module)))\n\u001b[1;32m    379\u001b[0m \u001b[38;5;28;01melif\u001b[39;00m \u001b[38;5;129;01mnot\u001b[39;00m \u001b[38;5;28misinstance\u001b[39m(name, torch\u001b[38;5;241m.\u001b[39m_six\u001b[38;5;241m.\u001b[39mstring_classes):\n\u001b[1;32m    380\u001b[0m     \u001b[38;5;28;01mraise\u001b[39;00m \u001b[38;5;167;01mTypeError\u001b[39;00m(\u001b[38;5;124m\"\u001b[39m\u001b[38;5;124mmodule name should be a string. Got \u001b[39m\u001b[38;5;132;01m{}\u001b[39;00m\u001b[38;5;124m\"\u001b[39m\u001b[38;5;241m.\u001b[39mformat(\n\u001b[1;32m    381\u001b[0m         torch\u001b[38;5;241m.\u001b[39mtypename(name)))\n",
      "\u001b[0;31mTypeError\u001b[0m: ellipsis is not a Module subclass"
     ]
    }
   ],
   "source": [
    "model = nn.Sequential(\n",
    "    nn.Conv2d(3, 16, kernel_size=3, padding=1),\n",
    "    nn.Tanh(),\n",
    "    nn.MaxPool2d(2),\n",
    "    nn.Conv2d(16, 8, kernel_size=3, padding=1),\n",
    "    nn.Tanh(),\n",
    "    nn.MaxPool2d(2),\n",
    "    ...\n",
    ")"
   ]
  },
  {
   "cell_type": "code",
   "execution_count": 86,
   "id": "624872b3-3880-47d3-8fc6-aa07d2a85ff1",
   "metadata": {},
   "outputs": [],
   "source": [
    "model = nn.Sequential(\n",
    "    nn.Conv2d(3, 16, kernel_size=3, padding=1),\n",
    "    nn.Tanh(),\n",
    "    nn.MaxPool2d(2),\n",
    "    nn.Conv2d(16, 8, kernel_size=3, padding=1),\n",
    "    nn.Tanh(),\n",
    "    nn.MaxPool2d(2),\n",
    "    # WARNING: something missing here\n",
    "    nn.Linear(512, 32),\n",
    "    nn.Tanh(),\n",
    "    nn.Linear(32, 2),\n",
    ")"
   ]
  },
  {
   "cell_type": "code",
   "execution_count": 87,
   "id": "f59710fd-034b-4a97-b31d-5efdd8ce3ea9",
   "metadata": {},
   "outputs": [
    {
     "data": {
      "text/plain": [
       "18090"
      ]
     },
     "execution_count": 87,
     "metadata": {},
     "output_type": "execute_result"
    }
   ],
   "source": [
    "sum([p.numel() for p in model.parameters()])"
   ]
  },
  {
   "cell_type": "code",
   "execution_count": 88,
   "id": "b5e7eacd-f9a9-4e55-9784-9c7ad15d68b6",
   "metadata": {},
   "outputs": [
    {
     "ename": "RuntimeError",
     "evalue": "mat1 and mat2 shapes cannot be multiplied (64x8 and 512x32)",
     "output_type": "error",
     "traceback": [
      "\u001b[0;31m---------------------------------------------------------------------------\u001b[0m",
      "\u001b[0;31mRuntimeError\u001b[0m                              Traceback (most recent call last)",
      "Cell \u001b[0;32mIn[88], line 1\u001b[0m\n\u001b[0;32m----> 1\u001b[0m \u001b[43mmodel\u001b[49m\u001b[43m(\u001b[49m\u001b[43mimg\u001b[49m\u001b[38;5;241;43m.\u001b[39;49m\u001b[43munsqueeze\u001b[49m\u001b[43m(\u001b[49m\u001b[38;5;241;43m0\u001b[39;49m\u001b[43m)\u001b[49m\u001b[43m)\u001b[49m\n",
      "File \u001b[0;32m/data/heerak/workspace/venv3.8/lib/python3.8/site-packages/torch/nn/modules/module.py:1102\u001b[0m, in \u001b[0;36mModule._call_impl\u001b[0;34m(self, *input, **kwargs)\u001b[0m\n\u001b[1;32m   1098\u001b[0m \u001b[38;5;66;03m# If we don't have any hooks, we want to skip the rest of the logic in\u001b[39;00m\n\u001b[1;32m   1099\u001b[0m \u001b[38;5;66;03m# this function, and just call forward.\u001b[39;00m\n\u001b[1;32m   1100\u001b[0m \u001b[38;5;28;01mif\u001b[39;00m \u001b[38;5;129;01mnot\u001b[39;00m (\u001b[38;5;28mself\u001b[39m\u001b[38;5;241m.\u001b[39m_backward_hooks \u001b[38;5;129;01mor\u001b[39;00m \u001b[38;5;28mself\u001b[39m\u001b[38;5;241m.\u001b[39m_forward_hooks \u001b[38;5;129;01mor\u001b[39;00m \u001b[38;5;28mself\u001b[39m\u001b[38;5;241m.\u001b[39m_forward_pre_hooks \u001b[38;5;129;01mor\u001b[39;00m _global_backward_hooks\n\u001b[1;32m   1101\u001b[0m         \u001b[38;5;129;01mor\u001b[39;00m _global_forward_hooks \u001b[38;5;129;01mor\u001b[39;00m _global_forward_pre_hooks):\n\u001b[0;32m-> 1102\u001b[0m     \u001b[38;5;28;01mreturn\u001b[39;00m \u001b[43mforward_call\u001b[49m\u001b[43m(\u001b[49m\u001b[38;5;241;43m*\u001b[39;49m\u001b[38;5;28;43minput\u001b[39;49m\u001b[43m,\u001b[49m\u001b[43m \u001b[49m\u001b[38;5;241;43m*\u001b[39;49m\u001b[38;5;241;43m*\u001b[39;49m\u001b[43mkwargs\u001b[49m\u001b[43m)\u001b[49m\n\u001b[1;32m   1103\u001b[0m \u001b[38;5;66;03m# Do not call functions when jit is used\u001b[39;00m\n\u001b[1;32m   1104\u001b[0m full_backward_hooks, non_full_backward_hooks \u001b[38;5;241m=\u001b[39m [], []\n",
      "File \u001b[0;32m/data/heerak/workspace/venv3.8/lib/python3.8/site-packages/torch/nn/modules/container.py:141\u001b[0m, in \u001b[0;36mSequential.forward\u001b[0;34m(self, input)\u001b[0m\n\u001b[1;32m    139\u001b[0m \u001b[38;5;28;01mdef\u001b[39;00m \u001b[38;5;21mforward\u001b[39m(\u001b[38;5;28mself\u001b[39m, \u001b[38;5;28minput\u001b[39m):\n\u001b[1;32m    140\u001b[0m     \u001b[38;5;28;01mfor\u001b[39;00m module \u001b[38;5;129;01min\u001b[39;00m \u001b[38;5;28mself\u001b[39m:\n\u001b[0;32m--> 141\u001b[0m         \u001b[38;5;28minput\u001b[39m \u001b[38;5;241m=\u001b[39m \u001b[43mmodule\u001b[49m\u001b[43m(\u001b[49m\u001b[38;5;28;43minput\u001b[39;49m\u001b[43m)\u001b[49m\n\u001b[1;32m    142\u001b[0m     \u001b[38;5;28;01mreturn\u001b[39;00m \u001b[38;5;28minput\u001b[39m\n",
      "File \u001b[0;32m/data/heerak/workspace/venv3.8/lib/python3.8/site-packages/torch/nn/modules/module.py:1102\u001b[0m, in \u001b[0;36mModule._call_impl\u001b[0;34m(self, *input, **kwargs)\u001b[0m\n\u001b[1;32m   1098\u001b[0m \u001b[38;5;66;03m# If we don't have any hooks, we want to skip the rest of the logic in\u001b[39;00m\n\u001b[1;32m   1099\u001b[0m \u001b[38;5;66;03m# this function, and just call forward.\u001b[39;00m\n\u001b[1;32m   1100\u001b[0m \u001b[38;5;28;01mif\u001b[39;00m \u001b[38;5;129;01mnot\u001b[39;00m (\u001b[38;5;28mself\u001b[39m\u001b[38;5;241m.\u001b[39m_backward_hooks \u001b[38;5;129;01mor\u001b[39;00m \u001b[38;5;28mself\u001b[39m\u001b[38;5;241m.\u001b[39m_forward_hooks \u001b[38;5;129;01mor\u001b[39;00m \u001b[38;5;28mself\u001b[39m\u001b[38;5;241m.\u001b[39m_forward_pre_hooks \u001b[38;5;129;01mor\u001b[39;00m _global_backward_hooks\n\u001b[1;32m   1101\u001b[0m         \u001b[38;5;129;01mor\u001b[39;00m _global_forward_hooks \u001b[38;5;129;01mor\u001b[39;00m _global_forward_pre_hooks):\n\u001b[0;32m-> 1102\u001b[0m     \u001b[38;5;28;01mreturn\u001b[39;00m \u001b[43mforward_call\u001b[49m\u001b[43m(\u001b[49m\u001b[38;5;241;43m*\u001b[39;49m\u001b[38;5;28;43minput\u001b[39;49m\u001b[43m,\u001b[49m\u001b[43m \u001b[49m\u001b[38;5;241;43m*\u001b[39;49m\u001b[38;5;241;43m*\u001b[39;49m\u001b[43mkwargs\u001b[49m\u001b[43m)\u001b[49m\n\u001b[1;32m   1103\u001b[0m \u001b[38;5;66;03m# Do not call functions when jit is used\u001b[39;00m\n\u001b[1;32m   1104\u001b[0m full_backward_hooks, non_full_backward_hooks \u001b[38;5;241m=\u001b[39m [], []\n",
      "File \u001b[0;32m/data/heerak/workspace/venv3.8/lib/python3.8/site-packages/torch/nn/modules/linear.py:103\u001b[0m, in \u001b[0;36mLinear.forward\u001b[0;34m(self, input)\u001b[0m\n\u001b[1;32m    102\u001b[0m \u001b[38;5;28;01mdef\u001b[39;00m \u001b[38;5;21mforward\u001b[39m(\u001b[38;5;28mself\u001b[39m, \u001b[38;5;28minput\u001b[39m: Tensor) \u001b[38;5;241m-\u001b[39m\u001b[38;5;241m>\u001b[39m Tensor:\n\u001b[0;32m--> 103\u001b[0m     \u001b[38;5;28;01mreturn\u001b[39;00m \u001b[43mF\u001b[49m\u001b[38;5;241;43m.\u001b[39;49m\u001b[43mlinear\u001b[49m\u001b[43m(\u001b[49m\u001b[38;5;28;43minput\u001b[39;49m\u001b[43m,\u001b[49m\u001b[43m \u001b[49m\u001b[38;5;28;43mself\u001b[39;49m\u001b[38;5;241;43m.\u001b[39;49m\u001b[43mweight\u001b[49m\u001b[43m,\u001b[49m\u001b[43m \u001b[49m\u001b[38;5;28;43mself\u001b[39;49m\u001b[38;5;241;43m.\u001b[39;49m\u001b[43mbias\u001b[49m\u001b[43m)\u001b[49m\n",
      "File \u001b[0;32m/data/heerak/workspace/venv3.8/lib/python3.8/site-packages/torch/nn/functional.py:1848\u001b[0m, in \u001b[0;36mlinear\u001b[0;34m(input, weight, bias)\u001b[0m\n\u001b[1;32m   1846\u001b[0m \u001b[38;5;28;01mif\u001b[39;00m has_torch_function_variadic(\u001b[38;5;28minput\u001b[39m, weight, bias):\n\u001b[1;32m   1847\u001b[0m     \u001b[38;5;28;01mreturn\u001b[39;00m handle_torch_function(linear, (\u001b[38;5;28minput\u001b[39m, weight, bias), \u001b[38;5;28minput\u001b[39m, weight, bias\u001b[38;5;241m=\u001b[39mbias)\n\u001b[0;32m-> 1848\u001b[0m \u001b[38;5;28;01mreturn\u001b[39;00m \u001b[43mtorch\u001b[49m\u001b[38;5;241;43m.\u001b[39;49m\u001b[43m_C\u001b[49m\u001b[38;5;241;43m.\u001b[39;49m\u001b[43m_nn\u001b[49m\u001b[38;5;241;43m.\u001b[39;49m\u001b[43mlinear\u001b[49m\u001b[43m(\u001b[49m\u001b[38;5;28;43minput\u001b[39;49m\u001b[43m,\u001b[49m\u001b[43m \u001b[49m\u001b[43mweight\u001b[49m\u001b[43m,\u001b[49m\u001b[43m \u001b[49m\u001b[43mbias\u001b[49m\u001b[43m)\u001b[49m\n",
      "\u001b[0;31mRuntimeError\u001b[0m: mat1 and mat2 shapes cannot be multiplied (64x8 and 512x32)"
     ]
    }
   ],
   "source": [
    "model(img.unsqueeze(0))"
   ]
  },
  {
   "cell_type": "code",
   "execution_count": 91,
   "id": "92917d41-351e-48e6-8f10-4d4136b4655c",
   "metadata": {},
   "outputs": [],
   "source": [
    "class Net(nn.Module):\n",
    "    \n",
    "    def __init__(self):\n",
    "        super(Net, self).__init__()\n",
    "        self.conv1 = nn.Conv2d(3, 16, kernel_size=3, padding=1)\n",
    "        self.act1 = nn.Tanh()\n",
    "        self.pool1 = nn.MaxPool2d(2)\n",
    "        self.conv2 = nn.Conv2d(16, 8, kernel_size=3, padding=1)\n",
    "        self.act2 = nn.Tanh()\n",
    "        self.pool2 = nn.MaxPool2d(2)\n",
    "        self.fc1 = nn.Linear(8 * 8 * 8, 32)\n",
    "        self.act4 = nn.Tanh()\n",
    "        self.fc2 = nn.Linear(32, 2)\n",
    "        \n",
    "    def forward(self, x):\n",
    "        out = self.pool1(self.act1(self.conv1(x)))\n",
    "        out = self.pool2(self.act2(self.conv2(out)))\n",
    "        out = out.view(-1, 8 * 8 * 8)\n",
    "        out = self.act4(self.fc1(out))\n",
    "        out = self.fc2(out)\n",
    "        return out"
   ]
  },
  {
   "cell_type": "code",
   "execution_count": 92,
   "id": "671b5d25-d466-47fa-a5fe-73bf63d39916",
   "metadata": {},
   "outputs": [
    {
     "data": {
      "text/plain": [
       "18090"
      ]
     },
     "execution_count": 92,
     "metadata": {},
     "output_type": "execute_result"
    }
   ],
   "source": [
    "model = Net()\n",
    "\n",
    "sum([p.numel() for p in model.parameters()])"
   ]
  },
  {
   "cell_type": "code",
   "execution_count": 93,
   "id": "11245258-51de-4710-a145-5bdb77d54bcc",
   "metadata": {},
   "outputs": [],
   "source": [
    "import torch.nn.functional as F"
   ]
  },
  {
   "cell_type": "code",
   "execution_count": 94,
   "id": "9cdc9ad6-45aa-4f3e-a78b-a00ab9f61c17",
   "metadata": {},
   "outputs": [],
   "source": [
    "class Net(nn.Module):\n",
    "    \n",
    "    def __init__(self):\n",
    "        super(Net, self).__init__()\n",
    "        self.conv1 = nn.Conv2d(3, 16, kernel_size=3, padding=1)\n",
    "        self.conv2 = nn.Conv2d(16, 8, kernel_size=3, padding=1)\n",
    "        self.fc1 = nn.Linear(8 * 8 * 8, 32)\n",
    "        self.fc2 = nn.Linear(32, 2)\n",
    "        \n",
    "    def forward(self, x):\n",
    "        out = F.max_pool2d(torch.tanh(self.conv1(x)), 2)\n",
    "        out = F.max_pool2d(torch.tanh(self.conv2(out)), 2)\n",
    "        out = out.view(-1, 8 * 8 * 8)\n",
    "        out = torch.tanh(self.fc1(out))\n",
    "        out = self.fc2(out)\n",
    "        return out"
   ]
  },
  {
   "cell_type": "code",
   "execution_count": 95,
   "id": "b7323fb8-262a-43df-9824-50b841734c5e",
   "metadata": {},
   "outputs": [
    {
     "data": {
      "text/plain": [
       "tensor([[0.1864, 0.1183]], grad_fn=<AddmmBackward0>)"
      ]
     },
     "execution_count": 95,
     "metadata": {},
     "output_type": "execute_result"
    }
   ],
   "source": [
    "model = Net()\n",
    "model(img.unsqueeze(0))"
   ]
  },
  {
   "cell_type": "code",
   "execution_count": 96,
   "id": "e627d5d5-2e91-43a0-b084-c06368f343f5",
   "metadata": {},
   "outputs": [
    {
     "data": {
      "text/plain": [
       "18090"
      ]
     },
     "execution_count": 96,
     "metadata": {},
     "output_type": "execute_result"
    }
   ],
   "source": [
    "sum([p.numel() for p in model.parameters()])"
   ]
  },
  {
   "cell_type": "code",
   "execution_count": 98,
   "id": "303a50a7-c550-46e4-8663-3c28213ee27c",
   "metadata": {},
   "outputs": [
    {
     "name": "stdout",
     "output_type": "stream",
     "text": [
      "Epoch: 0, Loss: 0.439813\n",
      "Epoch: 1, Loss: 0.360302\n",
      "Epoch: 2, Loss: 0.495798\n",
      "Epoch: 3, Loss: 0.568403\n",
      "Epoch: 4, Loss: 0.608500\n",
      "Epoch: 5, Loss: 0.157080\n",
      "Epoch: 6, Loss: 0.214584\n",
      "Epoch: 7, Loss: 0.733224\n",
      "Epoch: 8, Loss: 0.269851\n",
      "Epoch: 9, Loss: 0.539099\n",
      "Epoch: 10, Loss: 0.323184\n",
      "Epoch: 11, Loss: 0.294383\n",
      "Epoch: 12, Loss: 0.364603\n",
      "Epoch: 13, Loss: 0.259270\n",
      "Epoch: 14, Loss: 0.331193\n",
      "Epoch: 15, Loss: 0.227384\n",
      "Epoch: 16, Loss: 0.495924\n",
      "Epoch: 17, Loss: 0.321210\n",
      "Epoch: 18, Loss: 0.823547\n",
      "Epoch: 19, Loss: 0.315496\n",
      "Epoch: 20, Loss: 0.184118\n",
      "Epoch: 21, Loss: 0.338498\n",
      "Epoch: 22, Loss: 0.252525\n",
      "Epoch: 23, Loss: 0.240335\n",
      "Epoch: 24, Loss: 0.200686\n",
      "Epoch: 25, Loss: 0.150262\n",
      "Epoch: 26, Loss: 0.143781\n",
      "Epoch: 27, Loss: 0.322757\n",
      "Epoch: 28, Loss: 0.659715\n",
      "Epoch: 29, Loss: 0.185159\n",
      "Epoch: 30, Loss: 0.286908\n",
      "Epoch: 31, Loss: 0.367867\n",
      "Epoch: 32, Loss: 0.409152\n",
      "Epoch: 33, Loss: 0.264765\n",
      "Epoch: 34, Loss: 0.139667\n",
      "Epoch: 35, Loss: 0.167221\n",
      "Epoch: 36, Loss: 0.350909\n",
      "Epoch: 37, Loss: 0.309976\n",
      "Epoch: 38, Loss: 0.483970\n",
      "Epoch: 39, Loss: 0.420443\n",
      "Epoch: 40, Loss: 0.089335\n",
      "Epoch: 41, Loss: 0.130059\n",
      "Epoch: 42, Loss: 0.326615\n",
      "Epoch: 43, Loss: 0.177790\n",
      "Epoch: 44, Loss: 0.254573\n",
      "Epoch: 45, Loss: 0.315361\n",
      "Epoch: 46, Loss: 0.340092\n",
      "Epoch: 47, Loss: 0.195997\n",
      "Epoch: 48, Loss: 0.312096\n",
      "Epoch: 49, Loss: 0.162476\n",
      "Epoch: 50, Loss: 0.544333\n",
      "Epoch: 51, Loss: 0.241632\n",
      "Epoch: 52, Loss: 0.329383\n",
      "Epoch: 53, Loss: 0.062620\n",
      "Epoch: 54, Loss: 0.159355\n",
      "Epoch: 55, Loss: 0.364183\n",
      "Epoch: 56, Loss: 0.329745\n",
      "Epoch: 57, Loss: 0.129464\n",
      "Epoch: 58, Loss: 0.474375\n",
      "Epoch: 59, Loss: 0.150865\n",
      "Epoch: 60, Loss: 0.153450\n",
      "Epoch: 61, Loss: 0.347832\n",
      "Epoch: 62, Loss: 0.115799\n",
      "Epoch: 63, Loss: 0.466958\n",
      "Epoch: 64, Loss: 0.223426\n",
      "Epoch: 65, Loss: 0.127931\n",
      "Epoch: 66, Loss: 0.254719\n",
      "Epoch: 67, Loss: 0.265816\n",
      "Epoch: 68, Loss: 0.114567\n",
      "Epoch: 69, Loss: 0.234688\n",
      "Epoch: 70, Loss: 0.083257\n",
      "Epoch: 71, Loss: 0.202680\n",
      "Epoch: 72, Loss: 0.123119\n",
      "Epoch: 73, Loss: 0.113916\n",
      "Epoch: 74, Loss: 0.106603\n",
      "Epoch: 75, Loss: 0.273129\n",
      "Epoch: 76, Loss: 0.139411\n",
      "Epoch: 77, Loss: 0.195174\n",
      "Epoch: 78, Loss: 0.422819\n",
      "Epoch: 79, Loss: 0.119458\n",
      "Epoch: 80, Loss: 0.029140\n",
      "Epoch: 81, Loss: 0.159906\n",
      "Epoch: 82, Loss: 0.361770\n",
      "Epoch: 83, Loss: 0.239395\n",
      "Epoch: 84, Loss: 0.141873\n",
      "Epoch: 85, Loss: 0.124873\n",
      "Epoch: 86, Loss: 0.100245\n",
      "Epoch: 87, Loss: 0.428224\n",
      "Epoch: 88, Loss: 0.122327\n",
      "Epoch: 89, Loss: 0.056141\n",
      "Epoch: 90, Loss: 0.192934\n",
      "Epoch: 91, Loss: 0.372605\n",
      "Epoch: 92, Loss: 0.093703\n",
      "Epoch: 93, Loss: 0.110964\n",
      "Epoch: 94, Loss: 0.183761\n",
      "Epoch: 95, Loss: 0.160801\n",
      "Epoch: 96, Loss: 0.068014\n",
      "Epoch: 97, Loss: 0.074708\n",
      "Epoch: 98, Loss: 0.197364\n",
      "Epoch: 99, Loss: 0.122205\n"
     ]
    }
   ],
   "source": [
    "import torch\n",
    "import torch.nn as nn\n",
    "import torch.optim as optim\n",
    "import torch.nn.functional as F\n",
    "\n",
    "train_loader = torch.utils.data.DataLoader(cifar2, batch_size=64, shuffle=True)\n",
    "\n",
    "class Net(nn.Module):\n",
    "    \n",
    "    def __init__(self):\n",
    "        super(Net, self).__init__()\n",
    "        self.conv1 = nn.Conv2d(3, 16, kernel_size=3, padding=1)\n",
    "        self.conv2 = nn.Conv2d(16, 8, kernel_size=3, padding=1)\n",
    "        self.fc1 = nn.Linear(8 * 8 * 8, 32)\n",
    "        self.fc2 = nn.Linear(32, 2)\n",
    "        \n",
    "    def forward(self, x):\n",
    "        out = F.max_pool2d(torch.tanh(self.conv1(x)), 2)\n",
    "        out = F.max_pool2d(torch.tanh(self.conv2(out)), 2)\n",
    "        out = out.view(-1, 8 * 8 * 8)\n",
    "        out = torch.tanh(self.fc1(out))\n",
    "        out = self.fc2(out)\n",
    "        return out\n",
    "    \n",
    "model = Net()\n",
    "\n",
    "learning_rate = 1e-2\n",
    "\n",
    "optimizer = optim.SGD(model.parameters(), lr=learning_rate)\n",
    "\n",
    "loss_fn = nn.CrossEntropyLoss()\n",
    "\n",
    "n_epochs = 100\n",
    "\n",
    "for epoch in range(n_epochs):\n",
    "    for imgs, labels in train_loader:\n",
    "        outputs = model(imgs)\n",
    "        loss = loss_fn(outputs, labels)\n",
    "        \n",
    "        optimizer.zero_grad()\n",
    "        loss.backward()\n",
    "        optimizer.step()\n",
    "        \n",
    "    print('Epoch: %d, Loss: %f' % (epoch, float(loss)))"
   ]
  },
  {
   "cell_type": "code",
   "execution_count": 106,
   "id": "bd4859b9-5392-4eb6-aa5f-c134aa09e032",
   "metadata": {},
   "outputs": [
    {
     "data": {
      "text/plain": [
       "16"
      ]
     },
     "execution_count": 106,
     "metadata": {},
     "output_type": "execute_result"
    }
   ],
   "source": [
    "len(cifar2_val) % 64"
   ]
  },
  {
   "cell_type": "code",
   "execution_count": 108,
   "id": "20cf7482-ce71-49cd-9d20-2b62cf26e1e3",
   "metadata": {},
   "outputs": [
    {
     "name": "stdout",
     "output_type": "stream",
     "text": [
      "Accuracy: 0.888000\n"
     ]
    }
   ],
   "source": [
    "val_loader = torch.utils.data.DataLoader(cifar2_val, batch_size=64, shuffle=False)\n",
    "\n",
    "correct = 0\n",
    "total = 0\n",
    "\n",
    "with torch.no_grad():\n",
    "    for imgs, labels in val_loader:\n",
    "        outputs = model(imgs)\n",
    "        _, predicted = torch.max(outputs, dim=1)\n",
    "        total += labels.shape[0]\n",
    "        correct += int((predicted == labels).sum())\n",
    "        \n",
    "print('Accuracy: %f' % (correct / total))"
   ]
  },
  {
   "cell_type": "code",
   "execution_count": null,
   "id": "9038c2fe-cd59-478f-a0aa-23ad066619b0",
   "metadata": {},
   "outputs": [],
   "source": []
  }
 ],
 "metadata": {
  "kernelspec": {
   "display_name": "python3.8",
   "language": "python",
   "name": "python3.8"
  },
  "language_info": {
   "codemirror_mode": {
    "name": "ipython",
    "version": 3
   },
   "file_extension": ".py",
   "mimetype": "text/x-python",
   "name": "python",
   "nbconvert_exporter": "python",
   "pygments_lexer": "ipython3",
   "version": "3.8.16"
  }
 },
 "nbformat": 4,
 "nbformat_minor": 5
}
