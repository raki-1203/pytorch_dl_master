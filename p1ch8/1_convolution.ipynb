{
 "cells": [
  {
   "cell_type": "markdown",
   "id": "9ff4ee7c-d7d6-48d1-b5a7-003db3c9b2e0",
   "metadata": {},
   "source": [
    "## 8.1 컨볼루션"
   ]
  },
  {
   "cell_type": "code",
   "execution_count": 5,
   "id": "6fb5bce3-9a9f-4270-916e-fdbc8f908e3a",
   "metadata": {},
   "outputs": [
    {
     "data": {
      "text/plain": [
       "<torch._C.Generator at 0x7fa0e0032fd0>"
      ]
     },
     "execution_count": 5,
     "metadata": {},
     "output_type": "execute_result"
    }
   ],
   "source": [
    "%matplotlib inline\n",
    "import matplotlib.pyplot as plt\n",
    "import numpy as np\n",
    "import collections\n",
    "\n",
    "import torch\n",
    "import torch.nn as nn\n",
    "import torch.nn.functional as F\n",
    "import torch.optim as optim\n",
    "\n",
    "torch.set_printoptions(edgeitems=2, linewidth=75)\n",
    "torch.manual_seed(123)"
   ]
  },
  {
   "cell_type": "code",
   "execution_count": 6,
   "id": "d720b073-d542-454b-b840-ff295d19a3bd",
   "metadata": {},
   "outputs": [],
   "source": [
    "class_name = ['airplane', 'automobile', 'bird', 'cat', 'deer',\n",
    "              'dog', 'frog', 'horse', 'ship', 'truck']"
   ]
  },
  {
   "cell_type": "code",
   "execution_count": 7,
   "id": "f9844af3-0db6-4cbb-a6f5-e103b6a2773f",
   "metadata": {},
   "outputs": [],
   "source": [
    "from torchvision import datasets, transforms"
   ]
  },
  {
   "cell_type": "code",
   "execution_count": 8,
   "id": "746bf4ac-ccaf-4e7d-88a0-4a87ebbfcf80",
   "metadata": {},
   "outputs": [
    {
     "name": "stdout",
     "output_type": "stream",
     "text": [
      "Files already downloaded and verified\n"
     ]
    }
   ],
   "source": [
    "data_path = '../data-unversioned/p1ch7/'\n",
    "cifar10 = datasets.CIFAR10(\n",
    "    data_path, train=True, download=True,\n",
    "    transform=transforms.Compose([\n",
    "        transforms.ToTensor(),\n",
    "        transforms.Normalize((0.4915, 0.4823, 0.4468),\n",
    "                             (0.2470, 0.2435, 0.2616)),\n",
    "    ])\n",
    ")"
   ]
  },
  {
   "cell_type": "code",
   "execution_count": 9,
   "id": "181aba3a-9ac3-4213-a7b9-c76966f9c795",
   "metadata": {},
   "outputs": [
    {
     "name": "stdout",
     "output_type": "stream",
     "text": [
      "Files already downloaded and verified\n"
     ]
    }
   ],
   "source": [
    "cifar10_val = datasets.CIFAR10(\n",
    "    data_path, train=False, download=True,\n",
    "    transform=transforms.Compose([\n",
    "        transforms.ToTensor(),\n",
    "        transforms.Normalize((0.4915, 0.4823, 0.4468),\n",
    "                             (0.2470, 0.2435, 0.2616)),\n",
    "    ])\n",
    ")"
   ]
  },
  {
   "cell_type": "code",
   "execution_count": 10,
   "id": "c58f2d1d-d27c-403a-9f80-f507d773c173",
   "metadata": {},
   "outputs": [],
   "source": [
    "label_map = {0: 0, 2: 1}\n",
    "class_names = ['airplane', 'bird']\n",
    "cifar2 = [(img, label_map[label])\n",
    "          for img, label in cifar10\n",
    "          if label in [0, 2]]\n",
    "cifar2_val = [(img, label_map[label])\n",
    "              for img, label in cifar10_val\n",
    "              if label in [0, 2]]"
   ]
  },
  {
   "cell_type": "markdown",
   "id": "4a7053d3-42c2-4679-8c1c-57a7651b25ca",
   "metadata": {},
   "source": [
    "### 8.1.1 컨볼루션의 역할"
   ]
  },
  {
   "cell_type": "markdown",
   "id": "43c25772-0b31-413c-9940-18025313fa4d",
   "metadata": {},
   "source": [
    "## 8.2 컨볼루션 사용해보기"
   ]
  },
  {
   "cell_type": "code",
   "execution_count": 2,
   "id": "8aea41c4-5e7e-446d-b6de-09da44776b3f",
   "metadata": {},
   "outputs": [],
   "source": [
    "import torch\n",
    "import torch.nn as nn"
   ]
  },
  {
   "cell_type": "code",
   "execution_count": 3,
   "id": "531b1ceb-57a7-409b-a201-665b2807406f",
   "metadata": {},
   "outputs": [
    {
     "data": {
      "text/plain": [
       "Conv2d(3, 16, kernel_size=(3, 3), stride=(1, 1))"
      ]
     },
     "execution_count": 3,
     "metadata": {},
     "output_type": "execute_result"
    }
   ],
   "source": [
    "conv = nn.Conv2d(3, 16, kernel_size=3)\n",
    "conv"
   ]
  },
  {
   "cell_type": "code",
   "execution_count": 4,
   "id": "9a29031c-be7a-43be-a11a-d0d42f044a40",
   "metadata": {},
   "outputs": [
    {
     "data": {
      "text/plain": [
       "(torch.Size([16, 3, 3, 3]), torch.Size([16]))"
      ]
     },
     "execution_count": 4,
     "metadata": {},
     "output_type": "execute_result"
    }
   ],
   "source": [
    "conv.weight.shape, conv.bias.shape"
   ]
  },
  {
   "cell_type": "markdown",
   "id": "5ef1bd25-ea90-4611-bf08-ea2904c36c79",
   "metadata": {},
   "source": [
    "convolution weight shape : out_channel x input_channel x kernel_size"
   ]
  },
  {
   "cell_type": "code",
   "execution_count": 11,
   "id": "81ead134-eee8-4439-b52a-8bebb445f534",
   "metadata": {},
   "outputs": [
    {
     "data": {
      "text/plain": [
       "(torch.Size([1, 3, 32, 32]), torch.Size([1, 16, 30, 30]))"
      ]
     },
     "execution_count": 11,
     "metadata": {},
     "output_type": "execute_result"
    }
   ],
   "source": [
    "img, _ = cifar2[0]\n",
    "output = conv(img.unsqueeze(0))\n",
    "\n",
    "img.unsqueeze(0).shape, output.shape"
   ]
  },
  {
   "cell_type": "code",
   "execution_count": 14,
   "id": "2c8adc60-5ccf-4ac7-82a2-356845a8c316",
   "metadata": {},
   "outputs": [
    {
     "data": {
      "image/png": "[encoded data removed]",
      "text/plain": [
       "<Figure size 1000x480 with 2 Axes>"
      ]
     },
     "metadata": {},
     "output_type": "display_data"
    }
   ],
   "source": [
    "plt.figure(figsize=(10, 4.8))\n",
    "ax1 = plt.subplot(1, 2, 1)\n",
    "plt.title('output')\n",
    "plt.imshow(output[0, 0].detach(), cmap='gray')\n",
    "plt.subplot(1, 2, 2, sharex=ax1, sharey=ax1)\n",
    "plt.imshow(img.mean(0), cmap='gray')\n",
    "plt.title('input')\n",
    "plt.show()"
   ]
  },
  {
   "cell_type": "markdown",
   "id": "a3c1e272-3966-42ff-b7f4-7a879b792927",
   "metadata": {},
   "source": [
    "### 8.2.1 경계 패딩하기"
   ]
  },
  {
   "cell_type": "code",
   "execution_count": 15,
   "id": "7f73e09e-c4bd-4f4b-b571-35800424492f",
   "metadata": {},
   "outputs": [
    {
     "data": {
      "text/plain": [
       "(torch.Size([1, 3, 32, 32]), torch.Size([1, 16, 32, 32]))"
      ]
     },
     "execution_count": 15,
     "metadata": {},
     "output_type": "execute_result"
    }
   ],
   "source": [
    "conv = nn.Conv2d(3, 16, kernel_size=3, padding=1)\n",
    "output = conv(img.unsqueeze(0))\n",
    "img.unsqueeze(0).shape, output.shape"
   ]
  },
  {
   "cell_type": "markdown",
   "id": "8849c67c-c6b8-4671-8ae0-f4109c2e59ec",
   "metadata": {},
   "source": [
    "### 8.2.2 컨볼루션으로 피처 찾아내기"
   ]
  },
  {
   "cell_type": "code",
   "execution_count": 16,
   "id": "71f4878b-7608-42d0-b2e9-f4bd6e318402",
   "metadata": {},
   "outputs": [],
   "source": [
    "with torch.no_grad():\n",
    "    conv.bias.zero_()"
   ]
  },
  {
   "cell_type": "code",
   "execution_count": 17,
   "id": "49fc3c2b-45fa-4683-a716-5e1b6d683a92",
   "metadata": {},
   "outputs": [],
   "source": [
    "with torch.no_grad():\n",
    "    conv.weight.fill_(1.0 / 9.0)"
   ]
  },
  {
   "cell_type": "code",
   "execution_count": 18,
   "id": "b7d8b4b4-2949-49a2-a4de-f73e1ea3bc8e",
   "metadata": {},
   "outputs": [
    {
     "data": {
      "image/png": "[encoded data removed]",
      "text/plain": [
       "<Figure size 640x480 with 1 Axes>"
      ]
     },
     "metadata": {},
     "output_type": "display_data"
    }
   ],
   "source": [
    "output = conv(img.unsqueeze(0))\n",
    "plt.imshow(output[0, 0].detach(), cmap='gray')\n",
    "plt.show()"
   ]
  },
  {
   "cell_type": "code",
   "execution_count": 19,
   "id": "a6cd7e80-e39f-4af4-8e9f-6109d51889aa",
   "metadata": {},
   "outputs": [
    {
     "data": {
      "image/png": "[encoded data removed]",
      "text/plain": [
       "<Figure size 1000x480 with 2 Axes>"
      ]
     },
     "metadata": {},
     "output_type": "display_data"
    }
   ],
   "source": [
    "plt.figure(figsize=(10, 4.8))\n",
    "ax1 = plt.subplot(1, 2, 1)\n",
    "plt.title('output')\n",
    "plt.imshow(output[0, 0].detach(), cmap='gray')\n",
    "plt.subplot(1, 2, 2, sharex=ax1, sharey=ax1)\n",
    "plt.imshow(img.mean(0), cmap='gray')\n",
    "plt.title('input')\n",
    "plt.show()"
   ]
  },
  {
   "cell_type": "code",
   "execution_count": 20,
   "id": "a508e2f2-92c9-422c-8199-503fafb4eae0",
   "metadata": {},
   "outputs": [],
   "source": [
    "conv = nn.Conv2d(3, 1, kernel_size=3, padding=1)\n",
    "\n",
    "with torch.no_grad():\n",
    "    conv.weight[:] = torch.tensor([[-1.0, 0, 1.0],\n",
    "                                   [-1.0, 0, 1.0],\n",
    "                                   [-1.0, 0, 1.0]])\n",
    "    conv.bias.zero_()"
   ]
  },
  {
   "cell_type": "markdown",
   "id": "66c9ef11-e648-4735-ae2d-4a24a40d74ba",
   "metadata": {},
   "source": [
    "수직 경계를 탐색하는 역할을 함"
   ]
  },
  {
   "cell_type": "code",
   "execution_count": 21,
   "id": "d7a46068-a96c-4245-81c7-0cb5838a6303",
   "metadata": {},
   "outputs": [
    {
     "data": {
      "image/png": "[encoded data removed]",
      "text/plain": [
       "<Figure size 640x480 with 1 Axes>"
      ]
     },
     "metadata": {},
     "output_type": "display_data"
    }
   ],
   "source": [
    "output = conv(img.unsqueeze(0))\n",
    "plt.imshow(output[0, 0].detach(), cmap='gray')\n",
    "plt.show()"
   ]
  },
  {
   "cell_type": "code",
   "execution_count": 22,
   "id": "7efe9212-9494-46ac-89b5-191ad349c3de",
   "metadata": {},
   "outputs": [
    {
     "data": {
      "image/png": "[encoded data removed]",
      "text/plain": [
       "<Figure size 1000x480 with 2 Axes>"
      ]
     },
     "metadata": {},
     "output_type": "display_data"
    }
   ],
   "source": [
    "plt.figure(figsize=(10, 4.8))\n",
    "ax1 = plt.subplot(1, 2, 1)\n",
    "plt.title('output')\n",
    "plt.imshow(output[0, 0].detach(), cmap='gray')\n",
    "plt.subplot(1, 2, 2, sharex=ax1, sharey=ax1)\n",
    "plt.imshow(img.mean(0), cmap='gray')\n",
    "plt.title('input')\n",
    "plt.show()"
   ]
  },
  {
   "cell_type": "markdown",
   "id": "36b87e64-b683-4be6-a6e1-c0339c90f664",
   "metadata": {},
   "source": [
    "### 8.2.3 깊이와 풀링으로 한 단계 더 인식하기"
   ]
  },
  {
   "cell_type": "markdown",
   "id": "416a635e-c783-4d51-b003-5df42db6fa58",
   "metadata": {},
   "source": [
    "#### 큰 이미지에서 작은 이미지로: 다운샘플링"
   ]
  },
  {
   "cell_type": "code",
   "execution_count": 23,
   "id": "85fc47e8-76a2-43ee-81dd-04db020a1890",
   "metadata": {},
   "outputs": [
    {
     "data": {
      "text/plain": [
       "(torch.Size([1, 3, 32, 32]), torch.Size([1, 3, 16, 16]))"
      ]
     },
     "execution_count": 23,
     "metadata": {},
     "output_type": "execute_result"
    }
   ],
   "source": [
    "pool = nn.MaxPool2d(2)\n",
    "output = pool(img.unsqueeze(0))\n",
    "\n",
    "img.unsqueeze(0).shape, output.shape"
   ]
  },
  {
   "cell_type": "markdown",
   "id": "5c13b12e-e2d0-4769-b965-251623124986",
   "metadata": {},
   "source": [
    "#### 더 나은 성능을 위해 컨볼루션과 다운샘플링 결합하기"
   ]
  },
  {
   "cell_type": "markdown",
   "id": "9611d195-f4a1-4394-be1b-7f0f5758fd7b",
   "metadata": {},
   "source": [
    "### 8.2.4 우리의 신경망에 적용하기"
   ]
  },
  {
   "cell_type": "code",
   "execution_count": 24,
   "id": "d5628482-a20f-44ba-b237-6e139a0ad259",
   "metadata": {},
   "outputs": [],
   "source": [
    "model = nn.Sequential(\n",
    "    nn.Conv2d(3, 16, kernel_size=3, padding=1),\n",
    "    nn.Tanh(),\n",
    "    nn.MaxPool2d(2),\n",
    "    nn.Conv2d(16, 8, kernel_size=3, padding=1),\n",
    "    nn.Tanh(),\n",
    "    nn.MaxPool2d(2),\n",
    "    # ...\n",
    ")"
   ]
  },
  {
   "cell_type": "code",
   "execution_count": 25,
   "id": "dbca043f-92c1-4ff0-9e4f-fd6966cf2ef6",
   "metadata": {},
   "outputs": [],
   "source": [
    "model = nn.Sequential(\n",
    "    nn.Conv2d(3, 16, kernel_size=3, padding=1),\n",
    "    nn.Tanh(),\n",
    "    nn.MaxPool2d(2),\n",
    "    nn.Conv2d(16, 8, kernel_size=3, padding=1),\n",
    "    nn.Tanh(),\n",
    "    nn.MaxPool2d(2),\n",
    "    # ...\n",
    "    nn.Linear(8 * 8 * 8, 32),\n",
    "    nn.Tanh(),\n",
    "    nn.Linear(32, 2),\n",
    ")"
   ]
  },
  {
   "cell_type": "code",
   "execution_count": 26,
   "id": "a7d849b4-ae44-444f-a0a4-96303492f2b8",
   "metadata": {},
   "outputs": [
    {
     "data": {
      "text/plain": [
       "(18090, [432, 16, 1152, 8, 16384, 32, 64, 2])"
      ]
     },
     "execution_count": 26,
     "metadata": {},
     "output_type": "execute_result"
    }
   ],
   "source": [
    "numel_list = [p.numel() for p in model.parameters()]\n",
    "sum(numel_list), numel_list"
   ]
  },
  {
   "cell_type": "code",
   "execution_count": 29,
   "id": "b1ec00b2-3bae-47af-82cf-419539ef744a",
   "metadata": {},
   "outputs": [
    {
     "ename": "RuntimeError",
     "evalue": "mat1 and mat2 shapes cannot be multiplied (64x8 and 512x32)",
     "output_type": "error",
     "traceback": [
      "\u001b[0;31m---------------------------------------------------------------------------\u001b[0m",
      "\u001b[0;31mRuntimeError\u001b[0m                              Traceback (most recent call last)",
      "Cell \u001b[0;32mIn[29], line 1\u001b[0m\n\u001b[0;32m----> 1\u001b[0m \u001b[43mmodel\u001b[49m\u001b[43m(\u001b[49m\u001b[43mimg\u001b[49m\u001b[38;5;241;43m.\u001b[39;49m\u001b[43munsqueeze\u001b[49m\u001b[43m(\u001b[49m\u001b[38;5;241;43m0\u001b[39;49m\u001b[43m)\u001b[49m\u001b[43m)\u001b[49m\n",
      "File \u001b[0;32m/data/heerak/workspace/venv3.8/lib/python3.8/site-packages/torch/nn/modules/module.py:1102\u001b[0m, in \u001b[0;36mModule._call_impl\u001b[0;34m(self, *input, **kwargs)\u001b[0m\n\u001b[1;32m   1098\u001b[0m \u001b[38;5;66;03m# If we don't have any hooks, we want to skip the rest of the logic in\u001b[39;00m\n\u001b[1;32m   1099\u001b[0m \u001b[38;5;66;03m# this function, and just call forward.\u001b[39;00m\n\u001b[1;32m   1100\u001b[0m \u001b[38;5;28;01mif\u001b[39;00m \u001b[38;5;129;01mnot\u001b[39;00m (\u001b[38;5;28mself\u001b[39m\u001b[38;5;241m.\u001b[39m_backward_hooks \u001b[38;5;129;01mor\u001b[39;00m \u001b[38;5;28mself\u001b[39m\u001b[38;5;241m.\u001b[39m_forward_hooks \u001b[38;5;129;01mor\u001b[39;00m \u001b[38;5;28mself\u001b[39m\u001b[38;5;241m.\u001b[39m_forward_pre_hooks \u001b[38;5;129;01mor\u001b[39;00m _global_backward_hooks\n\u001b[1;32m   1101\u001b[0m         \u001b[38;5;129;01mor\u001b[39;00m _global_forward_hooks \u001b[38;5;129;01mor\u001b[39;00m _global_forward_pre_hooks):\n\u001b[0;32m-> 1102\u001b[0m     \u001b[38;5;28;01mreturn\u001b[39;00m \u001b[43mforward_call\u001b[49m\u001b[43m(\u001b[49m\u001b[38;5;241;43m*\u001b[39;49m\u001b[38;5;28;43minput\u001b[39;49m\u001b[43m,\u001b[49m\u001b[43m \u001b[49m\u001b[38;5;241;43m*\u001b[39;49m\u001b[38;5;241;43m*\u001b[39;49m\u001b[43mkwargs\u001b[49m\u001b[43m)\u001b[49m\n\u001b[1;32m   1103\u001b[0m \u001b[38;5;66;03m# Do not call functions when jit is used\u001b[39;00m\n\u001b[1;32m   1104\u001b[0m full_backward_hooks, non_full_backward_hooks \u001b[38;5;241m=\u001b[39m [], []\n",
      "File \u001b[0;32m/data/heerak/workspace/venv3.8/lib/python3.8/site-packages/torch/nn/modules/container.py:141\u001b[0m, in \u001b[0;36mSequential.forward\u001b[0;34m(self, input)\u001b[0m\n\u001b[1;32m    139\u001b[0m \u001b[38;5;28;01mdef\u001b[39;00m \u001b[38;5;21mforward\u001b[39m(\u001b[38;5;28mself\u001b[39m, \u001b[38;5;28minput\u001b[39m):\n\u001b[1;32m    140\u001b[0m     \u001b[38;5;28;01mfor\u001b[39;00m module \u001b[38;5;129;01min\u001b[39;00m \u001b[38;5;28mself\u001b[39m:\n\u001b[0;32m--> 141\u001b[0m         \u001b[38;5;28minput\u001b[39m \u001b[38;5;241m=\u001b[39m \u001b[43mmodule\u001b[49m\u001b[43m(\u001b[49m\u001b[38;5;28;43minput\u001b[39;49m\u001b[43m)\u001b[49m\n\u001b[1;32m    142\u001b[0m     \u001b[38;5;28;01mreturn\u001b[39;00m \u001b[38;5;28minput\u001b[39m\n",
      "File \u001b[0;32m/data/heerak/workspace/venv3.8/lib/python3.8/site-packages/torch/nn/modules/module.py:1102\u001b[0m, in \u001b[0;36mModule._call_impl\u001b[0;34m(self, *input, **kwargs)\u001b[0m\n\u001b[1;32m   1098\u001b[0m \u001b[38;5;66;03m# If we don't have any hooks, we want to skip the rest of the logic in\u001b[39;00m\n\u001b[1;32m   1099\u001b[0m \u001b[38;5;66;03m# this function, and just call forward.\u001b[39;00m\n\u001b[1;32m   1100\u001b[0m \u001b[38;5;28;01mif\u001b[39;00m \u001b[38;5;129;01mnot\u001b[39;00m (\u001b[38;5;28mself\u001b[39m\u001b[38;5;241m.\u001b[39m_backward_hooks \u001b[38;5;129;01mor\u001b[39;00m \u001b[38;5;28mself\u001b[39m\u001b[38;5;241m.\u001b[39m_forward_hooks \u001b[38;5;129;01mor\u001b[39;00m \u001b[38;5;28mself\u001b[39m\u001b[38;5;241m.\u001b[39m_forward_pre_hooks \u001b[38;5;129;01mor\u001b[39;00m _global_backward_hooks\n\u001b[1;32m   1101\u001b[0m         \u001b[38;5;129;01mor\u001b[39;00m _global_forward_hooks \u001b[38;5;129;01mor\u001b[39;00m _global_forward_pre_hooks):\n\u001b[0;32m-> 1102\u001b[0m     \u001b[38;5;28;01mreturn\u001b[39;00m \u001b[43mforward_call\u001b[49m\u001b[43m(\u001b[49m\u001b[38;5;241;43m*\u001b[39;49m\u001b[38;5;28;43minput\u001b[39;49m\u001b[43m,\u001b[49m\u001b[43m \u001b[49m\u001b[38;5;241;43m*\u001b[39;49m\u001b[38;5;241;43m*\u001b[39;49m\u001b[43mkwargs\u001b[49m\u001b[43m)\u001b[49m\n\u001b[1;32m   1103\u001b[0m \u001b[38;5;66;03m# Do not call functions when jit is used\u001b[39;00m\n\u001b[1;32m   1104\u001b[0m full_backward_hooks, non_full_backward_hooks \u001b[38;5;241m=\u001b[39m [], []\n",
      "File \u001b[0;32m/data/heerak/workspace/venv3.8/lib/python3.8/site-packages/torch/nn/modules/linear.py:103\u001b[0m, in \u001b[0;36mLinear.forward\u001b[0;34m(self, input)\u001b[0m\n\u001b[1;32m    102\u001b[0m \u001b[38;5;28;01mdef\u001b[39;00m \u001b[38;5;21mforward\u001b[39m(\u001b[38;5;28mself\u001b[39m, \u001b[38;5;28minput\u001b[39m: Tensor) \u001b[38;5;241m-\u001b[39m\u001b[38;5;241m>\u001b[39m Tensor:\n\u001b[0;32m--> 103\u001b[0m     \u001b[38;5;28;01mreturn\u001b[39;00m \u001b[43mF\u001b[49m\u001b[38;5;241;43m.\u001b[39;49m\u001b[43mlinear\u001b[49m\u001b[43m(\u001b[49m\u001b[38;5;28;43minput\u001b[39;49m\u001b[43m,\u001b[49m\u001b[43m \u001b[49m\u001b[38;5;28;43mself\u001b[39;49m\u001b[38;5;241;43m.\u001b[39;49m\u001b[43mweight\u001b[49m\u001b[43m,\u001b[49m\u001b[43m \u001b[49m\u001b[38;5;28;43mself\u001b[39;49m\u001b[38;5;241;43m.\u001b[39;49m\u001b[43mbias\u001b[49m\u001b[43m)\u001b[49m\n",
      "File \u001b[0;32m/data/heerak/workspace/venv3.8/lib/python3.8/site-packages/torch/nn/functional.py:1848\u001b[0m, in \u001b[0;36mlinear\u001b[0;34m(input, weight, bias)\u001b[0m\n\u001b[1;32m   1846\u001b[0m \u001b[38;5;28;01mif\u001b[39;00m has_torch_function_variadic(\u001b[38;5;28minput\u001b[39m, weight, bias):\n\u001b[1;32m   1847\u001b[0m     \u001b[38;5;28;01mreturn\u001b[39;00m handle_torch_function(linear, (\u001b[38;5;28minput\u001b[39m, weight, bias), \u001b[38;5;28minput\u001b[39m, weight, bias\u001b[38;5;241m=\u001b[39mbias)\n\u001b[0;32m-> 1848\u001b[0m \u001b[38;5;28;01mreturn\u001b[39;00m \u001b[43mtorch\u001b[49m\u001b[38;5;241;43m.\u001b[39;49m\u001b[43m_C\u001b[49m\u001b[38;5;241;43m.\u001b[39;49m\u001b[43m_nn\u001b[49m\u001b[38;5;241;43m.\u001b[39;49m\u001b[43mlinear\u001b[49m\u001b[43m(\u001b[49m\u001b[38;5;28;43minput\u001b[39;49m\u001b[43m,\u001b[49m\u001b[43m \u001b[49m\u001b[43mweight\u001b[49m\u001b[43m,\u001b[49m\u001b[43m \u001b[49m\u001b[43mbias\u001b[49m\u001b[43m)\u001b[49m\n",
      "\u001b[0;31mRuntimeError\u001b[0m: mat1 and mat2 shapes cannot be multiplied (64x8 and 512x32)"
     ]
    }
   ],
   "source": [
    "model(img.unsqueeze(0))"
   ]
  },
  {
   "cell_type": "markdown",
   "id": "cbc71d3b-7293-4739-b475-351026a21fc3",
   "metadata": {},
   "source": [
    "## 8.3 nn.Module 서브클래싱하기"
   ]
  },
  {
   "cell_type": "markdown",
   "id": "18435e2b-7bda-4d6e-bcf2-1e43e5cab902",
   "metadata": {},
   "source": [
    "### 8.3.1 nn.Module 로 정의된 우리의 신경망"
   ]
  },
  {
   "cell_type": "code",
   "execution_count": 30,
   "id": "5e25c08f-7cee-43d4-bb8b-a7ad8d278394",
   "metadata": {},
   "outputs": [],
   "source": [
    "class Net(nn.Module):\n",
    "    def __init__(self):\n",
    "        super().__init__()\n",
    "        self.conv1 = nn.Conv2d(3, 16, kernel_size=3, padding=1)\n",
    "        self.act1 = nn.Tanh()\n",
    "        self.pool1 = nn.MaxPool2d(2)\n",
    "        self.conv2 = nn.Conv2d(16, 8, kernel_size=3, padding=1)\n",
    "        self.act2 = nn.Tanh()\n",
    "        self.pool2 = nn.MaxPool2d(2)\n",
    "        self.fc1 = nn.Linear(8 * 8 * 8, 32)\n",
    "        self.act3 = nn.Tanh()\n",
    "        self.fc2 = nn.Linear(32, 2)\n",
    "        \n",
    "    def forward(self, x):\n",
    "        out = self.pool1(self.act1(self.conv1(x)))\n",
    "        out = self.pool2(self.act2(self.conv2(out)))\n",
    "        out = out.view(-1, 8 * 8 * 8)\n",
    "        out = self.act3(self.fc1(out))\n",
    "        out = self.fc2(out)\n",
    "        return out"
   ]
  },
  {
   "cell_type": "markdown",
   "id": "e7eeba69-9d97-41e2-83c3-169f0e4b6b43",
   "metadata": {},
   "source": [
    "### 8.3.2 파이토치가 파라미터와 서브모듈을 유지하는 방법"
   ]
  },
  {
   "cell_type": "code",
   "execution_count": 32,
   "id": "e5c5b887-558a-4dab-aada-c056f8bd3d23",
   "metadata": {},
   "outputs": [
    {
     "data": {
      "text/plain": [
       "(18090, [432, 16, 1152, 8, 16384, 32, 64, 2])"
      ]
     },
     "execution_count": 32,
     "metadata": {},
     "output_type": "execute_result"
    }
   ],
   "source": [
    "model = Net()\n",
    "\n",
    "numel_list = [p.numel() for p in model.parameters()]\n",
    "sum(numel_list), numel_list"
   ]
  },
  {
   "cell_type": "markdown",
   "id": "ea693bee-d0a3-4fc4-896b-20ee041d2d9f",
   "metadata": {},
   "source": [
    "### 8.3.3 함수형 API"
   ]
  },
  {
   "cell_type": "code",
   "execution_count": 33,
   "id": "46dc85c7-8aa3-4519-a97f-89c9150adb1f",
   "metadata": {},
   "outputs": [],
   "source": [
    "class Net(nn.Module):\n",
    "    def __init__(self):\n",
    "        super().__init__()\n",
    "        self.conv1 = nn.Conv2d(3, 16, kernel_size=3, padding=1)\n",
    "        self.conv2 = nn.Conv2d(16, 8, kernel_size=3, padding=1)\n",
    "        self.fc1 = nn.Linear(8 * 8 * 8, 32)\n",
    "        self.fc2 = nn.Linear(32, 2)\n",
    "        \n",
    "    def forward(self, x):\n",
    "        out = F.max_pool2d(torch.tanh(self.conv1(x)), 2)\n",
    "        out = F.max_pool2d(torch.tanh(self.conv2(out)), 2)\n",
    "        out = out.view(-1, 8 * 8 * 8)\n",
    "        out = torch.tanh(self.fc1(out))\n",
    "        out = self.fc2(out)\n",
    "        return out"
   ]
  },
  {
   "cell_type": "code",
   "execution_count": 34,
   "id": "151f5bbc-f474-4998-9e9f-60e647ba39fa",
   "metadata": {},
   "outputs": [
    {
     "data": {
      "text/plain": [
       "tensor([[-0.0265,  0.1108]], grad_fn=<AddmmBackward0>)"
      ]
     },
     "execution_count": 34,
     "metadata": {},
     "output_type": "execute_result"
    }
   ],
   "source": [
    "model = Net()\n",
    "\n",
    "model(img.unsqueeze(0))"
   ]
  },
  {
   "cell_type": "markdown",
   "id": "4427bae9-5b3c-4db2-8bf1-3018d990178c",
   "metadata": {},
   "source": [
    "## 8.4 우리가 만든 컨볼루션 신경망 훈련시키기"
   ]
  },
  {
   "cell_type": "code",
   "execution_count": 35,
   "id": "9331fbe7-8355-4fab-8d50-c8ccb3d75f0d",
   "metadata": {},
   "outputs": [],
   "source": [
    "import datetime"
   ]
  },
  {
   "cell_type": "code",
   "execution_count": 38,
   "id": "3c15d30d-633e-491b-a8ea-a91afa120eaa",
   "metadata": {},
   "outputs": [],
   "source": [
    "def training_loop(n_epochs, optimizer, model, loss_fn, train_loader):\n",
    "    for epoch in range(1, n_epochs + 1):\n",
    "        loss_train = 0.0\n",
    "        for imgs, labels in train_loader:\n",
    "            \n",
    "            outputs = model(imgs)\n",
    "            \n",
    "            loss = loss_fn(outputs, labels)\n",
    "            \n",
    "            optimizer.zero_grad()\n",
    "            \n",
    "            loss.backward()\n",
    "            \n",
    "            optimizer.step()\n",
    "            \n",
    "            loss_train += loss.item()\n",
    "            \n",
    "        if epoch == 1 or epoch % 10 == 0:\n",
    "            print('{} Epoch {}, Training loss {}'.format(datetime.datetime.now(), epoch, loss_train / len(train_loader)))"
   ]
  },
  {
   "cell_type": "code",
   "execution_count": 39,
   "id": "f7aaf63b-a63d-45f6-b5b0-d96d9f00aadf",
   "metadata": {},
   "outputs": [
    {
     "name": "stdout",
     "output_type": "stream",
     "text": [
      "2022-12-19 17:30:31.291264 Epoch 1, Training loss 0.5835789476230646\n",
      "2022-12-19 17:30:38.100558 Epoch 10, Training loss 0.3410885232459208\n",
      "2022-12-19 17:30:46.451971 Epoch 20, Training loss 0.29464452946261993\n",
      "2022-12-19 17:30:54.737185 Epoch 30, Training loss 0.26854647240441315\n",
      "2022-12-19 17:31:02.329437 Epoch 40, Training loss 0.24979834424652111\n",
      "2022-12-19 17:31:10.709573 Epoch 50, Training loss 0.2320592247281864\n",
      "2022-12-19 17:31:18.446588 Epoch 60, Training loss 0.22031663543289634\n",
      "2022-12-19 17:31:25.997810 Epoch 70, Training loss 0.20380599744570482\n",
      "2022-12-19 17:31:34.448049 Epoch 80, Training loss 0.18893716949376332\n",
      "2022-12-19 17:31:41.987990 Epoch 90, Training loss 0.17891844257617454\n",
      "2022-12-19 17:31:49.694282 Epoch 100, Training loss 0.16607845194969967\n"
     ]
    }
   ],
   "source": [
    "train_loader = torch.utils.data.DataLoader(cifar2, batch_size=64, shuffle=True)\n",
    "\n",
    "model = Net()\n",
    "optimizer = optim.SGD(model.parameters(), lr=1e-2)\n",
    "loss_fn = nn.CrossEntropyLoss()\n",
    "\n",
    "training_loop(\n",
    "    n_epochs=100,\n",
    "    optimizer=optimizer,\n",
    "    model=model,\n",
    "    loss_fn=loss_fn,\n",
    "    train_loader=train_loader,\n",
    ")"
   ]
  },
  {
   "cell_type": "markdown",
   "id": "a514a701-142e-42fd-b01d-cd2e3b151562",
   "metadata": {},
   "source": [
    "### 8.4.1 정확도 측정"
   ]
  },
  {
   "cell_type": "code",
   "execution_count": 40,
   "id": "b1547737-0ced-4f1c-ad16-877af60d7341",
   "metadata": {},
   "outputs": [
    {
     "name": "stdout",
     "output_type": "stream",
     "text": [
      "Accuracy train: 0.93\n",
      "Accuracy val: 0.89\n"
     ]
    }
   ],
   "source": [
    "train_loader = torch.utils.data.DataLoader(cifar2, batch_size=64, shuffle=False)\n",
    "val_loader = torch.utils.data.DataLoader(cifar2_val, batch_size=64, shuffle=False)\n",
    "\n",
    "def validate(model, train_loader, val_loader):\n",
    "    for name, loader in [('train', train_loader), ('val', val_loader)]:\n",
    "        correct = 0\n",
    "        total = 0\n",
    "        \n",
    "        with torch.no_grad():\n",
    "            for imgs, labels in loader:\n",
    "                outputs = model(imgs)\n",
    "                _, predicted = torch.max(outputs, dim=1)\n",
    "                total += labels.shape[0]\n",
    "                correct += int((predicted == labels).sum())\n",
    "                \n",
    "        print('Accuracy {}: {:.2f}'.format(name, correct / total))\n",
    "        \n",
    "validate(model, train_loader, val_loader)"
   ]
  },
  {
   "cell_type": "markdown",
   "id": "6d4e295c-62dc-48b0-868f-deacb8843689",
   "metadata": {},
   "source": [
    "### 8.4.2 모델을 저장하고 불러오기"
   ]
  },
  {
   "cell_type": "code",
   "execution_count": 41,
   "id": "0ae8a99f-7183-49c3-be55-38fe98932815",
   "metadata": {},
   "outputs": [],
   "source": [
    "torch.save(model.state_dict(), data_path + 'birds_vs_airplanes.pt')"
   ]
  },
  {
   "cell_type": "code",
   "execution_count": 42,
   "id": "dde1b8fa-2fbf-474f-9359-74e0d9cc65a0",
   "metadata": {},
   "outputs": [
    {
     "data": {
      "text/plain": [
       "<All keys matched successfully>"
      ]
     },
     "execution_count": 42,
     "metadata": {},
     "output_type": "execute_result"
    }
   ],
   "source": [
    "loaded_model = Net()\n",
    "loaded_model.load_state_dict(torch.load(data_path + 'birds_vs_airplanes.pt'))"
   ]
  },
  {
   "cell_type": "markdown",
   "id": "33ec1360-c66c-46a5-a18d-67f5386ae59a",
   "metadata": {},
   "source": [
    "### 8.4.3 GPU 에서 훈련시키기"
   ]
  },
  {
   "cell_type": "code",
   "execution_count": 44,
   "id": "95781257-c8c6-4a22-80c4-6bf0945bcfaa",
   "metadata": {},
   "outputs": [
    {
     "name": "stdout",
     "output_type": "stream",
     "text": [
      "Training on device cuda\n"
     ]
    }
   ],
   "source": [
    "device = (torch.device('cuda') if torch.cuda.is_available() else torch.device('cpu'))\n",
    "print(f'Training on device {device}')"
   ]
  },
  {
   "cell_type": "code",
   "execution_count": 45,
   "id": "ac07498e-751e-4e25-8f4d-c02a529045a9",
   "metadata": {},
   "outputs": [],
   "source": [
    "def training_loop(n_epochs, optimizer, model, loss_fn, train_loader):\n",
    "    for epoch in range(1, n_epochs + 1):\n",
    "        loss_train = 0.0\n",
    "        for imgs, labels in train_loader:\n",
    "            imgs = imgs.to(device)\n",
    "            labels = labels.to(device)\n",
    "            outputs = model(imgs)\n",
    "            \n",
    "            loss = loss_fn(outputs, labels)\n",
    "            \n",
    "            optimizer.zero_grad()\n",
    "            \n",
    "            loss.backward()\n",
    "            \n",
    "            optimizer.step()\n",
    "            \n",
    "            loss_train += loss.item()\n",
    "            \n",
    "        if epoch == 1 or epoch % 10 == 0:\n",
    "            print('{} Epoch {}, Training loss {}'.format(datetime.datetime.now(), epoch, loss_train / len(train_loader)))"
   ]
  },
  {
   "cell_type": "code",
   "execution_count": 46,
   "id": "c4b50077-79e8-4692-af83-b1f90ab16656",
   "metadata": {},
   "outputs": [
    {
     "name": "stdout",
     "output_type": "stream",
     "text": [
      "2022-12-19 17:46:15.582215 Epoch 1, Training loss 0.5700976444277793\n",
      "2022-12-19 17:46:17.561533 Epoch 10, Training loss 0.339445932940313\n",
      "2022-12-19 17:46:19.647896 Epoch 20, Training loss 0.301586305259899\n",
      "2022-12-19 17:46:21.753122 Epoch 30, Training loss 0.26953030681344353\n",
      "2022-12-19 17:46:23.887774 Epoch 40, Training loss 0.24625162163357825\n",
      "2022-12-19 17:46:26.052068 Epoch 50, Training loss 0.2273902804323822\n",
      "2022-12-19 17:46:28.212396 Epoch 60, Training loss 0.20949122955085367\n",
      "2022-12-19 17:46:30.337672 Epoch 70, Training loss 0.19286721261443607\n",
      "2022-12-19 17:46:32.436438 Epoch 80, Training loss 0.17592360719943503\n",
      "2022-12-19 17:46:34.556582 Epoch 90, Training loss 0.1636454655676131\n",
      "2022-12-19 17:46:36.710031 Epoch 100, Training loss 0.14891791372162522\n"
     ]
    }
   ],
   "source": [
    "train_loader = torch.utils.data.DataLoader(cifar2, batch_size=64, shuffle=True)\n",
    "\n",
    "model = Net().to(device)\n",
    "optimizer = optim.SGD(model.parameters(), lr=1e-2)\n",
    "loss_fn = nn.CrossEntropyLoss()\n",
    "\n",
    "training_loop(\n",
    "    n_epochs=100,\n",
    "    optimizer=optimizer,\n",
    "    model=model,\n",
    "    loss_fn=loss_fn,\n",
    "    train_loader=train_loader,\n",
    ")"
   ]
  },
  {
   "cell_type": "code",
   "execution_count": 50,
   "id": "3c3b8a94-a9d8-4a7e-83e9-f97d80cc4ac5",
   "metadata": {},
   "outputs": [
    {
     "name": "stdout",
     "output_type": "stream",
     "text": [
      "Accuracy train: 0.94\n",
      "Accuracy val: 0.89\n"
     ]
    }
   ],
   "source": [
    "train_loader = torch.utils.data.DataLoader(cifar2, batch_size=64, shuffle=False)\n",
    "val_loader = torch.utils.data.DataLoader(cifar2_val, batch_size=64, shuffle=False)\n",
    "\n",
    "all_acc_dict = collections.OrderedDict()\n",
    "\n",
    "def validate(model, train_loader, val_loader):\n",
    "    accdict = {}\n",
    "    for name, loader in [('train', train_loader), ('val', val_loader)]:\n",
    "        correct = 0\n",
    "        total = 0\n",
    "        \n",
    "        with torch.no_grad():\n",
    "            for imgs, labels in loader:\n",
    "                imgs = imgs.to(device=device)\n",
    "                labels = labels.to(device=device)\n",
    "                outputs = model(imgs)\n",
    "                _, predicted = torch.max(outputs, dim=1)\n",
    "                total += labels.shape[0]\n",
    "                correct += int((predicted == labels).sum())\n",
    "                \n",
    "        print('Accuracy {}: {:.2f}'.format(name, correct / total))\n",
    "        accdict[name] = correct / total\n",
    "    return accdict\n",
    "        \n",
    "all_acc_dict['baseline'] = validate(model, train_loader, val_loader)"
   ]
  },
  {
   "cell_type": "code",
   "execution_count": 51,
   "id": "c307244d-9a18-4f81-b482-f041c7d2f87d",
   "metadata": {},
   "outputs": [
    {
     "data": {
      "text/plain": [
       "OrderedDict([('baseline', {'train': 0.9421, 'val': 0.8875})])"
      ]
     },
     "execution_count": 51,
     "metadata": {},
     "output_type": "execute_result"
    }
   ],
   "source": [
    "all_acc_dict"
   ]
  },
  {
   "cell_type": "code",
   "execution_count": 47,
   "id": "55eabc20-4810-45d1-a04c-1ca7f008e543",
   "metadata": {},
   "outputs": [
    {
     "data": {
      "text/plain": [
       "<All keys matched successfully>"
      ]
     },
     "execution_count": 47,
     "metadata": {},
     "output_type": "execute_result"
    }
   ],
   "source": [
    "loaded_model = Net().to(device=device)\n",
    "loaded_model.load_state_dict(torch.load(data_path + 'birds_vs_airplanes.pt', map_location=device))"
   ]
  },
  {
   "cell_type": "markdown",
   "id": "851f5402-6bc7-4049-838c-d03359c98e97",
   "metadata": {},
   "source": [
    "## 8.5 모델 설계"
   ]
  },
  {
   "cell_type": "markdown",
   "id": "84c490e6-b58b-4ace-8fc8-cae5ba6a03cc",
   "metadata": {},
   "source": [
    "### 8.5.1 메모리 용량 늘리기: 너비"
   ]
  },
  {
   "cell_type": "code",
   "execution_count": 48,
   "id": "28090410-e311-43d2-b97f-9913c2bfe7f2",
   "metadata": {},
   "outputs": [],
   "source": [
    "class NetWidth(nn.Module):\n",
    "    def __init__(self):\n",
    "        super().__init__()\n",
    "        self.conv1 = nn.Conv2d(3, 32, kernel_size=3, padding=1)\n",
    "        self.conv2 = nn.Conv2d(32, 16, kernel_size=3, padding=1)\n",
    "        self.fc1 = nn.Linear(16 * 8 * 8, 32)\n",
    "        self.fc2 = nn.Linear(32, 2)\n",
    "        \n",
    "    def forward(self, x):\n",
    "        out = F.max_pool2d(torch.tanh(self.conv1(x)), 2)\n",
    "        out = F.max_pool2d(torch.tanh(self.conv2(out)), 2)\n",
    "        out = out.view(-1, 16 * 8 * 8)\n",
    "        out = torch.tanh(self.fc1(out))\n",
    "        out = self.fc2(out)\n",
    "        return out"
   ]
  },
  {
   "cell_type": "code",
   "execution_count": 49,
   "id": "2aece5be-fa93-425e-8857-a90721ea030f",
   "metadata": {},
   "outputs": [],
   "source": [
    "class NetWidth(nn.Module):\n",
    "    def __init__(self, n_chans1=32):\n",
    "        super().__init__()\n",
    "        self.n_chans1 = n_chans1\n",
    "        self.conv1 = nn.Conv2d(3, n_chans1, kernel_size=3, padding=1)\n",
    "        self.conv2 = nn.Conv2d(n_chans1, n_chans1 // 2, kernel_size=3, padding=1)\n",
    "        self.fc1 = nn.Linear(n_chans1 // 2 * 8 * 8, 32)\n",
    "        self.fc2 = nn.Linear(32, 2)\n",
    "        \n",
    "    def forward(self, x):\n",
    "        out = F.max_pool2d(torch.tanh(self.conv1(x)), 2)\n",
    "        out = F.max_pool2d(torch.tanh(self.conv2(out)), 2)\n",
    "        out = out.view(-1, self.n_chans1 // 2 * 8 * 8)\n",
    "        out = torch.tanh(self.fc1(out))\n",
    "        out = self.fc2(out)\n",
    "        return out"
   ]
  },
  {
   "cell_type": "code",
   "execution_count": 54,
   "id": "cf64289f-f121-4ed4-a8ba-27e60430c61f",
   "metadata": {},
   "outputs": [
    {
     "name": "stdout",
     "output_type": "stream",
     "text": [
      "2022-12-19 17:57:00.635838 Epoch 1, Training loss 0.5508495677428641\n",
      "2022-12-19 17:57:02.649631 Epoch 10, Training loss 0.3225786498018131\n",
      "2022-12-19 17:57:04.878282 Epoch 20, Training loss 0.2742170329876007\n",
      "2022-12-19 17:57:07.124222 Epoch 30, Training loss 0.2398937265774247\n",
      "2022-12-19 17:57:09.365413 Epoch 40, Training loss 0.20956511676880965\n",
      "2022-12-19 17:57:11.591134 Epoch 50, Training loss 0.18297791756262446\n",
      "2022-12-19 17:57:13.813343 Epoch 60, Training loss 0.15947045419056705\n",
      "2022-12-19 17:57:16.083175 Epoch 70, Training loss 0.1376275511541564\n",
      "2022-12-19 17:57:18.315485 Epoch 80, Training loss 0.11752992832831516\n",
      "2022-12-19 17:57:20.517591 Epoch 90, Training loss 0.0993531509569496\n",
      "2022-12-19 17:57:22.730892 Epoch 100, Training loss 0.08291368349010397\n",
      "Accuracy train: 0.96\n",
      "Accuracy val: 0.89\n"
     ]
    },
    {
     "data": {
      "text/plain": [
       "{'train': 0.9639, 'val': 0.891}"
      ]
     },
     "execution_count": 54,
     "metadata": {},
     "output_type": "execute_result"
    }
   ],
   "source": [
    "model = NetWidth().to(device=device)\n",
    "optimizer = optim.SGD(model.parameters(), lr=1e-2)\n",
    "loss_fn = nn.CrossEntropyLoss()\n",
    "\n",
    "training_loop(\n",
    "    n_epochs=100,\n",
    "    optimizer=optimizer,\n",
    "    model=model,\n",
    "    loss_fn=loss_fn,\n",
    "    train_loader=train_loader,\n",
    ")\n",
    "\n",
    "validate(model, train_loader, val_loader)"
   ]
  },
  {
   "cell_type": "code",
   "execution_count": 55,
   "id": "64505fb1-9908-457f-952e-d4787e6c7738",
   "metadata": {},
   "outputs": [
    {
     "data": {
      "text/plain": [
       "38386"
      ]
     },
     "execution_count": 55,
     "metadata": {},
     "output_type": "execute_result"
    }
   ],
   "source": [
    "sum(p.numel() for p in model.parameters())"
   ]
  },
  {
   "cell_type": "markdown",
   "id": "c63bc47d-d74a-4169-8967-d7d8e07f8267",
   "metadata": {},
   "source": [
    "### 8.5.2 모델이 수렴하고 일반화하도록 돕는 방법: 정규화"
   ]
  },
  {
   "cell_type": "markdown",
   "id": "658de009-a33c-4346-8ac6-7d62a81ed200",
   "metadata": {},
   "source": [
    "#### 파라미터 제어하기: 가중치 페널티"
   ]
  },
  {
   "cell_type": "code",
   "execution_count": 56,
   "id": "19cb89fb-0b91-4547-8319-7205387f65c3",
   "metadata": {},
   "outputs": [],
   "source": [
    "def training_loop_l2reg(n_epochs, optimizer, model, loss_fn, train_loader):\n",
    "    for epoch in range(1, n_epochs + 1):\n",
    "        loss_train = 0.0\n",
    "        for imgs, labels in train_loader:\n",
    "            imgs = imgs.to(device=device)\n",
    "            labels = labels.to(device=device)\n",
    "            outputs = model(imgs)\n",
    "            loss = loss_fn(outputs, labels)\n",
    "            \n",
    "            l2_lambda = 0.001\n",
    "            l2_norm = sum(p.pow(2.0).sum()\n",
    "                          for p in model.parameters())  # L1 정규화라면 pow(2.0)을 abs()로 바꾼다.\n",
    "            loss = loss + l2_lambda * l2_norm\n",
    "            \n",
    "            optimizer.zero_grad()\n",
    "            loss.backward()\n",
    "            optimizer.step()\n",
    "            \n",
    "            loss_train += loss.item()\n",
    "            \n",
    "        if epoch == 1 or epoch % 10 == 0:\n",
    "            print('{} Epoch {}, Training loss {}'.format(datetime.datetime.now(), epoch, loss_train / len(train_loader)))"
   ]
  },
  {
   "cell_type": "markdown",
   "id": "bcd47883-a75a-4359-8e19-54ee6c1556c4",
   "metadata": {},
   "source": [
    "파이토치의 SGD 옵티마이저에는 이미 weight_decay 파라미터가 있고 2 * lambda 값을 가지며 업데이트 동작시 앞에서 설명한 것처럼 가중치 감쇠를 수행함\n",
    "\n",
    "손실값에 가중치의 L2 정규화를 더한 것과 동일하므로, 자동미분과 손실값에서 항을 누적하는 작업을 할 필요가 없음"
   ]
  },
  {
   "cell_type": "code",
   "execution_count": 57,
   "id": "55493f22-b5cb-4451-87e5-138565f1137f",
   "metadata": {},
   "outputs": [
    {
     "name": "stdout",
     "output_type": "stream",
     "text": [
      "2022-12-19 18:07:24.687420 Epoch 1, Training loss 0.5835498231611435\n",
      "2022-12-19 18:07:27.405389 Epoch 10, Training loss 0.3613172097570577\n",
      "2022-12-19 18:07:30.417738 Epoch 20, Training loss 0.3218512478148102\n",
      "2022-12-19 18:07:33.427970 Epoch 30, Training loss 0.3013272769511885\n",
      "2022-12-19 18:07:36.440438 Epoch 40, Training loss 0.28436601693463176\n",
      "2022-12-19 18:07:39.432655 Epoch 50, Training loss 0.2702702239250681\n",
      "2022-12-19 18:07:42.498785 Epoch 60, Training loss 0.25788748463627637\n",
      "2022-12-19 18:07:45.500617 Epoch 70, Training loss 0.24670489597472417\n",
      "2022-12-19 18:07:48.509317 Epoch 80, Training loss 0.23636788234209558\n",
      "2022-12-19 18:07:51.548949 Epoch 90, Training loss 0.22668245358831562\n",
      "2022-12-19 18:07:54.561746 Epoch 100, Training loss 0.21727746359671757\n",
      "Accuracy train: 0.92\n",
      "Accuracy val: 0.88\n"
     ]
    }
   ],
   "source": [
    "model = Net().to(device=device)\n",
    "optimizer = optim.SGD(model.parameters(), lr=1e-2)\n",
    "loss_fn = nn.CrossEntropyLoss()\n",
    "\n",
    "training_loop_l2reg(\n",
    "    n_epochs=100,\n",
    "    optimizer=optimizer,\n",
    "    model=model,\n",
    "    loss_fn=loss_fn,\n",
    "    train_loader=train_loader,\n",
    ")\n",
    "\n",
    "all_acc_dict['l2_reg'] = validate(model, train_loader, val_loader)"
   ]
  },
  {
   "cell_type": "code",
   "execution_count": 58,
   "id": "63f98fb8-b736-4a81-a238-bcfeb3adc205",
   "metadata": {},
   "outputs": [
    {
     "data": {
      "text/plain": [
       "OrderedDict([('baseline', {'train': 0.9421, 'val': 0.8875}),\n",
       "             ('l2_reg', {'train': 0.9152, 'val': 0.879})])"
      ]
     },
     "execution_count": 58,
     "metadata": {},
     "output_type": "execute_result"
    }
   ],
   "source": [
    "all_acc_dict"
   ]
  },
  {
   "cell_type": "markdown",
   "id": "b963c726-3fb2-47eb-a814-59c92ce13111",
   "metadata": {},
   "source": [
    "#### 입력 하나에 너무 의존하지 않기: 드랍아웃"
   ]
  },
  {
   "cell_type": "code",
   "execution_count": 65,
   "id": "3d6d0ccb-51a2-47dc-827d-d1a567487c22",
   "metadata": {},
   "outputs": [],
   "source": [
    "class NetDropout(nn.Module):\n",
    "    def __init__(self, n_chans1=32):\n",
    "        super().__init__()\n",
    "        self.n_chans1 = n_chans1\n",
    "        self.conv1 = nn.Conv2d(3, n_chans1, kernel_size=3, padding=1)\n",
    "        self.conv1_dropout = nn.Dropout2d(p=0.4)\n",
    "        self.conv2 = nn.Conv2d(n_chans1, n_chans1 // 2, kernel_size=3, padding=1)\n",
    "        self.conv2_dropout = nn.Dropout2d(p=0.4)\n",
    "        self.fc1 = nn.Linear(8 * 8 * n_chans1 // 2, 32)\n",
    "        self.fc2 = nn.Linear(32, 2)\n",
    "        \n",
    "    def forward(self, x):\n",
    "        out = F.max_pool2d(torch.tanh(self.conv1(x)), 2)\n",
    "        out = self.conv1_dropout(out)\n",
    "        out = F.max_pool2d(torch.tanh(self.conv2(out)), 2)\n",
    "        out = self.conv2_dropout(out)\n",
    "        out = out.view(-1, 8 * 8 * self.n_chans1 // 2)\n",
    "        out = torch.tanh(self.fc1(out))\n",
    "        out = self.fc2(out)\n",
    "        return out"
   ]
  },
  {
   "cell_type": "code",
   "execution_count": 66,
   "id": "427a3f64-75b7-47ff-bc78-031c392d974a",
   "metadata": {},
   "outputs": [
    {
     "name": "stdout",
     "output_type": "stream",
     "text": [
      "2022-12-19 18:15:02.324320 Epoch 1, Training loss 0.5842771197959875\n",
      "2022-12-19 18:15:04.487523 Epoch 10, Training loss 0.3779874796130855\n",
      "2022-12-19 18:15:06.868083 Epoch 20, Training loss 0.34632711245375836\n",
      "2022-12-19 18:15:09.228575 Epoch 30, Training loss 0.3274622998040193\n",
      "2022-12-19 18:15:11.624863 Epoch 40, Training loss 0.3161336722647309\n",
      "2022-12-19 18:15:14.019735 Epoch 50, Training loss 0.30364657435447545\n",
      "2022-12-19 18:15:16.392734 Epoch 60, Training loss 0.2867541668141723\n",
      "2022-12-19 18:15:18.775142 Epoch 70, Training loss 0.27629693706703795\n",
      "2022-12-19 18:15:21.169843 Epoch 80, Training loss 0.2624229128668263\n",
      "2022-12-19 18:15:23.618928 Epoch 90, Training loss 0.25319358640036005\n",
      "2022-12-19 18:15:26.014799 Epoch 100, Training loss 0.2486215654736871\n",
      "Accuracy train: 0.90\n",
      "Accuracy val: 0.87\n"
     ]
    }
   ],
   "source": [
    "model = NetDropout(n_chans1=32).to(device=device)\n",
    "optimizer = optim.SGD(model.parameters(), lr=1e-2)\n",
    "loss_fn = nn.CrossEntropyLoss()\n",
    "\n",
    "training_loop(\n",
    "    n_epochs=100,\n",
    "    optimizer=optimizer,\n",
    "    model=model,\n",
    "    loss_fn=loss_fn,\n",
    "    train_loader=train_loader,\n",
    ")\n",
    "\n",
    "all_acc_dict['dropout'] = validate(model, train_loader, val_loader)"
   ]
  },
  {
   "cell_type": "code",
   "execution_count": 67,
   "id": "897e9cfc-5cdc-4e4e-87ae-b42108bd07ed",
   "metadata": {},
   "outputs": [
    {
     "data": {
      "text/plain": [
       "OrderedDict([('baseline', {'train': 0.9421, 'val': 0.8875}),\n",
       "             ('l2_reg', {'train': 0.9152, 'val': 0.879}),\n",
       "             ('dropout', {'train': 0.8995, 'val': 0.8695})])"
      ]
     },
     "execution_count": 67,
     "metadata": {},
     "output_type": "execute_result"
    }
   ],
   "source": [
    "all_acc_dict"
   ]
  },
  {
   "cell_type": "markdown",
   "id": "ca5ca33c-c94f-4b29-9f50-4b8522a7598b",
   "metadata": {},
   "source": [
    "#### 활성 함수 억제하기: 배치 정규화"
   ]
  },
  {
   "cell_type": "code",
   "execution_count": 68,
   "id": "ad3ec9ef-fcb6-4e34-bc63-06b308d53d18",
   "metadata": {},
   "outputs": [],
   "source": [
    "class NetBatchNorm(nn.Module):\n",
    "    def __init__(self, n_chans1=32):\n",
    "        super().__init__()\n",
    "        self.n_chans1 = n_chans1\n",
    "        self.conv1 = nn.Conv2d(3, n_chans1, kernel_size=3, padding=1)\n",
    "        self.conv1_batchnorm = nn.BatchNorm2d(num_features=n_chans1)\n",
    "        self.conv2 = nn.Conv2d(n_chans1, n_chans1 // 2, kernel_size=3, padding=1)\n",
    "        self.conv2_batchnorm = nn.BatchNorm2d(num_features=n_chans1 // 2)\n",
    "        self.fc1 = nn.Linear(8 * 8 * n_chans1 // 2, 32)\n",
    "        self.fc2 = nn.Linear(32, 2)\n",
    "        \n",
    "    def forward(self, x):\n",
    "        out = self.conv1_batchnorm(self.conv1(x))\n",
    "        out = F.max_pool2d(torch.tanh(out), 2)\n",
    "        out = self.conv2_batchnorm(self.conv2(out))\n",
    "        out = F.max_pool2d(torch.tanh(out), 2)\n",
    "        out = out.view(-1, 8 * 8 * self.n_chans1 // 2)\n",
    "        out = torch.tanh(self.fc1(out))\n",
    "        out = self.fc2(out)\n",
    "        return out"
   ]
  },
  {
   "cell_type": "markdown",
   "id": "762d02d6-f412-4d5e-aaed-416bbefa631b",
   "metadata": {},
   "source": [
    "배치 정규화의 위치는 활성함수의 입력 조정이 목적이기 때문에 활성화함수 전에 입력"
   ]
  },
  {
   "cell_type": "code",
   "execution_count": 69,
   "id": "870af160-5418-49af-89c9-47bbb40cb045",
   "metadata": {},
   "outputs": [
    {
     "name": "stdout",
     "output_type": "stream",
     "text": [
      "2022-12-19 18:23:50.078599 Epoch 1, Training loss 0.43517959269748374\n",
      "2022-12-19 18:23:52.491180 Epoch 10, Training loss 0.26240215108842607\n",
      "2022-12-19 18:23:55.151547 Epoch 20, Training loss 0.20137498992833364\n",
      "2022-12-19 18:23:57.795361 Epoch 30, Training loss 0.15179970748959834\n",
      "2022-12-19 18:24:00.424753 Epoch 40, Training loss 0.1106595093514889\n",
      "2022-12-19 18:24:03.071790 Epoch 50, Training loss 0.07718801200627141\n",
      "2022-12-19 18:24:05.768054 Epoch 60, Training loss 0.05295427064085083\n",
      "2022-12-19 18:24:08.416555 Epoch 70, Training loss 0.040487401145895954\n",
      "2022-12-19 18:24:11.079263 Epoch 80, Training loss 0.021847835940658856\n",
      "2022-12-19 18:24:13.744859 Epoch 90, Training loss 0.02455334971320762\n",
      "2022-12-19 18:24:16.441837 Epoch 100, Training loss 0.01023340805071839\n",
      "Accuracy train: 0.98\n",
      "Accuracy val: 0.87\n"
     ]
    }
   ],
   "source": [
    "model = NetBatchNorm(n_chans1=32).to(device=device)\n",
    "optimizer = optim.SGD(model.parameters(), lr=1e-2)\n",
    "loss_fn = nn.CrossEntropyLoss()\n",
    "\n",
    "training_loop(\n",
    "    n_epochs=100,\n",
    "    optimizer=optimizer,\n",
    "    model=model,\n",
    "    loss_fn=loss_fn,\n",
    "    train_loader=train_loader,\n",
    ")\n",
    "\n",
    "all_acc_dict['batch_norm'] = validate(model, train_loader, val_loader)"
   ]
  },
  {
   "cell_type": "code",
   "execution_count": 70,
   "id": "e9d37c42-b974-4bca-a675-7f7f88842d44",
   "metadata": {},
   "outputs": [
    {
     "data": {
      "text/plain": [
       "OrderedDict([('baseline', {'train': 0.9421, 'val': 0.8875}),\n",
       "             ('l2_reg', {'train': 0.9152, 'val': 0.879}),\n",
       "             ('dropout', {'train': 0.8995, 'val': 0.8695}),\n",
       "             ('batch_norm', {'train': 0.9831, 'val': 0.873})])"
      ]
     },
     "execution_count": 70,
     "metadata": {},
     "output_type": "execute_result"
    }
   ],
   "source": [
    "all_acc_dict"
   ]
  },
  {
   "cell_type": "markdown",
   "id": "02fadd4f-cebf-4a4a-8703-3610742556d4",
   "metadata": {},
   "source": [
    "### 8.5.3 더 복잡한 구조를 배우기 위해 깊이 파헤치기: 깊이"
   ]
  },
  {
   "cell_type": "markdown",
   "id": "b2c9ecb6-86e0-448b-90e9-e005fb572dc7",
   "metadata": {},
   "source": [
    "#### 스킵 커넥션"
   ]
  },
  {
   "cell_type": "code",
   "execution_count": 73,
   "id": "14665ab1-81cb-4dbd-b3dc-ffa3f4b23e02",
   "metadata": {},
   "outputs": [],
   "source": [
    "class NetDepth(nn.Module):\n",
    "    def __init__(self, n_chans1=32):\n",
    "        super().__init__()\n",
    "        self.n_chans1 = n_chans1\n",
    "        self.conv1 = nn.Conv2d(3, n_chans1, kernel_size=3, padding=1)\n",
    "        self.conv2 = nn.Conv2d(n_chans1, n_chans1 // 2, kernel_size=3, padding=1)\n",
    "        self.conv3 = nn.Conv2d(n_chans1 // 2, n_chans1 // 2, kernel_size=3, padding=1)\n",
    "        self.fc1 = nn.Linear(4 * 4 * n_chans1 // 2, 32)\n",
    "        self.fc2 = nn.Linear(32, 2)\n",
    "        \n",
    "    def forward(self, x):\n",
    "        out = F.max_pool2d(torch.relu(self.conv1(x)), 2)\n",
    "        out = F.max_pool2d(torch.relu(self.conv2(out)), 2)\n",
    "        out = F.max_pool2d(torch.relu(self.conv3(out)), 2)\n",
    "        out = out.view(-1, 4 * 4 * self.n_chans1 // 2)\n",
    "        out = torch.relu(self.fc1(out))\n",
    "        out = self.fc2(out)\n",
    "        return out"
   ]
  },
  {
   "cell_type": "code",
   "execution_count": 74,
   "id": "8eebb845-7576-4b57-9637-ccb54fe3b87c",
   "metadata": {},
   "outputs": [
    {
     "name": "stdout",
     "output_type": "stream",
     "text": [
      "2022-12-19 18:34:09.491847 Epoch 1, Training loss 0.6910538392461789\n",
      "2022-12-19 18:34:12.029733 Epoch 10, Training loss 0.3512139889844664\n",
      "2022-12-19 18:34:14.799519 Epoch 20, Training loss 0.3069685485902106\n",
      "2022-12-19 18:34:17.555240 Epoch 30, Training loss 0.2790950168469909\n",
      "2022-12-19 18:34:20.320050 Epoch 40, Training loss 0.24894825478268276\n",
      "2022-12-19 18:34:23.077378 Epoch 50, Training loss 0.2165050106538329\n",
      "2022-12-19 18:34:25.851621 Epoch 60, Training loss 0.18684804596149238\n",
      "2022-12-19 18:34:28.650880 Epoch 70, Training loss 0.15945394337177277\n",
      "2022-12-19 18:34:31.525643 Epoch 80, Training loss 0.13400751459086016\n",
      "2022-12-19 18:34:34.308785 Epoch 90, Training loss 0.10882277689447069\n",
      "2022-12-19 18:34:37.077447 Epoch 100, Training loss 0.08435191116799974\n",
      "Accuracy train: 0.96\n",
      "Accuracy val: 0.90\n"
     ]
    }
   ],
   "source": [
    "model = NetDepth(n_chans1=32).to(device=device)\n",
    "optimizer = optim.SGD(model.parameters(), lr=1e-2)\n",
    "loss_fn = nn.CrossEntropyLoss()\n",
    "\n",
    "training_loop(\n",
    "    n_epochs=100,\n",
    "    optimizer=optimizer,\n",
    "    model=model,\n",
    "    loss_fn=loss_fn,\n",
    "    train_loader=train_loader,\n",
    ")\n",
    "\n",
    "all_acc_dict['depth'] = validate(model, train_loader, val_loader)"
   ]
  },
  {
   "cell_type": "code",
   "execution_count": 75,
   "id": "d78e4f1c-99d9-4ca4-9852-5b2669ea5a80",
   "metadata": {},
   "outputs": [
    {
     "data": {
      "text/plain": [
       "OrderedDict([('baseline', {'train': 0.9421, 'val': 0.8875}),\n",
       "             ('l2_reg', {'train': 0.9152, 'val': 0.879}),\n",
       "             ('dropout', {'train': 0.8995, 'val': 0.8695}),\n",
       "             ('batch_norm', {'train': 0.9831, 'val': 0.873}),\n",
       "             ('depth', {'train': 0.9591, 'val': 0.9045})])"
      ]
     },
     "execution_count": 75,
     "metadata": {},
     "output_type": "execute_result"
    }
   ],
   "source": [
    "all_acc_dict"
   ]
  },
  {
   "cell_type": "code",
   "execution_count": 76,
   "id": "d1ef34d6-f2f5-40ca-aa13-6001e16d6aa3",
   "metadata": {},
   "outputs": [],
   "source": [
    "class NetRes(nn.Module):\n",
    "    def __init__(self, n_chans1=32):\n",
    "        super().__init__()\n",
    "        self.n_chans1 = n_chans1\n",
    "        self.conv1 = nn.Conv2d(3, n_chans1, kernel_size=3, padding=1)\n",
    "        self.conv2 = nn.Conv2d(n_chans1, n_chans1 // 2, kernel_size=3, padding=1)\n",
    "        self.conv3 = nn.Conv2d(n_chans1 // 2, n_chans1 // 2, kernel_size=3, padding=1)\n",
    "        self.fc1 = nn.Linear(4 * 4 * n_chans1 // 2, 32)\n",
    "        self.fc2 = nn.Linear(32, 2)\n",
    "        \n",
    "    def forward(self, x):\n",
    "        out = F.max_pool2d(torch.relu(self.conv1(x)), 2)\n",
    "        out = F.max_pool2d(torch.relu(self.conv2(out)), 2)\n",
    "        out1 = out\n",
    "        out = F.max_pool2d(torch.relu(self.conv3(out) + out1), 2)\n",
    "        out = out.view(-1, 4 * 4 * self.n_chans1 // 2)\n",
    "        out = torch.relu(self.fc1(out))\n",
    "        out = self.fc2(out)\n",
    "        return out"
   ]
  },
  {
   "cell_type": "code",
   "execution_count": 77,
   "id": "0a48b968-0ffc-49c5-8972-5238418a59dd",
   "metadata": {},
   "outputs": [
    {
     "name": "stdout",
     "output_type": "stream",
     "text": [
      "2022-12-19 18:35:18.594167 Epoch 1, Training loss 0.63382216813458\n",
      "2022-12-19 18:35:21.146881 Epoch 10, Training loss 0.3362422362444507\n",
      "2022-12-19 18:35:23.984043 Epoch 20, Training loss 0.2902834458146126\n",
      "2022-12-19 18:35:26.819907 Epoch 30, Training loss 0.25327556176929716\n",
      "2022-12-19 18:35:29.640800 Epoch 40, Training loss 0.22144479888259985\n",
      "2022-12-19 18:35:32.487953 Epoch 50, Training loss 0.193465492955059\n",
      "2022-12-19 18:35:35.317773 Epoch 60, Training loss 0.1668895090793728\n",
      "2022-12-19 18:35:38.116165 Epoch 70, Training loss 0.1404203793425469\n",
      "2022-12-19 18:35:40.886774 Epoch 80, Training loss 0.11489037297381337\n",
      "2022-12-19 18:35:43.705823 Epoch 90, Training loss 0.09836754297754567\n",
      "2022-12-19 18:35:46.533726 Epoch 100, Training loss 0.11426454831721486\n",
      "Accuracy train: 0.93\n",
      "Accuracy val: 0.88\n"
     ]
    }
   ],
   "source": [
    "model = NetRes(n_chans1=32).to(device=device)\n",
    "optimizer = optim.SGD(model.parameters(), lr=1e-2)\n",
    "loss_fn = nn.CrossEntropyLoss()\n",
    "\n",
    "training_loop(\n",
    "    n_epochs=100,\n",
    "    optimizer=optimizer,\n",
    "    model=model,\n",
    "    loss_fn=loss_fn,\n",
    "    train_loader=train_loader,\n",
    ")\n",
    "\n",
    "all_acc_dict['res'] = validate(model, train_loader, val_loader)"
   ]
  },
  {
   "cell_type": "code",
   "execution_count": 78,
   "id": "dbd84a0c-e82f-4212-b755-58221687686f",
   "metadata": {},
   "outputs": [
    {
     "data": {
      "text/plain": [
       "OrderedDict([('baseline', {'train': 0.9421, 'val': 0.8875}),\n",
       "             ('l2_reg', {'train': 0.9152, 'val': 0.879}),\n",
       "             ('dropout', {'train': 0.8995, 'val': 0.8695}),\n",
       "             ('batch_norm', {'train': 0.9831, 'val': 0.873}),\n",
       "             ('depth', {'train': 0.9591, 'val': 0.9045}),\n",
       "             ('res', {'train': 0.9323, 'val': 0.8785})])"
      ]
     },
     "execution_count": 78,
     "metadata": {},
     "output_type": "execute_result"
    }
   ],
   "source": [
    "all_acc_dict"
   ]
  },
  {
   "cell_type": "markdown",
   "id": "3e3814bd-459b-45e1-a8ee-15108cd19be0",
   "metadata": {},
   "source": [
    "#### 파이토치로 매우 깊은 모델 만들기"
   ]
  },
  {
   "cell_type": "code",
   "execution_count": 86,
   "id": "58ce1600-be5e-43c1-aeee-c29b2419bcad",
   "metadata": {},
   "outputs": [],
   "source": [
    "class ResBlock(nn.Module):\n",
    "    def __init__(self, n_chans):\n",
    "        super(ResBlock, self).__init__()\n",
    "        self.conv = nn.Conv2d(n_chans, n_chans, kernel_size=3, padding=1, bias=False)  # BatchNorm 계층은 평향값의 효과를 상쇄하므로 관례상 이를 생략\n",
    "        self.batch_norm = nn.BatchNorm2d(num_features=n_chans)\n",
    "        # 커스텀 초기화 .kaming_normal_ 은 표준편차를 가지는 표준 랜덤 요소로 초기화\n",
    "        torch.nn.init.kaiming_normal_(self.conv.weight, nonlinearity='relu')  \n",
    "        # 배치 정규화는 평균 0, 분산 0.5를 가지는 분포의 출력을 만들도록 초기화\n",
    "        torch.nn.init.constant_(self.batch_norm.weight, 0.5)\n",
    "        torch.nn.init.zeros_(self.batch_norm.bias)\n",
    "        \n",
    "    def forward(self, x):\n",
    "        out = self.conv(x)\n",
    "        out = self.batch_norm(out)\n",
    "        out = torch.relu(out)\n",
    "        return out + x"
   ]
  },
  {
   "cell_type": "code",
   "execution_count": 87,
   "id": "5e2966e9-31b7-41d6-9e5f-723300f82d28",
   "metadata": {},
   "outputs": [],
   "source": [
    "class NetResDeep(nn.Module):\n",
    "    def __init__(self, n_chans1=32, n_blocks=10):\n",
    "        super().__init__()\n",
    "        self.n_chans1 = n_chans1\n",
    "        self.conv1 = nn.Conv2d(3, n_chans1, kernel_size=3, padding=1)\n",
    "        self.resblocks = nn.Sequential(\n",
    "            *(n_blocks * [ResBlock(n_chans=n_chans1)]))\n",
    "        self.fc1 = nn.Linear(8 * 8 * n_chans1, 32)\n",
    "        self.fc2 = nn.Linear(32, 2)\n",
    "        \n",
    "    def forward(self, x):\n",
    "        out = F.max_pool2d(torch.relu(self.conv1(x)), 2)\n",
    "        out = self.resblocks(out)\n",
    "        out = F.max_pool2d(out, 2)\n",
    "        out = out.view(-1, 8 * 8 * self.n_chans1)\n",
    "        out = torch.relu(self.fc1(out))\n",
    "        out = self.fc2(out)\n",
    "        return out        "
   ]
  },
  {
   "cell_type": "code",
   "execution_count": 88,
   "id": "e1235d7c-cac6-4046-9f52-36db589591c3",
   "metadata": {},
   "outputs": [
    {
     "name": "stdout",
     "output_type": "stream",
     "text": [
      "2022-12-19 18:50:49.825240 Epoch 1, Training loss 1.4133427663213889\n",
      "2022-12-19 18:51:42.650752 Epoch 10, Training loss 0.33686185661394885\n",
      "2022-12-19 18:52:42.196029 Epoch 20, Training loss 0.24671520909685998\n",
      "2022-12-19 18:53:41.527059 Epoch 30, Training loss 0.19118822494130225\n",
      "2022-12-19 18:54:40.603597 Epoch 40, Training loss 0.14471350800079905\n",
      "2022-12-19 18:55:39.585926 Epoch 50, Training loss 0.15096715484170398\n",
      "2022-12-19 18:56:38.928413 Epoch 60, Training loss 0.18424122688022387\n",
      "2022-12-19 18:57:37.805713 Epoch 70, Training loss 0.11582010199025178\n",
      "2022-12-19 18:58:36.740550 Epoch 80, Training loss 0.0782672744956176\n",
      "2022-12-19 18:59:35.794920 Epoch 90, Training loss 0.08463429354700693\n",
      "2022-12-19 19:00:34.743551 Epoch 100, Training loss 0.06651235667241227\n",
      "Accuracy train: 0.95\n",
      "Accuracy val: 0.86\n"
     ]
    }
   ],
   "source": [
    "model = NetResDeep(n_chans1=32, n_blocks=100).to(device=device)\n",
    "optimizer = optim.SGD(model.parameters(), lr=3e-3)\n",
    "loss_fn = nn.CrossEntropyLoss()\n",
    "\n",
    "training_loop(\n",
    "    n_epochs=100,\n",
    "    optimizer=optimizer,\n",
    "    model=model,\n",
    "    loss_fn=loss_fn,\n",
    "    train_loader=train_loader,\n",
    ")\n",
    "\n",
    "all_acc_dict['res_deep'] = validate(model, train_loader, val_loader)"
   ]
  },
  {
   "cell_type": "code",
   "execution_count": 89,
   "id": "f948871d-5a3d-45b2-af97-98f15dc3b3a3",
   "metadata": {},
   "outputs": [
    {
     "data": {
      "text/plain": [
       "OrderedDict([('baseline', {'train': 0.9421, 'val': 0.8875}),\n",
       "             ('l2_reg', {'train': 0.9152, 'val': 0.879}),\n",
       "             ('dropout', {'train': 0.8995, 'val': 0.8695}),\n",
       "             ('batch_norm', {'train': 0.9831, 'val': 0.873}),\n",
       "             ('depth', {'train': 0.9591, 'val': 0.9045}),\n",
       "             ('res', {'train': 0.9323, 'val': 0.8785}),\n",
       "             ('res_deep', {'train': 0.9513, 'val': 0.857})])"
      ]
     },
     "execution_count": 89,
     "metadata": {},
     "output_type": "execute_result"
    }
   ],
   "source": [
    "all_acc_dict"
   ]
  },
  {
   "cell_type": "markdown",
   "id": "f18889ab-aedb-4d25-b840-579b25128588",
   "metadata": {},
   "source": [
    "#### 초기화"
   ]
  },
  {
   "cell_type": "markdown",
   "id": "7cfe02ad-fb56-47c9-b22a-785d29b0f25d",
   "metadata": {},
   "source": [
    "### 8.5.4 모델의 성능 비교"
   ]
  },
  {
   "cell_type": "code",
   "execution_count": 90,
   "id": "88ae11f1-d5dc-4c19-94da-088a1d7733b3",
   "metadata": {},
   "outputs": [
    {
     "data": {
      "image/png": "[encoded data removed]",
      "text/plain": [
       "<Figure size 640x480 with 1 Axes>"
      ]
     },
     "metadata": {},
     "output_type": "display_data"
    }
   ],
   "source": [
    "trn_acc = [v['train'] for k, v in all_acc_dict.items()]\n",
    "val_acc = [v['val'] for k, v in all_acc_dict.items()]\n",
    "\n",
    "width = 0.3\n",
    "plt.bar(np.arange(len(trn_acc)), trn_acc, width=width, label='train')\n",
    "plt.bar(np.arange(len(val_acc)) + width, val_acc, width=width, label='val')\n",
    "plt.xticks(np.arange(len(val_acc)) + width / 2, list(all_acc_dict.keys()), rotation=60)\n",
    "plt.ylabel('accuracy')\n",
    "plt.legend(loc='lower right')\n",
    "plt.ylim(0.7, 1)\n",
    "plt.show()"
   ]
  },
  {
   "cell_type": "code",
   "execution_count": null,
   "id": "876ed4da-9722-40b3-8078-fe18ae974f4b",
   "metadata": {},
   "outputs": [],
   "source": []
  },
  {
   "cell_type": "code",
   "execution_count": null,
   "id": "ce51edbd-5192-4f34-941a-50e5e4d6a2d9",
   "metadata": {},
   "outputs": [],
   "source": []
  },
  {
   "cell_type": "code",
   "execution_count": null,
   "id": "de66b126-2bf6-42ae-be3e-b8d8a2c716cf",
   "metadata": {},
   "outputs": [],
   "source": []
  },
  {
   "cell_type": "code",
   "execution_count": null,
   "id": "5b7ae004-5f66-41a9-9c78-67109171a7fe",
   "metadata": {},
   "outputs": [],
   "source": []
  }
 ],
 "metadata": {
  "kernelspec": {
   "display_name": "python3.8",
   "language": "python",
   "name": "python3.8"
  },
  "language_info": {
   "codemirror_mode": {
    "name": "ipython",
    "version": 3
   },
   "file_extension": ".py",
   "mimetype": "text/x-python",
   "name": "python",
   "nbconvert_exporter": "python",
   "pygments_lexer": "ipython3",
   "version": "3.8.16"
  }
 },
 "nbformat": 4,
 "nbformat_minor": 5
}
