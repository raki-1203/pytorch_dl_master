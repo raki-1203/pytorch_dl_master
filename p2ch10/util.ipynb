{
 "cells": [
  {
   "cell_type": "code",
   "execution_count": 1,
   "id": "48416afd-f6e2-439c-bed0-bbab2110b650",
   "metadata": {},
   "outputs": [],
   "source": [
    "import collections"
   ]
  },
  {
   "cell_type": "code",
   "execution_count": 2,
   "id": "4aada7fb-d274-4b05-a952-be10b17b8a99",
   "metadata": {},
   "outputs": [],
   "source": [
    "IrcTuple = collections.namedtuple('IrcTuple', ['index', 'row', 'col'])\n",
    "XyzTuple = collections.namedtuple('XyzTuple', ['x', 'y', 'z'])"
   ]
  },
  {
   "cell_type": "code",
   "execution_count": 3,
   "id": "90513d56-c30c-47cb-bbed-610f754464d2",
   "metadata": {},
   "outputs": [],
   "source": [
    "def irc2xyz(coord_irc, origin_xyz, vxSize_xyz, direction_a):\n",
    "    # 1. 좌표를 XYZ 체계로 만들기 위해 IRC 에서 CRI 로 뒤집는다.\n",
    "    cri_a = np.array(coord_irc)[::-1]  # 넘파이 배열로 변환하며 순서를 바꾼다.\n",
    "    origin_a = np.array(origin_xyz)\n",
    "    vxSize_a = np.array(vxSize_xyz)\n",
    "    # 2. 인덱스를 복셀 크기로 확대축소한다.\n",
    "    # 3. 파이썬의 @를 사용하여 방향을 나타내는 행렬과 행렬곱을 수행한다.\n",
    "    # 4. 기준으로부터 오프셋을 더한다.\n",
    "    coords_xyz = (direction_a @ (cri_a * vxSize_a)) + origin_a  # 2, 3, 4 단계를 한 줄로 실행한다.\n",
    "    return XyzTuple(*coords_xyz)"
   ]
  },
  {
   "cell_type": "code",
   "execution_count": 4,
   "id": "f6109aba-cb22-45b7-a889-29c5ad0ad895",
   "metadata": {},
   "outputs": [],
   "source": [
    "def xyz2irc(coords_xyz, origin_xyz, vxSize_xyz, direction_a):\n",
    "    origin_a = np.array(origin_xyz)\n",
    "    vxSize_a = np.array(vxSize_xyz)\n",
    "    coord_a = np.array(coords_xyz)\n",
    "    cri_a = ((coord_a - origin_a) @ np.linalg.inv(direction_a)) / vxSize_a  # 4, 3, 2 단계를 실행한다.\n",
    "    cri_a = np.round(cri_a)  # 정수로 변환하기 전에 적절히 반올림해준다.\n",
    "    return IrcTuple(int(cri_a[2]), int(cri_a[1]), int(cri_a[0]))  # 섞으면서 정수로 변환한다."
   ]
  },
  {
   "cell_type": "code",
   "execution_count": null,
   "id": "f0483b21-b12d-4d81-986f-a6e94c562789",
   "metadata": {},
   "outputs": [],
   "source": []
  }
 ],
 "metadata": {
  "kernelspec": {
   "display_name": "python3.8",
   "language": "python",
   "name": "python3.8"
  },
  "language_info": {
   "codemirror_mode": {
    "name": "ipython",
    "version": 3
   },
   "file_extension": ".py",
   "mimetype": "text/x-python",
   "name": "python",
   "nbconvert_exporter": "python",
   "pygments_lexer": "ipython3",
   "version": "3.8.16"
  }
 },
 "nbformat": 4,
 "nbformat_minor": 5
}
