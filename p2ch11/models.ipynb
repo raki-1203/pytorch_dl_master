{
 "cells": [
  {
   "cell_type": "code",
   "execution_count": 1,
   "id": "afffc32b-5850-432a-882b-f58a120c9290",
   "metadata": {},
   "outputs": [
    {
     "name": "stderr",
     "output_type": "stream",
     "text": [
      "/data/heerak/workspace/venv3.8/lib/python3.8/site-packages/tqdm/auto.py:22: TqdmWarning: IProgress not found. Please update jupyter and ipywidgets. See https://ipywidgets.readthedocs.io/en/stable/user_install.html\n",
      "  from .autonotebook import tqdm as notebook_tqdm\n"
     ]
    }
   ],
   "source": [
    "import math\n",
    "\n",
    "import torch.nn as nn"
   ]
  },
  {
   "cell_type": "code",
   "execution_count": 2,
   "id": "4e17a43c-08f5-4b3f-b165-055e77d5656b",
   "metadata": {},
   "outputs": [],
   "source": [
    "class LunaBlock(nn.Module):\n",
    "    \n",
    "    def __init__(self, in_channels, conv_channels):\n",
    "        super().__init__()\n",
    "        self.conv1 = nn.Conv3d(\n",
    "            in_channels, conv_channels, kernel_size=3, padding=1, bias=True,\n",
    "        )\n",
    "        self.relu1 = nn.ReLU(inplace=True)\n",
    "        self.conv2 = nn.Conv3d(\n",
    "            conv_channels, conv_channels, kernel_size=3, padding=1, bias=True,\n",
    "        )\n",
    "        self.relu2 = nn.ReLU(inplace=True)\n",
    "        \n",
    "        self.maxpool = nn.MaxPool3d(2, 2)\n",
    "        \n",
    "    def forward(self, input_batch):\n",
    "        block_out = self.conv1(input_batch)\n",
    "        block_out = self.relu1(block_out)\n",
    "        block_out = self.conv2(block_out)\n",
    "        block_out = self.relu2(block_out)\n",
    "        \n",
    "        return self.maxpool(block_out)"
   ]
  },
  {
   "cell_type": "code",
   "execution_count": 3,
   "id": "18eeff8c-0e58-47de-8bcd-80eb258fdf29",
   "metadata": {},
   "outputs": [],
   "source": [
    "class LunaModel(nn.Module):\n",
    "    \n",
    "    def __init__(self, in_channels=1, conv_channels=8):\n",
    "        super().__init__()\n",
    "        \n",
    "        self.tail_backbone = nn.BachNorm3d(1)  # 테일\n",
    "        \n",
    "        # 백본\n",
    "        self.block1 = LunaBlock(in_channels, conv_channels)\n",
    "        self.block2 = LunaBlock(conv_channels, conv_channels * 2)\n",
    "        self.block3 = LunaBlock(conv_channels * 2, conv_channels * 4)\n",
    "        self.block4 = LunaBlock(conv_channels * 4, conv_channels * 8)\n",
    "        \n",
    "        # 헤드\n",
    "        self.head_linear = nn.Linear(1152, 2)\n",
    "        self.head_softmax = nn.Softmax(dim=1)\n",
    "        \n",
    "    def _init_weights(self):\n",
    "        for m in self.modules():\n",
    "            if type(m) in {nn.Linear,\n",
    "                           nn.Conv3d,\n",
    "                          }:\n",
    "                nn.init.kaming_normal_(\n",
    "                    m.weight.data, a=0, mode='fan_out', nonlinearity='relu',\n",
    "                )\n",
    "                if m.bias is not none:\n",
    "                    fan_in, fan_out = nn.init._calculate_fan_in_and_fan_out(m.weight.data)\n",
    "                    bound = 1 / math.sqrt(fan_out)\n",
    "                    nn.init.normal_(m.bias, -bound, bound)\n",
    "        \n",
    "    def forward(self, input_batch):\n",
    "        bn_output = self.tail_backbone(input_batch)\n",
    "        \n",
    "        block_out = self.block1(bn_output)\n",
    "        block_out = self.block2(block_out)\n",
    "        block_out = self.block3(block_out)\n",
    "        block_out = self.block4(block_out)\n",
    "        \n",
    "        conv_flat = block_out.view(block_out.size(0),  # 배치 크기\n",
    "                                   -1)\n",
    "        \n",
    "        linear_output = self.head_linear(conv_float)\n",
    "        \n",
    "        return linear_output, self.head_softmax(lineaer_output)"
   ]
  },
  {
   "cell_type": "code",
   "execution_count": null,
   "id": "2a4d49e3-9ed6-40f8-b5d8-762a21bffb57",
   "metadata": {},
   "outputs": [],
   "source": []
  }
 ],
 "metadata": {
  "kernelspec": {
   "display_name": "python3.8",
   "language": "python",
   "name": "python3.8"
  },
  "language_info": {
   "codemirror_mode": {
    "name": "ipython",
    "version": 3
   },
   "file_extension": ".py",
   "mimetype": "text/x-python",
   "name": "python",
   "nbconvert_exporter": "python",
   "pygments_lexer": "ipython3",
   "version": "3.8.16"
  }
 },
 "nbformat": 4,
 "nbformat_minor": 5
}
