{
 "cells": [
  {
   "cell_type": "code",
   "execution_count": 1,
   "id": "78947dbf-b098-4c48-b825-fb34130cf1f2",
   "metadata": {},
   "outputs": [],
   "source": [
    "import os\n",
    "import sys\n",
    "\n",
    "sys.path.append(os.path.dirname(os.getcwd()))"
   ]
  },
  {
   "cell_type": "code",
   "execution_count": 2,
   "id": "6cbc15a1-ce77-4523-abc5-a7dc5231f466",
   "metadata": {},
   "outputs": [],
   "source": [
    "from util.util import importstr"
   ]
  },
  {
   "cell_type": "code",
   "execution_count": 3,
   "id": "72b1a420-9366-48b7-b2c3-33662bf7e8fe",
   "metadata": {},
   "outputs": [],
   "source": [
    "def run(app, *argv):\n",
    "    argv = list(argv)\n",
    "    argv.insert(0, '--num-workers=2')  # 4코어 8스레드 CPU로 가정했는데 필요하면 수정하기 바란다.\n",
    "    print('Running: {}({!r}).main()'.format(app, argv))\n",
    "    \n",
    "    app_cls = importstr(*app.rsplit('.', 1))  # __import__ 보다 깔끔한 호출 방식\n",
    "    app_cls(argv).main()\n",
    "    \n",
    "    print('Finished: {}.{!r}).main()'.format(app, argv))"
   ]
  },
  {
   "cell_type": "code",
   "execution_count": 4,
   "id": "2157b02b-f994-4839-8d21-91268658b4d1",
   "metadata": {},
   "outputs": [
    {
     "name": "stdout",
     "output_type": "stream",
     "text": [
      "Running: p2ch11.training.LunaTrainingApp(['--num-workers=2', '--epochs=1']).main()\n"
     ]
    },
    {
     "name": "stderr",
     "output_type": "stream",
     "text": [
      "/data/heerak/workspace/venv3.8/lib/python3.8/site-packages/tqdm/auto.py:22: TqdmWarning: IProgress not found. Please update jupyter and ipywidgets. See https://ipywidgets.readthedocs.io/en/stable/user_install.html\n",
      "  from .autonotebook import tqdm as notebook_tqdm\n",
      "2022-12-29 21:33:28,269 INFO     pid:1842 p2ch11.training:079:initModel Using CUDA; 2 devices.\n",
      "2022-12-29 21:33:47,465 INFO     pid:1842 p2ch11.training:138:main Starting LunaTrainingApp, Namespace(batch_size=32, comment='dwlpt', epochs=1, num_workers=2, tb_prefix='p2ch11')\n",
      "2022-12-29 21:33:50,158 INFO     pid:1842 p2ch11.dsets:168:__init__ <p2ch11.dsets.LunaDataset object at 0x7f20646fb430>: 495958 training samples\n",
      "2022-12-29 21:33:50,168 INFO     pid:1842 p2ch11.dsets:168:__init__ <p2ch11.dsets.LunaDataset object at 0x7f20646e4dc0>: 55107 validation samples\n",
      "2022-12-29 21:33:50,169 INFO     pid:1842 p2ch11.training:145:main Epoch 1 of 1, 7750/862 batches of size 32*2\n",
      "2022-12-29 21:33:50,194 WARNING  pid:1842 util.util:219:enumerateWithEstimate E1 Training ----/7750, starting\n",
      "2022-12-29 21:55:10,190 INFO     pid:1842 util.util:236:enumerateWithEstimate E1 Training   16/7750, done at 2023-01-06 09:25:48, 7 days, 11:51:31\n",
      "2022-12-29 21:56:07,492 INFO     pid:1842 util.util:236:enumerateWithEstimate E1 Training   64/7750, done at 2022-12-31 18:21:08, 1 day, 20:46:52\n",
      "2022-12-29 21:59:41,840 INFO     pid:1842 util.util:236:enumerateWithEstimate E1 Training  256/7750, done at 2022-12-30 10:26:38, 12:52:21\n",
      "2022-12-29 22:24:59,098 INFO     pid:1842 util.util:236:enumerateWithEstimate E1 Training 1024/7750, done at 2022-12-30 03:58:19, 6:24:02\n",
      "2022-12-30 00:07:26,639 INFO     pid:1842 util.util:236:enumerateWithEstimate E1 Training 4096/7750, done at 2022-12-30 02:24:04, 4:49:48\n",
      "2022-12-30 03:08:44,490 WARNING  pid:1842 util.util:249:enumerateWithEstimate E1 Training ----/7750, done at 2022-12-30 03:08:44\n",
      "2022-12-30 03:08:54,644 INFO     pid:1842 p2ch11.training:259:logMetrics E1 LunaTrainingApp\n",
      "2022-12-30 03:09:00,785 INFO     pid:1842 p2ch11.training:289:logMetrics E1 trn      0.6944 loss,  56.1% correct, \n",
      "2022-12-30 03:09:00,787 INFO     pid:1842 p2ch11.training:298:logMetrics E1 trn_neg  0.6937 loss,  56.1% correct (277580 of 494743)\n",
      "2022-12-30 03:09:00,790 INFO     pid:1842 p2ch11.training:309:logMetrics E1 trn_pos  0.9871 loss,  52.8% correct (642 of 1215)\n",
      "2022-12-30 03:09:02,212 WARNING  pid:1842 util.util:219:enumerateWithEstimate E1 Validation  ----/862, starting\n",
      "2022-12-30 03:15:47,497 INFO     pid:1842 util.util:236:enumerateWithEstimate E1 Validation    16/862, done at 2022-12-30 05:29:51, 2:16:27\n",
      "2022-12-30 03:21:50,889 INFO     pid:1842 util.util:236:enumerateWithEstimate E1 Validation    64/862, done at 2022-12-30 05:08:34, 1:55:09\n",
      "2022-12-30 03:43:16,617 INFO     pid:1842 util.util:236:enumerateWithEstimate E1 Validation   256/862, done at 2022-12-30 04:54:08, 1:40:43\n",
      "2022-12-30 04:46:44,471 WARNING  pid:1842 util.util:249:enumerateWithEstimate E1 Validation  ----/862, done at 2022-12-30 04:46:44\n",
      "2022-12-30 04:46:44,599 INFO     pid:1842 p2ch11.training:259:logMetrics E1 LunaTrainingApp\n",
      "2022-12-30 04:46:44,966 INFO     pid:1842 p2ch11.training:289:logMetrics E1 val      0.6931 loss,  99.7% correct, \n",
      "2022-12-30 04:46:44,968 INFO     pid:1842 p2ch11.training:298:logMetrics E1 val_neg  0.6931 loss, 100.0% correct (54967 of 54971)\n",
      "2022-12-30 04:46:44,970 INFO     pid:1842 p2ch11.training:309:logMetrics E1 val_pos  0.6931 loss,   0.0% correct (0 of 136)\n"
     ]
    },
    {
     "name": "stdout",
     "output_type": "stream",
     "text": [
      "Finished: p2ch11.training.LunaTrainingApp.['--num-workers=2', '--epochs=1']).main()\n"
     ]
    }
   ],
   "source": [
    "run('p2ch11.training.LunaTrainingApp', '--epochs=1')"
   ]
  },
  {
   "cell_type": "code",
   "execution_count": null,
   "id": "bb21d04f-f143-4818-ad3e-545a6055cf84",
   "metadata": {},
   "outputs": [],
   "source": []
  }
 ],
 "metadata": {
  "kernelspec": {
   "display_name": "python3.8",
   "language": "python",
   "name": "python3.8"
  },
  "language_info": {
   "codemirror_mode": {
    "name": "ipython",
    "version": 3
   },
   "file_extension": ".py",
   "mimetype": "text/x-python",
   "name": "python",
   "nbconvert_exporter": "python",
   "pygments_lexer": "ipython3",
   "version": "3.8.16"
  }
 },
 "nbformat": 4,
 "nbformat_minor": 5
}
