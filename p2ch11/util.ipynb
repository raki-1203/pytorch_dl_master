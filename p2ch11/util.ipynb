{
 "cells": [
  {
   "cell_type": "code",
   "execution_count": null,
   "id": "4137ee49-41e8-4a07-b2f5-f0a18e2d06ad",
   "metadata": {},
   "outputs": [],
   "source": [
    "def enumerateWithEstimate(\n",
    "    iter,\n",
    "    desc_str,\n",
    "    start_ndx=0,\n",
    "    print_ndx=4,\n",
    "    backoff=None,\n",
    "    iter_len=None,\n",
    "):\n",
    "    for (current_ndx, item) in enumerate(iter):\n",
    "        yield (current_ndx, item)"
   ]
  }
 ],
 "metadata": {
  "kernelspec": {
   "display_name": "python3.8",
   "language": "python",
   "name": "python3.8"
  },
  "language_info": {
   "codemirror_mode": {
    "name": "ipython",
    "version": 3
   },
   "file_extension": ".py",
   "mimetype": "text/x-python",
   "name": "python",
   "nbconvert_exporter": "python",
   "pygments_lexer": "ipython3",
   "version": "3.8.16"
  }
 },
 "nbformat": 4,
 "nbformat_minor": 5
}
