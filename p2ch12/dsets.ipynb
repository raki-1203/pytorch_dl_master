{
 "cells": [
  {
   "cell_type": "markdown",
   "id": "1e3d9233-3df6-4099-83a7-a4bd4ecbbb50",
   "metadata": {},
   "source": [
    "### 10.2.2 애노테이션 데이터와 후보 데이터 합치기"
   ]
  },
  {
   "cell_type": "code",
   "execution_count": 1,
   "id": "8d117847-e9b7-450c-aaa1-2b80d426eac8",
   "metadata": {},
   "outputs": [],
   "source": [
    "from collections import namedtuple"
   ]
  },
  {
   "cell_type": "code",
   "execution_count": 2,
   "id": "ff6860b9-c223-49f9-a959-f18b40a27c30",
   "metadata": {},
   "outputs": [],
   "source": [
    "CandidateInfoTuple = namedtuple(\n",
    "    'CandidateInfoTuple',\n",
    "    'isNodule_bool, diameter_mm, series_uid, center_xyz',\n",
    ")"
   ]
  },
  {
   "cell_type": "code",
   "execution_count": 3,
   "id": "15ae7bfa-adb0-4b65-b2b0-fb826a7b09c1",
   "metadata": {},
   "outputs": [],
   "source": [
    "import os \n",
    "import glob\n",
    "import csv\n",
    "import functools\n",
    "\n",
    "import sys\n",
    "sys.path.append(os.path.dirname(os.getcwd()))"
   ]
  },
  {
   "cell_type": "code",
   "execution_count": 4,
   "id": "cd664cd7-c2d3-422d-bcaf-9b84be3cbe6c",
   "metadata": {},
   "outputs": [],
   "source": [
    "@functools.lru_cache(1)  # 표준 인메모리 캐싱 라이브러리\n",
    "def getCandidateInfoList(requireOnDisk_bool=True):  # requireOnDisk_bool 은 디스크에 없는 데이터는 걸러내기 위함이다.\n",
    "    mhd_list = glob.glob('../data-unversioned/part2/luna/subset*/*.mhd')\n",
    "    presentOnDisk_set = {os.path.split(p)[-1][:-4] for p in mhd_list}\n",
    "    \n",
    "    diameter_dict = {}\n",
    "    with open('../data-unversioned/part2/luna/annotations.csv', 'r') as f:\n",
    "        for row in list(csv.reader(f))[1:]:\n",
    "            series_uid = row[0]\n",
    "            annotationCenter_xyz = tuple([float(x) for x in row[1:4]])\n",
    "            annotationDiameter_mm = float(row[4])\n",
    "\n",
    "            diameter_dict.setdefault(series_uid, []).append(\n",
    "                (annotationCenter_xyz, annotationDiameter_mm)\n",
    "            )\n",
    "            \n",
    "    candidateInfo_list = []\n",
    "    with open('../data-unversioned/part2/luna/candidates.csv', 'r') as f:\n",
    "        for row in list(csv.reader(f))[1:]:\n",
    "            series_uid = row[0]\n",
    "\n",
    "            if series_uid not in presentOnDisk_set and requireOnDisk_bool:\n",
    "                continue\n",
    "\n",
    "            isNodule_bool = bool(int(row[4]))\n",
    "            candidateCenter_xyz = tuple([float(x) for x in row[1:4]])\n",
    "\n",
    "            candidateDiameter_mm = 0.0\n",
    "            for annotation_tup in diameter_dict.get(series_uid, []):\n",
    "                annotationCenter_xyz, annotationDiameter_mm = annotation_tup\n",
    "                for i in range(3):\n",
    "                    delta_mm = abs(candidateCenter_xyz[i] - annotationCenter_xyz[i])\n",
    "                    # 반경을 얻기 위해 직경을 2로 나누고, 두 개의 결절 센터가 결절의 크기 기준으로 너무 \n",
    "                    # 떨어져 있는 지를 반지름의 절반 길이를 기준으로 판정한다. (실거리가 아닌 바운딩 박스 체크)\n",
    "                    if delta_mm > annotationDiameter_mm / 4:\n",
    "                        break\n",
    "                    else:\n",
    "                        candidateDiameter_mm = annotationDiameter_mm\n",
    "                        break\n",
    "                        \n",
    "            candidateInfo_list.append(CandidateInfoTuple(isNodule_bool, \n",
    "                                                         candidateDiameter_mm,\n",
    "                                                         series_uid,\n",
    "                                                         candidateCenter_xyz,\n",
    "                                                        ))\n",
    "    # 이제 모든 결절 샘플을 내림차순으로 정렬했고 \n",
    "    # 그 뒤에는 (크기 정보가 없는) 결절이 아닌 샘플이 이어져 있는 데이터가 준비되었다.\n",
    "    candidateInfo_list.sort(reverse=True) \n",
    "    return candidateInfo_list"
   ]
  },
  {
   "cell_type": "markdown",
   "id": "d20aaea0-5e48-4a1c-bf20-76a58627f792",
   "metadata": {},
   "source": [
    "## 10.3 개별 CT 스캔 로딩"
   ]
  },
  {
   "cell_type": "markdown",
   "id": "d57bf8d4-2557-4522-904f-05821221b491",
   "metadata": {},
   "source": [
    "### 10.3.1 하운스필드 단위"
   ]
  },
  {
   "cell_type": "code",
   "execution_count": 5,
   "id": "50483623-5030-4cf1-80e6-aa986307b169",
   "metadata": {},
   "outputs": [],
   "source": [
    "import SimpleITK as sitk"
   ]
  },
  {
   "cell_type": "markdown",
   "id": "31b559c1-f960-44da-9ab6-7bdfd996a014",
   "metadata": {},
   "source": [
    "### 10.4.3 밀리터리를 복셀 주소로 변환하기"
   ]
  },
  {
   "cell_type": "code",
   "execution_count": 6,
   "id": "f1bdef6d-1c65-49f9-b851-e5b70c831cfd",
   "metadata": {},
   "outputs": [],
   "source": [
    "import numpy as np\n",
    "\n",
    "from util.util import XyzTuple, xyz2irc"
   ]
  },
  {
   "cell_type": "code",
   "execution_count": 7,
   "id": "d5d718c1-9140-49b4-aefe-390e94ad72e0",
   "metadata": {},
   "outputs": [],
   "source": [
    "class Ct:\n",
    "    def __init__(self, series_uid):\n",
    "        mhd_path = glob.glob('../data-unversioned/part2/luna/subset*/{}.mhd'.format(series_uid))[0]\n",
    "        \n",
    "        # sitk.ReadImage 는 .mhd 파일뿐 아니라 .raw 파일도 읽는다.\n",
    "        ct_mhd = sitk.ReadImage(mhd_path)\n",
    "        # 값의 타입을 np.float32 로 변환하기 위해 np.array 를 다시 만든다.\n",
    "        ct_a = np.array(sitk.GetArrayFromImage(ct_mhd), dtype=np.float32)\n",
    "        \n",
    "        # CTs are natively expressed in https://en.wikipedia.org/wiki/Hounsfield_scale\n",
    "        # HU are scaled oddly, with 0 g/cc (air, approximately) being -1000 and 1 g/cc (water) being 0.\n",
    "        # The lower bound gets rid of negative density stuff used to indicate out-of-FOV\n",
    "        # The upper bound nukes any weird hotspots and clamps bone down\n",
    "        ct_a.clip(-1000, 1000, ct_a)\n",
    "        \n",
    "        self.series_uid = series_uid\n",
    "        self.hu_a = ct_a\n",
    "        \n",
    "        self.origin_xyz = XyzTuple(*ct_mhd.GetOrigin())\n",
    "        self.vxSize_xyz = XyzTuple(*ct_mhd.GetSpacing())\n",
    "        self.direction_a = np.array(ct_mhd.GetDirection()).reshape(3, 3)  # 방향 정보를 배열로 변환하고 3x3 행렬 모양의 9개 요소의 배열로 리셰이프한다.\n",
    "        \n",
    "    def getRawCandidate(self, center_xyz, width_irc):\n",
    "        center_irc = xyz2irc(\n",
    "            center_xyz,\n",
    "            self.origin_xyz,\n",
    "            self.vxSize_xyz,\n",
    "            self.direction_a,\n",
    "        )\n",
    "        \n",
    "        slice_list = []\n",
    "        for axis, center_val in enumerate(center_irc):\n",
    "            start_ndx = int(round(center_val - width_irc[axis] / 2))\n",
    "            end_ndx = int(start_ndx + width_irc[axis])\n",
    "            slice_list.append(slice(start_ndx, end_ndx))  # slice object : start_idx, end_idx 를 받아서 슬라이싱할때 [1:3] 대신 [slice(1, 3)] 을 사용할 수 있음\n",
    "            \n",
    "        ct_chunk = self.hu_a[tuple(slice_list)]\n",
    "        \n",
    "        return ct_chunk, center_irc"
   ]
  },
  {
   "cell_type": "code",
   "execution_count": 8,
   "id": "1b0bd10d-74fd-4ceb-9a52-fd2f00c7a4aa",
   "metadata": {},
   "outputs": [],
   "source": [
    "from util.disk import getCache\n",
    "\n",
    "raw_cache = getCache('part2ch10_raw')"
   ]
  },
  {
   "cell_type": "code",
   "execution_count": 9,
   "id": "faa63987-9a0d-4a63-9248-76b0b3366b53",
   "metadata": {},
   "outputs": [],
   "source": [
    "@functools.lru_cache(1, typed=True)\n",
    "def getCt(series_uid):\n",
    "    return Ct(series_uid)\n",
    "\n",
    "@raw_cache.memoize(typed=True)\n",
    "def getCtRawCandidate(series_uid, center_xyz, width_irc):\n",
    "    ct = getCt(series_uid)\n",
    "    ct_chunk, center_irc = ct.getRawCandidate(center_xyz, width_irc)\n",
    "    return ct_chunk, center_irc"
   ]
  },
  {
   "cell_type": "code",
   "execution_count": 14,
   "id": "dad39952-6625-418b-ad38-950bb4d2a0dc",
   "metadata": {},
   "outputs": [],
   "source": [
    "def getCtAugmentedCandidate(\n",
    "    augmentation_dict,\n",
    "    series_uid, center_xyz, width_irc,\n",
    "    use_cache=True\n",
    "):\n",
    "    if use_cache:\n",
    "        ct_chunk, center_irc = getCtRawCandidate(series_uid, center_xyz, width_irc)\n",
    "    else:\n",
    "        ct = getCt(series_uid)\n",
    "        ct_chunk, center_irc = ct.getRawCandidate(center_xyz, width_irc)\n",
    "        \n",
    "    ct_t = torch.tensor(ct_chunk).unsqueeze(0).unsqueeze(0).to(torch.float32)\n",
    "    \n",
    "    transform_t = torch.eye(4)\n",
    "    # ... <1>  # 이ㅈ 쯤에서 transform_tensor를 수정한다.\n",
    "    \n",
    "    for i in range(3):\n",
    "        if 'flip' in augmentation_dict:\n",
    "            if random.random() > 0.5:\n",
    "                transform_t[i, i] *= -1\n",
    "                \n",
    "        if 'offset' in augmentation_dict:\n",
    "            offset_float = augmentation_dict['offset']\n",
    "            random_float = (random.random() * 2 - 1)\n",
    "            transform_t[i, 3] = offset_float * random_float\n",
    "            \n",
    "        if 'scale' in augmentation_dict:\n",
    "            scale_float = augmentation_dict['scale']\n",
    "            random_float = (random.random() * 2 - 1)\n",
    "            transform_t[i, i] *= 1.0 + scale_float * random_float\n",
    "            \n",
    "    if 'rotate' in augmentation_dict:\n",
    "        angle_rad = random.random() * math.pi * 2\n",
    "        s = math.sin(angle_rad)\n",
    "        c = math.cos(angle_rad)\n",
    "        \n",
    "        rotation_t = torch.tensor([\n",
    "            [c, -s, 0, 0],\n",
    "            [s, c, 0, 0],\n",
    "            [0, 0, 1, 0],\n",
    "            [0, 0, 0, 1],\n",
    "        ])\n",
    "        \n",
    "        transform_t @= rotation_t\n",
    "    \n",
    "    affine_t = F.affine_grid(\n",
    "        transform_t[:3].unsqueeze(0).to(torch.float32),\n",
    "        ct_t.size(),\n",
    "        align_corners=False,\n",
    "    )\n",
    "    \n",
    "    augmented_chunk = F.grid_sample(\n",
    "        ct_t,\n",
    "        affine_t,\n",
    "        padding_mode='border',\n",
    "        align_corners=False,\n",
    "    ).to('cpu')\n",
    "    \n",
    "    if 'noise' in augmentation_dict:\n",
    "        noise_t = torch.randn_like(augmented_chunk)\n",
    "        noise_t *= augmentation_dict['noise']\n",
    "        \n",
    "        augmented_chunk += noise_t\n",
    "    \n",
    "    return augmented_chunk[0], center_irc"
   ]
  },
  {
   "cell_type": "markdown",
   "id": "2fca41a5-95d6-42ef-a4ee-250d2d1342ad",
   "metadata": {},
   "source": [
    "## 10.5 간단한 데이터셋 구현"
   ]
  },
  {
   "cell_type": "code",
   "execution_count": 10,
   "id": "71f7e3e2-b59e-49fe-b12f-049a97bcb686",
   "metadata": {},
   "outputs": [
    {
     "name": "stderr",
     "output_type": "stream",
     "text": [
      "/data/heerak/workspace/venv3.8/lib/python3.8/site-packages/tqdm/auto.py:22: TqdmWarning: IProgress not found. Please update jupyter and ipywidgets. See https://ipywidgets.readthedocs.io/en/stable/user_install.html\n",
      "  from .autonotebook import tqdm as notebook_tqdm\n"
     ]
    }
   ],
   "source": [
    "import copy\n",
    "import torch\n",
    "\n",
    "from torch.utils.data import Dataset"
   ]
  },
  {
   "cell_type": "code",
   "execution_count": 13,
   "id": "8b1ed4e6-add2-4bbe-a2ab-b41f99b416bd",
   "metadata": {},
   "outputs": [],
   "source": [
    "class LunaDataset(Dataset):\n",
    "    def __init__(self,\n",
    "                 val_stride=0,\n",
    "                 isValSet_bool=None,\n",
    "                 series_uid=None,\n",
    "                 sortby_str='random',\n",
    "                 ratio_int=0,\n",
    "                 augmentation_dict=None,\n",
    "                 candidateInfo_list=None,\n",
    "                ):\n",
    "        self.ratio_int = ratio_int\n",
    "        self.augmentation_dict = augmentation_dict\n",
    "        \n",
    "        if candidateInfo_list:\n",
    "            self.candidateInfo_list = copy.copy(candidateInfo_list)\n",
    "            self.use_cache = False\n",
    "        else:\n",
    "            self.candidateInfo_list = copy.copy(getCandidateInfoList())\n",
    "            self.use_cache = True\n",
    "            \n",
    "        if series_uid:\n",
    "            self.candidateInfo_list = [\n",
    "                x for x in self.candidateInfo_list if x.series_uid == series_uid\n",
    "            ]\n",
    "            \n",
    "        if isValSet_bool:\n",
    "            assert val_stride > 0, val_stride\n",
    "            self.candidateInfo_list = self.candidateInfo_list[::val_stride]\n",
    "            assert self.candidateInfo_list\n",
    "        elif val_stride > 0:\n",
    "            del self.candidateInfo_list[::val_stride]\n",
    "            assert self.candidateInfo_list\n",
    "            \n",
    "        if sortby_str == 'random':\n",
    "            random.shuffle(self.candidateInfo_list)\n",
    "        elif sortby_str == 'series_uid':\n",
    "            self.candidateInfo_list.sort(key=lambda x: (x.series_uid, x.center_xyz))\n",
    "        elif sortby_str == 'label_and_size':\n",
    "            pass\n",
    "        else:\n",
    "            raise Exception(\"Unknown sort: \" + repr(sortby_str))\n",
    "            \n",
    "        self.negative_list = [\n",
    "            nt for nt in self.candidateInfo_list if not nt.isNodule_bool\n",
    "        ]\n",
    "        self.pos_list = [\n",
    "            nt for nt in self.candidateInfo_list if nt.isNodule_bool\n",
    "        ]\n",
    "        \n",
    "        log.info(\"{!r}: {} {} samples, {} neg, {} pos, {} ratio\".format(\n",
    "            self,\n",
    "            len(self.candidateInfo_list),\n",
    "            \"validation\" if isValSet_bool else \"training\",\n",
    "            len(self.negative_list),\n",
    "            len(self.pos_list),\n",
    "            '{}:1'.format(self.ratio_int) if self.ratio_int else 'unbalanced',\n",
    "        ))\n",
    "        \n",
    "    def shuffleSamples(self):\n",
    "        if self.ratio_int:\n",
    "            random.shuffle(self.negative_list)\n",
    "            random.shuffle(self.pos_list)\n",
    "            \n",
    "    def __len__(self):\n",
    "        if self.ratio_int:\n",
    "            return 200000\n",
    "        else:\n",
    "            return len(self.candidateInfo_list)\n",
    "    \n",
    "    def __getitem__(self, ndx):\n",
    "        if self.ratio_int:  # ratio_int 가 0이면 값이 고르게 분포되는 것\n",
    "            pos_ndx = ndx // (self.ratio_int + 1)\n",
    "            \n",
    "            # 이 부분은 오버플로되면 인덱스 앞쪽으로 돌아간다.\n",
    "            if ndx % (self.ratio_int + 1):  # 나머지가 0이 아니면 음성 샘플\n",
    "                neg_ndx = ndx - 1 - pos_ndx\n",
    "                neg_ndx %= len(self.negative_list)\n",
    "                candidateInfo_tup = self.negative_list[neg_ndx]\n",
    "            else:\n",
    "                pos_ndx %= len(self.pos_list)\n",
    "                candidateInfo_tup = self.pos_list[pos_ndx]\n",
    "        else:\n",
    "            candidateInfo_tup = self.candidateInfo_list[ndx]  # 클래스 밸런싱이 아니면 N번째 샘플을 반환한다.\n",
    "            \n",
    "        width_irc = (32, 48, 48)\n",
    "        \n",
    "        if self.augmentation_dict:\n",
    "            candidate_t, center_irc = getCtAugmentedCandidate(\n",
    "                self.augmentation_dict,\n",
    "                candidateInfo_tup.series_uid,\n",
    "                candidateInfo_tup.center_xyz,\n",
    "                width_irc,\n",
    "                self.use_cache,\n",
    "            )\n",
    "        elif self.use_cache:\n",
    "            candidate_a, center_irc = getCtRawCandidate(  # candidate_a 의 차원 정보는 (32, 48, 48)이고 각 축은 깊이, 높이, 너비다.\n",
    "                candidateInfo_tup.series_uid,\n",
    "                candidateInfo_tup.center_xyz,\n",
    "                width_irc,\n",
    "            )\n",
    "        else:\n",
    "            ct = getCt(candidateInfo_tup.series_uid)\n",
    "            candidate_a, center_irc = ct.getRawCandidate(\n",
    "                candidateInfo_tup.center_xyz,\n",
    "                width_irc,\n",
    "            )\n",
    "            candidate_t = torch.from_numpy(candidate_a).to(torch.float32)\n",
    "            candidate_t = candidate_t.unsqueeze(0)  # .unsqueeze(0) 으로 \"채널\" 차원을 추가한다.\n",
    "        \n",
    "        pos_t = torch.tensor([\n",
    "            not candidateInfo_tup.isNodule_bool,\n",
    "            candidateInfo_tup.isNodule_bool\n",
    "        ],\n",
    "            dtype=torch.long,\n",
    "        )\n",
    "        \n",
    "        return candidate_t, pos_t, candidateInfo_tup.series_uid, torch.tensor(center_irc)"
   ]
  },
  {
   "cell_type": "code",
   "execution_count": 37,
   "id": "18a6e0d7-7eb0-4345-9c8c-0c50e97a19a7",
   "metadata": {},
   "outputs": [
    {
     "data": {
      "text/plain": [
       "{'1.3.6.1.4.1.14519.5.2.1.6279.6001.287966244644280690737019247886',\n",
       " tensor([ 87, 369, 351]),\n",
       " tensor([0, 1]),\n",
       " tensor([[[[-880., -846., -825.,  ..., -812., -772., -723.],\n",
       "           [-862., -805., -813.,  ..., -833., -829., -801.],\n",
       "           [-795., -770., -819.,  ..., -830., -808., -804.],\n",
       "           ...,\n",
       "           [-859., -858., -882.,  ...,  -35.,   -4.,   11.],\n",
       "           [-883., -878., -876.,  ...,    0.,  -13.,  -35.],\n",
       "           [-878., -845., -816.,  ...,    2.,  -15.,  -38.]],\n",
       " \n",
       "          [[-924., -914., -879.,  ..., -794., -732., -638.],\n",
       "           [-897., -881., -858.,  ..., -821., -787., -741.],\n",
       "           [-884., -877., -875.,  ..., -824., -808., -811.],\n",
       "           ...,\n",
       "           [-891., -868., -784.,  ...,  -80.,  -99., -109.],\n",
       "           [-887., -856., -759.,  ...,  -69.,  -83.,  -84.],\n",
       "           [-884., -835., -766.,  ..., -103., -102., -100.]],\n",
       " \n",
       "          [[-843., -843., -857.,  ..., -846., -837., -857.],\n",
       "           [-862., -854., -864.,  ..., -844., -821., -831.],\n",
       "           [-861., -843., -831.,  ..., -815., -807., -816.],\n",
       "           ...,\n",
       "           [-857., -789., -707.,  ...,  -69.,  -73.,  -82.],\n",
       "           [-883., -826., -751.,  ..., -101., -124., -129.],\n",
       "           [-833., -810., -794.,  ..., -130., -132., -105.]],\n",
       " \n",
       "          ...,\n",
       " \n",
       "          [[-853., -867., -907.,  ...,  149.,  198.,  318.],\n",
       "           [-906., -909., -918.,  ...,  151.,  285.,  433.],\n",
       "           [-935., -940., -924.,  ...,  210.,  329.,  422.],\n",
       "           ...,\n",
       "           [ -18.,  -27.,  -26.,  ...,   56.,  211.,  505.],\n",
       "           [ -51.,  -45.,  -35.,  ...,  207.,  531.,  626.],\n",
       "           [ -92.,  -56.,  -20.,  ...,  520.,  669.,  391.]],\n",
       " \n",
       "          [[-922., -918., -922.,  ...,  381.,  427.,  340.],\n",
       "           [-924., -923., -940.,  ...,  403.,  400.,  289.],\n",
       "           [-930., -951., -960.,  ...,  410.,  385.,  253.],\n",
       "           ...,\n",
       "           [ 149.,  157.,  142.,  ...,   61.,  224.,  545.],\n",
       "           [  81.,  109.,  141.,  ...,  211.,  550.,  710.],\n",
       "           [  12.,   38.,   37.,  ...,  548.,  777.,  534.]],\n",
       " \n",
       "          [[-921., -924., -915.,  ...,  201.,  117.,   55.],\n",
       "           [-900., -896., -907.,  ...,  189.,  119.,   66.],\n",
       "           [-877., -859., -893.,  ...,  139.,   77.,   28.],\n",
       "           ...,\n",
       "           [ 454.,  501.,  519.,  ...,  107.,  341.,  683.],\n",
       "           [ 493.,  468.,  386.,  ...,  307.,  623.,  805.],\n",
       "           [ 210.,  125.,   45.,  ...,  529.,  709.,  671.]]]])}"
      ]
     },
     "execution_count": 37,
     "metadata": {},
     "output_type": "execute_result"
    }
   ],
   "source": [
    "LunaDataset()[0]"
   ]
  },
  {
   "cell_type": "markdown",
   "id": "facc7207-8b4c-4ba4-bd46-caee97b5c377",
   "metadata": {},
   "source": [
    "### 10.5.1 getCtRawCandidate 함수로 후보 배열 캐싱하기"
   ]
  },
  {
   "cell_type": "code",
   "execution_count": 22,
   "id": "c5ce6d4d-faa1-44c6-bea5-0e56caf02b2f",
   "metadata": {},
   "outputs": [],
   "source": [
    "@functools.lru_cache(1, typed=True)\n",
    "def getCt(series_uid):\n",
    "    return Ct(series_uid)\n",
    "\n",
    "@raw_cache.memoize(typed=True)\n",
    "def getCtRawCandidate(series_uid, center_xyz, width_irc):\n",
    "    ct = getCt(series_uid)\n",
    "    ct_chunk, center_irc = ct.getRawCandidate(center_xyz, width_irc)\n",
    "    return ct_chunk, center_irc"
   ]
  },
  {
   "cell_type": "markdown",
   "id": "792b249b-00bb-4aad-80f8-185559210b27",
   "metadata": {},
   "source": [
    "### 10.5.2 LunaDataset.__init__ 으로 데이터셋 만들기"
   ]
  },
  {
   "cell_type": "code",
   "execution_count": 39,
   "id": "4edec309-308f-4986-981d-85d76d25656c",
   "metadata": {},
   "outputs": [],
   "source": [
    "class LunaDataset(Dataset):\n",
    "    def __init__(self,\n",
    "                 val_stride=0,\n",
    "                 isValSet_bool=None,\n",
    "                 series_uid=None,\n",
    "                ):\n",
    "        # 반환되는 값을 복사해서 self.candidateInfo_list 변경에 영향받지 않도록 캐시한다.\n",
    "        self.candidateInfo_list = copy.copy(getCandidateInfoList())\n",
    "        \n",
    "        if series_uid:\n",
    "            self.candidateInfo_list = [\n",
    "                x for x in self.candidateInfo_list if x.series_uid == series_uid\n",
    "            ]\n",
    "            \n",
    "    def __len__(self):\n",
    "        return len(self.candidateInfo_list)\n",
    "    \n",
    "    def __getitem__(self, ndx):\n",
    "        candidateInfo_tup = self.candidateInfo_list[ndx]\n",
    "        width_irc = (32, 48, 48)\n",
    "        \n",
    "        candidate_a, center_irc = getCtRawCandidate(  # candidate_a 의 차원 정보는 (32, 48, 48)이고 각 축은 깊이, 높이, 너비다.\n",
    "            candidateInfo_tup.series_uid,\n",
    "            candidateInfo_tup.center_xyz,\n",
    "            width_irc,\n",
    "        )\n",
    "        \n",
    "        candidate_t = torch.from_numpy(candidate_a)\n",
    "        candidate_t = candidate_t.to(torch.float32)\n",
    "        candidate_t = candidate_t.unsqueeze(0)  # .unsqueeze(0) 으로 \"채널\" 차원을 추가한다.\n",
    "        \n",
    "        pos_t = torch.tensor([\n",
    "            not candidateInfo_tup.isNodule_bool,\n",
    "            candidateInfo_tup.isNodule_bool\n",
    "        ],\n",
    "            dtype=torch.long,\n",
    "        )\n",
    "        \n",
    "        return {\n",
    "            candidate_t,\n",
    "            pos_t,\n",
    "            candidateInfo_tup.series_uid,  # 이 부분이 훈련 샘플\n",
    "            torch.tensor(center_irc),      # 이 부분이 훈련 샘플\n",
    "        }    "
   ]
  },
  {
   "cell_type": "markdown",
   "id": "66633fe2-5a53-495b-9d96-72bf259fad6d",
   "metadata": {},
   "source": [
    "### 10.5.3 훈련/검증 분리"
   ]
  },
  {
   "cell_type": "code",
   "execution_count": 41,
   "id": "f357bc3a-9e38-4bfd-900a-ea5183649a72",
   "metadata": {},
   "outputs": [],
   "source": [
    "class LunaDataset(Dataset):\n",
    "    def __init__(self,\n",
    "                 val_stride=0,\n",
    "                 isValSet_bool=None,\n",
    "                 series_uid=None,\n",
    "                ):\n",
    "        # 반환되는 값을 복사해서 self.candidateInfo_list 변경에 영향받지 않도록 캐시한다.\n",
    "        self.candidateInfo_list = copy.copy(getCandidateInfoList())\n",
    "        \n",
    "        if series_uid:\n",
    "            self.candidateInfo_list = [\n",
    "                x for x in self.candidateInfo_list if x.series_uid == series_uid\n",
    "            ]\n",
    "            \n",
    "        if isValSet_bool:\n",
    "            assert val_stride > 0, val_stride\n",
    "            self.candidateInfo_list = self.candidateInfo_list[::val_stride]\n",
    "            assert self.candidateInfo_list\n",
    "        elif val_stride > 0:\n",
    "            del self.candidateInfo_list[::val_stride]  # self.candidateInfo_list 에서 검증용 이미지(매 val_stride 번째 아이템)를 삭제한다. 미리 복사한 값이므로 원래 리스트는 수정되지 않는다.\n",
    "            assert self.candidateInfo_list\n",
    "            \n",
    "    def __len__(self):\n",
    "        return len(self.candidateInfo_list)\n",
    "    \n",
    "    def __getitem__(self, ndx):\n",
    "        candidateInfo_tup = self.candidateInfo_list[ndx]\n",
    "        width_irc = (32, 48, 48)\n",
    "        \n",
    "        candidate_a, center_irc = getCtRawCandidate(  # candidate_a 의 차원 정보는 (32, 48, 48)이고 각 축은 깊이, 높이, 너비다.\n",
    "            candidateInfo_tup.series_uid,\n",
    "            candidateInfo_tup.center_xyz,\n",
    "            width_irc,\n",
    "        )\n",
    "        \n",
    "        candidate_t = torch.from_numpy(candidate_a)\n",
    "        candidate_t = candidate_t.to(torch.float32)\n",
    "        candidate_t = candidate_t.unsqueeze(0)  # .unsqueeze(0) 으로 \"채널\" 차원을 추가한다.\n",
    "        \n",
    "        pos_t = torch.tensor([\n",
    "            not candidateInfo_tup.isNodule_bool,\n",
    "            candidateInfo_tup.isNodule_bool\n",
    "        ],\n",
    "            dtype=torch.long,\n",
    "        )\n",
    "        \n",
    "        return {\n",
    "            candidate_t,\n",
    "            pos_t,\n",
    "            candidateInfo_tup.series_uid,  # 이 부분이 훈련 샘플\n",
    "            torch.tensor(center_irc),      # 이 부분이 훈련 샘플\n",
    "        }    "
   ]
  },
  {
   "cell_type": "code",
   "execution_count": null,
   "id": "915d73f3-c164-4bd6-b9ab-3b14b6e77fe3",
   "metadata": {},
   "outputs": [],
   "source": []
  },
  {
   "cell_type": "code",
   "execution_count": null,
   "id": "65382c63-1c49-4d57-8f36-3a91c6571465",
   "metadata": {},
   "outputs": [],
   "source": []
  },
  {
   "cell_type": "markdown",
   "id": "ea37cdb1-8b12-4fd2-9487-cf4147cd9476",
   "metadata": {},
   "source": [
    "## 10.7 연습문제"
   ]
  },
  {
   "cell_type": "markdown",
   "id": "2739edb9-c4aa-440b-8553-4cde5eddc23a",
   "metadata": {},
   "source": [
    "### 1. LunaDataset 인스턴스를 순회하는 프로그램을 작성하고 시간을 재어보자. 처음에는 N=1000 샘플로 제한하여 실행해야 할 것이다."
   ]
  },
  {
   "cell_type": "markdown",
   "id": "6794d63c-089b-475d-b578-33cbd5d46953",
   "metadata": {},
   "source": [
    "#### **a.** 처음 실행할 때 걸린 시간은 얼마인가?"
   ]
  },
  {
   "cell_type": "code",
   "execution_count": 42,
   "id": "4765ae6b-6b23-4bcd-a586-e6c1c9fbc92b",
   "metadata": {},
   "outputs": [],
   "source": [
    "luna_dataset = LunaDataset()"
   ]
  },
  {
   "cell_type": "code",
   "execution_count": 43,
   "id": "66f30922-15e4-48d2-a439-ff475f99c7cf",
   "metadata": {},
   "outputs": [],
   "source": [
    "import time"
   ]
  },
  {
   "cell_type": "code",
   "execution_count": 44,
   "id": "b8ccf360-8870-4681-9773-8bf7d0460a4e",
   "metadata": {},
   "outputs": [
    {
     "name": "stdout",
     "output_type": "stream",
     "text": [
      "669.8724207878113\n"
     ]
    }
   ],
   "source": [
    "start = time.time()\n",
    "for i in range(1000):\n",
    "    luna_dataset[i]\n",
    "end = time.time()\n",
    "print(end - start)"
   ]
  },
  {
   "cell_type": "markdown",
   "id": "da1539e9-18e4-4ea7-a62c-d7148ae3a754",
   "metadata": {},
   "source": [
    "#### **b.** 두 번째 실행할 때 걸린 시간은 얼마인가?"
   ]
  },
  {
   "cell_type": "code",
   "execution_count": 45,
   "id": "9b632df0-14fb-450a-bfd5-0dd02ffc6c54",
   "metadata": {},
   "outputs": [
    {
     "name": "stdout",
     "output_type": "stream",
     "text": [
      "3.2563316822052\n"
     ]
    }
   ],
   "source": [
    "start = time.time()\n",
    "for i in range(1000):\n",
    "    luna_dataset[i]\n",
    "end = time.time()\n",
    "print(end - start)"
   ]
  },
  {
   "cell_type": "markdown",
   "id": "a646693b-e7f2-4ca5-bd80-4bf48ef536a6",
   "metadata": {},
   "source": [
    "#### **c.** 캐시를 클리어하면 실행 시간에 어떤 영향을 주는가?"
   ]
  },
  {
   "cell_type": "markdown",
   "id": "7b61a0a8-b4ff-4ac8-bab6-b9d348517f0f",
   "metadata": {},
   "source": [
    "영향을 주지 당연히"
   ]
  },
  {
   "cell_type": "markdown",
   "id": "1ccad9b8-c264-45f7-b33a-c595e8157102",
   "metadata": {},
   "source": [
    "#### **d.** lastN=1000 샘플을 사용하면 첫 번째/두 번째 시간에 어떤 영향을 주는가?"
   ]
  },
  {
   "cell_type": "code",
   "execution_count": 52,
   "id": "35cf90d5-8218-4db9-8184-ac542cf19dfb",
   "metadata": {},
   "outputs": [
    {
     "name": "stdout",
     "output_type": "stream",
     "text": [
      "0.29554176330566406\n"
     ]
    }
   ],
   "source": [
    "start = time.time()\n",
    "for i in range(len(luna_dataset)-1, len(luna_dataset) - 1001, -1):\n",
    "    luna_dataset[-i]\n",
    "end = time.time()\n",
    "print(end - start)"
   ]
  },
  {
   "cell_type": "code",
   "execution_count": 50,
   "id": "aea32cbb-7cd3-423f-ad81-7864b3127f9c",
   "metadata": {},
   "outputs": [
    {
     "data": {
      "text/plain": [
       "551065"
      ]
     },
     "execution_count": 50,
     "metadata": {},
     "output_type": "execute_result"
    }
   ],
   "source": [
    "len(luna_dataset)"
   ]
  },
  {
   "cell_type": "code",
   "execution_count": 53,
   "id": "11fb66d9-57c6-46e4-8738-3bd357609ade",
   "metadata": {},
   "outputs": [
    {
     "name": "stdout",
     "output_type": "stream",
     "text": [
      "0.20257782936096191\n"
     ]
    }
   ],
   "source": [
    "start = time.time()\n",
    "for i in range(len(luna_dataset)-1, len(luna_dataset) - 1001, -1):\n",
    "    luna_dataset[-i]\n",
    "end = time.time()\n",
    "print(end - start)"
   ]
  },
  {
   "cell_type": "markdown",
   "id": "d54220b1-ca9b-4688-a072-c1404a5a96b5",
   "metadata": {},
   "source": [
    "처음만 좀 시간 걸리고 그 다음부터는 엄청 빠르네"
   ]
  },
  {
   "cell_type": "code",
   "execution_count": null,
   "id": "004c705b-b25e-4789-bc35-ec3ba7616e8c",
   "metadata": {},
   "outputs": [],
   "source": []
  }
 ],
 "metadata": {
  "kernelspec": {
   "display_name": "python3.8",
   "language": "python",
   "name": "python3.8"
  },
  "language_info": {
   "codemirror_mode": {
    "name": "ipython",
    "version": 3
   },
   "file_extension": ".py",
   "mimetype": "text/x-python",
   "name": "python",
   "nbconvert_exporter": "python",
   "pygments_lexer": "ipython3",
   "version": "3.8.16"
  }
 },
 "nbformat": 4,
 "nbformat_minor": 5
}
